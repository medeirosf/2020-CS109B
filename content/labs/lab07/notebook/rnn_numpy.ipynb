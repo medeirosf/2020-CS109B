{
 "cells": [
  {
   "cell_type": "code",
   "execution_count": 1,
   "metadata": {},
   "outputs": [],
   "source": [
    "import numpy as np\n",
    "np.random.seed(209)"
   ]
  },
  {
   "cell_type": "code",
   "execution_count": null,
   "metadata": {},
   "outputs": [],
   "source": [
    "### edTest(test_rnn_numpy) ###\n",
    "timesteps = 100  #Number of timesteps in the input sequence\n",
    "input_features = 32 #Dimensionality of the input feature space\n",
    "hidden_features = 10 #Dimensionality of the hidden feature space\n",
    "output_features = 1 #Dimensionality of the hidden feature space\n",
    "\n",
    "#Input data: random for example.\n",
    "inputs = np.random.random((timesteps, input_features)) #X\n",
    "\n",
    "#Initial state: an all zero vector\n",
    "state_t = np.zeros((hidden_features,)) #h_t-1\n",
    "\n",
    "#Weight matrices\n",
    "V = np.random.normal(loc=0, scale=1, size = (hidden_features, input_features))\n",
    "U = np.random.normal(loc=0, scale=1, size=(hidden_features, hidden_features))    \n",
    "b_r = np.random.normal(loc=0, scale=1,  size= (hidden_features,)) \n",
    "\n",
    "W = np.random.normal(loc=0, scale=1, size=(output_features, hidden_features))  \n",
    "b = np.random.normal(loc=0, scale=1,  size= (output_features))     \n",
    "\n",
    "successive_outputs = []\n",
    "for input_t in inputs:\n",
    "    #Please use numpy tanh() as activation. (for both blanks below)  \n",
    "    state_t = ___    #state_t.shape = (10,)\n",
    "    \n",
    "    output_t = ___  #output_t.shape = (1,) \n",
    "    successive_outputs.append(output_t)\n",
    "final_output_sequence = np.array(successive_outputs) #final_output_sequence.shape = (100,1)\n",
    "\n",
    "final_output_sequence.shape"
   ]
  },
  {
   "cell_type": "code",
   "execution_count": null,
   "metadata": {},
   "outputs": [],
   "source": []
  }
 ],
 "metadata": {
  "kernelspec": {
   "display_name": "Python 3",
   "language": "python",
   "name": "python3"
  },
  "language_info": {
   "codemirror_mode": {
    "name": "ipython",
    "version": 3
   },
   "file_extension": ".py",
   "mimetype": "text/x-python",
   "name": "python",
   "nbconvert_exporter": "python",
   "pygments_lexer": "ipython3",
   "version": "3.8.2"
  }
 },
 "nbformat": 4,
 "nbformat_minor": 2
}
