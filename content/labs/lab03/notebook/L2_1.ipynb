{
 "cells": [
  {
   "cell_type": "code",
   "execution_count": 1,
   "metadata": {},
   "outputs": [],
   "source": [
    "import pandas as pd\n",
    "import numpy as np\n",
    "from matplotlib import pyplot as plt\n",
    "from sklearn.decomposition import PCA\n",
    "from sklearn.preprocessing import StandardScaler\n",
    "%matplotlib inline"
   ]
  },
  {
   "cell_type": "code",
   "execution_count": 2,
   "metadata": {},
   "outputs": [
    {
     "data": {
      "text/html": [
       "<div>\n",
       "<style scoped>\n",
       "    .dataframe tbody tr th:only-of-type {\n",
       "        vertical-align: middle;\n",
       "    }\n",
       "\n",
       "    .dataframe tbody tr th {\n",
       "        vertical-align: top;\n",
       "    }\n",
       "\n",
       "    .dataframe thead th {\n",
       "        text-align: right;\n",
       "    }\n",
       "</style>\n",
       "<table border=\"1\" class=\"dataframe\">\n",
       "  <thead>\n",
       "    <tr style=\"text-align: right;\">\n",
       "      <th></th>\n",
       "      <th>a1</th>\n",
       "      <th>a2</th>\n",
       "      <th>a3</th>\n",
       "      <th>a4</th>\n",
       "    </tr>\n",
       "  </thead>\n",
       "  <tbody>\n",
       "    <tr>\n",
       "      <th>count</th>\n",
       "      <td>200.000000</td>\n",
       "      <td>200.000000</td>\n",
       "      <td>200.000000</td>\n",
       "      <td>200.000000</td>\n",
       "    </tr>\n",
       "    <tr>\n",
       "      <th>mean</th>\n",
       "      <td>-0.857044</td>\n",
       "      <td>4.212110</td>\n",
       "      <td>0.031775</td>\n",
       "      <td>-0.021885</td>\n",
       "    </tr>\n",
       "    <tr>\n",
       "      <th>std</th>\n",
       "      <td>421.494274</td>\n",
       "      <td>420.739376</td>\n",
       "      <td>4.074328</td>\n",
       "      <td>4.183966</td>\n",
       "    </tr>\n",
       "    <tr>\n",
       "      <th>min</th>\n",
       "      <td>-605.324722</td>\n",
       "      <td>-646.589819</td>\n",
       "      <td>-6.809775</td>\n",
       "      <td>-6.249051</td>\n",
       "    </tr>\n",
       "    <tr>\n",
       "      <th>25%</th>\n",
       "      <td>-422.060527</td>\n",
       "      <td>-399.810929</td>\n",
       "      <td>-3.883741</td>\n",
       "      <td>-4.010144</td>\n",
       "    </tr>\n",
       "    <tr>\n",
       "      <th>50%</th>\n",
       "      <td>46.593553</td>\n",
       "      <td>40.746538</td>\n",
       "      <td>-0.333865</td>\n",
       "      <td>-0.071820</td>\n",
       "    </tr>\n",
       "    <tr>\n",
       "      <th>75%</th>\n",
       "      <td>405.738027</td>\n",
       "      <td>403.029485</td>\n",
       "      <td>3.981151</td>\n",
       "      <td>4.128475</td>\n",
       "    </tr>\n",
       "    <tr>\n",
       "      <th>max</th>\n",
       "      <td>618.733299</td>\n",
       "      <td>629.307897</td>\n",
       "      <td>6.430227</td>\n",
       "      <td>6.691714</td>\n",
       "    </tr>\n",
       "  </tbody>\n",
       "</table>\n",
       "</div>"
      ],
      "text/plain": [
       "               a1          a2          a3          a4\n",
       "count  200.000000  200.000000  200.000000  200.000000\n",
       "mean    -0.857044    4.212110    0.031775   -0.021885\n",
       "std    421.494274  420.739376    4.074328    4.183966\n",
       "min   -605.324722 -646.589819   -6.809775   -6.249051\n",
       "25%   -422.060527 -399.810929   -3.883741   -4.010144\n",
       "50%     46.593553   40.746538   -0.333865   -0.071820\n",
       "75%    405.738027  403.029485    3.981151    4.128475\n",
       "max    618.733299  629.307897    6.430227    6.691714"
      ]
     },
     "metadata": {},
     "output_type": "display_data"
    },
    {
     "data": {
      "text/html": [
       "<div>\n",
       "<style scoped>\n",
       "    .dataframe tbody tr th:only-of-type {\n",
       "        vertical-align: middle;\n",
       "    }\n",
       "\n",
       "    .dataframe tbody tr th {\n",
       "        vertical-align: top;\n",
       "    }\n",
       "\n",
       "    .dataframe thead th {\n",
       "        text-align: right;\n",
       "    }\n",
       "</style>\n",
       "<table border=\"1\" class=\"dataframe\">\n",
       "  <thead>\n",
       "    <tr style=\"text-align: right;\">\n",
       "      <th></th>\n",
       "      <th>a1</th>\n",
       "      <th>a2</th>\n",
       "      <th>a3</th>\n",
       "      <th>a4</th>\n",
       "    </tr>\n",
       "  </thead>\n",
       "  <tbody>\n",
       "    <tr>\n",
       "      <th>0</th>\n",
       "      <td>343.952435</td>\n",
       "      <td>619.881035</td>\n",
       "      <td>3.926444</td>\n",
       "      <td>5.074012</td>\n",
       "    </tr>\n",
       "    <tr>\n",
       "      <th>1</th>\n",
       "      <td>376.982251</td>\n",
       "      <td>531.241298</td>\n",
       "      <td>2.831349</td>\n",
       "      <td>3.972653</td>\n",
       "    </tr>\n",
       "    <tr>\n",
       "      <th>2</th>\n",
       "      <td>555.870831</td>\n",
       "      <td>373.485494</td>\n",
       "      <td>3.365252</td>\n",
       "      <td>3.966670</td>\n",
       "    </tr>\n",
       "    <tr>\n",
       "      <th>3</th>\n",
       "      <td>407.050839</td>\n",
       "      <td>454.319406</td>\n",
       "      <td>3.971158</td>\n",
       "      <td>2.483932</td>\n",
       "    </tr>\n",
       "    <tr>\n",
       "      <th>4</th>\n",
       "      <td>412.928774</td>\n",
       "      <td>358.566005</td>\n",
       "      <td>4.670696</td>\n",
       "      <td>4.790385</td>\n",
       "    </tr>\n",
       "  </tbody>\n",
       "</table>\n",
       "</div>"
      ],
      "text/plain": [
       "           a1          a2        a3        a4\n",
       "0  343.952435  619.881035  3.926444  5.074012\n",
       "1  376.982251  531.241298  2.831349  3.972653\n",
       "2  555.870831  373.485494  3.365252  3.966670\n",
       "3  407.050839  454.319406  3.971158  2.483932\n",
       "4  412.928774  358.566005  4.670696  4.790385"
      ]
     },
     "execution_count": 2,
     "metadata": {},
     "output_type": "execute_result"
    }
   ],
   "source": [
    "df = pd.read_csv('data2.csv')\n",
    "display(df.describe())\n",
    "df.head()\n"
   ]
  },
  {
   "cell_type": "code",
   "execution_count": 4,
   "metadata": {},
   "outputs": [
    {
     "data": {
      "image/png": "[encoded data removed]",
      "text/plain": [
       "<Figure size 432x288 with 1 Axes>"
      ]
     },
     "metadata": {
      "needs_background": "light"
     },
     "output_type": "display_data"
    }
   ],
   "source": [
    "### edTest(test_pca_noscaling) ###\n",
    "#Fit and Plot the first 2 principal components (no scaling)\n",
    "#fitted_pca = PCA().fit(____)\n",
    "fitted_pca = PCA().fit(df)\n",
    "#pca_result = fitted_pca.transform(____)\n",
    "pca_result = fitted_pca.transform(df)\n",
    "plt.scatter(pca_result[:,0],pca_result[:,1])\n",
    "plt.xlabel(\"Principal Component 1\")\n",
    "plt.ylabel(\"Principal Component 2\")\n",
    "plt.title(\"PCA - No scaling\");"
   ]
  },
  {
   "cell_type": "code",
   "execution_count": 6,
   "metadata": {},
   "outputs": [
    {
     "data": {
      "image/png": "[encoded data removed]",
      "text/plain": [
       "<Figure size 432x288 with 1 Axes>"
      ]
     },
     "metadata": {
      "needs_background": "light"
     },
     "output_type": "display_data"
    }
   ],
   "source": [
    "### edTest(test_pca_scaled) ###\n",
    "#scale the data and plot first 2 principal components\n",
    "#scaled_df = StandardScaler().____\n",
    "scaled_df = StandardScaler().fit_transform(df)\n",
    "#fitted_pca = PCA().fit(____)\n",
    "fitted_pca = PCA().fit(scaled_df)\n",
    "#pca_result = fitted_pca.transform(____)\n",
    "pca_result = fitted_pca.transform(scaled_df)\n",
    "plt.scatter(pca_result[:,0],pca_result[:,1])\n",
    "plt.xlabel(\"Principal Component 1\")\n",
    "plt.ylabel(\"Principal Component 2\")\n",
    "plt.title(\"PCA - with scaled data\");"
   ]
  },
  {
   "cell_type": "code",
   "execution_count": null,
   "metadata": {},
   "outputs": [],
   "source": []
  }
 ],
 "metadata": {
  "kernelspec": {
   "display_name": "Python 3",
   "language": "python",
   "name": "python3"
  },
  "language_info": {
   "codemirror_mode": {
    "name": "ipython",
    "version": 3
   },
   "file_extension": ".py",
   "mimetype": "text/x-python",
   "name": "python",
   "nbconvert_exporter": "python",
   "pygments_lexer": "ipython3",
   "version": "3.8.0"
  }
 },
 "nbformat": 4,
 "nbformat_minor": 2
}
