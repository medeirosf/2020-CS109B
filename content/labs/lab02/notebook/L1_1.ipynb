{
 "cells": [
  {
   "cell_type": "code",
   "execution_count": 35,
   "metadata": {},
   "outputs": [],
   "source": [
    "import pandas as pd\n",
    "import numpy as np\n",
    "import matplotlib.pyplot as plt\n",
    "\n",
    "import statsmodels.formula.api as sm\n",
    "\n",
    "%matplotlib inline "
   ]
  },
  {
   "cell_type": "code",
   "execution_count": 36,
   "metadata": {},
   "outputs": [
    {
     "data": {
      "text/html": [
       "<div>\n",
       "<style scoped>\n",
       "    .dataframe tbody tr th:only-of-type {\n",
       "        vertical-align: middle;\n",
       "    }\n",
       "\n",
       "    .dataframe tbody tr th {\n",
       "        vertical-align: top;\n",
       "    }\n",
       "\n",
       "    .dataframe thead th {\n",
       "        text-align: right;\n",
       "    }\n",
       "</style>\n",
       "<table border=\"1\" class=\"dataframe\">\n",
       "  <thead>\n",
       "    <tr style=\"text-align: right;\">\n",
       "      <th></th>\n",
       "      <th>x</th>\n",
       "      <th>y</th>\n",
       "    </tr>\n",
       "  </thead>\n",
       "  <tbody>\n",
       "    <tr>\n",
       "      <th>73</th>\n",
       "      <td>0.006248</td>\n",
       "      <td>17.329551</td>\n",
       "    </tr>\n",
       "    <tr>\n",
       "      <th>142</th>\n",
       "      <td>0.104671</td>\n",
       "      <td>15.268703</td>\n",
       "    </tr>\n",
       "    <tr>\n",
       "      <th>34</th>\n",
       "      <td>0.246137</td>\n",
       "      <td>15.394678</td>\n",
       "    </tr>\n",
       "    <tr>\n",
       "      <th>17</th>\n",
       "      <td>0.420595</td>\n",
       "      <td>12.743181</td>\n",
       "    </tr>\n",
       "    <tr>\n",
       "      <th>5</th>\n",
       "      <td>0.455565</td>\n",
       "      <td>15.480800</td>\n",
       "    </tr>\n",
       "  </tbody>\n",
       "</table>\n",
       "</div>"
      ],
      "text/plain": [
       "            x          y\n",
       "73   0.006248  17.329551\n",
       "142  0.104671  15.268703\n",
       "34   0.246137  15.394678\n",
       "17   0.420595  12.743181\n",
       "5    0.455565  15.480800"
      ]
     },
     "execution_count": 36,
     "metadata": {},
     "output_type": "execute_result"
    }
   ],
   "source": [
    "df = pd.read_csv('data1.csv')\n",
    "df = df.sort_values('x')\n",
    "df.head()"
   ]
  },
  {
   "cell_type": "code",
   "execution_count": 37,
   "metadata": {},
   "outputs": [
    {
     "data": {
      "image/png": "[encoded data removed]",
      "text/plain": [
       "<Figure size 432x288 with 1 Axes>"
      ]
     },
     "metadata": {
      "needs_background": "light"
     },
     "output_type": "display_data"
    }
   ],
   "source": [
    "plt.scatter(df.x, df.y);\n",
    "plt.xlabel(\"x\")\n",
    "plt.ylabel(\"y\")\n",
    "plt.show()"
   ]
  },
  {
   "cell_type": "markdown",
   "metadata": {},
   "source": [
    "## Cubic polynomial least-squares regression of y on x"
   ]
  },
  {
   "cell_type": "code",
   "execution_count": 52,
   "metadata": {},
   "outputs": [],
   "source": [
    "### edTest(test_ols_formula) ###\n",
    "def fit_model(formula):\n",
    "    return sm.ols(formula=formula, data=df).fit()\n",
    "\n",
    "#formula = _____\n",
    "formula = 'y ~ np.power(x, 3)'\n",
    "fit2_lm = fit_model(formula)"
   ]
  },
  {
   "cell_type": "code",
   "execution_count": 53,
   "metadata": {},
   "outputs": [
    {
     "data": {
      "text/html": [
       "<div>\n",
       "<style scoped>\n",
       "    .dataframe tbody tr th:only-of-type {\n",
       "        vertical-align: middle;\n",
       "    }\n",
       "\n",
       "    .dataframe tbody tr th {\n",
       "        vertical-align: top;\n",
       "    }\n",
       "\n",
       "    .dataframe thead th {\n",
       "        text-align: right;\n",
       "    }\n",
       "</style>\n",
       "<table border=\"1\" class=\"dataframe\">\n",
       "  <thead>\n",
       "    <tr style=\"text-align: right;\">\n",
       "      <th></th>\n",
       "      <th>mean</th>\n",
       "      <th>mean_se</th>\n",
       "      <th>mean_ci_lower</th>\n",
       "      <th>mean_ci_upper</th>\n",
       "      <th>obs_ci_lower</th>\n",
       "      <th>obs_ci_upper</th>\n",
       "    </tr>\n",
       "  </thead>\n",
       "  <tbody>\n",
       "    <tr>\n",
       "      <th>0</th>\n",
       "      <td>5.281944</td>\n",
       "      <td>0.245670</td>\n",
       "      <td>4.798078</td>\n",
       "      <td>5.765810</td>\n",
       "      <td>-0.485245</td>\n",
       "      <td>11.049134</td>\n",
       "    </tr>\n",
       "    <tr>\n",
       "      <th>1</th>\n",
       "      <td>5.281944</td>\n",
       "      <td>0.245670</td>\n",
       "      <td>4.798079</td>\n",
       "      <td>5.765809</td>\n",
       "      <td>-0.485246</td>\n",
       "      <td>11.049133</td>\n",
       "    </tr>\n",
       "    <tr>\n",
       "      <th>2</th>\n",
       "      <td>5.281939</td>\n",
       "      <td>0.245664</td>\n",
       "      <td>4.798086</td>\n",
       "      <td>5.765792</td>\n",
       "      <td>-0.485250</td>\n",
       "      <td>11.049127</td>\n",
       "    </tr>\n",
       "    <tr>\n",
       "      <th>3</th>\n",
       "      <td>5.281917</td>\n",
       "      <td>0.245638</td>\n",
       "      <td>4.798114</td>\n",
       "      <td>5.765719</td>\n",
       "      <td>-0.485268</td>\n",
       "      <td>11.049101</td>\n",
       "    </tr>\n",
       "    <tr>\n",
       "      <th>4</th>\n",
       "      <td>5.281909</td>\n",
       "      <td>0.245629</td>\n",
       "      <td>4.798124</td>\n",
       "      <td>5.765694</td>\n",
       "      <td>-0.485274</td>\n",
       "      <td>11.049092</td>\n",
       "    </tr>\n",
       "    <tr>\n",
       "      <th>...</th>\n",
       "      <td>...</td>\n",
       "      <td>...</td>\n",
       "      <td>...</td>\n",
       "      <td>...</td>\n",
       "      <td>...</td>\n",
       "      <td>...</td>\n",
       "    </tr>\n",
       "    <tr>\n",
       "      <th>245</th>\n",
       "      <td>4.930111</td>\n",
       "      <td>0.494547</td>\n",
       "      <td>3.956063</td>\n",
       "      <td>5.904159</td>\n",
       "      <td>-0.898707</td>\n",
       "      <td>10.758929</td>\n",
       "    </tr>\n",
       "    <tr>\n",
       "      <th>246</th>\n",
       "      <td>4.925352</td>\n",
       "      <td>0.502349</td>\n",
       "      <td>3.935939</td>\n",
       "      <td>5.914766</td>\n",
       "      <td>-0.906053</td>\n",
       "      <td>10.756758</td>\n",
       "    </tr>\n",
       "    <tr>\n",
       "      <th>247</th>\n",
       "      <td>4.924550</td>\n",
       "      <td>0.503666</td>\n",
       "      <td>3.932541</td>\n",
       "      <td>5.916559</td>\n",
       "      <td>-0.907296</td>\n",
       "      <td>10.756396</td>\n",
       "    </tr>\n",
       "    <tr>\n",
       "      <th>248</th>\n",
       "      <td>4.923805</td>\n",
       "      <td>0.504890</td>\n",
       "      <td>3.929386</td>\n",
       "      <td>5.918224</td>\n",
       "      <td>-0.908452</td>\n",
       "      <td>10.756062</td>\n",
       "    </tr>\n",
       "    <tr>\n",
       "      <th>249</th>\n",
       "      <td>4.914316</td>\n",
       "      <td>0.520515</td>\n",
       "      <td>3.889122</td>\n",
       "      <td>5.939510</td>\n",
       "      <td>-0.923267</td>\n",
       "      <td>10.751899</td>\n",
       "    </tr>\n",
       "  </tbody>\n",
       "</table>\n",
       "<p>250 rows × 6 columns</p>\n",
       "</div>"
      ],
      "text/plain": [
       "         mean   mean_se  mean_ci_lower  mean_ci_upper  obs_ci_lower  \\\n",
       "0    5.281944  0.245670       4.798078       5.765810     -0.485245   \n",
       "1    5.281944  0.245670       4.798079       5.765809     -0.485246   \n",
       "2    5.281939  0.245664       4.798086       5.765792     -0.485250   \n",
       "3    5.281917  0.245638       4.798114       5.765719     -0.485268   \n",
       "4    5.281909  0.245629       4.798124       5.765694     -0.485274   \n",
       "..        ...       ...            ...            ...           ...   \n",
       "245  4.930111  0.494547       3.956063       5.904159     -0.898707   \n",
       "246  4.925352  0.502349       3.935939       5.914766     -0.906053   \n",
       "247  4.924550  0.503666       3.932541       5.916559     -0.907296   \n",
       "248  4.923805  0.504890       3.929386       5.918224     -0.908452   \n",
       "249  4.914316  0.520515       3.889122       5.939510     -0.923267   \n",
       "\n",
       "     obs_ci_upper  \n",
       "0       11.049134  \n",
       "1       11.049133  \n",
       "2       11.049127  \n",
       "3       11.049101  \n",
       "4       11.049092  \n",
       "..            ...  \n",
       "245     10.758929  \n",
       "246     10.756758  \n",
       "247     10.756396  \n",
       "248     10.756062  \n",
       "249     10.751899  \n",
       "\n",
       "[250 rows x 6 columns]"
      ]
     },
     "execution_count": 53,
     "metadata": {},
     "output_type": "execute_result"
    }
   ],
   "source": [
    "### edTest(test_predictions_summary) ###\n",
    "#Get the predictions and the summary dataframe\n",
    "#poly_predictions = fit2_lm._____()_____()\n",
    "poly_predictions = fit2_lm.get_prediction(df).summary_frame()\n",
    "poly_predictions"
   ]
  },
  {
   "cell_type": "code",
   "execution_count": 54,
   "metadata": {},
   "outputs": [
    {
     "data": {
      "image/png": "[encoded data removed]",
      "text/plain": [
       "<Figure size 432x288 with 1 Axes>"
      ]
     },
     "metadata": {
      "needs_background": "light"
     },
     "output_type": "display_data"
    }
   ],
   "source": [
    "ax2 = df.plot.scatter(x='x',y='y',c='Red',title=\"Data with least-squares cubic fit\")\n",
    "ax2.set_xlabel(\"x\")\n",
    "ax2.set_ylabel(\"y\")\n",
    "\n",
    "# CI for the predection at each x value, i.e. the curve itself\n",
    "ax2.plot(df.x, poly_predictions['mean'],color=\"green\")\n",
    "ax2.plot(df.x, poly_predictions['mean_ci_lower'], color=\"blue\",linestyle=\"dashed\")\n",
    "ax2.plot(df.x, poly_predictions['mean_ci_upper'], color=\"blue\",linestyle=\"dashed\");\n"
   ]
  },
  {
   "cell_type": "code",
   "execution_count": null,
   "metadata": {},
   "outputs": [],
   "source": []
  }
 ],
 "metadata": {
  "kernelspec": {
   "display_name": "Python 3",
   "language": "python",
   "name": "python3"
  },
  "language_info": {
   "codemirror_mode": {
    "name": "ipython",
    "version": 3
   },
   "file_extension": ".py",
   "mimetype": "text/x-python",
   "name": "python",
   "nbconvert_exporter": "python",
   "pygments_lexer": "ipython3",
   "version": "3.8.0"
  }
 },
 "nbformat": 4,
 "nbformat_minor": 2
}
