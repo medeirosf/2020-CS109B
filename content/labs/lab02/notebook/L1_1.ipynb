{
 "cells": [
  {
   "cell_type": "code",
   "execution_count": 1,
   "metadata": {},
   "outputs": [],
   "source": [
    "import pandas as pd\n",
    "import numpy as np\n",
    "import matplotlib.pyplot as plt\n",
    "\n",
    "import statsmodels.formula.api as sm\n",
    "\n",
    "%matplotlib inline "
   ]
  },
  {
   "cell_type": "code",
   "execution_count": 2,
   "metadata": {},
   "outputs": [
    {
     "data": {
      "text/html": [
       "<div>\n",
       "<style scoped>\n",
       "    .dataframe tbody tr th:only-of-type {\n",
       "        vertical-align: middle;\n",
       "    }\n",
       "\n",
       "    .dataframe tbody tr th {\n",
       "        vertical-align: top;\n",
       "    }\n",
       "\n",
       "    .dataframe thead th {\n",
       "        text-align: right;\n",
       "    }\n",
       "</style>\n",
       "<table border=\"1\" class=\"dataframe\">\n",
       "  <thead>\n",
       "    <tr style=\"text-align: right;\">\n",
       "      <th></th>\n",
       "      <th>x</th>\n",
       "      <th>y</th>\n",
       "    </tr>\n",
       "  </thead>\n",
       "  <tbody>\n",
       "    <tr>\n",
       "      <th>73</th>\n",
       "      <td>0.006248</td>\n",
       "      <td>17.329551</td>\n",
       "    </tr>\n",
       "    <tr>\n",
       "      <th>142</th>\n",
       "      <td>0.104671</td>\n",
       "      <td>15.268703</td>\n",
       "    </tr>\n",
       "    <tr>\n",
       "      <th>34</th>\n",
       "      <td>0.246137</td>\n",
       "      <td>15.394678</td>\n",
       "    </tr>\n",
       "    <tr>\n",
       "      <th>17</th>\n",
       "      <td>0.420595</td>\n",
       "      <td>12.743181</td>\n",
       "    </tr>\n",
       "    <tr>\n",
       "      <th>5</th>\n",
       "      <td>0.455565</td>\n",
       "      <td>15.480800</td>\n",
       "    </tr>\n",
       "  </tbody>\n",
       "</table>\n",
       "</div>"
      ],
      "text/plain": [
       "            x          y\n",
       "73   0.006248  17.329551\n",
       "142  0.104671  15.268703\n",
       "34   0.246137  15.394678\n",
       "17   0.420595  12.743181\n",
       "5    0.455565  15.480800"
      ]
     },
     "execution_count": 2,
     "metadata": {},
     "output_type": "execute_result"
    }
   ],
   "source": [
    "df = pd.read_csv('../data/data1.csv')\n",
    "df = df.sort_values('x')\n",
    "df.head()"
   ]
  },
  {
   "cell_type": "code",
   "execution_count": 3,
   "metadata": {},
   "outputs": [
    {
     "data": {
      "image/png": "[encoded data removed]",
      "text/plain": [
       "<Figure size 432x288 with 1 Axes>"
      ]
     },
     "metadata": {
      "needs_background": "light"
     },
     "output_type": "display_data"
    }
   ],
   "source": [
    "plt.scatter(df.x, df.y);\n",
    "plt.xlabel(\"x\")\n",
    "plt.ylabel(\"y\")\n",
    "plt.show()"
   ]
  },
  {
   "cell_type": "markdown",
   "metadata": {},
   "source": [
    "## Cubic polynomial least-squares regression of y on x"
   ]
  },
  {
   "cell_type": "code",
   "execution_count": 4,
   "metadata": {},
   "outputs": [],
   "source": [
    "### edTest(test_ols_formula) ###\n",
    "def fit_model(formula):\n",
    "    return sm.ols(formula=formula, data=df).fit()\n",
    "\n",
    "#formula = _____\n",
    "formula = 'y ~ x + np.power(x, 2) + np.power(x, 3)'\n",
    "fit2_lm = fit_model(formula)"
   ]
  },
  {
   "cell_type": "code",
   "execution_count": 5,
   "metadata": {},
   "outputs": [
    {
     "data": {
      "text/html": [
       "<div>\n",
       "<style scoped>\n",
       "    .dataframe tbody tr th:only-of-type {\n",
       "        vertical-align: middle;\n",
       "    }\n",
       "\n",
       "    .dataframe tbody tr th {\n",
       "        vertical-align: top;\n",
       "    }\n",
       "\n",
       "    .dataframe thead th {\n",
       "        text-align: right;\n",
       "    }\n",
       "</style>\n",
       "<table border=\"1\" class=\"dataframe\">\n",
       "  <thead>\n",
       "    <tr style=\"text-align: right;\">\n",
       "      <th></th>\n",
       "      <th>mean</th>\n",
       "      <th>mean_se</th>\n",
       "      <th>mean_ci_lower</th>\n",
       "      <th>mean_ci_upper</th>\n",
       "      <th>obs_ci_lower</th>\n",
       "      <th>obs_ci_upper</th>\n",
       "    </tr>\n",
       "  </thead>\n",
       "  <tbody>\n",
       "    <tr>\n",
       "      <th>0</th>\n",
       "      <td>17.855013</td>\n",
       "      <td>0.410201</td>\n",
       "      <td>17.047060</td>\n",
       "      <td>18.662966</td>\n",
       "      <td>15.178673</td>\n",
       "      <td>20.531353</td>\n",
       "    </tr>\n",
       "    <tr>\n",
       "      <th>1</th>\n",
       "      <td>16.931066</td>\n",
       "      <td>0.382049</td>\n",
       "      <td>16.178561</td>\n",
       "      <td>17.683571</td>\n",
       "      <td>14.270940</td>\n",
       "      <td>19.591193</td>\n",
       "    </tr>\n",
       "    <tr>\n",
       "      <th>2</th>\n",
       "      <td>15.665031</td>\n",
       "      <td>0.344343</td>\n",
       "      <td>14.986795</td>\n",
       "      <td>16.343268</td>\n",
       "      <td>13.024953</td>\n",
       "      <td>18.305110</td>\n",
       "    </tr>\n",
       "    <tr>\n",
       "      <th>3</th>\n",
       "      <td>14.201966</td>\n",
       "      <td>0.302322</td>\n",
       "      <td>13.606497</td>\n",
       "      <td>14.797436</td>\n",
       "      <td>11.581930</td>\n",
       "      <td>16.822003</td>\n",
       "    </tr>\n",
       "    <tr>\n",
       "      <th>4</th>\n",
       "      <td>13.921482</td>\n",
       "      <td>0.294496</td>\n",
       "      <td>13.341427</td>\n",
       "      <td>14.501536</td>\n",
       "      <td>11.304905</td>\n",
       "      <td>16.538058</td>\n",
       "    </tr>\n",
       "    <tr>\n",
       "      <th>...</th>\n",
       "      <td>...</td>\n",
       "      <td>...</td>\n",
       "      <td>...</td>\n",
       "      <td>...</td>\n",
       "      <td>...</td>\n",
       "      <td>...</td>\n",
       "    </tr>\n",
       "    <tr>\n",
       "      <th>245</th>\n",
       "      <td>3.589825</td>\n",
       "      <td>0.285333</td>\n",
       "      <td>3.027819</td>\n",
       "      <td>4.151831</td>\n",
       "      <td>0.977190</td>\n",
       "      <td>6.202460</td>\n",
       "    </tr>\n",
       "    <tr>\n",
       "      <th>246</th>\n",
       "      <td>3.435204</td>\n",
       "      <td>0.295099</td>\n",
       "      <td>2.853960</td>\n",
       "      <td>4.016447</td>\n",
       "      <td>0.818363</td>\n",
       "      <td>6.052044</td>\n",
       "    </tr>\n",
       "    <tr>\n",
       "      <th>247</th>\n",
       "      <td>3.408789</td>\n",
       "      <td>0.296770</td>\n",
       "      <td>2.824254</td>\n",
       "      <td>3.993323</td>\n",
       "      <td>0.791215</td>\n",
       "      <td>6.026362</td>\n",
       "    </tr>\n",
       "    <tr>\n",
       "      <th>248</th>\n",
       "      <td>3.384180</td>\n",
       "      <td>0.298327</td>\n",
       "      <td>2.796578</td>\n",
       "      <td>3.971782</td>\n",
       "      <td>0.765920</td>\n",
       "      <td>6.002440</td>\n",
       "    </tr>\n",
       "    <tr>\n",
       "      <th>249</th>\n",
       "      <td>3.063531</td>\n",
       "      <td>0.318659</td>\n",
       "      <td>2.435884</td>\n",
       "      <td>3.691178</td>\n",
       "      <td>0.435994</td>\n",
       "      <td>5.691068</td>\n",
       "    </tr>\n",
       "  </tbody>\n",
       "</table>\n",
       "<p>250 rows × 6 columns</p>\n",
       "</div>"
      ],
      "text/plain": [
       "          mean   mean_se  mean_ci_lower  mean_ci_upper  obs_ci_lower  \\\n",
       "0    17.855013  0.410201      17.047060      18.662966     15.178673   \n",
       "1    16.931066  0.382049      16.178561      17.683571     14.270940   \n",
       "2    15.665031  0.344343      14.986795      16.343268     13.024953   \n",
       "3    14.201966  0.302322      13.606497      14.797436     11.581930   \n",
       "4    13.921482  0.294496      13.341427      14.501536     11.304905   \n",
       "..         ...       ...            ...            ...           ...   \n",
       "245   3.589825  0.285333       3.027819       4.151831      0.977190   \n",
       "246   3.435204  0.295099       2.853960       4.016447      0.818363   \n",
       "247   3.408789  0.296770       2.824254       3.993323      0.791215   \n",
       "248   3.384180  0.298327       2.796578       3.971782      0.765920   \n",
       "249   3.063531  0.318659       2.435884       3.691178      0.435994   \n",
       "\n",
       "     obs_ci_upper  \n",
       "0       20.531353  \n",
       "1       19.591193  \n",
       "2       18.305110  \n",
       "3       16.822003  \n",
       "4       16.538058  \n",
       "..            ...  \n",
       "245      6.202460  \n",
       "246      6.052044  \n",
       "247      6.026362  \n",
       "248      6.002440  \n",
       "249      5.691068  \n",
       "\n",
       "[250 rows x 6 columns]"
      ]
     },
     "execution_count": 5,
     "metadata": {},
     "output_type": "execute_result"
    }
   ],
   "source": [
    "### edTest(test_predictions_summary) ###\n",
    "#Get the predictions and the summary dataframe\n",
    "#poly_predictions = fit2_lm._____()_____()\n",
    "poly_predictions = fit2_lm.get_prediction(df).summary_frame()\n",
    "poly_predictions"
   ]
  },
  {
   "cell_type": "code",
   "execution_count": 6,
   "metadata": {},
   "outputs": [
    {
     "data": {
      "image/png": "[encoded data removed]",
      "text/plain": [
       "<Figure size 432x288 with 1 Axes>"
      ]
     },
     "metadata": {
      "needs_background": "light"
     },
     "output_type": "display_data"
    }
   ],
   "source": [
    "ax2 = df.plot.scatter(x='x',y='y',c='Red',title=\"Data with least-squares cubic fit\")\n",
    "ax2.set_xlabel(\"x\")\n",
    "ax2.set_ylabel(\"y\")\n",
    "\n",
    "# CI for the predection at each x value, i.e. the curve itself\n",
    "ax2.plot(df.x, poly_predictions['mean'],color=\"green\")\n",
    "ax2.plot(df.x, poly_predictions['mean_ci_lower'], color=\"blue\",linestyle=\"dashed\")\n",
    "ax2.plot(df.x, poly_predictions['mean_ci_upper'], color=\"blue\",linestyle=\"dashed\");\n"
   ]
  },
  {
   "cell_type": "code",
   "execution_count": null,
   "metadata": {},
   "outputs": [],
   "source": []
  }
 ],
 "metadata": {
  "kernelspec": {
   "display_name": "Python 3",
   "language": "python",
   "name": "python3"
  },
  "language_info": {
   "codemirror_mode": {
    "name": "ipython",
    "version": 3
   },
   "file_extension": ".py",
   "mimetype": "text/x-python",
   "name": "python",
   "nbconvert_exporter": "python",
   "pygments_lexer": "ipython3",
   "version": "3.7.6"
  }
 },
 "nbformat": 4,
 "nbformat_minor": 2
}
