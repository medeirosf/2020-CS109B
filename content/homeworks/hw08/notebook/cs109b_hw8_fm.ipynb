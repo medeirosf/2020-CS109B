{
 "cells": [
  {
   "cell_type": "markdown",
   "metadata": {
    "deletable": false,
    "editable": false
   },
   "source": [
    "# <img style=\"float: left; padding-right: 10px; width: 45px\" src=\"https://raw.githubusercontent.com/Harvard-IACS/2018-CS109A/master/content/styles/iacs.png\"> CS109B Data Science 2: Advanced Topics in Data Science \n",
    "\n",
    "##  Homework 8: Reinforcement Learning [100 pts]\n",
    "\n",
    "\n",
    "**Harvard University**<br/>\n",
    "**Spring 2020**<br/>\n",
    "**Instructors**: Pavlos Protopapas, Mark Glickman and Chris Tanner<br/>\n",
    "\n",
    "**DISCLAIMER**: No public reproduction of this homework nor its solution is allowed without the explicit consent of their authors.\n",
    "\n",
    "\n",
    "\n",
    "<hr style=\"height:2pt\">\n",
    "\n",
    "---"
   ]
  },
  {
   "cell_type": "code",
   "execution_count": 1,
   "metadata": {
    "deletable": false,
    "editable": false
   },
   "outputs": [
    {
     "data": {
      "text/html": [
       "<style>\n",
       "blockquote { background: #AEDE94; }\n",
       "h1 { \n",
       "    padding-top: 25px;\n",
       "    padding-bottom: 25px;\n",
       "    text-align: left; \n",
       "    padding-left: 10px;\n",
       "    background-color: #DDDDDD; \n",
       "    color: black;\n",
       "}\n",
       "h2 { \n",
       "    padding-top: 10px;\n",
       "    padding-bottom: 10px;\n",
       "    text-align: left; \n",
       "    padding-left: 5px;\n",
       "    background-color: #EEEEEE; \n",
       "    color: black;\n",
       "}\n",
       "\n",
       "div.exercise {\n",
       "\tbackground-color: #ffcccc;\n",
       "\tborder-color: #E9967A; \t\n",
       "\tborder-left: 5px solid #800080; \n",
       "\tpadding: 0.5em;\n",
       "}\n",
       "\n",
       "span.sub-q {\n",
       "\tfont-weight: bold;\n",
       "}\n",
       "div.theme {\n",
       "\tbackground-color: #DDDDDD;\n",
       "\tborder-color: #E9967A; \t\n",
       "\tborder-left: 5px solid #800080; \n",
       "\tpadding: 0.5em;\n",
       "\tfont-size: 18pt;\n",
       "}\n",
       "div.gc { \n",
       "\tbackground-color: #AEDE94;\n",
       "\tborder-color: #E9967A; \t \n",
       "\tborder-left: 5px solid #800080; \n",
       "\tpadding: 0.5em;\n",
       "\tfont-size: 12pt;\n",
       "}\n",
       "p.q1 { \n",
       "    padding-top: 5px;\n",
       "    padding-bottom: 5px;\n",
       "    text-align: left; \n",
       "    padding-left: 5px;\n",
       "    background-color: #EEEEEE; \n",
       "    color: black;\n",
       "}\n",
       "header {\n",
       "   padding-top: 35px;\n",
       "    padding-bottom: 35px;\n",
       "    text-align: left; \n",
       "    padding-left: 10px;\n",
       "    background-color: #DDDDDD; \n",
       "    color: black;\n",
       "}\n",
       "</style>\n",
       "\n"
      ],
      "text/plain": [
       "<IPython.core.display.HTML object>"
      ]
     },
     "execution_count": 1,
     "metadata": {},
     "output_type": "execute_result"
    }
   ],
   "source": [
    "#PLEASE RUN THIS CELL \n",
    "import requests\n",
    "from IPython.core.display import HTML\n",
    "styles = requests.get(\"https://raw.githubusercontent.com/Harvard-IACS/2018-CS109A/master/content/styles/cs109.css\").text\n",
    "HTML(styles)"
   ]
  },
  {
   "cell_type": "markdown",
   "metadata": {
    "deletable": false,
    "editable": false
   },
   "source": [
    "### INSTRUCTIONS\n",
    "\n",
    "- To submit your assignment follow the instructions given in Canvas.\n",
    "- Restart the kernel and run the whole notebook again before you submit.\n",
    "- Do not submit a notebook that is excessively long because output was not suppressed or otherwise limited. "
   ]
  },
  {
   "cell_type": "code",
   "execution_count": 2,
   "metadata": {
    "deletable": false,
    "editable": false
   },
   "outputs": [],
   "source": [
    "# Numpy and plotting libraries\n",
    "\n",
    "import numpy as np\n",
    "import matplotlib.pyplot as plt\n",
    "import time\n",
    "\n",
    "%matplotlib inline"
   ]
  },
  {
   "cell_type": "markdown",
   "metadata": {
    "deletable": false,
    "editable": false
   },
   "source": [
    "# Overview"
   ]
  },
  {
   "cell_type": "markdown",
   "metadata": {
    "deletable": false,
    "editable": false
   },
   "source": [
    "The objective of this homework assignment is to get a taste of implementing a planning algorithm in a very simple setting. "
   ]
  },
  {
   "cell_type": "markdown",
   "metadata": {
    "deletable": false,
    "editable": false
   },
   "source": [
    "<div class='exercise'><b>  Markov Decision Process [100 points] </b></div>\n",
    "\n",
    "\n",
    "We have a hallway consisting of 5 blocks (states 0-4). There are two actions, which deterministically move the agent to the left or the right. More explicitly: Performing action “left” in state 0 keeps you in state 0, moves you from state 1 to state 0, from state 2 to state 1, state 3 to state 2, and state 4 to state 3. Performing action “right” in state 4 keeps you in state 4, moves you from state 3 to state 4, from state 2 to state 3, from state 1 to state 2, and from state 0 to state 1. The agent receives a reward of -1.0 if it starts any iteration in state 0, state 1, state 2, or state 3. The agent receives a reward of +10.0 if it starts in state 4. Let the discount factor γ = 0.75.\n",
    "\n",
    "We provide class MDP that instantiates an object representing a Markov decision process and verifies shapes.\n",
    "\n",
    "**1.1** MDP proble [10 pts]: Build an MDP representing the hallway setting described above, by completing the function `build_hallway_mdp()`. You need to specify the array T that encodes the transitions from state and actions into next states; and a reward vector R that specifies the reward for being at a certain state.\n",
    "\n",
    "**1.2**  Policy Evaluation [20 pts]: Initialize a policy “left” for every state (a 1D numpy array). Implement policy evaluation as described in lecture (also in Chapter 4 of [Sutton and Barto](http://incompleteideas.net/book/RLbook2018.pdf)). That is, for each possible starting state, what is the expected sum of future rewards for this policy? Using an iterative approach, how many iterations did it take for the value of the policy to converge to a precision of 10−5? \n",
    "\n",
    "**1.3**  Q-function Computation [20 pts]: Compute the Q-function for the `always_left` policy above. Do you see any opportunties for policy improvement?\n",
    "\n",
    "**1.4** Policy Iteration [20 pts]: Using your solutions to questions 1.2 and 1.3 above, implement policy iteration. Report the sequence of policies you find starting with the policy “left” in every state. How many rounds of policy iteration are required to converge to the optimal policy? \n",
    "\n",
    "**1.5** [10 pts] What are the effects of different choices of the discount factor on the convergence of policy evaluation? Run policy evaluation for discount factor $\\gamma \\in [ 10^{-12}, 10^{-3}, 0.1, 0.33, 0.67, 0.9, 0.95, 0.99]$.\n",
    "\n",
    "**1.6** [20 pts] What happens if the transitions are stochastic? Recode the MDP with probability of switching to the opposite action of 0.1. What are now the values when following the optimal policy?"
   ]
  },
  {
   "cell_type": "code",
   "execution_count": 3,
   "metadata": {
    "deletable": false,
    "editable": false
   },
   "outputs": [],
   "source": [
    "class MDP(object):\n",
    "    \"\"\"Wrapper for a discrete Markov decision process that makes shape checks\"\"\"\n",
    "    \n",
    "    def __init__(self, T, R, discount):\n",
    "        \"\"\"Initialize the Markov Decision Process.\n",
    "        - `T` should be a 3D array whose dimensions represent initial states,\n",
    "          actions, and next states, respectively, and whose values represent\n",
    "          transition probabilities.\n",
    "        - `R` should be a 1D array describing rewards for beginning each\n",
    "          timestep in a particular state (or a 3D array like `T`). It will be\n",
    "          transformed into the appropriate 3D shape.\n",
    "        - `discount` should be a value in [0,1) controlling the decay of future\n",
    "          rewards.\"\"\"\n",
    "        Ds, Da, _ = T.shape\n",
    "        if T.shape not in [(Ds, Da, Ds)]:\n",
    "            raise ValueError(\"T should be in R^|S|x|A|x|S|\")\n",
    "        if R.shape not in [(Ds, Da, Ds), (Ds,)]:\n",
    "            raise ValueError(\"R should be in R^|S| or like T\")\n",
    "        if discount < 0 or discount >= 1:\n",
    "            raise ValueError(\"discount should be in [0,1)\")\n",
    "        if R.shape == (Ds,):  # Expand R if necessary\n",
    "            R = np.array([[[R[s1] for s2 in range(Ds)] for a in range(Da)] for s1 in range(Ds)])\n",
    "        self.T = T\n",
    "        self.R = R\n",
    "        self.discount = discount\n",
    "        self.num_states = Ds\n",
    "        self.num_actions = Da\n",
    "        self.states = np.arange(Ds)\n",
    "        self.actions = np.arange(Da)"
   ]
  },
  {
   "cell_type": "markdown",
   "metadata": {
    "autograde": "1.1",
    "deletable": false,
    "editable": false
   },
   "source": [
    "**1.1** MDP proble [10 pts]: Build an MDP representing the hallway setting described above, by completing the function `build_hallway_mdp()`. You need to specify the array T that encodes the transitions from state and actions into next states; and a reward vector R that specifies the reward for being at a certain state.\n"
   ]
  },
  {
   "cell_type": "code",
   "execution_count": 4,
   "metadata": {
    "deletable": false
   },
   "outputs": [],
   "source": [
    "def build_hallway_mdp():\n",
    "    \"\"\"Build an MDP representing the hallway setting described.\"\"\"\n",
    "    # your code here\n",
    "    \n",
    "    T = np.array([[[1,0,0,0,0],[0,1,0,0,0]],\n",
    "                  [[1,0,0,0,0],[0,0,1,0,0]],\n",
    "                  [[0,1,0,0,0],[0,0,0,1,0]],\n",
    "                  [[0,0,1,0,0],[0,0,0,0,1]],\n",
    "                  [[0,0,0,1,0],[0,0,0,0,1]]])\n",
    "    R = np.array([-1,-1,-1,-1,10])\n",
    "    \n",
    "    # end of your code here\n",
    "    return MDP(T, R, 0.75)"
   ]
  },
  {
   "cell_type": "code",
   "execution_count": 5,
   "metadata": {
    "deletable": false,
    "editable": false
   },
   "outputs": [
    {
     "data": {
      "image/png": "[encoded data removed]",
      "text/plain": [
       "<Figure size 360x144 with 2 Axes>"
      ]
     },
     "metadata": {
      "needs_background": "light"
     },
     "output_type": "display_data"
    }
   ],
   "source": [
    "# Run for sanity check\n",
    "mdp = build_hallway_mdp()\n",
    "\n",
    "plt.figure(figsize=(5,2))\n",
    "plt.subplot(121, title='Left transitions')\n",
    "plt.imshow(mdp.T[:,0,:])\n",
    "plt.ylabel(\"Initial state\"); plt.xlabel('Next state')\n",
    "plt.subplot(122, title='Right transitions')\n",
    "plt.imshow(mdp.T[:,1,:])\n",
    "plt.ylabel(\"Initial state\"); plt.xlabel('Next state')\n",
    "plt.show()"
   ]
  },
  {
   "cell_type": "markdown",
   "metadata": {
    "autograde": "1.2",
    "deletable": false,
    "editable": false
   },
   "source": [
    "**1.2**  Policy Evaluation [20 pts]: Initialize a policy “left” for every state (a 1D numpy array). Implement policy evaluation as described in lecture (also in Chapter 4 of [Sutton and Barto](http://incompleteideas.net/book/RLbook2018.pdf)). That is, for each possible starting state, what is the expected sum of future rewards for this policy? Using an iterative approach, how many iterations did it take for the value of the policy to converge to a precision of 10−5?\n"
   ]
  },
  {
   "cell_type": "code",
   "execution_count": 6,
   "metadata": {
    "deletable": false
   },
   "outputs": [],
   "source": [
    "def build_always_left_policy():\n",
    "    \"\"\"Build a policy representing the action \"left\" in every state.\"\"\"\n",
    "    # your code here\n",
    "    return np.array([[1,0],[1,0],[1,0],[1,0],[1,0]])"
   ]
  },
  {
   "cell_type": "code",
   "execution_count": 27,
   "metadata": {
    "deletable": false
   },
   "outputs": [],
   "source": [
    "def iterative_value_estimation(mdp, policy, tol=1e-5):\n",
    "    \"\"\"Value estimation algorithm from page 75, Sutton and Barto. Returns an\n",
    "    estimate of the value of a given policy under the MDP (with the number of\n",
    "    iterations required to reach specified tolerance).\"\"\"\n",
    "    V = np.zeros(mdp.num_states)\n",
    "    num_iters = 0\n",
    "    \n",
    "    # your code here\n",
    "    \n",
    "    while True:\n",
    "        delta = 0\n",
    "        for s in range(mdp.num_states - 1):\n",
    "            num_iters += 1\n",
    "            v = 0\n",
    "            for a, action_prob in enumerate(policy[s]):\n",
    "                # For each action, look at the possible next states...\n",
    "                for prob in mdp.T[s][a]:\n",
    "                    if a == 0:\n",
    "                        #possible values for next states is from the current state to 0\n",
    "                        for s1 in reversed(range(s)):\n",
    "                            v += action_prob * prob * (mdp.R[s, a ,s1] + mdp.discount * V[s1])\n",
    "                    else:\n",
    "                        # possible values for next state is from current state to 4\n",
    "                        for s1 in range (s, 4):\n",
    "                            v += action_prob * prob * (mdp.R[s, a, s1] + mdp.discount * V[s1])\n",
    "            delta = max(theta, abs((v - V[s])))\n",
    "            V[s] = v\n",
    "        # Check Convergence\n",
    "        if delta < tol:\n",
    "            break\n",
    "    \n",
    "    # end of your code here\n",
    "    return V, num_iters"
   ]
  },
  {
   "cell_type": "code",
   "execution_count": 28,
   "metadata": {},
   "outputs": [],
   "source": [
    "# https://towardsdatascience.com/reinforcement-learning-demystified-solving-mdps-with-dynamic-programming-b52c8093c919\n",
    "\n",
    "def iterative_value_estimation(mdp, policy, tol=1e-5):\n",
    "    \"\"\"Value estimation algorithm from page 75, Sutton and Barto. Returns an\n",
    "    estimate of the value of a given policy under the MDP (with the number of\n",
    "    iterations required to reach specified tolerance).\"\"\"\n",
    "    V = np.zeros(mdp.num_states)\n",
    "    num_iters = 0\n",
    "    \n",
    "    # your code here\n",
    "    \n",
    "    while True:\n",
    "        #new value function\n",
    "        V_new = np.zeros(mdp.num_states)\n",
    "        #stopping condition\n",
    "        delta = 0\n",
    "        for s in range(mdp.num_states):\n",
    "            num_iters += 1\n",
    "            #To accumelate bellman expectation eqn\n",
    "            v_fn = 0\n",
    "            #get probability distribution over actions\n",
    "            action_probs = policy[s]\n",
    "            # For each action, look at the possible next states...\n",
    "            s1 = 0\n",
    "            #for a, action_probs in enumerate(policy[s]):\n",
    "            for a in range(mdp.num_actions):\n",
    "                # For each action, look at the possible next states...\n",
    "                s1 = s1+1 if s1<mdp.num_states-1 else s1\n",
    "                #apply bellman expectatoin eqn\n",
    "                v_fn += action_probs[a] * (mdp.R[s, a, s1] + mdp.discount * V[s1])\n",
    "            #get the biggest difference over state space\n",
    "            delta = max(delta, abs(v_fn - V[s]))\n",
    "            #update state-value\n",
    "            V_new[s] = v_fn\n",
    "        #the new value function\n",
    "        V = V_new\n",
    "        # Check Convergence\n",
    "        #if true value function\n",
    "        if delta < tol:\n",
    "            break\n",
    "    \n",
    "    # end of your code here\n",
    "    return V, num_iters"
   ]
  },
  {
   "cell_type": "code",
   "execution_count": 29,
   "metadata": {
    "deletable": false,
    "editable": false
   },
   "outputs": [
    {
     "name": "stdout",
     "output_type": "stream",
     "text": [
      "Policy value was:\n",
      "[-4. -4. -4. -4.  7.]\n"
     ]
    },
    {
     "data": {
      "image/png": "[encoded data removed]",
      "text/plain": [
       "<Figure size 432x288 with 1 Axes>"
      ]
     },
     "metadata": {
      "needs_background": "light"
     },
     "output_type": "display_data"
    }
   ],
   "source": [
    "# Run for sanity check\n",
    "always_left = build_always_left_policy()\n",
    "\n",
    "values, iters = iterative_value_estimation(mdp, always_left)\n",
    "print('Policy value was:')\n",
    "print(values.round(4))\n",
    "\n",
    "tols = np.logspace(0,-8,9)\n",
    "iters = [iterative_value_estimation(mdp, always_left, tol=tol)[1] for tol in tols]\n",
    "plt.plot(tols, iters, marker='o')\n",
    "plt.xscale('log')\n",
    "plt.xlabel(\"Tolerance\")\n",
    "plt.ylabel(\"Iterations to converge to within tolerance\")\n",
    "plt.show()"
   ]
  },
  {
   "cell_type": "markdown",
   "metadata": {
    "deletable": false
   },
   "source": [
    "<font color='red'><br />\n",
    "<p style=\"text-indent: 25px;\">That is, for each possible starting state, what is the expected sum of future rewards for this policy?</p>\n",
    "<p style=\"text-indent: 25px;\">Using an iterative approach, how many iterations did it take for the value of the policy to converge to a precision of 10−5?</p>\n",
    "</font>\n",
    "<font color='blue'>\n",
    "<p style=\"text-indent: 25px;\"></p>\n",
    "<p style=\"text-indent: 25px;\"></p>\n",
    "<p style=\"text-indent: 25px;\"></p>\n",
    "<p style=\"text-indent: 25px;\"></p>\n",
    "</font>"
   ]
  },
  {
   "cell_type": "markdown",
   "metadata": {
    "autograde": "1.3",
    "deletable": false,
    "editable": false
   },
   "source": [
    "**1.3**  Q-function Computation [20 pts]: Compute the Q-function for the `always_left` policy above. Do you see any opportunties for policy improvement?\n"
   ]
  },
  {
   "cell_type": "code",
   "execution_count": 9,
   "metadata": {
    "deletable": false
   },
   "outputs": [],
   "source": [
    "# 1.3\n",
    "def Q_function(mdp, policy, tol=1e-5):\n",
    "    \"\"\"Q function from Equation 4.6, Sutton and Barto. For each state and\n",
    "    action, returns the value of performing the action at that state, then\n",
    "    following the policy thereafter.\"\"\"\n",
    "    # your code here\n",
    "    \n",
    "    Q = np.zeros([mdp.num_states, mdp.num_actions])\n",
    "    V, i = iterative_value_estimation(mdp, always_left)\n",
    "    num_iters = 0\n",
    "    for s in range(mdp.num_states):\n",
    "        next_s =s\n",
    "        for a in range(mdp.num_actions):\n",
    "            if a == 0:\n",
    "                if next_s > 0:\n",
    "                    next_s = next_s - 1\n",
    "                for s1 in reversed(range(s)):\n",
    "                    Q[s][a] = mdp.R[s, a, next_s] +\\\n",
    "                    np.sum([policy[s, a] *\\\n",
    "                            (mdp.R[s, a, s1] +\\\n",
    "                             mdp.discount * V[s1]) for s1 in range(mdp.num_states)])\n",
    "            else:\n",
    "                if next_s > 3:\n",
    "                    next_s = next_s + 1\n",
    "                for s1 in range(s, 4):\n",
    "                    Q[s][a] = mdp.R[s, a, next_s] +\\\n",
    "                    np.sum([policy[s, a] *\\\n",
    "                            (mdp.R[s, a, s1] +\\\n",
    "                             mdp.discount * V[s1]) for s1 in range(mdp.num_states)])\n",
    "    \n",
    "    # end of your code here\n",
    "    assert Q.shape == (mdp.num_states, mdp.num_actions)\n",
    "    return Q"
   ]
  },
  {
   "cell_type": "code",
   "execution_count": 10,
   "metadata": {
    "deletable": false,
    "editable": false
   },
   "outputs": [
    {
     "name": "stdout",
     "output_type": "stream",
     "text": [
      "Q function was:\n",
      "[[  0.      -1.    ]\n",
      " [-12.7499  -1.    ]\n",
      " [-12.7499  -1.    ]\n",
      " [-12.7499  -1.    ]\n",
      " [ 53.2501   0.    ]]\n"
     ]
    }
   ],
   "source": [
    "# Run for sanity check\n",
    "\n",
    "Q = Q_function(mdp, always_left)\n",
    "print('Q function was:')\n",
    "print(Q.round(4))"
   ]
  },
  {
   "cell_type": "markdown",
   "metadata": {},
   "source": [
    "<font color='red'>*Your answer here*<br />\n",
    "<p style=\"text-indent: 25px;\"></p>\n",
    "<p style=\"text-indent: 25px;\">Do you see any opportunties for policy improvement?</p>\n",
    "</font>\n",
    "<font color='blue'>\n",
    "<p style=\"text-indent: 25px;\"></p>\n",
    "<p style=\"text-indent: 25px;\"></p>\n",
    "<p style=\"text-indent: 25px;\"></p>\n",
    "</font>"
   ]
  },
  {
   "cell_type": "markdown",
   "metadata": {
    "autograde": "1.4",
    "deletable": false,
    "editable": false
   },
   "source": [
    "**1.4** Policy Iteration [20 pts]: Using your solutions to questions 1.2 and 1.3 above, implement policy iteration. Report the sequence of policies you find starting with the policy “left” in every state. How many rounds of policy iteration are required to converge to the optimal policy?\n"
   ]
  },
  {
   "cell_type": "code",
   "execution_count": 11,
   "metadata": {
    "deletable": false
   },
   "outputs": [],
   "source": [
    "# 1.4\n",
    "def policy_iteration(mdp, init_policy=None, tol=1e-5):\n",
    "    \"\"\"Policy iteration algorithm from page 80, Sutton and Barto.\n",
    "    Iteratively transform the initial policy to become optimal.\n",
    "    Return the full path.\"\"\"\n",
    "    # your code here\n",
    "    \n",
    "    V = np.zeros(mdp.num_states)\n",
    "    Q = np.zeros(mdp.num_states)\n",
    "    Q_best = np.zeros(mdp.num_states)\n",
    "    print(\"Initial policy\")\n",
    "    print(init_policy)\n",
    "    policies = init_policy\n",
    "    is_value_changed = True\n",
    "    num_iters = 0\n",
    "    while is_value_changed:\n",
    "        theta = 0\n",
    "        is_value_changed = False\n",
    "        num_iters += 1\n",
    "        V, i = iterative_value_estimation(mdp, policies)\n",
    "        Q_best = V\n",
    "        print(\"New policy\")\n",
    "        print(policies)\n",
    "        Q = Q_function(mdp, policies)\n",
    "        # run value iteration for each state\n",
    "        for s in range(mdp.num_states):\n",
    "            print(\"Run for state\", s)\n",
    "            for a in range(mdp.num_actions):\n",
    "                print(\"Run for state, action, Q, and Q_best: |\", s, '|', a,'|', Q[s, a], '|', Q_best[s], '|')\n",
    "                if Q[s, a] > Q_best[s]:\n",
    "                    print('Changing')\n",
    "                    policies[s, a] = 1\n",
    "                    Q_best[s] = Q[s, a]\n",
    "                    print(Q[s, a])\n",
    "                    is_value_changed = True\n",
    "    \n",
    "    print(\"Iterations:\", num_iters)\n",
    "\n",
    "    print(\"Final policy\")\n",
    "    print(policies)\n",
    "    \n",
    "    # end of your code here\n",
    "    return policies\n",
    "\n",
    "#reset always_left policy eacg time\n",
    "always_left = build_always_left_policy()"
   ]
  },
  {
   "cell_type": "code",
   "execution_count": 256,
   "metadata": {
    "deletable": false,
    "editable": false
   },
   "outputs": [
    {
     "name": "stdout",
     "output_type": "stream",
     "text": [
      "Initial policy\n",
      "[[1 0]\n",
      " [1 0]\n",
      " [1 0]\n",
      " [1 0]\n",
      " [1 0]]\n",
      "New policy\n",
      "[[1 0]\n",
      " [1 0]\n",
      " [1 0]\n",
      " [1 0]\n",
      " [1 0]]\n",
      "Run for state 0\n",
      "Run for state, action, Q, and Q_best: | 0 | 0 | 0.0 | -3.9999773726833863 |\n",
      "Changing\n",
      "0.0\n",
      "Run for state, action, Q, and Q_best: | 0 | 1 | -1.0 | 0.0 |\n",
      "Run for state 1\n",
      "Run for state, action, Q, and Q_best: | 1 | 0 | -12.7499151475627 | -3.9999773726833863 |\n",
      "Run for state, action, Q, and Q_best: | 1 | 1 | -1.0 | -3.9999773726833863 |\n",
      "Changing\n",
      "-1.0\n",
      "Run for state 2\n",
      "Run for state, action, Q, and Q_best: | 2 | 0 | -12.7499151475627 | -3.9999773726833863 |\n",
      "Run for state, action, Q, and Q_best: | 2 | 1 | -1.0 | -3.9999773726833863 |\n",
      "Changing\n",
      "-1.0\n",
      "Run for state 3\n",
      "Run for state, action, Q, and Q_best: | 3 | 0 | -12.7499151475627 | -3.9999773726833863 |\n",
      "Run for state, action, Q, and Q_best: | 3 | 1 | -1.0 | -3.9999773726833863 |\n",
      "Changing\n",
      "-1.0\n",
      "Run for state 4\n",
      "Run for state, action, Q, and Q_best: | 4 | 0 | 53.2500848524373 | 7.000022627316614 |\n",
      "Changing\n",
      "53.2500848524373\n",
      "Run for state, action, Q, and Q_best: | 4 | 1 | 0.0 | 53.2500848524373 |\n",
      "New policy\n",
      "[[1 0]\n",
      " [1 1]\n",
      " [1 1]\n",
      " [1 1]\n",
      " [1 0]]\n",
      "Run for state 0\n",
      "Run for state, action, Q, and Q_best: | 0 | 0 | 0.0 | nan |\n",
      "Run for state, action, Q, and Q_best: | 0 | 1 | nan | nan |\n",
      "Run for state 1\n",
      "Run for state, action, Q, and Q_best: | 1 | 0 | nan | -inf |\n",
      "Run for state, action, Q, and Q_best: | 1 | 1 | nan | -inf |\n",
      "Run for state 2\n",
      "Run for state, action, Q, and Q_best: | 2 | 0 | nan | -inf |\n",
      "Run for state, action, Q, and Q_best: | 2 | 1 | nan | -inf |\n",
      "Run for state 3\n",
      "Run for state, action, Q, and Q_best: | 3 | 0 | nan | -inf |\n",
      "Run for state, action, Q, and Q_best: | 3 | 1 | nan | -inf |\n",
      "Run for state 4\n",
      "Run for state, action, Q, and Q_best: | 4 | 0 | nan | nan |\n",
      "Run for state, action, Q, and Q_best: | 4 | 1 | 0.0 | nan |\n",
      "Iterations: 2\n",
      "Final policy\n",
      "[[1 0]\n",
      " [1 1]\n",
      " [1 1]\n",
      " [1 1]\n",
      " [1 0]]\n"
     ]
    },
    {
     "name": "stderr",
     "output_type": "stream",
     "text": [
      "/usr/share/anaconda3/lib/python3.7/site-packages/ipykernel_launcher.py:31: RuntimeWarning: overflow encountered in double_scalars\n",
      "/usr/share/anaconda3/lib/python3.7/site-packages/ipykernel_launcher.py:31: RuntimeWarning: invalid value encountered in multiply\n",
      "/usr/share/anaconda3/lib/python3.7/site-packages/ipykernel_launcher.py:33: RuntimeWarning: invalid value encountered in double_scalars\n",
      "/usr/share/anaconda3/lib/python3.7/site-packages/ipykernel_launcher.py:29: RuntimeWarning: invalid value encountered in multiply\n"
     ]
    },
    {
     "data": {
      "text/plain": [
       "array([[1, 0],\n",
       "       [1, 1],\n",
       "       [1, 1],\n",
       "       [1, 1],\n",
       "       [1, 0]])"
      ]
     },
     "execution_count": 256,
     "metadata": {},
     "output_type": "execute_result"
    }
   ],
   "source": [
    "# Sanity check\n",
    "\n",
    "policy_iters = policy_iteration(mdp, always_left)\n",
    "policy_iters"
   ]
  },
  {
   "cell_type": "markdown",
   "metadata": {
    "deletable": false
   },
   "source": [
    "<font color='red'>*Your answer here*<br />\n",
    "<p style=\"text-indent: 25px;\"></p>\n",
    "<p style=\"text-indent: 25px;\">How many rounds of policy iteration are required to converge to the optimal policy?</p>\n",
    "</font><font color='blue'>\n",
    "<p style=\"text-indent: 25px;\"></p>\n",
    "<p style=\"text-indent: 25px;\"></p>\n",
    "<p style=\"text-indent: 25px;\"></p>\n",
    "</font>"
   ]
  },
  {
   "cell_type": "markdown",
   "metadata": {
    "autograde": "1.5",
    "deletable": false,
    "editable": false
   },
   "source": [
    "**1.5** [10 pts] What are the effects of different choices of the discount factor on the convergence of policy evaluation? Run policy evaluation for discount factor $\\gamma \\in [ 10^{-12}, 10^{-3}, 0.1, 0.33, 0.67, 0.9, 0.95, 0.99]$.\n"
   ]
  },
  {
   "cell_type": "code",
   "execution_count": 12,
   "metadata": {
    "deletable": false
   },
   "outputs": [],
   "source": [
    "# 1.5\n",
    "# your code here\n",
    "always_left = build_always_left_policy()\n",
    "\n",
    "discount_factors = np.array([10e-12, 10e-3, 0.1, 0.33, 0.67, 0.9, 0.95, 0.99])\n",
    "iters_by_factor = [iterative_value_estimation(mdp, always_left, tol=discount)[1] for discount in discount_factors]"
   ]
  },
  {
   "cell_type": "code",
   "execution_count": 13,
   "metadata": {
    "deletable": false,
    "editable": false
   },
   "outputs": [
    {
     "data": {
      "image/png": "[encoded data removed]",
      "text/plain": [
       "<Figure size 432x288 with 1 Axes>"
      ]
     },
     "metadata": {
      "needs_background": "light"
     },
     "output_type": "display_data"
    }
   ],
   "source": [
    "plt.plot(discount_factors, iters_by_factor, marker='o')\n",
    "plt.xlabel('Discount factor $\\gamma$')\n",
    "plt.ylabel('Iterations for value estimate to converge')\n",
    "plt.title(\"Convergence of value estimate by $\\gamma$\")\n",
    "plt.show()"
   ]
  },
  {
   "cell_type": "markdown",
   "metadata": {
    "deletable": false
   },
   "source": [
    "<font color='red'>*Your answer here*<br />\n",
    "<p style=\"text-indent: 25px;\"></p>\n",
    "<p style=\"text-indent: 25px;\">What are the effects of different choices of the discount factor on the convergence of policy evaluation?</p>\n",
    "<font color='blue'>\n",
    "<p style=\"text-indent: 25px;\"></p>\n",
    "<p style=\"text-indent: 25px;\"></p>\n",
    "<p style=\"text-indent: 25px;\"></p>\n",
    "</font>"
   ]
  },
  {
   "cell_type": "markdown",
   "metadata": {
    "autograde": "1.6",
    "deletable": false,
    "editable": false
   },
   "source": [
    "**1.6** [20 pts] What happens if the transitions are stochastic? Recode the MDP with probability of switching to the opposite action of 0.1. What are now the values when following the optimal policy?"
   ]
  },
  {
   "cell_type": "code",
   "execution_count": 24,
   "metadata": {
    "deletable": false
   },
   "outputs": [
    {
     "data": {
      "image/png": "[encoded data removed]",
      "text/plain": [
       "<Figure size 360x144 with 2 Axes>"
      ]
     },
     "metadata": {
      "needs_background": "light"
     },
     "output_type": "display_data"
    },
    {
     "name": "stderr",
     "output_type": "stream",
     "text": [
      "/usr/share/anaconda3/lib/python3.7/site-packages/ipykernel_launcher.py:63: RuntimeWarning: overflow encountered in double_scalars\n",
      "/usr/share/anaconda3/lib/python3.7/site-packages/ipykernel_launcher.py:65: RuntimeWarning: invalid value encountered in double_scalars\n"
     ]
    },
    {
     "name": "stdout",
     "output_type": "stream",
     "text": [
      "Policy value was:\n",
      "[ 0.     -1.     -2.75   -5.8125  0.    ]\n"
     ]
    },
    {
     "data": {
      "image/png": "[encoded data removed]",
      "text/plain": [
       "<Figure size 432x288 with 1 Axes>"
      ]
     },
     "metadata": {
      "needs_background": "light"
     },
     "output_type": "display_data"
    }
   ],
   "source": [
    "# 1.6\n",
    "# your code here\n",
    "\n",
    "# Build stocastic hallway\n",
    "def build_stochastic_hallway_mdp():\n",
    "    \"\"\"Build an MDP representing the hallway setting described.\"\"\"\n",
    "    # your code here\n",
    "    \n",
    "    T = np.array([[[0.9,0.1,0,0,0],[0.1,0.9,0,0,0]],\n",
    "                  [[0.9,0,0.1,0,0],[0.1,0,0.9,0,0]],\n",
    "                  [[0,0.9,0,0.1,0],[0,0.1,0,0.9,0]],\n",
    "                  [[0,0,0.9,0,0.1],[0,0,0.1,0,0.9]],\n",
    "                  [[0,0,0,0.9,0.1],[0,0,0,0.1,0.9]]])\n",
    "    R = np.array([-1,-1,-1,-1,10])\n",
    "    \n",
    "    # end of your code here\n",
    "    return MDP(T, R, 0.75)\n",
    "\n",
    "smdp = build_stochastic_hallway_mdp()\n",
    "\n",
    "plt.figure(figsize=(5,2))\n",
    "plt.subplot(121, title='Left transitions')\n",
    "plt.imshow(smdp.T[:,0,:])\n",
    "plt.ylabel(\"Initial state\"); plt.xlabel('Next state')\n",
    "plt.subplot(122, title='Right transitions')\n",
    "plt.imshow(smdp.T[:,1,:])\n",
    "plt.ylabel(\"Initial state\"); plt.xlabel('Next state')\n",
    "plt.show()\n",
    "\n",
    "def build_stochastic_policy():\n",
    "    return np.array([[[1,0],[0,1]],[[1,0],[0,1]],[[1,0],[0,1]],[[1,0],[0,1]],[[1,0],[0,1]]])\n",
    "\n",
    "def choose_action(states):\n",
    "    return np.random.choice(np.array([0,1]))\n",
    "\n",
    "def stochastic_iterative_value_estimation(mdp, policy, tol=1e-5):\n",
    "    \"\"\"Value estimation algorithm from page 75, Sutton and Barto. Returns an\n",
    "    estimate of the value of a given policy under the MDP (with the number of\n",
    "    iterations required to reach specified tolerance).\"\"\"\n",
    "    V = np.zeros(mdp.num_states)\n",
    "    num_iters = 0\n",
    "    \n",
    "    # your code here\n",
    "    \n",
    "    while True:\n",
    "        #new value function\n",
    "        V_new = np.zeros(mdp.num_states)\n",
    "        #stopping condition\n",
    "        delta = 0\n",
    "        for s in range(mdp.num_states):\n",
    "            num_iters += 1\n",
    "            #To accumelate bellman expectation eqn\n",
    "            v_fn = 0\n",
    "            #get probability distribution over actions\n",
    "            action_probs = policy[s]\n",
    "            #choose action stochastically\n",
    "            c_a = choose_action(s)\n",
    "            # For each action, look at the possible next states...\n",
    "            s1 = 0\n",
    "            for a, action_probs in enumerate(policy[s]):\n",
    "                s1 = s1+1 if s1<mdp.num_states-1 else s1\n",
    "                #apply bellman expectatoin eqn\n",
    "                v_fn += action_probs[a] * (mdp.R[s, c_a, s1] + mdp.discount * V[s1])\n",
    "            #get the biggest difference over state space\n",
    "            delta = max(delta, abs(v_fn - V[s]))\n",
    "            #update state-value\n",
    "            V_new[s] = v_fn\n",
    "        #the new value function\n",
    "        V = V_new\n",
    "        # Check Convergence\n",
    "        #if true value function\n",
    "        if delta < tol:\n",
    "            break\n",
    "    \n",
    "    # end of your code here\n",
    "    return V, num_iters\n",
    "\n",
    "#policy_iters is the optimal policy\n",
    "policy = build_stochastic_policy()\n",
    "\n",
    "stoch_values, stoch_iters = stochastic_iterative_value_estimation(smdp, policy)\n",
    "print('Policy value was:')\n",
    "print(values.round(4))\n",
    "\n",
    "tols = np.logspace(0,-8,9)\n",
    "iters = [stochastic_iterative_value_estimation(smdp, policy, tol=tol)[1] for tol in tols]\n",
    "plt.plot(tols, iters, marker='o')\n",
    "plt.xscale('log')\n",
    "plt.xlabel(\"Tolerance\")\n",
    "plt.ylabel(\"Iterations to converge to within tolerance\")\n",
    "plt.show()\n",
    "\n",
    "def stochastic_policy_iteration(mdp, init_policy=None, tol=1e-5):\n",
    "    \"\"\"Policy iteration algorithm from page 80, Sutton and Barto.\n",
    "    Iteratively transform the initial policy to become optimal.\n",
    "    Return the full path.\"\"\"\n",
    "    # your code here\n",
    "    \n",
    "    V = np.zeros(mdp.num_states)\n",
    "    Q = np.zeros(mdp.num_states)\n",
    "    Q_best = np.zeros(mdp.num_states)\n",
    "    print(\"Initial policy\")\n",
    "    print(init_policy)\n",
    "    policies = init_policy\n",
    "    is_value_changed = True\n",
    "    num_iters = 0\n",
    "    while is_value_changed:\n",
    "        is_value_changed = False\n",
    "        num_iters += 1\n",
    "        V, i = stochastic_iterative_value_estimation(mdp, policies)\n",
    "        Q_best = V\n",
    "        print(\"New policy\")\n",
    "        print(policies)\n",
    "        Q = Q_function(mdp, policies)\n",
    "        for s in range(mdp.num_states):\n",
    "            for a in range(mdp.num_actions):\n",
    "                print(\"Run for state, action, Q, and Q_best: |\", s, '|', a,'|', Q[s, a], '|', Q_best[s], '|')\n",
    "                if Q[s, a] > Q_best[s]:\n",
    "                    print('Changing')\n",
    "                    policies[s, a] = 1\n",
    "                    Q_best[s] = Q[s, a]\n",
    "                    print(Q[s, a])\n",
    "                    is_value_changed = True\n",
    "\n",
    "    print(\"Iterations:\", num_iters)\n",
    "\n",
    "    #print(\"Final policy\")\n",
    "    #print(policies)\n",
    "    \n",
    "    # end of your code here\n",
    "    return policies\n",
    "\n",
    "policy = build_stochastic_policy()\n",
    "\n",
    "#policy_iters = stochastic_policy_iteration(mdp, policy)\n",
    "#policy_iters"
   ]
  },
  {
   "cell_type": "code",
   "execution_count": 194,
   "metadata": {},
   "outputs": [
    {
     "name": "stdout",
     "output_type": "stream",
     "text": [
      "state: 0 policy: [1 0] action: 0 transition [1 0 0 0 0]\n",
      "state: 0 policy: [1 0] action: 1 transition [1 0 0 0 0]\n",
      "state: 1 policy: [1 0] action: 0 transition [1 0 0 0 0]\n",
      "state: 1 policy: [1 0] action: 1 transition [1 0 0 0 0]\n",
      "state: 2 policy: [0 1] action: 0 transition [0 0 0 1 0]\n",
      "state: 2 policy: [0 1] action: 1 transition [0 0 0 1 0]\n",
      "state: 3 policy: [0 1] action: 0 transition [0 0 0 0 1]\n",
      "state: 3 policy: [0 1] action: 1 transition [0 0 0 0 1]\n"
     ]
    },
    {
     "data": {
      "text/plain": [
       "3"
      ]
     },
     "execution_count": 194,
     "metadata": {},
     "output_type": "execute_result"
    }
   ],
   "source": [
    "for s in range(mdp.num_states - 1):\n",
    "    c_a = choose_action(s)\n",
    "    #print(c_a)\n",
    "    for a, action_prob in enumerate(init_policy[s][c_a]):\n",
    "        print('state:', s, 'policy:', init_policy[s][c_a], 'action:', a, 'transition', mdp.T[s][c_a])\n",
    "mdp.num_states-2"
   ]
  },
  {
   "cell_type": "markdown",
   "metadata": {
    "deletable": false
   },
   "source": [
    "<font color='red'>*Your answer here*<br />\n",
    "<p style=\"text-indent: 25px;\">What happens if the transitions are stochastic?</p>\n",
    "<p style=\"text-indent: 25px;\">What are now the values when following the optimal policy?</p>\n",
    "<font color='blue'>\n",
    "<p style=\"text-indent: 25px;\"></p>\n",
    "<p style=\"text-indent: 25px;\"></p>\n",
    "<p style=\"text-indent: 25px;\"></p>\n",
    "</font>"
   ]
  },
  {
   "cell_type": "code",
   "execution_count": null,
   "metadata": {},
   "outputs": [],
   "source": []
  }
 ],
 "metadata": {
  "@webio": {
   "lastCommId": null,
   "lastKernelId": null
  },
  "kernelspec": {
   "display_name": "python3",
   "language": "python",
   "name": "python3"
  },
  "language_info": {
   "codemirror_mode": {
    "name": "ipython",
    "version": 3
   },
   "file_extension": ".py",
   "mimetype": "text/x-python",
   "name": "python",
   "nbconvert_exporter": "python",
   "pygments_lexer": "ipython3",
   "version": "3.7.4"
  }
 },
 "nbformat": 4,
 "nbformat_minor": 4
}
