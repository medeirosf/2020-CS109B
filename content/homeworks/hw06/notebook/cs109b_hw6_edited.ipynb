{
 "cells": [
  {
   "cell_type": "markdown",
   "metadata": {},
   "source": [
    "# <img style=\"float: left; padding-right: 10px; width: 45px\" src=\"https://raw.githubusercontent.com/Harvard-IACS/2018-CS109A/master/content/styles/iacs.png\"> CS109B Data Science 2: Advanced Topics in Data Science \n",
    "## Homework 6 - RNNs\n",
    "\n",
    "\n",
    "\n",
    "**Harvard University**<br/>\n",
    "**Fall 2020**<br/>\n",
    "**Instructors**: Mark Glickman, Pavlos Protopapas, & Chris Tanner\n",
    "\n",
    "\n",
    "<hr style=\"height:2pt\">"
   ]
  },
  {
   "cell_type": "code",
   "execution_count": 1,
   "metadata": {},
   "outputs": [
    {
     "data": {
      "text/html": [
       "<style>\n",
       "blockquote { background: #AEDE94; }\n",
       "h1 { \n",
       "    padding-top: 25px;\n",
       "    padding-bottom: 25px;\n",
       "    text-align: left; \n",
       "    padding-left: 10px;\n",
       "    background-color: #DDDDDD; \n",
       "    color: black;\n",
       "}\n",
       "h2 { \n",
       "    padding-top: 10px;\n",
       "    padding-bottom: 10px;\n",
       "    text-align: left; \n",
       "    padding-left: 5px;\n",
       "    background-color: #EEEEEE; \n",
       "    color: black;\n",
       "}\n",
       "\n",
       "div.exercise {\n",
       "\tbackground-color: #ffcccc;\n",
       "\tborder-color: #E9967A; \t\n",
       "\tborder-left: 5px solid #800080; \n",
       "\tpadding: 0.5em;\n",
       "}\n",
       "\n",
       "span.sub-q {\n",
       "\tfont-weight: bold;\n",
       "}\n",
       "div.theme {\n",
       "\tbackground-color: #DDDDDD;\n",
       "\tborder-color: #E9967A; \t\n",
       "\tborder-left: 5px solid #800080; \n",
       "\tpadding: 0.5em;\n",
       "\tfont-size: 18pt;\n",
       "}\n",
       "div.gc { \n",
       "\tbackground-color: #AEDE94;\n",
       "\tborder-color: #E9967A; \t \n",
       "\tborder-left: 5px solid #800080; \n",
       "\tpadding: 0.5em;\n",
       "\tfont-size: 12pt;\n",
       "}\n",
       "p.q1 { \n",
       "    padding-top: 5px;\n",
       "    padding-bottom: 5px;\n",
       "    text-align: left; \n",
       "    padding-left: 5px;\n",
       "    background-color: #EEEEEE; \n",
       "    color: black;\n",
       "}\n",
       "header {\n",
       "   padding-top: 35px;\n",
       "    padding-bottom: 35px;\n",
       "    text-align: left; \n",
       "    padding-left: 10px;\n",
       "    background-color: #DDDDDD; \n",
       "    color: black;\n",
       "}\n",
       "</style>\n",
       "\n"
      ],
      "text/plain": [
       "<IPython.core.display.HTML object>"
      ]
     },
     "execution_count": 1,
     "metadata": {},
     "output_type": "execute_result"
    }
   ],
   "source": [
    "#RUN THIS CELL \n",
    "import requests\n",
    "from IPython.core.display import HTML\n",
    "styles = requests.get(\"https://raw.githubusercontent.com/Harvard-IACS/2018-CS109A/master/content/styles/cs109.css\").text\n",
    "HTML(styles)"
   ]
  },
  {
   "cell_type": "markdown",
   "metadata": {},
   "source": [
    "### INSTRUCTIONS\n",
    "\n",
    "<span style=\"color:red\">**Model training can be very slow; start doing this HW early**</span>\n",
    "\n",
    "- To submit your assignment follow the instructions given in Canvas.\n",
    "\n",
    "- This homework can be submitted in pairs.\n",
    "\n",
    "- If you submit individually but you have worked with someone, please include the name of your **one** partner below.\n",
    "- Please restart the kernel and run the entire notebook again before you submit.\n",
    "\n",
    "**Names of person you have worked with goes here:**\n",
    "<br><BR>"
   ]
  },
  {
   "cell_type": "markdown",
   "metadata": {},
   "source": [
    "<div class=\"theme\"> Overview: Named Entity Recognition Challenge</div>"
   ]
  },
  {
   "cell_type": "markdown",
   "metadata": {},
   "source": [
    "Named entity recognition (NER) seeks to locate and classify named entities present in unstructured text into predefined categories such as organizations, locations, expressions of times, names of persons, etc. This technique is often used in real use cases such as classifying content for news providers, efficient search algorithms over large corpora and content-based recommendation systems. \n",
    "\n",
    "This represents an interesting \"many-to-many\" problem, allowing us to experiment with recurrent architectures and compare their performances against other models.\n"
   ]
  },
  {
   "cell_type": "code",
   "execution_count": 2,
   "metadata": {},
   "outputs": [],
   "source": [
    "import pandas as pd\n",
    "import numpy as np\n",
    "\n",
    "from sklearn.metrics import f1_score, confusion_matrix\n",
    "from sklearn.model_selection import train_test_split\n",
    "from sklearn.decomposition import PCA\n",
    "\n",
    "import matplotlib.pyplot as plt\n",
    "plt.style.use(\"ggplot\")"
   ]
  },
  {
   "cell_type": "code",
   "execution_count": 3,
   "metadata": {},
   "outputs": [
    {
     "name": "stdout",
     "output_type": "stream",
     "text": [
      "2.2.4-tf\n",
      "2.0.0\n"
     ]
    }
   ],
   "source": [
    "import tensorflow as tf\n",
    "\n",
    "from tensorflow.keras.preprocessing.sequence import pad_sequences\n",
    "from tensorflow.keras.utils import to_categorical\n",
    "from tensorflow.keras import backend\n",
    "\n",
    "from tensorflow.keras import Model, Sequential\n",
    "from tensorflow.keras.models import model_from_json\n",
    "from tensorflow.keras.layers import Input, SimpleRNN, Embedding, Dense, TimeDistributed, GRU, \\\n",
    "                          Dropout, Bidirectional, Conv1D, BatchNormalization\n",
    "\n",
    "print(tf.keras.__version__)\n",
    "print(tf.__version__)"
   ]
  },
  {
   "cell_type": "code",
   "execution_count": 4,
   "metadata": {},
   "outputs": [],
   "source": [
    "# Set seed for repeatable results\n",
    "np.random.seed(123)\n",
    "tf.random.set_seed(456)"
   ]
  },
  {
   "cell_type": "markdown",
   "metadata": {
    "colab_type": "text",
    "id": "rUkgUGwJXUcH"
   },
   "source": [
    "<div class=\"theme\"> Part 1: Data </div>\n",
    "Read `HW6_data.csv` into a pandas dataframe using the provided code below."
   ]
  },
  {
   "cell_type": "code",
   "execution_count": 5,
   "metadata": {},
   "outputs": [
    {
     "data": {
      "text/html": [
       "<div>\n",
       "<style scoped>\n",
       "    .dataframe tbody tr th:only-of-type {\n",
       "        vertical-align: middle;\n",
       "    }\n",
       "\n",
       "    .dataframe tbody tr th {\n",
       "        vertical-align: top;\n",
       "    }\n",
       "\n",
       "    .dataframe thead th {\n",
       "        text-align: right;\n",
       "    }\n",
       "</style>\n",
       "<table border=\"1\" class=\"dataframe\">\n",
       "  <thead>\n",
       "    <tr style=\"text-align: right;\">\n",
       "      <th></th>\n",
       "      <th>Sentence #</th>\n",
       "      <th>Word</th>\n",
       "      <th>POS</th>\n",
       "      <th>Tag</th>\n",
       "    </tr>\n",
       "  </thead>\n",
       "  <tbody>\n",
       "    <tr>\n",
       "      <td>0</td>\n",
       "      <td>Sentence: 1</td>\n",
       "      <td>Thousands</td>\n",
       "      <td>NNS</td>\n",
       "      <td>O</td>\n",
       "    </tr>\n",
       "    <tr>\n",
       "      <td>1</td>\n",
       "      <td>Sentence: 1</td>\n",
       "      <td>of</td>\n",
       "      <td>IN</td>\n",
       "      <td>O</td>\n",
       "    </tr>\n",
       "    <tr>\n",
       "      <td>2</td>\n",
       "      <td>Sentence: 1</td>\n",
       "      <td>demonstrators</td>\n",
       "      <td>NNS</td>\n",
       "      <td>O</td>\n",
       "    </tr>\n",
       "    <tr>\n",
       "      <td>3</td>\n",
       "      <td>Sentence: 1</td>\n",
       "      <td>have</td>\n",
       "      <td>VBP</td>\n",
       "      <td>O</td>\n",
       "    </tr>\n",
       "    <tr>\n",
       "      <td>4</td>\n",
       "      <td>Sentence: 1</td>\n",
       "      <td>marched</td>\n",
       "      <td>VBN</td>\n",
       "      <td>O</td>\n",
       "    </tr>\n",
       "    <tr>\n",
       "      <td>5</td>\n",
       "      <td>Sentence: 1</td>\n",
       "      <td>through</td>\n",
       "      <td>IN</td>\n",
       "      <td>O</td>\n",
       "    </tr>\n",
       "    <tr>\n",
       "      <td>6</td>\n",
       "      <td>Sentence: 1</td>\n",
       "      <td>London</td>\n",
       "      <td>NNP</td>\n",
       "      <td>B-geo</td>\n",
       "    </tr>\n",
       "    <tr>\n",
       "      <td>7</td>\n",
       "      <td>Sentence: 1</td>\n",
       "      <td>to</td>\n",
       "      <td>TO</td>\n",
       "      <td>O</td>\n",
       "    </tr>\n",
       "    <tr>\n",
       "      <td>8</td>\n",
       "      <td>Sentence: 1</td>\n",
       "      <td>protest</td>\n",
       "      <td>VB</td>\n",
       "      <td>O</td>\n",
       "    </tr>\n",
       "    <tr>\n",
       "      <td>9</td>\n",
       "      <td>Sentence: 1</td>\n",
       "      <td>the</td>\n",
       "      <td>DT</td>\n",
       "      <td>O</td>\n",
       "    </tr>\n",
       "    <tr>\n",
       "      <td>10</td>\n",
       "      <td>Sentence: 1</td>\n",
       "      <td>war</td>\n",
       "      <td>NN</td>\n",
       "      <td>O</td>\n",
       "    </tr>\n",
       "    <tr>\n",
       "      <td>11</td>\n",
       "      <td>Sentence: 1</td>\n",
       "      <td>in</td>\n",
       "      <td>IN</td>\n",
       "      <td>O</td>\n",
       "    </tr>\n",
       "    <tr>\n",
       "      <td>12</td>\n",
       "      <td>Sentence: 1</td>\n",
       "      <td>Iraq</td>\n",
       "      <td>NNP</td>\n",
       "      <td>B-geo</td>\n",
       "    </tr>\n",
       "    <tr>\n",
       "      <td>13</td>\n",
       "      <td>Sentence: 1</td>\n",
       "      <td>and</td>\n",
       "      <td>CC</td>\n",
       "      <td>O</td>\n",
       "    </tr>\n",
       "    <tr>\n",
       "      <td>14</td>\n",
       "      <td>Sentence: 1</td>\n",
       "      <td>demand</td>\n",
       "      <td>VB</td>\n",
       "      <td>O</td>\n",
       "    </tr>\n",
       "  </tbody>\n",
       "</table>\n",
       "</div>"
      ],
      "text/plain": [
       "     Sentence #           Word  POS    Tag\n",
       "0   Sentence: 1      Thousands  NNS      O\n",
       "1   Sentence: 1             of   IN      O\n",
       "2   Sentence: 1  demonstrators  NNS      O\n",
       "3   Sentence: 1           have  VBP      O\n",
       "4   Sentence: 1        marched  VBN      O\n",
       "5   Sentence: 1        through   IN      O\n",
       "6   Sentence: 1         London  NNP  B-geo\n",
       "7   Sentence: 1             to   TO      O\n",
       "8   Sentence: 1        protest   VB      O\n",
       "9   Sentence: 1            the   DT      O\n",
       "10  Sentence: 1            war   NN      O\n",
       "11  Sentence: 1             in   IN      O\n",
       "12  Sentence: 1           Iraq  NNP  B-geo\n",
       "13  Sentence: 1            and   CC      O\n",
       "14  Sentence: 1         demand   VB      O"
      ]
     },
     "execution_count": 5,
     "metadata": {},
     "output_type": "execute_result"
    }
   ],
   "source": [
    "# Given code\n",
    "path_dataset = '../data/HW6_data.csv'\n",
    "data = pd.read_csv(path_dataset,\n",
    "                   encoding=\"latin1\")\n",
    "data = data.fillna(method=\"ffill\")\n",
    "data.head(15)"
   ]
  },
  {
   "cell_type": "markdown",
   "metadata": {},
   "source": [
    "As you can see, we have a dataset with sentences (```Sentence #``` column), each composed of words (```Word``` column) with part-of-speech tagging (```POS``` tagging) and inside–outside–beginning (IOB) named entity tags (```Tag``` column) attached. ```POS``` will not be used for this homework. We will predict ```Tag``` using only the words themselves.\n",
    "\n",
    "Essential info about entities:\n",
    "* geo = Geographical Entity\n",
    "* org = Organization\n",
    "* per = Person\n",
    "* gpe = Geopolitical Entity\n",
    "* tim = Time indicator\n",
    "* art = Artifact\n",
    "* eve = Event\n",
    "* nat = Natural Phenomenon\n",
    "\n",
    "IOB prefix:\n",
    "* B: beginning of named entity\n",
    "* I: inside of named entity\n",
    "* O: outside of named entity\n"
   ]
  },
  {
   "cell_type": "markdown",
   "metadata": {},
   "source": [
    "<div class='exercise'><b> Question 1: Data [20 points total]</b></div>\n",
    "\n",
    "**1.1** Create a list of unique words found in the 'Word' column and sort it in alphabetic order. Then append the special word \"ENDPAD\" to the end of the list, and assign it to the variable ```words```. Store the length of this list as ```n_words```. **Print your results for `n_words`**\n",
    "\n",
    "**1.2** Create a list of unique tags and sort it in alphabetic order. Then append the special word \"PAD\" to the end of the list, and assign it to the variable ```tags```. Store the length of this list as ```n_tags```. **Print your results for `n_tags`**\n",
    "\n",
    "**1.3** Process the data into a list of sentences where each sentence is a list of (word, tag) tuples. Here is an example of how the first sentence in the list should look:\n",
    "\n",
    "[('Thousands', 'O'),\n",
    " ('of',  'O'),\n",
    " ('demonstrators', 'O'),\n",
    " ('have', 'O'),\n",
    " ('marched', 'O'),\n",
    " ('through', 'O'),\n",
    " ('London', 'B-geo'),\n",
    " ('to', 'O'),\n",
    " ('protest', 'O'),\n",
    " ('the', 'O'),\n",
    " ('war', 'O'),\n",
    " ('in', 'O'),\n",
    " ('Iraq', 'B-geo'),\n",
    " ('and', 'O'),\n",
    " ('demand', 'O'),\n",
    " ('the', 'O'),\n",
    " ('withdrawal', 'O'),\n",
    " ('of', 'O'),\n",
    " ('British', 'B-gpe'),\n",
    " ('troops', 'O'),\n",
    " ('from', 'O'),\n",
    " ('that', 'O'),\n",
    " ('country', 'O'),\n",
    " ('.', 'O')]\n",
    " \n",
    "**1.4** Find out the number of words in the longest sentence, and store it to variable ```max_len```. **Print your results for `max_len`.**\n",
    "\n",
    "**1.5** It's now time to convert the sentences data in a suitable format for the RNNs training/evaluation procedures. Create a ```word2idx``` dictionary mapping distinct words from the dataset into distinct integers. Also create a ```idx2word``` dictionary.\n",
    "\n",
    "**1.6** Prepare the predictors matrix ```X```, as a list of lists, where each inner list is a sequence of words mapped into integers accordly to the ```word2idx``` dictionary. \n",
    "\n",
    "**1.7** Apply the keras ```pad_sequences``` function to standardize the predictors. You should retrieve a matrix with all padded sentences and length equal to ```max_len``` previously computed. The dimensionality should therefore be equal to ```[# of sentences, max_len]```. Run the provided cell to print your results. Your ```X[i]``` now should be something similar to this:\n",
    "\n",
    "`[ 8193 27727 31033 33289 22577 33464 23723 16665 33464 31142 31319 28267\n",
    " 27700 33246 28646 16052    21 16915 17349  7924 32879 32985 18238 23555\n",
    "    24 35178 35178 35178 35178 35178 35178 35178 35178 35178 35178 35178\n",
    " 35178 35178 35178 35178 35178 35178 35178 35178 35178 35178 35178 35178\n",
    " 35178 35178 35178 35178 35178 35178 35178 35178 35178 35178 35178 35178\n",
    " 35178 35178 35178 35178 35178 35178 35178 35178 35178 35178 35178 35178\n",
    " 35178 35178 35178 35178 35178 35178 35178 35178 35178 35178 35178 35178\n",
    " 35178 35178 35178 35178 35178 35178 35178 35178 35178 35178 35178 35178\n",
    " 35178 35178 35178 35178 35178 35178 35178 35178]`\n",
    " \n",
    "**1.8** Create a ```tag2idx``` dictionary mapping distinct named entity tags from the dataset into distinct integers. Also create a ```idx2tag``` dictionary.\n",
    "\n",
    "**1.9** Prepare targets matrix ```Y```, as a list of lists,where each inner list is a sequence of tags mapped into integers accordly to the ```tag2idx``` dictionary.\n",
    "\n",
    "**1.10** apply the keras ```pad_sequences``` function to standardize the targets. Inject the ```PAD``` tag for the padding words. You should retrieve a matrix with all padded sentences'tags and length equal to ```max_length``` previously computed. \n",
    "\n",
    "**1.11** Use the ```to_categorical``` keras function to one-hot encode the tags. Now your ```Y``` should have dimension ```[# of sentences, max_len, n_tags]```. Run the provided cell to print your results.\n",
    "\n",
    "**1.12** Split the dataset into train and test sets (test 10%)."
   ]
  },
  {
   "cell_type": "markdown",
   "metadata": {
    "colab_type": "text",
    "id": "hBtmANNuuS6h"
   },
   "source": [
    "## Answers"
   ]
  },
  {
   "cell_type": "markdown",
   "metadata": {},
   "source": [
    "**1.1** Create a list of unique words found in the 'Word' column and sort it in alphabetic order. Then append the special word \"ENDPAD\" to the end of the list, and assign it to the variable ```words```. Store the length of this list as ```n_words```. **Print your results for `n_words`**"
   ]
  },
  {
   "cell_type": "code",
   "execution_count": 6,
   "metadata": {},
   "outputs": [
    {
     "data": {
      "text/plain": [
       "(1048575, 35179, 'ENDPAD')"
      ]
     },
     "execution_count": 6,
     "metadata": {},
     "output_type": "execute_result"
    }
   ],
   "source": [
    "# your code here\n",
    "words = np.sort(data['Word'].unique()).tolist()\n",
    "words.append('ENDPAD')\n",
    "n_words = len(words)\n",
    "\n",
    "len(data), len(words), words[-1]"
   ]
  },
  {
   "cell_type": "code",
   "execution_count": 7,
   "metadata": {},
   "outputs": [
    {
     "name": "stdout",
     "output_type": "stream",
     "text": [
      "35179\n"
     ]
    }
   ],
   "source": [
    "# Run this cell to show your results for n_words\n",
    "print(n_words)"
   ]
  },
  {
   "cell_type": "markdown",
   "metadata": {},
   "source": [
    "**1.2** Create a list of unique tags and sort it in alphabetic order. Then append the special word \"PAD\" to the end of the list, and assign it to the variable ```tags```. Store the length of this list as ```n_tags```. **Print your results for `n_tags`**"
   ]
  },
  {
   "cell_type": "code",
   "execution_count": 8,
   "metadata": {},
   "outputs": [
    {
     "data": {
      "text/plain": [
       "(1048575, 18, 'PAD')"
      ]
     },
     "execution_count": 8,
     "metadata": {},
     "output_type": "execute_result"
    }
   ],
   "source": [
    "# your code here\n",
    "tags = np.sort(data['Tag'].unique()).tolist()\n",
    "tags.append('PAD')\n",
    "n_tags = len(tags)\n",
    "\n",
    "len(data), len(tags), tags[-1]"
   ]
  },
  {
   "cell_type": "code",
   "execution_count": 9,
   "metadata": {},
   "outputs": [
    {
     "name": "stdout",
     "output_type": "stream",
     "text": [
      "18\n"
     ]
    }
   ],
   "source": [
    "# Run this cell to show your results for n_tags\n",
    "print(n_tags)"
   ]
  },
  {
   "cell_type": "markdown",
   "metadata": {},
   "source": [
    "**1.3** Process the data into a list of sentences where each sentence is a list of (word, tag) tuples. Here is an example of how the first sentence in the list should look:\n",
    "\n",
    "[('Thousands', 'O'),\n",
    " ('of',  'O'),\n",
    " ('demonstrators', 'O'),\n",
    " ('have', 'O'),\n",
    " ('marched', 'O'),\n",
    " ('through', 'O'),\n",
    " ('London', 'B-geo'),\n",
    " ('to', 'O'),\n",
    " ('protest', 'O'),\n",
    " ('the', 'O'),\n",
    " ('war', 'O'),\n",
    " ('in', 'O'),\n",
    " ('Iraq', 'B-geo'),\n",
    " ('and', 'O'),\n",
    " ('demand', 'O'),\n",
    " ('the', 'O'),\n",
    " ('withdrawal', 'O'),\n",
    " ('of', 'O'),\n",
    " ('British', 'B-gpe'),\n",
    " ('troops', 'O'),\n",
    " ('from', 'O'),\n",
    " ('that', 'O'),\n",
    " ('country', 'O'),\n",
    " ('.', 'O')]\n",
    " "
   ]
  },
  {
   "cell_type": "code",
   "execution_count": 10,
   "metadata": {},
   "outputs": [
    {
     "name": "stdout",
     "output_type": "stream",
     "text": [
      "<class 'list'>\n",
      "Sentence: 1\n",
      "[('Families', 'O'), ('of', 'O'), ('soldiers', 'O'), ('killed', 'O'), ('in', 'O'), ('the', 'O'), ('conflict', 'O'), ('joined', 'O'), ('the', 'O'), ('protesters', 'O'), ('who', 'O'), ('carried', 'O'), ('banners', 'O'), ('with', 'O'), ('such', 'O'), ('slogans', 'O'), ('as', 'O'), ('\"', 'O'), ('Bush', 'B-per'), ('Number', 'O'), ('One', 'O'), ('Terrorist', 'O'), ('\"', 'O'), ('and', 'O'), ('\"', 'O'), ('Stop', 'O'), ('the', 'O'), ('Bombings', 'O'), ('.', 'O'), ('\"', 'O')]\n"
     ]
    }
   ],
   "source": [
    "# your code here\n",
    "sentences = []\n",
    "sentence = []\n",
    "print(type(sentence))\n",
    "\n",
    "sentencenum = data.iloc[0]['Sentence #']\n",
    "print(sentencenum)\n",
    "\n",
    "for i in data.itertuples():\n",
    "    if sentencenum == i[1]:\n",
    "        t = (i[2],i[4] )\n",
    "        sentence.append(t)\n",
    "    else:\n",
    "        sentences.append(sentence)\n",
    "        sentencenum = i[1]\n",
    "        sentence = []\n",
    "        t = (i[2],i[4] )\n",
    "        sentence.append(t)\n",
    "    \n",
    "print(sentences[1])  "
   ]
  },
  {
   "cell_type": "markdown",
   "metadata": {},
   "source": [
    "**1.4** Find out the number of words in the longest sentence, and store it to variable ```max_len```. **Print your results for `max_len`.**"
   ]
  },
  {
   "cell_type": "code",
   "execution_count": 11,
   "metadata": {},
   "outputs": [],
   "source": [
    "# your code here\n",
    "sentlen = []\n",
    "for i in sentences:\n",
    "    sentlen.append(len(i))\n",
    "max_len = max(sentlen)"
   ]
  },
  {
   "cell_type": "code",
   "execution_count": 12,
   "metadata": {},
   "outputs": [
    {
     "name": "stdout",
     "output_type": "stream",
     "text": [
      "104\n"
     ]
    }
   ],
   "source": [
    "# Run this cell to show your results for max_len\n",
    "print(max_len)"
   ]
  },
  {
   "cell_type": "markdown",
   "metadata": {},
   "source": [
    "**1.5** It's now time to convert the sentences data in a suitable format for the RNNs training/evaluation procedures. Create a ```word2idx``` dictionary mapping distinct words from the dataset into distinct integers. Also create a ```idx2word``` dictionary."
   ]
  },
  {
   "cell_type": "code",
   "execution_count": 13,
   "metadata": {},
   "outputs": [
    {
     "name": "stdout",
     "output_type": "stream",
     "text": [
      "35178\n"
     ]
    }
   ],
   "source": [
    "# your code here\n",
    "word2idx = dict()\n",
    "idx2word = dict()\n",
    "for word in words:\n",
    "    idx2word[len(word2idx)] = word\n",
    "    word2idx[word] = len(word2idx)\n",
    "\n",
    "print(word2idx['ENDPAD'])"
   ]
  },
  {
   "cell_type": "markdown",
   "metadata": {},
   "source": [
    "**1.6** Prepare the predictors matrix ```X```, as a list of lists, where each inner list is a sequence of words mapped into integers accordly to the ```word2idx``` dictionary. "
   ]
  },
  {
   "cell_type": "code",
   "execution_count": 14,
   "metadata": {},
   "outputs": [
    {
     "name": "stdout",
     "output_type": "stream",
     "text": [
      "[15029, 32402, 34920, 17265, 33246, 22743, 33464, 27848, 17837, 23544, 18978, 24]\n"
     ]
    }
   ],
   "source": [
    "# your code here\n",
    "X =[]\n",
    "for i in sentences:\n",
    "    w =  [word2idx[j[0]] for j in i]\n",
    "    X.append(w)\n",
    "\n",
    "print(X[10])"
   ]
  },
  {
   "cell_type": "markdown",
   "metadata": {},
   "source": [
    "**1.7** Apply the keras ```pad_sequences``` function to standardize the predictors. You should retrieve a matrix with all padded sentences and length equal to ```max_len``` previously computed. The dimensionality should therefore be equal to ```[# of sentences, max_len]```. Run the provided cell to print your results. Your ```X[i]``` now should be something similar to this:\n",
    "\n",
    "`[ 8193 27727 31033 33289 22577 33464 23723 16665 33464 31142 31319 28267\n",
    " 27700 33246 28646 16052    21 16915 17349  7924 32879 32985 18238 23555\n",
    "    24 35178 35178 35178 35178 35178 35178 35178 35178 35178 35178 35178\n",
    " 35178 35178 35178 35178 35178 35178 35178 35178 35178 35178 35178 35178\n",
    " 35178 35178 35178 35178 35178 35178 35178 35178 35178 35178 35178 35178\n",
    " 35178 35178 35178 35178 35178 35178 35178 35178 35178 35178 35178 35178\n",
    " 35178 35178 35178 35178 35178 35178 35178 35178 35178 35178 35178 35178\n",
    " 35178 35178 35178 35178 35178 35178 35178 35178 35178 35178 35178 35178\n",
    " 35178 35178 35178 35178 35178 35178 35178 35178]`"
   ]
  },
  {
   "cell_type": "code",
   "execution_count": 15,
   "metadata": {},
   "outputs": [
    {
     "name": "stdout",
     "output_type": "stream",
     "text": [
      "[15029 32402 34920 17265 33246 22743 33464 27848 17837 23544 18978    24\n",
      " 35178 35178 35178 35178 35178 35178 35178 35178 35178 35178 35178 35178\n",
      " 35178 35178 35178 35178 35178 35178 35178 35178 35178 35178 35178 35178\n",
      " 35178 35178 35178 35178 35178 35178 35178 35178 35178 35178 35178 35178\n",
      " 35178 35178 35178 35178 35178 35178 35178 35178 35178 35178 35178 35178\n",
      " 35178 35178 35178 35178 35178 35178 35178 35178 35178 35178 35178 35178\n",
      " 35178 35178 35178 35178 35178 35178 35178 35178 35178 35178 35178 35178\n",
      " 35178 35178 35178 35178 35178 35178 35178 35178 35178 35178 35178 35178\n",
      " 35178 35178 35178 35178 35178 35178 35178 35178]\n"
     ]
    }
   ],
   "source": [
    "# your code here\n",
    "X = pad_sequences(X, maxlen=max_len, padding = 'post', value = word2idx['ENDPAD'], dtype='int' )\n",
    "\n",
    "print(X[10])"
   ]
  },
  {
   "cell_type": "code",
   "execution_count": 16,
   "metadata": {},
   "outputs": [
    {
     "name": "stdout",
     "output_type": "stream",
     "text": [
      "The index of word 'Harvard' is: 7506\n",
      "\n",
      "Sentence 1: [ 6283 27700 31967 25619 24853 33246 19981 25517 33246 29399 34878 19044\n",
      " 18095 34971 32712 31830 17742     1  4114 11464 11631 14985     1 17364\n",
      "     1 14484 33246  3881    24     1 35178 35178 35178 35178 35178 35178\n",
      " 35178 35178 35178 35178 35178 35178 35178 35178 35178 35178 35178 35178\n",
      " 35178 35178 35178 35178 35178 35178 35178 35178 35178 35178 35178 35178\n",
      " 35178 35178 35178 35178 35178 35178 35178 35178 35178 35178 35178 35178\n",
      " 35178 35178 35178 35178 35178 35178 35178 35178 35178 35178 35178 35178\n",
      " 35178 35178 35178 35178 35178 35178 35178 35178 35178 35178 35178 35178\n",
      " 35178 35178 35178 35178 35178 35178 35178 35178]\n",
      "\n",
      "(47958, 104)\n"
     ]
    }
   ],
   "source": [
    "# Run this cell to show your results #\n",
    "print(\"The index of word 'Harvard' is: {}\\n\".format(word2idx[\"Harvard\"]))\n",
    "print(\"Sentence 1: {}\\n\".format(X[1]))\n",
    "print(X.shape)"
   ]
  },
  {
   "cell_type": "markdown",
   "metadata": {},
   "source": [
    "**1.8** Create a ```tag2idx``` dictionary mapping distinct named entity tags from the dataset into distinct integers. Also create a ```idx2tag``` dictionary."
   ]
  },
  {
   "cell_type": "code",
   "execution_count": 17,
   "metadata": {},
   "outputs": [
    {
     "name": "stdout",
     "output_type": "stream",
     "text": [
      "17\n"
     ]
    }
   ],
   "source": [
    "# your code here\n",
    "tag2idx = dict()\n",
    "idx2tag = dict()\n",
    "for tag in tags:\n",
    "    idx2tag[len(tag2idx)] = tag\n",
    "    tag2idx[tag] = len(tag2idx)\n",
    "\n",
    "print(tag2idx['PAD'])"
   ]
  },
  {
   "cell_type": "markdown",
   "metadata": {},
   "source": [
    "**1.9** Prepare targets matrix ```Y```, as a list of lists,where each inner list is a sequence of tags mapped into integers accordly to the ```tag2idx``` dictionary."
   ]
  },
  {
   "cell_type": "code",
   "execution_count": 18,
   "metadata": {},
   "outputs": [
    {
     "name": "stdout",
     "output_type": "stream",
     "text": [
      "[3, 16, 16, 6, 14, 14, 16, 7, 16, 3, 16, 16, 16, 16, 3, 16, 16, 16, 16, 16, 16, 16, 16, 16, 16, 16, 3, 16, 16]\n"
     ]
    }
   ],
   "source": [
    "# your code here\n",
    "Y =[]\n",
    "for i in sentences:\n",
    "    t =  [tag2idx[j[1]] for j in i]\n",
    "    Y.append(t)\n",
    "\n",
    "print(Y[12])"
   ]
  },
  {
   "cell_type": "markdown",
   "metadata": {},
   "source": [
    "**1.10** apply the keras ```pad_sequences``` function to standardize the targets. Inject the ```PAD``` tag for the padding words. You should retrieve a matrix with all padded sentences'tags and length equal to ```max_length``` previously computed. "
   ]
  },
  {
   "cell_type": "code",
   "execution_count": 19,
   "metadata": {},
   "outputs": [
    {
     "name": "stdout",
     "output_type": "stream",
     "text": [
      "[16 16 16 16 16 16 16 16 16 16 16 16 17 17 17 17 17 17 17 17 17 17 17 17\n",
      " 17 17 17 17 17 17 17 17 17 17 17 17 17 17 17 17 17 17 17 17 17 17 17 17\n",
      " 17 17 17 17 17 17 17 17 17 17 17 17 17 17 17 17 17 17 17 17 17 17 17 17\n",
      " 17 17 17 17 17 17 17 17 17 17 17 17 17 17 17 17 17 17 17 17 17 17 17 17\n",
      " 17 17 17 17 17 17 17 17]\n"
     ]
    }
   ],
   "source": [
    "# your code here\n",
    "Y = pad_sequences(Y, maxlen=max_len, padding = 'post', value = tag2idx['PAD'], dtype='int' )\n",
    "\n",
    "print(Y[10])"
   ]
  },
  {
   "cell_type": "markdown",
   "metadata": {},
   "source": [
    "**1.11** Use the ```to_categorical``` keras function to one-hot encode the tags. Now your ```Y``` should have dimension ```[# of sentences, max_len, n_tags]```. Run the provided cell to print your results."
   ]
  },
  {
   "cell_type": "code",
   "execution_count": 20,
   "metadata": {},
   "outputs": [
    {
     "name": "stdout",
     "output_type": "stream",
     "text": [
      "(47958, 104, 18)\n"
     ]
    }
   ],
   "source": [
    "# your code here\n",
    "Y = to_categorical(Y)\n",
    "\n",
    "print(Y.shape)"
   ]
  },
  {
   "cell_type": "code",
   "execution_count": 21,
   "metadata": {},
   "outputs": [
    {
     "name": "stdout",
     "output_type": "stream",
     "text": [
      "The index of tag 'B-gpe' is: 3\n",
      "\n",
      "The tag of the last word in Sentence 1: [0. 0. 0. 0. 0. 0. 0. 0. 0. 0. 0. 0. 0. 0. 0. 0. 0. 1.]\n",
      "\n",
      "(47958, 104, 18)\n"
     ]
    }
   ],
   "source": [
    "# Run this cell to show your results #\n",
    "print(\"The index of tag 'B-gpe' is: {}\\n\".format(tag2idx[\"B-gpe\"]))\n",
    "print(\"The tag of the last word in Sentence 1: {}\\n\".format(Y[0][-1]))\n",
    "print(np.array(Y).shape)"
   ]
  },
  {
   "cell_type": "markdown",
   "metadata": {},
   "source": [
    "**1.12** Split the dataset into train and test sets (test 10%)."
   ]
  },
  {
   "cell_type": "code",
   "execution_count": 22,
   "metadata": {},
   "outputs": [],
   "source": [
    "# your code here\n",
    "x_train, x_test, y_train, y_test = train_test_split(X, Y, test_size=0.1)"
   ]
  },
  {
   "cell_type": "markdown",
   "metadata": {},
   "source": [
    "## Part 2: Modelling\n",
    "\n",
    "After preparing the train and test sets, we are ready to build five models: \n",
    "* frequency-based baseline \n",
    "* vanilla feedforward neural network\n",
    "* recurrent neural network\n",
    "* gated recurrent neural network\n",
    "* bidirectional gated recurrent neural network\n",
    "\n",
    "More details are given about architecture in each model's section. The input/output dimensionalities will be the same for all models:\n",
    "* input: ```[# of sentences, max_len]```\n",
    "* output: ```[# of sentences, max_len, n_tags]```\n",
    "\n",
    "Follow the information in each model's section to set up the architecture of each model. And the end of each training, use the given ```store_model``` function to store the weights and architectures in the ```./models``` path for later testing;```load_keras_model()``` is also provided to you\n",
    "\n",
    "A further ```plot_training_history``` helper function is given in case you need to check the training history.\n"
   ]
  },
  {
   "cell_type": "code",
   "execution_count": 23,
   "metadata": {},
   "outputs": [],
   "source": [
    "# Store model\n",
    "def store_keras_model(model, model_name):\n",
    "    model_json = model.to_json() # serialize model to JSON\n",
    "    with open(\"../models/{}.json\".format(model_name), \"w\") as json_file:\n",
    "        json_file.write(model_json)\n",
    "    model.save_weights(\"../models/{}.h5\".format(model_name)) # serialize weights to HDF5\n",
    "    print(\"Saved model to disk\")\n",
    "    \n",
    "# Plot history\n",
    "def plot_training_history(history):\n",
    "    loss = history.history['loss']\n",
    "    val_loss = history.history['val_loss']\n",
    "    epochs = range(1,len(loss)+1)\n",
    "\n",
    "    plt.figure()\n",
    "    plt.plot(epochs, loss, 'bo', label='Training loss')\n",
    "    plt.plot(epochs, val_loss, 'b', label='Validation loss')\n",
    "    plt.title('Training and validation loss')\n",
    "    plt.xlabel('epoch')\n",
    "    plt.legend()\n",
    "    plt.show()"
   ]
  },
  {
   "cell_type": "code",
   "execution_count": 24,
   "metadata": {},
   "outputs": [],
   "source": [
    "# Load model \n",
    "def load_keras_model(model_name):\n",
    "    # Load json and create model\n",
    "    json_file = open('../models/{}.json'.format(model_name), 'r')\n",
    "    loaded_model_json = json_file.read()\n",
    "    json_file.close()\n",
    "    model = tf.keras.models.model_from_json(loaded_model_json)\n",
    "    # Load weights into new model\n",
    "    model.load_weights(\"../models/{}.h5\".format(model_name))\n",
    "    return model"
   ]
  },
  {
   "cell_type": "markdown",
   "metadata": {},
   "source": [
    "<div class='exercise'><b>Question 2: Models [40 points total]</b></div>\n",
    "\n",
    "**2.1** **Model 1: Baseline Model**\n",
    "\n",
    "Predict the tag of a word simply with the most frequently-seen named entity tag of this word from the training set.\n",
    "\n",
    "e.g. word \"Apple\" appears 10 times in the training set; 7 times it was tagged as \"Corporate\" and 3 times it was tagged as \"Fruit\". If we encounter the word \"Apple\" in the test set, we predict it as \"Corporate\".\n",
    "\n",
    "**Create an np.array ```baseline``` of length [n_words]**\n",
    "where the ith element   ```baseline[i]``` is the index of the most commonly seen named entity tag of word i summarised from training set.   (e.g. [16, 16, 16, ..., 0, 16, 16])\n",
    "\n",
    "\n",
    "**2.2** **Model 2: Vanilla Feed Forward Neural Network**\n",
    "\n",
    "This model is provided for you. Please pay attention to the architecture of this neural network, especially the input/output dimensionalities and the Embedding layer.\n",
    "\n",
    "\n",
    "**2.2a** Explain what the embedding layer is and why we need it here.\n",
    "\n",
    "**2.2b** Explain why the Param # of Embedding layer is 1758950 (as shown in `print(model.summary())`).\n",
    "\n",
    "**2.3** **Model 3: RNN**\n",
    "\n",
    "Set up a simple RNN model by stacking the following layers in sequence:\n",
    "\n",
    "    an input layer\n",
    "    a simple Embedding layer transforming integer words into vectors\n",
    "    a dropout layer to regularize the model\n",
    "    a SimpleRNN layer\n",
    "    a TimeDistributed layer with an inner Dense layer which output dimensionality is equal to n_tag\n",
    "    \n",
    "*(For hyperparameters, use those provided in Model 2)*\n",
    "\n",
    "**2.3a** Define, compile, and train an RNN model. Use the provided code to save the model and plot the training history.\n",
    "\n",
    "**2.3b** Visualize outputs from the SimpleRNN layer, one subplot for B-tags and one subplot for I-tags. Comment on the patterns you observed.\n",
    "\n",
    "**2.4** **Model 4: GRU**\n",
    "\n",
    "**2.4a** Briefly explain what a GRU is and how it's different from a simple RNN.\n",
    "\n",
    "**2.4b** Define, compile, and train a GRU architecture by replacing the SimpleRNN cell with a GRU one. Use the provided code to save the model and plot the training history.\n",
    "\n",
    "**2.4c** Visualize outputs from GRU layer, one subplot for **B-tags** and one subplot for **I-tags**. Comment on the patterns you observed.\n",
    "\n",
    "**2.5** **Model 5: Bidirectional GRU**\n",
    "\n",
    "**2.5a** Explain how a Bidirectional GRU differs from GRU model above.\n",
    "\n",
    "**2.5b** Define, compile, and train a bidirectional GRU by wrapping your GRU layer in a Bidirectional one. Use the provided code to save the model and plot the training history.\n",
    "\n",
    "**2.5c** Visualize outputs from bidirectional GRU layer, one subplot for **B-tags** and one subplot for **I-tags**. Comment on the patterns you observed."
   ]
  },
  {
   "cell_type": "markdown",
   "metadata": {
    "colab_type": "text",
    "id": "hBtmANNuuS6h"
   },
   "source": [
    "## Answers"
   ]
  },
  {
   "cell_type": "markdown",
   "metadata": {},
   "source": [
    "**2.1** **Model 1: Baseline Model**\n",
    "\n",
    "Predict the tag of a word simply with the most frequently-seen named entity tag of this word from the training set.\n",
    "\n",
    "e.g. word \"Apple\" appears 10 times in the training set; 7 times it was tagged as \"Corporate\" and 3 times it was tagged as \"Fruit\". If we encounter the word \"Apple\" in the test set, we predict it as \"Corporate\".\n",
    "\n",
    "**Create an np.array ```baseline``` of length [n_words]**\n",
    "where the ith element   ```baseline[i]``` is the index of the most commonly seen named entity tag of word i summarised from training set.   (e.g. [16, 16, 16, ..., 0, 16, 16])\n"
   ]
  },
  {
   "cell_type": "code",
   "execution_count": null,
   "metadata": {},
   "outputs": [],
   "source": [
    "# your code here\n",
    "dX = []\n",
    "for x in x_train:\n",
    "    for j in x:\n",
    "        dX.append(j)\n",
    "\n",
    "dY=[]\n",
    "for y in y_train:\n",
    "    z = np.where(y == 1)[1]\n",
    "    for e in z:\n",
    "        dY.append(e)\n",
    "\n",
    "d = {'w':dX,'t':dY}\n",
    "XY = pd.DataFrame(d)\n",
    "\n",
    "baseline = np.empty(n_words, dtype = int)\n",
    "for w in range(n_words):\n",
    "    wrows = XY.loc[XY['w'] == w]\n",
    "    m = wrows.loc[:,\"t\"].mode()\n",
    "    if len(m) > 0:\n",
    "        baseline[w] = int(m[0])\n",
    "    else:   \n",
    "        baseline[w] = int(XY.t[w])\n",
    "\n",
    "#print(baseline)\n",
    "\n",
    "#for i in range(len(baseline)):\n",
    "#    if(baseline[i]) > 17:\n",
    "#        print(i)\n",
    "#        print(baseline[i])\n",
    "#        print(idx2word[i])\n",
    "#        print(XY.t[i])\n",
    "#        print('done')"
   ]
  },
  {
   "cell_type": "code",
   "execution_count": null,
   "metadata": {},
   "outputs": [],
   "source": [
    "# Run this cell to show your results #\n",
    "print(baseline[X].shape,'\\n')\n",
    "print('Sentence:\\n {}\\n'.format([idx2word[w] for w in X[0]]))\n",
    "print('Predicted Tags:\\n {}'.format([idx2tag[i] for i in baseline[X[0]]]))"
   ]
  },
  {
   "cell_type": "markdown",
   "metadata": {},
   "source": [
    "**2.2** **Model 2: Vanilla Feed Forward Neural Network**\n",
    "\n",
    "This model is provided for you. Please pay attention to the architecture of this neural network, especially the input/output dimensionalities and the Embedding layer.\n"
   ]
  },
  {
   "cell_type": "markdown",
   "metadata": {},
   "source": [
    "### Use these hyperparameters for all NN models"
   ]
  },
  {
   "cell_type": "code",
   "execution_count": null,
   "metadata": {},
   "outputs": [],
   "source": [
    "n_units = 100\n",
    "drop_rate = .1\n",
    "dim_embed = 50\n",
    "\n",
    "optimizer = \"rmsprop\"\n",
    "loss = \"categorical_crossentropy\"\n",
    "metrics = [\"accuracy\"]\n",
    "\n",
    "batch_size = 32\n",
    "epochs = 10\n",
    "validation_split = 0.1\n",
    "verbose = 1"
   ]
  },
  {
   "cell_type": "code",
   "execution_count": 28,
   "metadata": {},
   "outputs": [],
   "source": [
    "# Define model\n",
    "model = tf.keras.Sequential()\n",
    "model.add(tf.keras.layers.Embedding(input_dim=n_words, output_dim=dim_embed, input_length=max_len))\n",
    "model.add(tf.keras.layers.Dropout(drop_rate))\n",
    "model.add(tf.keras.layers.Dense(n_tags, activation=\"softmax\"))\n",
    "\n",
    "# Compile model\n",
    "model.compile(optimizer=optimizer, loss=loss, metrics=metrics)"
   ]
  },
  {
   "cell_type": "code",
   "execution_count": 29,
   "metadata": {},
   "outputs": [
    {
     "name": "stdout",
     "output_type": "stream",
     "text": [
      "Model: \"sequential\"\n",
      "_________________________________________________________________\n",
      "Layer (type)                 Output Shape              Param #   \n",
      "=================================================================\n",
      "embedding (Embedding)        (None, 104, 50)           1758950   \n",
      "_________________________________________________________________\n",
      "dropout (Dropout)            (None, 104, 50)           0         \n",
      "_________________________________________________________________\n",
      "dense (Dense)                (None, 104, 18)           918       \n",
      "=================================================================\n",
      "Total params: 1,759,868\n",
      "Trainable params: 1,759,868\n",
      "Non-trainable params: 0\n",
      "_________________________________________________________________\n",
      "None\n"
     ]
    }
   ],
   "source": [
    "print(model.summary())"
   ]
  },
  {
   "cell_type": "code",
   "execution_count": 30,
   "metadata": {
    "scrolled": true
   },
   "outputs": [
    {
     "name": "stdout",
     "output_type": "stream",
     "text": [
      "Train on 38845 samples, validate on 4317 samples\n",
      "Epoch 1/10\n",
      "38845/38845 [==============================] - 14s 366us/sample - loss: 0.3146 - accuracy: 0.9788 - val_loss: 0.0608 - val_accuracy: 0.9856\n",
      "Epoch 2/10\n",
      "38845/38845 [==============================] - 13s 341us/sample - loss: 0.0512 - accuracy: 0.9864 - val_loss: 0.0489 - val_accuracy: 0.9867\n",
      "Epoch 3/10\n",
      "38845/38845 [==============================] - 13s 345us/sample - loss: 0.0448 - accuracy: 0.9873 - val_loss: 0.0463 - val_accuracy: 0.9871\n",
      "Epoch 4/10\n",
      "38845/38845 [==============================] - 13s 340us/sample - loss: 0.0426 - accuracy: 0.9878 - val_loss: 0.0449 - val_accuracy: 0.9875\n",
      "Epoch 5/10\n",
      "38845/38845 [==============================] - 13s 342us/sample - loss: 0.0412 - accuracy: 0.9882 - val_loss: 0.0442 - val_accuracy: 0.9877\n",
      "Epoch 6/10\n",
      "38845/38845 [==============================] - 13s 335us/sample - loss: 0.0404 - accuracy: 0.9884 - val_loss: 0.0437 - val_accuracy: 0.9879\n",
      "Epoch 7/10\n",
      "38845/38845 [==============================] - 13s 334us/sample - loss: 0.0398 - accuracy: 0.9886 - val_loss: 0.0434 - val_accuracy: 0.9880\n",
      "Epoch 8/10\n",
      "38845/38845 [==============================] - 13s 332us/sample - loss: 0.0394 - accuracy: 0.9888 - val_loss: 0.0431 - val_accuracy: 0.9880\n",
      "Epoch 9/10\n",
      "38845/38845 [==============================] - 14s 349us/sample - loss: 0.0390 - accuracy: 0.9888 - val_loss: 0.0431 - val_accuracy: 0.9881\n",
      "Epoch 10/10\n",
      "38845/38845 [==============================] - 13s 338us/sample - loss: 0.0388 - accuracy: 0.9889 - val_loss: 0.0429 - val_accuracy: 0.9882\n"
     ]
    }
   ],
   "source": [
    "# Train model\n",
    "history = model.fit(x_train, y_train, batch_size=batch_size, epochs=epochs, \n",
    "                    validation_split=validation_split, verbose=verbose)"
   ]
  },
  {
   "cell_type": "code",
   "execution_count": 31,
   "metadata": {},
   "outputs": [
    {
     "name": "stdout",
     "output_type": "stream",
     "text": [
      "Saved model to disk\n"
     ]
    }
   ],
   "source": [
    "store_keras_model(model, 'model_FFNN')"
   ]
  },
  {
   "cell_type": "code",
   "execution_count": 32,
   "metadata": {},
   "outputs": [
    {
     "data": {
      "image/png": "[encoded data removed]",
      "text/plain": [
       "<Figure size 432x288 with 1 Axes>"
      ]
     },
     "metadata": {
      "needs_background": "light"
     },
     "output_type": "display_data"
    }
   ],
   "source": [
    "plot_training_history(history)"
   ]
  },
  {
   "cell_type": "markdown",
   "metadata": {},
   "source": [
    "**2.2a** Explain what the embedding layer is and why we need it here."
   ]
  },
  {
   "cell_type": "markdown",
   "metadata": {},
   "source": [
    "*your answer here*<br />\n",
    "<font color='blue'>\n",
    "<p style=\"text-indent: 25px;\"></p>\n",
    "<p style=\"text-indent: 25px;\"></p>\n",
    "<p style=\"text-indent: 25px;\"></p>\n",
    "</font>"
   ]
  },
  {
   "cell_type": "markdown",
   "metadata": {},
   "source": [
    "**2.2b** Explain why the Param # of Embedding layer is 1758950 (as shown in `print(model.summary())`)."
   ]
  },
  {
   "cell_type": "markdown",
   "metadata": {},
   "source": [
    "*your answer here*<br />\n",
    "<font color='blue'>\n",
    "<p style=\"text-indent: 25px;\"></p>\n",
    "<p style=\"text-indent: 25px;\">35178 * 50 + 50</p>\n",
    "<p style=\"text-indent: 25px;\"></p>\n",
    "</font>"
   ]
  },
  {
   "cell_type": "markdown",
   "metadata": {},
   "source": [
    "### Viewing Hidden Layers\n",
    "In addition to the final result, we also want to see the intermediate results from hidden layers. Below is an example showing how to get outputs from a hidden layer, and visualize them on the reduced dimension of 2D by PCA. (**Please note that this code and the parameters cannot be simply copied and pasted for other questions; some adjustments need to be made**) "
   ]
  },
  {
   "cell_type": "code",
   "execution_count": null,
   "metadata": {},
   "outputs": [],
   "source": [
    "FFNN = load_keras_model(\"model_FFNN\")\n",
    "def create_truncated_model_FFNN(trained_model):\n",
    "    model = tf.keras.Sequential()\n",
    "    model.add(tf.keras.layers.Embedding(input_dim=n_words, output_dim=dim_embed, input_length=max_len))\n",
    "    model.add(tf.keras.layers.Dropout(drop_rate))\n",
    "    # set weights of first few layers using the weights of trained model\n",
    "    for i, layer in enumerate(model.layers):\n",
    "        layer.set_weights(trained_model.layers[i].get_weights())\n",
    "    model.compile(optimizer=optimizer, loss=loss, metrics=metrics)\n",
    "    return model\n",
    "truncated_model = create_truncated_model_FFNN(FFNN)\n",
    "hidden_features = truncated_model.predict(x_test)\n",
    "\n",
    "# flatten data\n",
    "hidden_features = hidden_features.reshape(-1,50)\n",
    " \n",
    "# find first two PCA components\n",
    "pca = PCA(n_components=2)\n",
    "pca_result = pca.fit_transform(hidden_features)\n",
    "print('Variance explained by PCA: {}'.format(np.sum(pca.explained_variance_ratio_)))"
   ]
  },
  {
   "cell_type": "code",
   "execution_count": null,
   "metadata": {},
   "outputs": [],
   "source": [
    "# visualize hidden featurs on first two PCA components\n",
    "# this plot only shows B-tags\n",
    "def visualize_hidden_features(pca_result):\n",
    "    color=['r', 'C1', 'y', 'C3', 'b', 'g', 'm', 'orange']\n",
    "    #category = np.argmax(y_test, axis=1)\n",
    "    category = np.argmax(y_test.reshape(-1,18), axis=1)\n",
    "    fig, ax = plt.subplots()\n",
    "    fig.set_size_inches(6,6)    \n",
    "    for cat in range(8):\n",
    "        indices_B = np.where(category==cat)[0]\n",
    "        #length=min(1000,len(indices_B))\n",
    "        #indices_B=indices_B[:length]\n",
    "        ax.scatter(pca_result[indices_B, 0], pca_result[indices_B, 1], label=idx2tag[cat], s=2, color=color[cat], alpha=0.5)\n",
    "        legend=ax.legend(markerscale=3)\n",
    "        legend.get_frame().set_facecolor('w')  \n",
    "    plt.show()"
   ]
  },
  {
   "cell_type": "code",
   "execution_count": null,
   "metadata": {},
   "outputs": [],
   "source": [
    "visualize_hidden_features(pca_result)"
   ]
  },
  {
   "cell_type": "markdown",
   "metadata": {},
   "source": [
    "### Full function for other questions ###"
   ]
  },
  {
   "cell_type": "code",
   "execution_count": null,
   "metadata": {},
   "outputs": [],
   "source": [
    "def get_hidden_output_PCA(model,x_test,y_test,layer_index,out_dimension):\n",
    "    output = tf.keras.backend.function([model.layers[0].input],[model.layers[layer_index].output])\n",
    "    hidden_feature=np.array(output([x_test]))\n",
    "    hidden_feature=hidden_feature.reshape(-1,out_dimension)\n",
    "    \n",
    "    pca = PCA(n_components=2)\n",
    "    pca_result = pca.fit_transform(hidden_feature)\n",
    "    print('Variance explained by PCA: {}'.format(np.sum(pca.explained_variance_ratio_)))\n",
    "    return pca_result"
   ]
  },
  {
   "cell_type": "code",
   "execution_count": null,
   "metadata": {},
   "outputs": [],
   "source": [
    "def visualize_B_I(pca_result):\n",
    "    color = ['r', 'C1', 'y', 'C3', 'b', 'g', 'm', 'orange']\n",
    "    #category = np.argmax(y_test, axis=1)\n",
    "    category = np.argmax(y_test.reshape(-1,18), axis=1)\n",
    "    fig, ax = plt.subplots(1,2) \n",
    "    fig.set_size_inches(12,6)\n",
    "    for i in range(2):\n",
    "        for cat in range(8*i,8*(i+1)):\n",
    "            indices = np.where(category==cat)[0]\n",
    "            ax[i].scatter(pca_result[indices, 0], pca_result[indices, 1], label=idx2tag[cat],s=2,color=color[cat-8*i],alpha=0.5)\n",
    "        legend = ax[i].legend(markerscale=3)\n",
    "        legend.get_frame().set_facecolor('w') \n",
    "        ax[i].set_xlabel(\"first dimension\")\n",
    "        ax[i].set_ylabel(\"second dimension\")\n",
    "    fig.suptitle(\"visualization of hidden feature on reduced dimension by PCA\")\n",
    "    \n",
    "    plt.show()"
   ]
  },
  {
   "cell_type": "code",
   "execution_count": null,
   "metadata": {},
   "outputs": [],
   "source": [
    "h = get_hidden_output_PCA(FFNN,x_test,y_test,1,50)\n",
    "visualize_B_I(h)"
   ]
  },
  {
   "cell_type": "markdown",
   "metadata": {},
   "source": [
    "**2.3** **Model 3: RNN**\n",
    "\n",
    "Set up a simple RNN model by stacking the following layers in sequence:\n",
    "\n",
    "    an input layer\n",
    "    a simple Embedding layer transforming integer words into vectors\n",
    "    a dropout layer to regularize the model\n",
    "    a SimpleRNN layer\n",
    "    a TimeDistributed layer with an inner Dense layer which output dimensionality is equal to n_tag\n",
    "    \n",
    "*(For hyperparameters, use those provided in Model 2)*\n",
    "\n",
    "**2.3a** Define, compile, and train an RNN model. Use the provided code to save the model and plot the training history."
   ]
  },
  {
   "cell_type": "code",
   "execution_count": 39,
   "metadata": {},
   "outputs": [
    {
     "name": "stdout",
     "output_type": "stream",
     "text": [
      "Train on 38845 samples, validate on 4317 samples\n",
      "Epoch 1/10\n",
      "38845/38845 [==============================] - 78s 2ms/sample - loss: 0.0947 - accuracy: 0.9767 - val_loss: 0.0337 - val_accuracy: 0.9901\n",
      "Epoch 2/10\n",
      "38845/38845 [==============================] - 76s 2ms/sample - loss: 0.0294 - accuracy: 0.9912 - val_loss: 0.0294 - val_accuracy: 0.9912\n",
      "Epoch 3/10\n",
      "38845/38845 [==============================] - 76s 2ms/sample - loss: 0.0260 - accuracy: 0.9922 - val_loss: 0.0284 - val_accuracy: 0.9915\n",
      "Epoch 4/10\n",
      "38845/38845 [==============================] - 76s 2ms/sample - loss: 0.0243 - accuracy: 0.9927 - val_loss: 0.0282 - val_accuracy: 0.9917\n",
      "Epoch 5/10\n",
      "38845/38845 [==============================] - 76s 2ms/sample - loss: 0.0231 - accuracy: 0.9931 - val_loss: 0.0277 - val_accuracy: 0.9918\n",
      "Epoch 6/10\n",
      "38845/38845 [==============================] - 76s 2ms/sample - loss: 0.0221 - accuracy: 0.9934 - val_loss: 0.0272 - val_accuracy: 0.9918\n",
      "Epoch 7/10\n",
      "38845/38845 [==============================] - 77s 2ms/sample - loss: 0.0212 - accuracy: 0.9937 - val_loss: 0.0275 - val_accuracy: 0.9919\n",
      "Epoch 8/10\n",
      "38845/38845 [==============================] - 77s 2ms/sample - loss: 0.0205 - accuracy: 0.9939 - val_loss: 0.0271 - val_accuracy: 0.9919\n",
      "Epoch 9/10\n",
      "38845/38845 [==============================] - 77s 2ms/sample - loss: 0.0197 - accuracy: 0.9941 - val_loss: 0.0278 - val_accuracy: 0.9916\n",
      "Epoch 10/10\n",
      "38845/38845 [==============================] - 77s 2ms/sample - loss: 0.0192 - accuracy: 0.9943 - val_loss: 0.0277 - val_accuracy: 0.9917\n",
      "Accuracy: 99.19%\n"
     ]
    }
   ],
   "source": [
    "# your code here\n",
    "model = Sequential(name='RNN')\n",
    "model.add(Embedding(input_dim=n_words, output_dim=dim_embed, input_length=max_len, name='Embedding'))\n",
    "model.add(Dropout(drop_rate, name='Dropout'))\n",
    "model.add(SimpleRNN(n_units, return_sequences=True, name='SimpleRNN'))\n",
    "model.add(TimeDistributed(Dense(n_tags, activation=\"softmax\"), name='TimeDisDense'))\n",
    "model.compile(optimizer=optimizer, loss=loss, metrics=metrics)\n",
    "\n",
    "history = model.fit(x_train, y_train, batch_size=batch_size, epochs=epochs, validation_split=validation_split, verbose=verbose)\n",
    "# Final evaluation of the model\n",
    "scores = model.evaluate(x_test, y_test, verbose=0)\n",
    "print(\"Accuracy: %.2f%%\" % (scores[1]*100))"
   ]
  },
  {
   "cell_type": "code",
   "execution_count": 40,
   "metadata": {},
   "outputs": [
    {
     "name": "stdout",
     "output_type": "stream",
     "text": [
      "Saved model to disk\n"
     ]
    }
   ],
   "source": [
    "# save your mode #\n",
    "store_keras_model(model, 'model_RNN')"
   ]
  },
  {
   "cell_type": "code",
   "execution_count": 41,
   "metadata": {},
   "outputs": [
    {
     "name": "stdout",
     "output_type": "stream",
     "text": [
      "Model: \"RNN\"\n",
      "_________________________________________________________________\n",
      "Layer (type)                 Output Shape              Param #   \n",
      "=================================================================\n",
      "Embedding (Embedding)        (None, 104, 50)           1758950   \n",
      "_________________________________________________________________\n",
      "Dropout (Dropout)            (None, 104, 50)           0         \n",
      "_________________________________________________________________\n",
      "SimpleRNN (SimpleRNN)        (None, 104, 100)          15100     \n",
      "_________________________________________________________________\n",
      "TimeDisDense (TimeDistribute (None, 104, 18)           1818      \n",
      "=================================================================\n",
      "Total params: 1,775,868\n",
      "Trainable params: 1,775,868\n",
      "Non-trainable params: 0\n",
      "_________________________________________________________________\n",
      "None\n"
     ]
    }
   ],
   "source": [
    "# run this cell to show your results #\n",
    "print(model.summary())"
   ]
  },
  {
   "cell_type": "code",
   "execution_count": 42,
   "metadata": {},
   "outputs": [
    {
     "data": {
      "image/png": "[encoded data removed]",
      "text/plain": [
       "<Figure size 432x288 with 1 Axes>"
      ]
     },
     "metadata": {
      "needs_background": "light"
     },
     "output_type": "display_data"
    }
   ],
   "source": [
    "# run this cell to show your results #\n",
    "plot_training_history(history)"
   ]
  },
  {
   "cell_type": "markdown",
   "metadata": {},
   "source": [
    "**2.3b** Visualize outputs from the SimpleRNN layer, one subplot for B-tags and one subplot for I-tags. Comment on the patterns you observed."
   ]
  },
  {
   "cell_type": "code",
   "execution_count": 43,
   "metadata": {},
   "outputs": [
    {
     "name": "stdout",
     "output_type": "stream",
     "text": [
      "Variance explained by PCA: 0.9827546423818987\n"
     ]
    },
    {
     "data": {
      "image/png": "[encoded data removed]",
      "text/plain": [
       "<Figure size 864x432 with 2 Axes>"
      ]
     },
     "metadata": {
      "needs_background": "light"
     },
     "output_type": "display_data"
    }
   ],
   "source": [
    "# your code here\n",
    "RNN = load_keras_model(\"model_RNN\")\n",
    "h = get_hidden_output_PCA(RNN,x_test,y_test,1,50)\n",
    "visualize_B_I(h)"
   ]
  },
  {
   "cell_type": "markdown",
   "metadata": {},
   "source": [
    "<div class='explication'> </div>"
   ]
  },
  {
   "cell_type": "markdown",
   "metadata": {},
   "source": [
    "**2.4** **Model 4: GRU**\n",
    "\n",
    "**2.4a** Briefly explain what a GRU is and how it's different from a simple RNN."
   ]
  },
  {
   "cell_type": "markdown",
   "metadata": {},
   "source": [
    "*your answer here*<br />\n",
    "<font color='blue'>\n",
    "<p style=\"text-indent: 25px;\"></p>\n",
    "<p style=\"text-indent: 25px;\"></p>\n",
    "<p style=\"text-indent: 25px;\"></p>\n",
    "</font>"
   ]
  },
  {
   "cell_type": "markdown",
   "metadata": {},
   "source": [
    "**2.4b** Define, compile, and train a GRU architecture by replacing the SimpleRNN cell with a GRU one. Use the provided code to save the model and plot the training history."
   ]
  },
  {
   "cell_type": "code",
   "execution_count": 44,
   "metadata": {},
   "outputs": [
    {
     "name": "stdout",
     "output_type": "stream",
     "text": [
      "Train on 38845 samples, validate on 4317 samples\n",
      "Epoch 1/10\n",
      "38845/38845 [==============================] - 40s 1ms/sample - loss: 0.0887 - accuracy: 0.9779 - val_loss: 0.0329 - val_accuracy: 0.9903\n",
      "Epoch 2/10\n",
      "38845/38845 [==============================] - 38s 967us/sample - loss: 0.0288 - accuracy: 0.9914 - val_loss: 0.0293 - val_accuracy: 0.9913\n",
      "Epoch 3/10\n",
      "38845/38845 [==============================] - 37s 953us/sample - loss: 0.0257 - accuracy: 0.9923 - val_loss: 0.0280 - val_accuracy: 0.9916\n",
      "Epoch 4/10\n",
      "38845/38845 [==============================] - 37s 959us/sample - loss: 0.0240 - accuracy: 0.9928 - val_loss: 0.0276 - val_accuracy: 0.9918\n",
      "Epoch 5/10\n",
      "38845/38845 [==============================] - 37s 945us/sample - loss: 0.0228 - accuracy: 0.9932 - val_loss: 0.0272 - val_accuracy: 0.9920\n",
      "Epoch 6/10\n",
      "38845/38845 [==============================] - 37s 961us/sample - loss: 0.0219 - accuracy: 0.9935 - val_loss: 0.0263 - val_accuracy: 0.9921\n",
      "Epoch 7/10\n",
      "38845/38845 [==============================] - 37s 942us/sample - loss: 0.0210 - accuracy: 0.9937 - val_loss: 0.0262 - val_accuracy: 0.9922\n",
      "Epoch 8/10\n",
      "38845/38845 [==============================] - 37s 941us/sample - loss: 0.0204 - accuracy: 0.9939 - val_loss: 0.0260 - val_accuracy: 0.9923\n",
      "Epoch 9/10\n",
      "38845/38845 [==============================] - 37s 944us/sample - loss: 0.0196 - accuracy: 0.9941 - val_loss: 0.0266 - val_accuracy: 0.9920\n",
      "Epoch 10/10\n",
      "38845/38845 [==============================] - 37s 953us/sample - loss: 0.0190 - accuracy: 0.9943 - val_loss: 0.0265 - val_accuracy: 0.9921\n",
      "Accuracy: 99.21%\n"
     ]
    }
   ],
   "source": [
    "# your code here\n",
    "model = Sequential(name='modelGRU')\n",
    "model.add(Embedding(input_dim=n_words, output_dim=dim_embed, input_length=max_len, name='Embedding'))\n",
    "model.add(Dropout(drop_rate, name='Dropout'))\n",
    "model.add(GRU(n_units, return_sequences=True, name='layerGRU'))\n",
    "model.add(TimeDistributed(Dense(n_tags, activation=\"softmax\"), name='TimeDisDense'))\n",
    "model.compile(optimizer=optimizer, loss=loss, metrics=metrics)\n",
    "\n",
    "history = model.fit(x_train, y_train, batch_size=batch_size, epochs=epochs, validation_split=validation_split, verbose=verbose)\n",
    "# Final evaluation of the model\n",
    "scores = model.evaluate(x_test, y_test, verbose=0)\n",
    "print(\"Accuracy: %.2f%%\" % (scores[1]*100))"
   ]
  },
  {
   "cell_type": "code",
   "execution_count": 45,
   "metadata": {},
   "outputs": [
    {
     "name": "stdout",
     "output_type": "stream",
     "text": [
      "Saved model to disk\n"
     ]
    }
   ],
   "source": [
    "# save your model #\n",
    "store_keras_model(model, 'model_GRU')"
   ]
  },
  {
   "cell_type": "code",
   "execution_count": 46,
   "metadata": {},
   "outputs": [
    {
     "name": "stdout",
     "output_type": "stream",
     "text": [
      "Model: \"modelGRU\"\n",
      "_________________________________________________________________\n",
      "Layer (type)                 Output Shape              Param #   \n",
      "=================================================================\n",
      "Embedding (Embedding)        (None, 104, 50)           1758950   \n",
      "_________________________________________________________________\n",
      "Dropout (Dropout)            (None, 104, 50)           0         \n",
      "_________________________________________________________________\n",
      "layerGRU (GRU)               (None, 104, 100)          45600     \n",
      "_________________________________________________________________\n",
      "TimeDisDense (TimeDistribute (None, 104, 18)           1818      \n",
      "=================================================================\n",
      "Total params: 1,806,368\n",
      "Trainable params: 1,806,368\n",
      "Non-trainable params: 0\n",
      "_________________________________________________________________\n",
      "None\n"
     ]
    }
   ],
   "source": [
    "# run this cell to show your results #\n",
    "print(model.summary())"
   ]
  },
  {
   "cell_type": "code",
   "execution_count": 47,
   "metadata": {},
   "outputs": [
    {
     "data": {
      "image/png": "[encoded data removed]",
      "text/plain": [
       "<Figure size 432x288 with 1 Axes>"
      ]
     },
     "metadata": {
      "needs_background": "light"
     },
     "output_type": "display_data"
    }
   ],
   "source": [
    "# run this cell to show your results #\n",
    "plot_training_history(history)"
   ]
  },
  {
   "cell_type": "markdown",
   "metadata": {},
   "source": [
    "**2.4c** Visualize outputs from GRU layer, one subplot for **B-tags** and one subplot for **I-tags**. Comment on the patterns you observed."
   ]
  },
  {
   "cell_type": "code",
   "execution_count": 48,
   "metadata": {},
   "outputs": [
    {
     "name": "stdout",
     "output_type": "stream",
     "text": [
      "Variance explained by PCA: 0.9646961022643222\n"
     ]
    },
    {
     "data": {
      "image/png": "[encoded data removed]",
      "text/plain": [
       "<Figure size 864x432 with 2 Axes>"
      ]
     },
     "metadata": {
      "needs_background": "light"
     },
     "output_type": "display_data"
    }
   ],
   "source": [
    "# your code here\n",
    "mGRU = load_keras_model(\"model_GRU\")\n",
    "h = get_hidden_output_PCA(mGRU,x_test,y_test,1,50)\n",
    "visualize_B_I(h)"
   ]
  },
  {
   "cell_type": "markdown",
   "metadata": {},
   "source": [
    "*your answer here*<br />\n",
    "<font color='blue'>\n",
    "<p style=\"text-indent: 25px;\"></p>\n",
    "<p style=\"text-indent: 25px;\"></p>\n",
    "<p style=\"text-indent: 25px;\"></p>\n",
    "</font>"
   ]
  },
  {
   "cell_type": "markdown",
   "metadata": {},
   "source": [
    "**2.5** **Model 5: Bidirectional GRU**\n",
    "\n",
    "**2.5a** Explain how a Bidirectional GRU differs from GRU model above.\n",
    "\n"
   ]
  },
  {
   "cell_type": "markdown",
   "metadata": {},
   "source": [
    "*your answer here*<br />\n",
    "<font color='blue'>\n",
    "<p style=\"text-indent: 25px;\"></p>\n",
    "<p style=\"text-indent: 25px;\"></p>\n",
    "<p style=\"text-indent: 25px;\"></p>\n",
    "</font>"
   ]
  },
  {
   "cell_type": "markdown",
   "metadata": {},
   "source": [
    "**2.5b** Define, compile, and train a bidirectional GRU by wrapping your GRU layer in a Bidirectional one. Use the provided code to save the model and plot the training history.\n"
   ]
  },
  {
   "cell_type": "code",
   "execution_count": 49,
   "metadata": {},
   "outputs": [
    {
     "name": "stdout",
     "output_type": "stream",
     "text": [
      "Train on 38845 samples, validate on 4317 samples\n",
      "Epoch 1/10\n",
      "38845/38845 [==============================] - 73s 2ms/sample - loss: 0.0727 - accuracy: 0.9816 - val_loss: 0.0284 - val_accuracy: 0.9918\n",
      "Epoch 2/10\n",
      "38845/38845 [==============================] - 69s 2ms/sample - loss: 0.0241 - accuracy: 0.9929 - val_loss: 0.0247 - val_accuracy: 0.9928\n",
      "Epoch 3/10\n",
      "38845/38845 [==============================] - 68s 2ms/sample - loss: 0.0207 - accuracy: 0.9939 - val_loss: 0.0233 - val_accuracy: 0.9930\n",
      "Epoch 4/10\n",
      "38845/38845 [==============================] - 68s 2ms/sample - loss: 0.0189 - accuracy: 0.9944 - val_loss: 0.0231 - val_accuracy: 0.9932\n",
      "Epoch 5/10\n",
      "38845/38845 [==============================] - 68s 2ms/sample - loss: 0.0176 - accuracy: 0.9948 - val_loss: 0.0225 - val_accuracy: 0.9934\n",
      "Epoch 6/10\n",
      "38845/38845 [==============================] - 68s 2ms/sample - loss: 0.0166 - accuracy: 0.9951 - val_loss: 0.0221 - val_accuracy: 0.9934\n",
      "Epoch 7/10\n",
      "38845/38845 [==============================] - 69s 2ms/sample - loss: 0.0155 - accuracy: 0.9953 - val_loss: 0.0222 - val_accuracy: 0.9934\n",
      "Epoch 8/10\n",
      "38845/38845 [==============================] - 69s 2ms/sample - loss: 0.0146 - accuracy: 0.9956 - val_loss: 0.0221 - val_accuracy: 0.9935\n",
      "Epoch 9/10\n",
      "38845/38845 [==============================] - 69s 2ms/sample - loss: 0.0137 - accuracy: 0.9959 - val_loss: 0.0238 - val_accuracy: 0.9929\n",
      "Epoch 10/10\n",
      "38845/38845 [==============================] - 69s 2ms/sample - loss: 0.0129 - accuracy: 0.9961 - val_loss: 0.0232 - val_accuracy: 0.9933\n",
      "Accuracy: 99.34%\n"
     ]
    }
   ],
   "source": [
    "# your code here\n",
    "model = Sequential(name='modelBiGRU')\n",
    "model.add(Embedding(input_dim=n_words, output_dim=dim_embed, input_length=max_len, name='Embedding'))\n",
    "model.add(Dropout(drop_rate, name='Dropout'))\n",
    "model.add(Bidirectional(GRU(n_units, return_sequences=True), name='layerBiGRU'))\n",
    "model.add(TimeDistributed(Dense(n_tags, activation=\"softmax\"), name='TimeDisDense'))\n",
    "model.compile(optimizer=optimizer, loss=loss, metrics=metrics)\n",
    "\n",
    "history = model.fit(x_train, y_train, batch_size=batch_size, epochs=epochs, validation_split=validation_split, verbose=verbose)\n",
    "# Final evaluation of the model\n",
    "scores = model.evaluate(x_test, y_test, verbose=0)\n",
    "print(\"Accuracy: %.2f%%\" % (scores[1]*100))"
   ]
  },
  {
   "cell_type": "code",
   "execution_count": 50,
   "metadata": {},
   "outputs": [
    {
     "name": "stdout",
     "output_type": "stream",
     "text": [
      "Saved model to disk\n"
     ]
    }
   ],
   "source": [
    "# save your model #\n",
    "store_keras_model(model, 'model_BiGRU')"
   ]
  },
  {
   "cell_type": "code",
   "execution_count": 51,
   "metadata": {},
   "outputs": [
    {
     "name": "stdout",
     "output_type": "stream",
     "text": [
      "Model: \"modelBiGRU\"\n",
      "_________________________________________________________________\n",
      "Layer (type)                 Output Shape              Param #   \n",
      "=================================================================\n",
      "Embedding (Embedding)        (None, 104, 50)           1758950   \n",
      "_________________________________________________________________\n",
      "Dropout (Dropout)            (None, 104, 50)           0         \n",
      "_________________________________________________________________\n",
      "layerBiGRU (Bidirectional)   (None, 104, 200)          91200     \n",
      "_________________________________________________________________\n",
      "TimeDisDense (TimeDistribute (None, 104, 18)           3618      \n",
      "=================================================================\n",
      "Total params: 1,853,768\n",
      "Trainable params: 1,853,768\n",
      "Non-trainable params: 0\n",
      "_________________________________________________________________\n",
      "None\n"
     ]
    }
   ],
   "source": [
    "# run this cell to show your results #\n",
    "print(model.summary())"
   ]
  },
  {
   "cell_type": "code",
   "execution_count": 52,
   "metadata": {},
   "outputs": [
    {
     "data": {
      "image/png": "[encoded data removed]",
      "text/plain": [
       "<Figure size 432x288 with 1 Axes>"
      ]
     },
     "metadata": {
      "needs_background": "light"
     },
     "output_type": "display_data"
    }
   ],
   "source": [
    "# run this cell to show your results #\n",
    "plot_training_history(history)"
   ]
  },
  {
   "cell_type": "markdown",
   "metadata": {},
   "source": [
    "**2.5c** Visualize outputs from bidirectional GRU layer, one subplot for **B-tags** and one subplot for **I-tags**. Comment on the patterns you observed."
   ]
  },
  {
   "cell_type": "code",
   "execution_count": 53,
   "metadata": {},
   "outputs": [
    {
     "name": "stdout",
     "output_type": "stream",
     "text": [
      "Variance explained by PCA: 0.814357969761071\n"
     ]
    },
    {
     "data": {
      "image/png": "[encoded data removed]",
      "text/plain": [
       "<Figure size 864x432 with 2 Axes>"
      ]
     },
     "metadata": {
      "needs_background": "light"
     },
     "output_type": "display_data"
    }
   ],
   "source": [
    "# your code here\n",
    "mBiGRU = load_keras_model(\"model_BiGRU\")\n",
    "h = get_hidden_output_PCA(mBiGRU,x_test,y_test,1,50)\n",
    "visualize_B_I(h)"
   ]
  },
  {
   "cell_type": "markdown",
   "metadata": {},
   "source": [
    "*your answer here*<br />\n",
    "<font color='blue'>\n",
    "<p style=\"text-indent: 25px;\"></p>\n",
    "<p style=\"text-indent: 25px;\"></p>\n",
    "<p style=\"text-indent: 25px;\"></p>\n",
    "</font>"
   ]
  },
  {
   "cell_type": "markdown",
   "metadata": {},
   "source": [
    "<div class='exercise'><b> Question 3: Analysis [40pt]</b></div>\n"
   ]
  },
  {
   "cell_type": "markdown",
   "metadata": {},
   "source": [
    "**3.1** For each model, iteratively:\n",
    "\n",
    "- Load the model using the given function ```load_keras_model```\n",
    "\n",
    "- Apply the model to the test dataset\n",
    "\n",
    "- Compute an F1 score for each ```Tag``` and store it \n",
    "\n",
    "**3.2** Plot the F1 score per Tag and per model making use of a grouped barplot.\n",
    "\n",
    "**3.3** Briefly discuss the performance of each model\n",
    "\n",
    "\n",
    "**3.4** Which tags have the lowest f1 score? For instance, you may find from the plot above that the test accuracy on \"B-art\", and \"I-art\" are very low (just an example, your case maybe different). Here is an example when models failed to predict these tags right\n",
    "\n",
    "<img src=\"../data/B_art.png\" alt=\"drawing\" width=\"600\"/>\n",
    "\n",
    "**3.5** Write functions to output another example in which the tags of the lowest accuracy was predicted wrong in a sentence (include both \"B-xxx\" and \"I-xxx\" tags). Store the results in a DataFrame (same format as the above example) and use styling functions below to print out your df.\n",
    "\n",
    "**3.6** Choose one of the most promising models you have built, improve this model to achieve an f1 score higher than 0.8 for as many tags as possible (you have lots of options here, e.g. data balancing, hyperparameter tuning, changing the structure of NN, a different optimizer, etc.)\n",
    "\n",
    "**3.7** Explain why you chose to change certain elements of the model and how effective these adjustments were.\n"
   ]
  },
  {
   "cell_type": "markdown",
   "metadata": {
    "colab_type": "text",
    "id": "hBtmANNuuS6h"
   },
   "source": [
    "## Answers"
   ]
  },
  {
   "cell_type": "markdown",
   "metadata": {},
   "source": [
    "**3.1** For each model, iteratively:\n",
    "\n",
    "- Load the model using the given function ```load_keras_model```\n",
    "\n",
    "- Apply the model to the test dataset\n",
    "\n",
    "- Compute an F1 score for each ```Tag``` and store it "
   ]
  },
  {
   "cell_type": "code",
   "execution_count": 25,
   "metadata": {},
   "outputs": [
    {
     "name": "stderr",
     "output_type": "stream",
     "text": [
      "/usr/share/anaconda3/lib/python3.7/site-packages/sklearn/metrics/classification.py:1437: UndefinedMetricWarning: F-score is ill-defined and being set to 0.0 in labels with no predicted samples.\n",
      "  'precision', 'predicted', average, warn_for)\n"
     ]
    },
    {
     "data": {
      "text/html": [
       "<div>\n",
       "<style scoped>\n",
       "    .dataframe tbody tr th:only-of-type {\n",
       "        vertical-align: middle;\n",
       "    }\n",
       "\n",
       "    .dataframe tbody tr th {\n",
       "        vertical-align: top;\n",
       "    }\n",
       "\n",
       "    .dataframe thead th {\n",
       "        text-align: right;\n",
       "    }\n",
       "</style>\n",
       "<table border=\"1\" class=\"dataframe\">\n",
       "  <thead>\n",
       "    <tr style=\"text-align: right;\">\n",
       "      <th></th>\n",
       "      <th>model_FFNN</th>\n",
       "      <th>model_RNN</th>\n",
       "      <th>model_GRU</th>\n",
       "      <th>model_BiGRU</th>\n",
       "    </tr>\n",
       "  </thead>\n",
       "  <tbody>\n",
       "    <tr>\n",
       "      <td>0</td>\n",
       "      <td>0.000000</td>\n",
       "      <td>0.000000</td>\n",
       "      <td>0.000000</td>\n",
       "      <td>0.000000</td>\n",
       "    </tr>\n",
       "    <tr>\n",
       "      <td>1</td>\n",
       "      <td>0.121212</td>\n",
       "      <td>0.133333</td>\n",
       "      <td>0.133333</td>\n",
       "      <td>0.181818</td>\n",
       "    </tr>\n",
       "    <tr>\n",
       "      <td>2</td>\n",
       "      <td>0.793651</td>\n",
       "      <td>0.847687</td>\n",
       "      <td>0.860091</td>\n",
       "      <td>0.879191</td>\n",
       "    </tr>\n",
       "    <tr>\n",
       "      <td>3</td>\n",
       "      <td>0.921723</td>\n",
       "      <td>0.940192</td>\n",
       "      <td>0.942379</td>\n",
       "      <td>0.952144</td>\n",
       "    </tr>\n",
       "    <tr>\n",
       "      <td>4</td>\n",
       "      <td>0.076923</td>\n",
       "      <td>0.275862</td>\n",
       "      <td>0.312500</td>\n",
       "      <td>0.303030</td>\n",
       "    </tr>\n",
       "    <tr>\n",
       "      <td>5</td>\n",
       "      <td>0.524386</td>\n",
       "      <td>0.650616</td>\n",
       "      <td>0.664065</td>\n",
       "      <td>0.743204</td>\n",
       "    </tr>\n",
       "    <tr>\n",
       "      <td>6</td>\n",
       "      <td>0.671062</td>\n",
       "      <td>0.812887</td>\n",
       "      <td>0.819733</td>\n",
       "      <td>0.832521</td>\n",
       "    </tr>\n",
       "    <tr>\n",
       "      <td>7</td>\n",
       "      <td>0.790210</td>\n",
       "      <td>0.856248</td>\n",
       "      <td>0.859990</td>\n",
       "      <td>0.899552</td>\n",
       "    </tr>\n",
       "    <tr>\n",
       "      <td>8</td>\n",
       "      <td>0.000000</td>\n",
       "      <td>0.000000</td>\n",
       "      <td>0.117647</td>\n",
       "      <td>0.000000</td>\n",
       "    </tr>\n",
       "    <tr>\n",
       "      <td>9</td>\n",
       "      <td>0.153846</td>\n",
       "      <td>0.000000</td>\n",
       "      <td>0.000000</td>\n",
       "      <td>0.285714</td>\n",
       "    </tr>\n",
       "    <tr>\n",
       "      <td>10</td>\n",
       "      <td>0.611155</td>\n",
       "      <td>0.794411</td>\n",
       "      <td>0.800528</td>\n",
       "      <td>0.813084</td>\n",
       "    </tr>\n",
       "    <tr>\n",
       "      <td>11</td>\n",
       "      <td>0.461538</td>\n",
       "      <td>0.615385</td>\n",
       "      <td>0.615385</td>\n",
       "      <td>0.615385</td>\n",
       "    </tr>\n",
       "    <tr>\n",
       "      <td>12</td>\n",
       "      <td>0.000000</td>\n",
       "      <td>0.200000</td>\n",
       "      <td>0.000000</td>\n",
       "      <td>0.000000</td>\n",
       "    </tr>\n",
       "    <tr>\n",
       "      <td>13</td>\n",
       "      <td>0.546688</td>\n",
       "      <td>0.757370</td>\n",
       "      <td>0.761415</td>\n",
       "      <td>0.785804</td>\n",
       "    </tr>\n",
       "    <tr>\n",
       "      <td>14</td>\n",
       "      <td>0.645051</td>\n",
       "      <td>0.858757</td>\n",
       "      <td>0.856377</td>\n",
       "      <td>0.862537</td>\n",
       "    </tr>\n",
       "    <tr>\n",
       "      <td>15</td>\n",
       "      <td>0.199234</td>\n",
       "      <td>0.693652</td>\n",
       "      <td>0.711434</td>\n",
       "      <td>0.764706</td>\n",
       "    </tr>\n",
       "    <tr>\n",
       "      <td>16</td>\n",
       "      <td>0.983127</td>\n",
       "      <td>0.988393</td>\n",
       "      <td>0.988409</td>\n",
       "      <td>0.991077</td>\n",
       "    </tr>\n",
       "    <tr>\n",
       "      <td>17</td>\n",
       "      <td>1.000000</td>\n",
       "      <td>1.000000</td>\n",
       "      <td>1.000000</td>\n",
       "      <td>1.000000</td>\n",
       "    </tr>\n",
       "  </tbody>\n",
       "</table>\n",
       "</div>"
      ],
      "text/plain": [
       "    model_FFNN  model_RNN  model_GRU  model_BiGRU\n",
       "0     0.000000   0.000000   0.000000     0.000000\n",
       "1     0.121212   0.133333   0.133333     0.181818\n",
       "2     0.793651   0.847687   0.860091     0.879191\n",
       "3     0.921723   0.940192   0.942379     0.952144\n",
       "4     0.076923   0.275862   0.312500     0.303030\n",
       "5     0.524386   0.650616   0.664065     0.743204\n",
       "6     0.671062   0.812887   0.819733     0.832521\n",
       "7     0.790210   0.856248   0.859990     0.899552\n",
       "8     0.000000   0.000000   0.117647     0.000000\n",
       "9     0.153846   0.000000   0.000000     0.285714\n",
       "10    0.611155   0.794411   0.800528     0.813084\n",
       "11    0.461538   0.615385   0.615385     0.615385\n",
       "12    0.000000   0.200000   0.000000     0.000000\n",
       "13    0.546688   0.757370   0.761415     0.785804\n",
       "14    0.645051   0.858757   0.856377     0.862537\n",
       "15    0.199234   0.693652   0.711434     0.764706\n",
       "16    0.983127   0.988393   0.988409     0.991077\n",
       "17    1.000000   1.000000   1.000000     1.000000"
      ]
     },
     "execution_count": 25,
     "metadata": {},
     "output_type": "execute_result"
    }
   ],
   "source": [
    "# your code here\n",
    "models = ('model_FFNN','model_RNN','model_GRU','model_BiGRU')\n",
    "\n",
    "f1score = pd.DataFrame()\n",
    "for i, name in enumerate(models):\n",
    "    model = load_keras_model(name)\n",
    "    p_test = model.predict(x_test)\n",
    "    \n",
    "    y_pred = np.empty(shape=p_test.shape, dtype = float)\n",
    "    for i in range(len(p_test)):\n",
    "        for j in range(len(p_test[i])):\n",
    "            for k in range(len(p_test[i][j])):\n",
    "                y_pred[i][j][k] = round(p_test[i][j][k])\n",
    "\n",
    "    score = f1_score(y_test.reshape(-1,18), y_pred.reshape(-1,18), average=None)\n",
    "    f1score[name] = score\n",
    "\n",
    "f1score"
   ]
  },
  {
   "cell_type": "markdown",
   "metadata": {},
   "source": [
    "**3.2** Plot the F1 score per Tag and per model making use of a grouped barplot."
   ]
  },
  {
   "cell_type": "code",
   "execution_count": 26,
   "metadata": {},
   "outputs": [
    {
     "data": {
      "image/png": "[encoded data removed]",
      "text/plain": [
       "<Figure size 1152x576 with 1 Axes>"
      ]
     },
     "metadata": {
      "needs_background": "light"
     },
     "output_type": "display_data"
    }
   ],
   "source": [
    "# your code here\n",
    "pos = list(float(i) for i in range(len(f1score)))\n",
    "w = 0.2\n",
    "\n",
    "fig, ax = plt.subplots(figsize=(16,8))\n",
    "plt.bar(pos,                    f1score['model_FFNN'], width=w, alpha=0.5, color='g', label='model_FFNN') \n",
    "plt.bar([p + w   for p in pos], f1score['model_RNN'], width=w, alpha=0.5, color='r', label='model_RNN')\n",
    "plt.bar([p + w*2 for p in pos], f1score['model_GRU'], width=w, alpha=0.5, color='b', label='model_GRU')\n",
    "plt.bar([p + w*3 for p in pos], f1score['model_BiGRU'], width=w, alpha=0.5, color='y', label='model_BiGRU')\n",
    "ax.set_title('F1 Score pre Tag per Model')\n",
    "ax.set_ylabel('F1 Score')\n",
    "ax.set_xlabel('Tag Index')\n",
    "ax.set_xticks([p + 1.5 * w for p in pos])\n",
    "ax.set_xticklabels(pos)\n",
    "plt.xlim(min(pos)-w, max(pos)+w*4)\n",
    "plt.legend(['model_FFNN', 'model_RNN', 'model_GRU', 'model_BiGRU'])\n",
    "plt.show()"
   ]
  },
  {
   "cell_type": "markdown",
   "metadata": {},
   "source": [
    "**3.3** Briefly discuss the performance of each model"
   ]
  },
  {
   "cell_type": "markdown",
   "metadata": {},
   "source": [
    "*your answer here*<br />\n",
    "<font color='blue'>\n",
    "<p style=\"text-indent: 25px;\"></p>\n",
    "<p style=\"text-indent: 25px;\"></p>\n",
    "<p style=\"text-indent: 25px;\"></p>\n",
    "</font>"
   ]
  },
  {
   "cell_type": "markdown",
   "metadata": {},
   "source": [
    "**3.4** Which tags have the lowest f1 score? For instance, you may find from the plot above that the test accuracy on \"B-art\", and \"I-art\" are very low (just an example, your case maybe different). Here is an example when models failed to predict these tags right\n",
    "\n",
    "<img src=\"../data/B_art.png\" alt=\"drawing\" width=\"600\"/>"
   ]
  },
  {
   "cell_type": "markdown",
   "metadata": {},
   "source": [
    "*your answer here*<br />\n",
    "<font color='blue'>\n",
    "<p style=\"text-indent: 25px;\"></p>\n",
    "<p style=\"text-indent: 25px;\"></p>\n",
    "<p style=\"text-indent: 25px;\"></p>\n",
    "</font>"
   ]
  },
  {
   "cell_type": "markdown",
   "metadata": {},
   "source": [
    "**3.5** Write functions to output another example in which the tags of the lowest accuracy was predicted wrong in a sentence (include both \"B-xxx\" and \"I-xxx\" tags). Store the results in a DataFrame (same format as the above example) and use styling functions below to print out your df."
   ]
  },
  {
   "cell_type": "code",
   "execution_count": null,
   "metadata": {},
   "outputs": [],
   "source": [
    "def highlight_errors(s):\n",
    "    is_max = s == s.y_true\n",
    "    return ['' if v or key=='Word' else 'color: red' for key,v in is_max.iteritems()]"
   ]
  },
  {
   "cell_type": "code",
   "execution_count": null,
   "metadata": {},
   "outputs": [],
   "source": [
    "# your code here\n"
   ]
  },
  {
   "cell_type": "code",
   "execution_count": null,
   "metadata": {},
   "outputs": [],
   "source": [
    "# your code here\n"
   ]
  },
  {
   "cell_type": "code",
   "execution_count": null,
   "metadata": {},
   "outputs": [],
   "source": [
    "# your code here\n"
   ]
  },
  {
   "cell_type": "markdown",
   "metadata": {},
   "source": [
    "**3.6** Choose one of the most promising models you have built, improve this model to achieve an f1 score higher than 0.8 for as many tags as possible (you have lots of options here, e.g. data balancing, hyperparameter tuning, changing the structure of NN, a different optimizer, etc.)"
   ]
  },
  {
   "cell_type": "code",
   "execution_count": null,
   "metadata": {},
   "outputs": [],
   "source": [
    "# your code here\n"
   ]
  },
  {
   "cell_type": "markdown",
   "metadata": {},
   "source": [
    "**3.7** Explain why you chose to change certain elements of the model and how effective these adjustments were."
   ]
  },
  {
   "cell_type": "markdown",
   "metadata": {},
   "source": [
    "*your answer here*<br />\n",
    "<font color='blue'>\n",
    "<p style=\"text-indent: 25px;\"></p>\n",
    "<p style=\"text-indent: 25px;\"></p>\n",
    "<p style=\"text-indent: 25px;\"></p>\n",
    "</font>"
   ]
  },
  {
   "cell_type": "code",
   "execution_count": null,
   "metadata": {},
   "outputs": [],
   "source": []
  }
 ],
 "metadata": {
  "kernelspec": {
   "display_name": "python3",
   "language": "python",
   "name": "python3"
  },
  "language_info": {
   "codemirror_mode": {
    "name": "ipython",
    "version": 3
   },
   "file_extension": ".py",
   "mimetype": "text/x-python",
   "name": "python",
   "nbconvert_exporter": "python",
   "pygments_lexer": "ipython3",
   "version": "3.7.4"
  }
 },
 "nbformat": 4,
 "nbformat_minor": 4
}
