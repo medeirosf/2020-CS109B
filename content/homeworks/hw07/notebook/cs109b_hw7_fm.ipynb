{
 "cells": [
  {
   "cell_type": "markdown",
   "metadata": {
    "deletable": false,
    "editable": false
   },
   "source": [
    "# <img style=\"float: left; padding-right: 10px; width: 45px\" src=\"https://raw.githubusercontent.com/Harvard-IACS/2018-CS109A/master/content/styles/iacs.png\"> CS109B Data Science 2: Advanced Topics in Data Science \n",
    "\n",
    "##  Homework 7: Generative Models - Variational Autoencoders and GANs [100 pts]\n",
    "\n",
    "\n",
    "**Harvard University**<br/>\n",
    "**Spring 2020**<br/>\n",
    "**Instructors**: Pavlos Protopapas, Mark Glickman and Chris Tanner<br/>\n",
    "\n",
    "**DISCLAIMER**: No public reproduction of this homework nor its solution is allowed without the explicit consent of their authors.\n",
    "\n",
    "<hr style=\"height:2pt\">\n",
    "\n",
    "---\n",
    "\n"
   ]
  },
  {
   "cell_type": "code",
   "execution_count": 1,
   "metadata": {
    "deletable": false,
    "editable": false
   },
   "outputs": [
    {
     "data": {
      "text/html": [
       "<style>\n",
       "blockquote { background: #AEDE94; }\n",
       "h1 { \n",
       "    padding-top: 25px;\n",
       "    padding-bottom: 25px;\n",
       "    text-align: left; \n",
       "    padding-left: 10px;\n",
       "    background-color: #DDDDDD; \n",
       "    color: black;\n",
       "}\n",
       "h2 { \n",
       "    padding-top: 10px;\n",
       "    padding-bottom: 10px;\n",
       "    text-align: left; \n",
       "    padding-left: 5px;\n",
       "    background-color: #EEEEEE; \n",
       "    color: black;\n",
       "}\n",
       "\n",
       "div.exercise {\n",
       "\tbackground-color: #ffcccc;\n",
       "\tborder-color: #E9967A; \t\n",
       "\tborder-left: 5px solid #800080; \n",
       "\tpadding: 0.5em;\n",
       "}\n",
       "\n",
       "span.sub-q {\n",
       "\tfont-weight: bold;\n",
       "}\n",
       "div.theme {\n",
       "\tbackground-color: #DDDDDD;\n",
       "\tborder-color: #E9967A; \t\n",
       "\tborder-left: 5px solid #800080; \n",
       "\tpadding: 0.5em;\n",
       "\tfont-size: 18pt;\n",
       "}\n",
       "div.gc { \n",
       "\tbackground-color: #AEDE94;\n",
       "\tborder-color: #E9967A; \t \n",
       "\tborder-left: 5px solid #800080; \n",
       "\tpadding: 0.5em;\n",
       "\tfont-size: 12pt;\n",
       "}\n",
       "p.q1 { \n",
       "    padding-top: 5px;\n",
       "    padding-bottom: 5px;\n",
       "    text-align: left; \n",
       "    padding-left: 5px;\n",
       "    background-color: #EEEEEE; \n",
       "    color: black;\n",
       "}\n",
       "header {\n",
       "   padding-top: 35px;\n",
       "    padding-bottom: 35px;\n",
       "    text-align: left; \n",
       "    padding-left: 10px;\n",
       "    background-color: #DDDDDD; \n",
       "    color: black;\n",
       "}\n",
       "</style>\n",
       "\n"
      ],
      "text/plain": [
       "<IPython.core.display.HTML object>"
      ]
     },
     "execution_count": 1,
     "metadata": {},
     "output_type": "execute_result"
    }
   ],
   "source": [
    "#RUN THIS CELL \n",
    "import requests\n",
    "from IPython.core.display import HTML, display\n",
    "styles = requests.get(\"https://raw.githubusercontent.com/Harvard-IACS/2018-CS109A/master/content/styles/cs109.css\").text\n",
    "HTML(styles)"
   ]
  },
  {
   "cell_type": "markdown",
   "metadata": {
    "deletable": false,
    "editable": false
   },
   "source": [
    "### INSTRUCTIONS\n",
    "\n",
    "- To submit your assignment follow the instructions given in Canvas.\n",
    "- For this homework **you do NOT need to restart the kernel and run the whole notebook again before you submit**.\n",
    "- **You should SAVE your models, and do not retrain on notebook reruns**.\n",
    "- In this homework we import general keras library objects. Feel free to experiment and use different layers, optimizers, random initializers... whater you like using from the core libraries we import.\n",
    "- Do not submit a notebook that is excessively long because output was not suppressed or otherwise limited. "
   ]
  },
  {
   "cell_type": "markdown",
   "metadata": {
    "deletable": false,
    "editable": false
   },
   "source": [
    "---"
   ]
  },
  {
   "cell_type": "markdown",
   "metadata": {
    "deletable": false,
    "editable": false
   },
   "source": [
    "<div class=\"theme\"> Overview </div> \n",
    "\n",
    "We are going to compare autoencoders (AEs), variational autoencoders (VAEs) and generative adversarial networks (GANs). The goal is to understand the particularities of each model and to learn how to build them. \n",
    "\n",
    "In addition to standard VAEs, we will also study conditional VAEs. Conditional VAEs incorporate input attributes on the latent representation of an input, providing some structure in the latent space. We will analyze how conditioal VAEs are capable of generating new photos according that depend on specified attributes. \n",
    "\n",
    "We are going to train our networks using [CelebA](http://mmlab.ie.cuhk.edu.hk/projects/CelebA.html), which is a large-scale face attributes dataset with more than 200K celebrity images and 40 different attribute annotations.\n",
    "\n",
    "Run the following cell to load important libraries."
   ]
  },
  {
   "cell_type": "code",
   "execution_count": 2,
   "metadata": {
    "deletable": false,
    "editable": false
   },
   "outputs": [],
   "source": [
    "# Load useful libraries\n",
    "import numpy as np\n",
    "import pandas as pd\n",
    "import time\n",
    "from sklearn.model_selection import train_test_split\n",
    "from sklearn.decomposition import PCA\n",
    "from sklearn.manifold import TSNE\n",
    "\n",
    "# TensorFlow and tf.keras\n",
    "import tensorflow as tf\n",
    "from tensorflow.keras import backend as K\n",
    "from tensorflow.keras import layers\n",
    "from tensorflow.keras import models\n",
    "from tensorflow.keras import losses\n",
    "from tensorflow.keras import optimizers\n",
    "from tensorflow.keras import initializers\n",
    "from tensorflow.keras.metrics import *\n",
    "\n",
    "# Plotting libraries\n",
    "import matplotlib.pyplot as plt\n",
    "plt.gray()"
   ]
  },
  {
   "cell_type": "markdown",
   "metadata": {
    "deletable": false,
    "editable": false
   },
   "source": [
    "**Check availability of GPU**\n",
    "\n",
    "Run this line to verify your instance is lists an available GPU."
   ]
  },
  {
   "cell_type": "code",
   "execution_count": 3,
   "metadata": {
    "deletable": false,
    "editable": false
   },
   "outputs": [
    {
     "data": {
      "text/plain": [
       "[PhysicalDevice(name='/physical_device:GPU:0', device_type='GPU')]"
      ]
     },
     "execution_count": 3,
     "metadata": {},
     "output_type": "execute_result"
    }
   ],
   "source": [
    "tf.config.experimental.list_physical_devices('GPU')"
   ]
  },
  {
   "cell_type": "markdown",
   "metadata": {
    "deletable": false,
    "editable": false
   },
   "source": [
    "---"
   ]
  },
  {
   "cell_type": "markdown",
   "metadata": {
    "deletable": false,
    "editable": false
   },
   "source": [
    "**Dowload CelebA Dataset**\n",
    "\n",
    "Make sure to have `tensorflow_datasets` installed on version 2.1.0 before running following cell. You can install by running the following code on a **terminal** (not from Jupyter):\n",
    "\n",
    "```pip install tensorflow_datasets==2.1.0```\n",
    "\n",
    "Download CelebA if you have not downloaded it already. You can use the following line to download manually from a **terminal**:\n",
    "\n",
    "```wget https://cs109b2020.s3.amazonaws.com/2.0.0.zip```\n",
    "\n",
    "Uncompress it under ```~/tensorflow_datasets/celeb_a/2.0.0/```.\n"
   ]
  },
  {
   "cell_type": "code",
   "execution_count": 4,
   "metadata": {
    "deletable": false,
    "editable": false
   },
   "outputs": [],
   "source": [
    "# Run this cell\n",
    "# Assumes CelebA has been manually downloaded and is available in `~/tensorflow_datasets/celeb_a/2.0.0/`.\n",
    "\n",
    "import tensorflow_datasets as tfds\n",
    "\n",
    "train_celeb, val_celeb = tfds.load('celeb_a', split=['train', 'validation'], shuffle_files=False, download=False)"
   ]
  },
  {
   "cell_type": "code",
   "execution_count": 5,
   "metadata": {
    "deletable": false,
    "editable": false
   },
   "outputs": [],
   "source": [
    "# Global variables to define training/loading models. \n",
    "# Modify as required. These are only suggested parameters.\n",
    "\n",
    "train = True\n",
    "epochs = 5  # number of epochs to train models\n",
    "batch_size = 32\n",
    "input_size = (64, 64, 3)  # images will be cropped and resized to `input_size`."
   ]
  },
  {
   "cell_type": "markdown",
   "metadata": {
    "deletable": false,
    "editable": false
   },
   "source": [
    "---"
   ]
  },
  {
   "cell_type": "markdown",
   "metadata": {
    "deletable": false,
    "editable": false
   },
   "source": [
    "## <div class='exercise'><b>Question 1: Preprocess and visualize the data [20 pts]</b></div>\n",
    "\n",
    "CelebA has 202,599 face images of various celebrities and training on the whole set requires large computational resources to fit your models. For this reason we recommend cropping the images and resizing them to reduce to computational costs. Feel free to adjust the images resolution depending on your computation capabilities. We recommend using `image_size = (64,64,3)`, but feel free to use a larger resolution, or smaller, up to `image_size = (32,32,3)`. \n",
    "\n",
    "We provide the function `tf_norm_crop_resize_image` to normalize image pixels between `[0,1]`, to crop the height and width of images to `150x150` pixels, and to [resize](https://www.tensorflow.org/api_docs/python/tf/image/resize) images to the indicated size in the function call. Follow the intructions below to format your data for the different models you will need to train:\n",
    "\n",
    "**1.1** Create training and validation Dataset pipelines `train_ds` and `val_ds` from `train_celeb` and `val_celeb`, respectively. The Dataset pipelines you create have to return a tuple `(image, image)` which you will use to train your models with an MSE loss criteria: the first element is the input fed to the model, the second element is used to compute the loss of the model.\n",
    "\n",
    "Make sure the Datasets follow this pipeline: 1) normalize, crop, resize and follows format (use [map](https://www.tensorflow.org/api_docs/python/tf/data/Dataset#map)), 2) [shuffle](https://www.tensorflow.org/api_docs/python/tf/data/Dataset#shuffle), 3) [batch](https://www.tensorflow.org/api_docs/python/tf/data/Dataset#batch), and 4) [prefetch](https://www.tensorflow.org/api_docs/python/tf/data/Dataset#prefetch) (optional).  \n",
    "\n",
    "**1.2** Create training and validation Dataset pipelines `train_cond_ds` and `val_cond_ds` from `train_celeb` and `val_celeb`, respectively. The Dataset pipelines you create have to return a tuple `((image, attributes), image)` to train your conditional VAE model. The first element of the tuple corresponds to the input of the model and consists of two tensors: the image and 2 selected attributes of your choice (for example, `Male` and `Smiling` attributes). You can choose your attributes from the ones [available](https://www.tensorflow.org/datasets/catalog/celeb_a). Make sure the attributes you use are easily identifiable in the images because you will need to alter them and expect visual changes (see Question 4.3). Convert the boolean attributes to `tf.float32` using [`tf.cast`](https://www.tensorflow.org/api_docs/python/tf/cast).\n",
    "\n",
    "Make sure the Datasets follow this pipeline: 1) normalize, crop, resize and satisfies input-output format (use [map](https://www.tensorflow.org/api_docs/python/tf/data/Dataset#map)), 2) [shuffle](https://www.tensorflow.org/api_docs/python/tf/data/Dataset#shuffle), 3) [batch](https://www.tensorflow.org/api_docs/python/tf/data/Dataset#batch), and 4) [prefetch](https://www.tensorflow.org/api_docs/python/tf/data/Dataset#prefetch) (optional). \n",
    "\n",
    "**1.3** Pick 5 random images from the train dataset and plot them. List the attributes from these images and verify they are correct.\n",
    "\n",
    "\n",
    "**Final Note:** \n",
    "When training your models, if you find that the training set is too large and models take too long to train, you may select a portion of the train set and use that only. Adjust this value on your [Dataset](https://www.tensorflow.org/api_docs/python/tf/data/Dataset) pipeline by using the method [`take`](https://www.tensorflow.org/api_docs/python/tf/data/Dataset#take). Make sure that your delivered images with AE, VAEs, CVAE and GAN look nice. For reference, out solution took 100 min to train in JupyterHub for all models, and 70 min in Colab, from beginning to end, on the full training data."
   ]
  },
  {
   "cell_type": "code",
   "execution_count": 6,
   "metadata": {
    "deletable": false,
    "editable": false
   },
   "outputs": [],
   "source": [
    "# DO NOT DELETE THIS CELL\n",
    "# Use this function to normalize, crop and resize your images.\n",
    "def tf_norm_crop_resize_image(image, resize_dim):\n",
    "    \"\"\"Normalizes image to [0.,1.], crops to dims (150, 150, 3)\n",
    "    and resizes to `resize_dim`, returning an image tensor.\"\"\"\n",
    "    image = tf.cast(image, tf.float32)/255.\n",
    "    image = tf.image.resize_with_crop_or_pad(image, 150, 150)\n",
    "    image = tf.image.resize(image, resize_dim)\n",
    "    image.set_shape(resize_dim + (3,))\n",
    "    return image"
   ]
  },
  {
   "cell_type": "markdown",
   "metadata": {
    "deletable": false,
    "editable": false
   },
   "source": [
    "## Answers"
   ]
  },
  {
   "cell_type": "markdown",
   "metadata": {
    "deletable": false
   },
   "source": [
    "**1.1** Create training and validation Dataset pipelines `train_ds` and `val_ds` from `train_celeb` and `val_celeb`, respectively. The Dataset pipelines you create have to return a tuple `(image, image)` which you will use to train your models with an MSE loss criteria: the first element is the input fed to the model, the second element is used to compute the loss of the model.\n",
    "\n",
    "Make sure the Datasets follow this pipeline: 1) normalize, crop, resize and follows format (use [map](https://www.tensorflow.org/api_docs/python/tf/data/Dataset#map)), 2) [shuffle](https://www.tensorflow.org/api_docs/python/tf/data/Dataset#shuffle), 3) [batch](https://www.tensorflow.org/api_docs/python/tf/data/Dataset#batch), and 4) [prefetch](https://www.tensorflow.org/api_docs/python/tf/data/Dataset#prefetch) (optional).  "
   ]
  },
  {
   "cell_type": "code",
   "execution_count": 7,
   "metadata": {
    "deletable": false
   },
   "outputs": [],
   "source": [
    "# 1.1\n",
    "# your code here\n",
    "def tf_image_tuple(element):\n",
    "    image = element['image']\n",
    "    image = tf_norm_crop_resize_image(image, (32,32))\n",
    "    return (image, image)\n",
    "\n",
    "train_ds = train_celeb.map(tf_image_tuple).shuffle(165000).batch(32).prefetch(2)\n",
    "val_ds = val_celeb.map(tf_image_tuple).shuffle(20000).batch(32).prefetch(2)"
   ]
  },
  {
   "cell_type": "markdown",
   "metadata": {
    "deletable": false
   },
   "source": [
    "**1.2** Create training and validation Dataset pipelines `train_cond_ds` and `val_cond_ds` from `train_celeb` and `val_celeb`, respectively. The Dataset pipelines you create have to return a tuple `((image, attributes), image)` to train your conditional VAE model. The first element of the tuple corresponds to the input of the model and consists of two tensors: the image and 2 selected attributes of your choice (for example, `Male` and `Smiling` attributes). You can choose your attributes from the ones [available](https://www.tensorflow.org/datasets/catalog/celeb_a). Make sure the attributes you use are easily identifiable in the images because you will need to alter them and expect visual changes (see Question 4.3). Convert the boolean attributes to `tf.float32` using [`tf.cast`](https://www.tensorflow.org/api_docs/python/tf/cast).\n",
    "\n",
    "Make sure the Datasets follow this pipeline: 1) normalize, crop, resize and satisfies input-output format (use [map](https://www.tensorflow.org/api_docs/python/tf/data/Dataset#map)), 2) [shuffle](https://www.tensorflow.org/api_docs/python/tf/data/Dataset#shuffle), 3) [batch](https://www.tensorflow.org/api_docs/python/tf/data/Dataset#batch), and 4) [prefetch](https://www.tensorflow.org/api_docs/python/tf/data/Dataset#prefetch) (optional). "
   ]
  },
  {
   "cell_type": "code",
   "execution_count": 8,
   "metadata": {
    "deletable": false
   },
   "outputs": [],
   "source": [
    "# 1.2\n",
    "# your code here\n",
    "def tf_image_attr_tuple(element):\n",
    "    image = element['image']\n",
    "    image = tf_norm_crop_resize_image(image, (32,32))\n",
    "    y = element['attributes']\n",
    "    attr1 = y['Brown_Hair']\n",
    "    attr2 = y['Wavy_Hair']\n",
    "    attr = [attr1,attr2]\n",
    "    return ((image, attr), image)\n",
    "\n",
    "train_cond_ds = train_celeb.map(tf_image_attr_tuple).shuffle(165000).batch(32).prefetch(2)\n",
    "val_cond_ds = val_celeb.map(tf_image_attr_tuple).shuffle(20000).batch(32).prefetch(2)"
   ]
  },
  {
   "cell_type": "markdown",
   "metadata": {
    "deletable": false
   },
   "source": [
    "**1.3** Pick 5 random images from the train dataset and plot them. List the attributes from these images and verify they are correct.\n",
    "\n",
    "\n",
    "**Final Note:** \n",
    "When training your models, if you find that the training set is too large and models take too long to train, you may select a portion of the train set and use that only. Adjust this value on your [Dataset](https://www.tensorflow.org/api_docs/python/tf/data/Dataset) pipeline by using the method [`take`](https://www.tensorflow.org/api_docs/python/tf/data/Dataset#take). Make sure that your delivered images with AE, VAEs, CVAE and GAN look nice. For reference, out solution took 100 min to train in JupyterHub for all models, and 70 min in Colab, from beginning to end, on the full training data."
   ]
  },
  {
   "cell_type": "code",
   "execution_count": 9,
   "metadata": {
    "deletable": false
   },
   "outputs": [
    {
     "data": {
      "image/png": "[encoded data removed]",
      "text/plain": [
       "<Figure size 1440x1440 with 5 Axes>"
      ]
     },
     "metadata": {
      "needs_background": "light"
     },
     "output_type": "display_data"
    }
   ],
   "source": [
    "# 1.3\n",
    "# your code here\n",
    "def change_boolean(x):\n",
    "    if x== True:\n",
    "         return 'Yes'\n",
    "    else:\n",
    "        return 'No'\n",
    "\n",
    "train_set = train_celeb.map(tf_image_attr_tuple).take(5)\n",
    "\n",
    "fig, axes = plt.subplots(1,5, figsize=(20,20))\n",
    "for i, ((image, labels), image2) in enumerate(train_set):\n",
    "    axes[i].imshow(image)\n",
    "    title = 'Brown_Hair:' + str(change_boolean(labels[0])) + ' Wavy_Hair:' + str(change_boolean(labels[1]))\n",
    "    axes[i].set_title(title)\n",
    "plt.show();"
   ]
  },
  {
   "cell_type": "markdown",
   "metadata": {
    "deletable": false,
    "editable": false
   },
   "source": [
    "---"
   ]
  },
  {
   "cell_type": "markdown",
   "metadata": {
    "deletable": false,
    "editable": false
   },
   "source": [
    "<div class='exercise'> <b> Question 2: Set-up an AutoEncoder [20 points] </b> </div>\n",
    "\n",
    "**Define custom convolutional layers**\n",
    "\n",
    "We provide below the skeleton of a custom keras layer that you need to complete to build the following models. You should read the Keras [guidelines](https://www.tensorflow.org/guide/keras/custom_layers_and_models) on how to build custom layers. You are required to fill the specific methods indicated below on each part.\n",
    "\n",
    "You will then construct an autoencoder using both custom layers, and visualize the AE image reconstruction and latent spaces.\n",
    "\n",
    "**2.1** Setup a custom layer consisting of convolutional layers and complete the `__init__` and `call` methods of the `ConvEncoder` class. We recommend to use 4 convolutional layers and dropout layers alternatively, filters of size 5x5, 'relu' activations, 'same' padding, `[9, 18, 32, 64]` channels respectively on each layer, and strides of 2x2. The intention is to halve the spatial dimensions on each convolutional layer while augmenting the number of channels on deeper layers.\n",
    "\n",
    "You will use this layer repeatedly when building your subsequent models.\n",
    "\n",
    "**2.2** Setup a custom layer consisting of convolutional layers and complete the `__init__` and `call` methods of the `ConvDecoder` class. We will refer to the input dimension of this layer as `latent_dim`. Make sure the output dimension of this layer is equal to the input dimension of your images, i.e., (64,64,3) if you followed our recommendation.\n",
    "\n",
    "We recommend using `Conv2DTranspose` layers instead of `Conv2D` similar to `ConvEncoder`. Using `Conv2DTranspose` will have the desired effect in terms of inverting previous operations; for example, setting a stride of 2x2 will double the output size of the input.\n",
    "\n",
    "**2.3** Create a Keras model `AE`. Use the previously defined `ConvEncoder` and `ConvDecoder` layer classes you just completed to build your autoencoder. Between these layers, [flatten](https://www.tensorflow.org/api_docs/python/tf/keras/layers/Flatten) the input and incorporate two intermediate [Dense](https://www.tensorflow.org/api_docs/python/tf/keras/layers/Dense), and [reshape](https://www.tensorflow.org/api_docs/python/tf/keras/layers/Reshape) layers. More precisely, use the following architecture:\n",
    "- Input image.\n",
    "- ConvEncoder layer.\n",
    "- Flatten layer.\n",
    "- **Dense layer with linear activation** and `bottleneck_dim=128` units (recommended dimension).\n",
    "- **Dense layer with ReLu activation**.\n",
    "- Reshape layer to `latent_dim`.\n",
    "- ConvDecoder layer.\n",
    "\n",
    "**2.4** Why do we suggest the first dense layer after the `ConvEncoder` layer use `linear` activation in the `AE` model? Is it necessary requirement or not? Explain your answer.\n",
    "\n",
    "**2.5** Train the `AE` model (use MSE loss criterion and an optimizer of your choice). We found 5 epochs sufficed to train our model (feel free to adjust this value). Print a summary of the model. \n",
    "\n",
    "**We recommend [saving](https://www.tensorflow.org/tutorials/keras/save_and_load) the trained model**.\n",
    "\n",
    "**2.6** Visualize 5 random original and reconstructed images fed to the autoencoder from the validation data.\n",
    "\n",
    "**2.7** Visualize the first 2 [principal components](https://scikit-learn.org/stable/modules/generated/sklearn.decomposition.PCA.html) and [t-SNE](https://scikit-learn.org/stable/modules/generated/sklearn.manifold.TSNE.html) projection onto the plane of the latent representation of the validation images. Use the representation after the first dense layer where `bottleneck_dim=128` to compute the PCs and t-SNE projections. Retrieve at least `1024` images and color each input by class type, for example, `Male` and `Smiling` (if these where your chosen attributes), for **each scatter plot visualization** and attributes. You need to present 4 scatter plots in total. Explain your results."
   ]
  },
  {
   "cell_type": "markdown",
   "metadata": {
    "deletable": false,
    "editable": false
   },
   "source": [
    "## Answers"
   ]
  },
  {
   "cell_type": "markdown",
   "metadata": {
    "deletable": false
   },
   "source": [
    "**2.1** Setup a custom layer consisting of convolutional layers and complete the `__init__` and `call` methods of the `ConvEncoder` class. We recommend to use 4 convolutional layers and dropout layers alternatively, filters of size 5x5, 'relu' activations, 'same' padding, `[9, 18, 32, 64]` channels respectively on each layer, and strides of 2x2. The intention is to halve the spatial dimensions on each convolutional layer while augmenting the number of channels on deeper layers.\n",
    "\n",
    "You will use this layer repeatedly when building your subsequent models."
   ]
  },
  {
   "cell_type": "code",
   "execution_count": 10,
   "metadata": {
    "deletable": false
   },
   "outputs": [],
   "source": [
    "# 2.1\n",
    "\n",
    "class ConvEncoder(layers.Layer):\n",
    "    \"\"\"\n",
    "    Convolutional Encoder Layer Class.\n",
    "    Converts an input into a latent representation.\n",
    "    \"\"\"\n",
    "\n",
    "    def __init__(self, input_shape, dropout_rate=0.0, name='encoder', **kwargs):\n",
    "        \"\"\"\n",
    "        Initializes the encoder layers and saves them as local attribute.\n",
    "        \n",
    "        Input:\n",
    "        -input_dim: 3D-tuple with (rows, cols, channels) input image dimensions.\n",
    "        \n",
    "        Returns nothing.\n",
    "        \"\"\"\n",
    "        super(ConvEncoder, self).__init__(name=name, input_shape=input_shape, **kwargs)\n",
    "        \n",
    "        ## your code here\n",
    "        \n",
    "        self.Conv2D_1 = layers.Conv2D(9, (5, 5), padding='same', strides=(2, 2), activation='relu',\n",
    "                                      input_shape=input_shape)\n",
    "        self.Dropout_1_1 = layers.Dropout(rate=dropout_rate)\n",
    "        self.Conv2D_2 = layers.Conv2D(18, (5, 5), padding='same', strides=(2, 2), activation='relu')\n",
    "        self.Dropout_1_2 = layers.Dropout(rate=dropout_rate)\n",
    "        self.Conv2D_3 = layers.Conv2D(32, (5, 5), padding='same', strides=(2, 2), activation='relu')\n",
    "        self.Dropout_1_3 = layers.Dropout(rate=dropout_rate)\n",
    "        self.Conv2D_4 = layers.Conv2D(64, (5, 5), padding='same', strides=(2, 2), activation='relu')\n",
    "        self.Dropout_1_4 = layers.Dropout(rate=dropout_rate)\n",
    "        \n",
    "        # end of your code here\n",
    "        \n",
    "\n",
    "    def call(self, inputs, training=None):\n",
    "        \"\"\"\n",
    "        Runs the encoding inference for `inputs`.\n",
    "        \n",
    "        Inputs:\n",
    "        -inputs: 4D-tensor with dimension (batch_size, self.input_dim).\n",
    "        \"\"\"\n",
    "        ## your code here\n",
    "        \n",
    "        z = self.Conv2D_1(inputs)\n",
    "        z = self.Dropout_1_1(z)\n",
    "        z = self.Conv2D_2(z)\n",
    "        z = self.Dropout_1_2(z)\n",
    "        z = self.Conv2D_3(z)\n",
    "        z = self.Dropout_1_3(z)\n",
    "        z = self.Conv2D_4(z)\n",
    "        z = self.Dropout_1_4(z)\n",
    "        \n",
    "        # end of your code here\n",
    "        return z"
   ]
  },
  {
   "cell_type": "markdown",
   "metadata": {
    "deletable": false
   },
   "source": [
    "**2.2** Setup a custom layer consisting of convolutional layers and complete the `__init__` and `call` methods of the `ConvDecoder` class. We will refer to the input dimension of this layer as `latent_dim`. Make sure the output dimension of this layer is equal to the input dimension of your images, i.e., (64,64,3) if you followed our recommendation.\n",
    "\n",
    "We recommend using `Conv2DTranspose` layers instead of `Conv2D` similar to `ConvEncoder`. Using `Conv2DTranspose` will have the desired effect in terms of inverting previous operations; for example, setting a stride of 2x2 will double the output size of the input."
   ]
  },
  {
   "cell_type": "code",
   "execution_count": 11,
   "metadata": {
    "deletable": false
   },
   "outputs": [],
   "source": [
    "# 2.2\n",
    "\n",
    "class ConvDecoder(layers.Layer):\n",
    "    \"\"\"\n",
    "    Convolutional Decoder Layer Class.\n",
    "    Converts z, the encoded digit vector, back into a readable digit.\n",
    "    \"\"\"\n",
    "\n",
    "    def __init__(self, input_shape, dropout_rate=0.5, name='decoder', **kwargs):\n",
    "        \"\"\"\n",
    "        Initializes the decoder architecture and saves it as a local attribute.\n",
    "        \n",
    "        Input:\n",
    "        -input_shape: 3D-tuple with (rows, cols, channels) input representation.\n",
    "        \n",
    "        Returns nothing.\n",
    "        \"\"\"\n",
    "        super(ConvDecoder, self).__init__(name=name, input_shape=input_shape, **kwargs)\n",
    "        self.dropout_rate = dropout_rate\n",
    "        \n",
    "        # your code here\n",
    "        \n",
    "        self.Conv2DT_1 = layers.Conv2DTranspose(64, (5, 5), padding='same', strides=(2, 2), activation='relu',\n",
    "                                                input_shape=input_shape)\n",
    "        self.Dropout_2_1 = layers.Dropout(rate=dropout_rate)\n",
    "        self.Conv2DT_2 = layers.Conv2DTranspose(32, (5, 5), padding='same', strides=(2, 2), activation='relu')\n",
    "        self.Dropout_2_2 = layers.Dropout(rate=dropout_rate)\n",
    "        self.Conv2DT_3 = layers.Conv2DTranspose(18, (5, 5), padding='same', strides=(2, 2), activation='relu')\n",
    "        self.Dropout_2_3 = layers.Dropout(rate=dropout_rate)\n",
    "        self.Conv2DT_4 = layers.Conv2DTranspose(3, (5, 5), padding='same', strides=(2, 2), activation='relu')\n",
    "        self.Dropout_2_4 = layers.Dropout(rate=dropout_rate)\n",
    "\n",
    "        # end of your code here\n",
    "        \n",
    "\n",
    "    def call(self, inputs, training=None):\n",
    "        \"\"\"\n",
    "        Runs the encoding inference for `inputs`.\n",
    "        \n",
    "        Inputs:\n",
    "        -inputs: 4D-tensor with dimension (batch_size, self.input_dim).\n",
    "        \"\"\"\n",
    "        ## your code here\n",
    "        \n",
    "        x = self.Conv2DT_1(inputs)\n",
    "        x = self.Dropout_2_1(x)\n",
    "        x = self.Conv2DT_2(x)\n",
    "        x = self.Dropout_2_2(x)\n",
    "        x = self.Conv2DT_3(x)\n",
    "        x = self.Dropout_2_3(x)\n",
    "        x = self.Conv2DT_4(x)\n",
    "        x = self.Dropout_2_4(x)\n",
    "        \n",
    "        # end your code here\n",
    "        return x"
   ]
  },
  {
   "cell_type": "markdown",
   "metadata": {
    "deletable": false
   },
   "source": [
    "**2.3** Create a Keras model `AE`. Use the previously defined `ConvEncoder` and `ConvDecoder` layer classes you just completed to build your autoencoder. Between these layers, [flatten](https://www.tensorflow.org/api_docs/python/tf/keras/layers/Flatten) the input and incorporate two intermediate [Dense](https://www.tensorflow.org/api_docs/python/tf/keras/layers/Dense), and [reshape](https://www.tensorflow.org/api_docs/python/tf/keras/layers/Reshape) layers. More precisely, use the following architecture:\n",
    "- Input image.\n",
    "- ConvEncoder layer.\n",
    "- Flatten layer.\n",
    "- **Dense layer with linear activation** and `bottleneck_dim=128` units (recommended dimension).\n",
    "- **Dense layer with ReLu activation**.\n",
    "- Reshape layer to `latent_dim`.\n",
    "- ConvDecoder layer."
   ]
  },
  {
   "cell_type": "code",
   "execution_count": 12,
   "metadata": {
    "deletable": false
   },
   "outputs": [
    {
     "name": "stdout",
     "output_type": "stream",
     "text": [
      "Model: \"AE_Model\"\n",
      "_________________________________________________________________\n",
      "Layer (type)                 Output Shape              Param #   \n",
      "=================================================================\n",
      "AE_ConvEncoder (ConvEncoder) (None, 2, 2, 64)          70448     \n",
      "_________________________________________________________________\n",
      "AE_Flatten (Flatten)         (None, 256)               0         \n",
      "_________________________________________________________________\n",
      "AE_Dense_Linear (Dense)      (None, 128)               32896     \n",
      "_________________________________________________________________\n",
      "AE_Dense_ReLu (Dense)        (None, 128)               16512     \n",
      "_________________________________________________________________\n",
      "AE_Reshape (Reshape)         (None, 2, 2, 32)          0         \n",
      "_________________________________________________________________\n",
      "AE_ConvDecoder (ConvDecoder) (None, 32, 32, 3)         118267    \n",
      "=================================================================\n",
      "Total params: 238,123\n",
      "Trainable params: 238,123\n",
      "Non-trainable params: 0\n",
      "_________________________________________________________________\n"
     ]
    }
   ],
   "source": [
    "# 2.3\n",
    "# your code here\n",
    "drop_rate = .1\n",
    "\n",
    "ae = tf.keras.Sequential(name='AE_Model')\n",
    "ae.add(layers.Input(shape=(32,32,3), name='AE_Input'))\n",
    "ae.add(ConvEncoder(input_shape=(32,32,3), dropout_rate=drop_rate, name='AE_ConvEncoder'))\n",
    "ae.add(layers.Flatten(name='AE_Flatten'))\n",
    "ae.add(layers.Dense(128, activation=\"linear\", name='AE_Dense_Linear'))\n",
    "ae.add(layers.Dense(128, activation=\"relu\", name='AE_Dense_ReLu'))\n",
    "ae.add(layers.Reshape(target_shape=(2,2,32), name='AE_Reshape'))\n",
    "ae.add(ConvDecoder(input_shape=(2,2,32), dropout_rate=drop_rate, name='AE_ConvDecoder'))\n",
    "ae.summary()"
   ]
  },
  {
   "cell_type": "markdown",
   "metadata": {},
   "source": [
    "**2.4** Why do we suggest the first dense layer after the `ConvEncoder` layer use `linear` activation in the `AE` model? Is it necessary requirement or not? Explain your answer."
   ]
  },
  {
   "cell_type": "markdown",
   "metadata": {},
   "source": [
    "*your answer here*<br />\n",
    "<font color='blue'>\n",
    "<p style=\"text-indent: 25px;\"></p>\n",
    "<p style=\"text-indent: 25px;\"></p>\n",
    "<p style=\"text-indent: 25px;\"></p>\n",
    "</font>"
   ]
  },
  {
   "cell_type": "markdown",
   "metadata": {
    "deletable": false
   },
   "source": [
    "**2.5** Train the `AE` model (use MSE loss criterion and an optimizer of your choice). We found 5 epochs sufficed to train our model (feel free to adjust this value). Print a summary of the model. "
   ]
  },
  {
   "cell_type": "code",
   "execution_count": 28,
   "metadata": {
    "deletable": false
   },
   "outputs": [
    {
     "name": "stdout",
     "output_type": "stream",
     "text": [
      "Epoch 1/5\n",
      "5087/5087 [==============================] - 181s 36ms/step - loss: 0.0401 - val_loss: 0.0000e+00\n",
      "Epoch 2/5\n",
      "5087/5087 [==============================] - 166s 33ms/step - loss: 0.0399 - val_loss: 0.0134\n",
      "Epoch 3/5\n",
      "5087/5087 [==============================] - 166s 33ms/step - loss: 0.0398 - val_loss: 0.0138\n",
      "Epoch 4/5\n",
      "5087/5087 [==============================] - 166s 33ms/step - loss: 0.0396 - val_loss: 0.0153\n",
      "Epoch 5/5\n",
      "5087/5087 [==============================] - 166s 33ms/step - loss: 0.0395 - val_loss: 0.0160\n"
     ]
    }
   ],
   "source": [
    "# 2.5\n",
    "# your code here\n",
    "epochs = 5\n",
    "verbose = 1\n",
    "\n",
    "optimizer = optimizers.Adam(lr=0.001)\n",
    "loss = \"mse\"\n",
    "\n",
    "ae.compile(optimizer=optimizer, loss=loss)\n",
    "\n",
    "ae_history = ae.fit(train_ds, epochs=epochs, verbose=verbose, validation_data=(val_ds))\n",
    "\n",
    "ae.save_weights(\"../model/ae_weights.h5\")"
   ]
  },
  {
   "cell_type": "markdown",
   "metadata": {
    "deletable": false
   },
   "source": [
    "**2.6** Visualize 5 random original and reconstructed images fed to the autoencoder from the validation data."
   ]
  },
  {
   "cell_type": "code",
   "execution_count": 13,
   "metadata": {
    "deletable": false
   },
   "outputs": [
    {
     "data": {
      "image/png": "[encoded data removed]",
      "text/plain": [
       "<Figure size 360x360 with 2 Axes>"
      ]
     },
     "metadata": {
      "needs_background": "light"
     },
     "output_type": "display_data"
    },
    {
     "data": {
      "image/png": "[encoded data removed]",
      "text/plain": [
       "<Figure size 360x360 with 2 Axes>"
      ]
     },
     "metadata": {
      "needs_background": "light"
     },
     "output_type": "display_data"
    },
    {
     "data": {
      "image/png": "[encoded data removed]",
      "text/plain": [
       "<Figure size 360x360 with 2 Axes>"
      ]
     },
     "metadata": {
      "needs_background": "light"
     },
     "output_type": "display_data"
    },
    {
     "data": {
      "image/png": "[encoded data removed]",
      "text/plain": [
       "<Figure size 360x360 with 2 Axes>"
      ]
     },
     "metadata": {
      "needs_background": "light"
     },
     "output_type": "display_data"
    },
    {
     "data": {
      "image/png": "[encoded data removed]",
      "text/plain": [
       "<Figure size 360x360 with 2 Axes>"
      ]
     },
     "metadata": {
      "needs_background": "light"
     },
     "output_type": "display_data"
    }
   ],
   "source": [
    "# 2.6\n",
    "# your code here\n",
    "ae.load_weights(\"../model/ae_weights.h5\")\n",
    "\n",
    "val_set = val_celeb.map(tf_image_tuple).take(5)\n",
    "val_pred = ae.predict(val_set.batch(32).prefetch(2))\n",
    "\n",
    "for i, (image, image2) in enumerate(val_set):\n",
    "    fig, axes = plt.subplots(1,2, figsize=(5,5))\n",
    "    axes[0].imshow(image)\n",
    "    axes[1].imshow(val_pred[i])\n",
    "plt.show();"
   ]
  },
  {
   "cell_type": "markdown",
   "metadata": {
    "deletable": false
   },
   "source": [
    "**2.7** Visualize the first 2 [principal components](https://scikit-learn.org/stable/modules/generated/sklearn.decomposition.PCA.html) and [t-SNE](https://scikit-learn.org/stable/modules/generated/sklearn.manifold.TSNE.html) projection onto the plane of the latent representation of the validation images. Use the representation after the first dense layer where `bottleneck_dim=128` to compute the PCs and t-SNE projections. Retrieve at least `1024` images and color each input by class type, for example, `Male` and `Smiling` (if these where your chosen attributes), for **each scatter plot visualization** and attributes. You need to present 4 scatter plots in total. Explain your results."
   ]
  },
  {
   "cell_type": "code",
   "execution_count": 32,
   "metadata": {
    "deletable": false
   },
   "outputs": [],
   "source": [
    "# 2.7 (PCA visualization)\n",
    "# your code here\n",
    "drop_rate = .1\n",
    "optimizer = optimizers.Adam(lr=0.001)\n",
    "loss = \"mse\"\n",
    "\n",
    "# from HW6\n",
    "def create_truncated_model(trained_model):\n",
    "    model = tf.keras.Sequential()\n",
    "    model.add(layers.Input(shape=(32,32,3)))\n",
    "    model.add(ConvEncoder(input_shape=(32,32,3), dropout_rate=drop_rate))\n",
    "    model.add(layers.Flatten())\n",
    "    model.add(layers.Dense(128, activation=\"linear\"))\n",
    "    # set weights of first few layers using the weights of trained model\n",
    "    for i, layer in enumerate(model.layers):\n",
    "        layer.set_weights(trained_model.layers[i].get_weights())\n",
    "    model.compile(optimizer=optimizer, loss=loss)\n",
    "    return model\n",
    "\n",
    "truncated_model = create_truncated_model(ae)\n",
    "hidden_features = truncated_model.predict(val_ds.take(1024))\n",
    "\n",
    "# flatten data\n",
    "hidden_features = hidden_features.reshape(-1,128)\n",
    " \n",
    "# find first two PCA components\n",
    "pca_result = PCA(n_components=2).fit_transform(hidden_features)"
   ]
  },
  {
   "cell_type": "code",
   "execution_count": 33,
   "metadata": {},
   "outputs": [
    {
     "data": {
      "text/plain": [
       "Text(0.5, 1.0, 'First 2 PCA Components for AE Model')"
      ]
     },
     "execution_count": 33,
     "metadata": {},
     "output_type": "execute_result"
    },
    {
     "data": {
      "image/png": "[encoded data removed]",
      "text/plain": [
       "<Figure size 432x432 with 1 Axes>"
      ]
     },
     "metadata": {
      "needs_background": "light"
     },
     "output_type": "display_data"
    }
   ],
   "source": [
    "fig, ax = plt.subplots()\n",
    "fig.set_size_inches(6,6)\n",
    "ax.scatter(pca_result[:, 0], pca_result[:, 1])\n",
    "ax.set_title(\"First 2 PCA Components for AE Model\")"
   ]
  },
  {
   "cell_type": "markdown",
   "metadata": {
    "deletable": false
   },
   "source": [
    "*Your answer here*<br />\n",
    "<font color='blue'>\n",
    "<p style=\"text-indent: 25px;\"></p>\n",
    "<p style=\"text-indent: 25px;\"></p>\n",
    "<p style=\"text-indent: 25px;\"></p>\n",
    "</font>"
   ]
  },
  {
   "cell_type": "markdown",
   "metadata": {
    "deletable": false,
    "editable": false
   },
   "source": [
    "Compute also the t-SNE decomposition of the latent images. Does it uncover any characteristic structure? Please, explain your answer"
   ]
  },
  {
   "cell_type": "code",
   "execution_count": 45,
   "metadata": {
    "deletable": false
   },
   "outputs": [
    {
     "data": {
      "text/plain": [
       "Text(0.5, 1.0, 'First 2 t-SNE Components for AE Model')"
      ]
     },
     "execution_count": 45,
     "metadata": {},
     "output_type": "execute_result"
    },
    {
     "data": {
      "image/png": "[encoded data removed]",
      "text/plain": [
       "<Figure size 432x432 with 1 Axes>"
      ]
     },
     "metadata": {
      "needs_background": "light"
     },
     "output_type": "display_data"
    }
   ],
   "source": [
    "# 2.7 (t-SNE visualization)\n",
    "# your code here\n",
    "tsne_result = TSNE(n_components=2).fit_transform(hidden_features)\n",
    "\n",
    "fig, ax = plt.subplots()\n",
    "fig.set_size_inches(6,6)\n",
    "ax.scatter(tsne_result[:, 0], tsne_result[:, 1])\n",
    "ax.set_title(\"First 2 t-SNE Components for AE Model\")"
   ]
  },
  {
   "cell_type": "markdown",
   "metadata": {
    "deletable": false
   },
   "source": [
    "*Your answer here*<br />\n",
    "<font color='blue'>\n",
    "<p style=\"text-indent: 25px;\"></p>\n",
    "<p style=\"text-indent: 25px;\"></p>\n",
    "<p style=\"text-indent: 25px;\"></p>\n",
    "</font>"
   ]
  },
  {
   "cell_type": "markdown",
   "metadata": {
    "deletable": false,
    "editable": false
   },
   "source": [
    "---"
   ]
  },
  {
   "cell_type": "code",
   "execution_count": null,
   "metadata": {},
   "outputs": [],
   "source": [
    "\"\"\"\n",
    "dropout_rate=0.1\n",
    "test = tf.keras.Sequential()\n",
    "test.add(layers.Input(shape=(32,32,3)))\n",
    "test.add(layers.Conv2D(9, (5, 5), padding ='same', strides=(2, 2), activation='relu'))\n",
    "test.add(layers.Dropout(rate=dropout_rate))\n",
    "test.add(layers.Conv2D(18, (5, 5), padding ='same', strides=(2, 2), activation='relu'))\n",
    "test.add(layers.Dropout(rate=dropout_rate))\n",
    "test.add(layers.Conv2D(32, (5, 5), padding ='same', strides=(2, 2), activation='relu'))\n",
    "test.add(layers.Dropout(rate=dropout_rate))\n",
    "test.add(layers.Conv2D(64, (5, 5), padding ='same', strides=(2, 2), activation='relu'))\n",
    "test.add(layers.Dropout(rate=dropout_rate))\n",
    "test.add(layers.Flatten())\n",
    "test.add(layers.Dense(128, activation=\"linear\"))\n",
    "test.add(layers.Dense(128, activation=\"relu\"))\n",
    "test.add(layers.Reshape(target_shape=(2,2,32)))\n",
    "test.add(layers.Conv2DTranspose(64, (5, 5), padding ='same', strides=(2, 2), activation='relu'))\n",
    "test.add(layers.Dropout(rate=dropout_rate))\n",
    "test.add(layers.Conv2DTranspose(32, (5, 5), padding ='same', strides=(2, 2), activation='relu'))\n",
    "test.add(layers.Dropout(rate=dropout_rate))\n",
    "test.add(layers.Conv2DTranspose(18, (5, 5), padding ='same', strides=(2, 2), activation='relu'))\n",
    "test.add(layers.Dropout(rate=dropout_rate))\n",
    "test.add(layers.Conv2DTranspose(3, (5, 5), padding ='same', strides=(2, 2), activation='relu'))\n",
    "test.add(layers.Dropout(rate=dropout_rate))\n",
    "test.summary()"
   ]
  },
  {
   "cell_type": "code",
   "execution_count": null,
   "metadata": {},
   "outputs": [],
   "source": [
    "\"\"\"\n",
    "epochs = 5\n",
    "verbose = 1\n",
    "\n",
    "optimizer = optimizers.Adam(lr=0.001)\n",
    "loss = \"mse\"\n",
    "\n",
    "test.compile(optimizer=optimizer, loss=loss)\n",
    "\n",
    "test_history = test.fit(train_ds, epochs=epochs, verbose=verbose, validation_data=(val_ds))"
   ]
  },
  {
   "cell_type": "markdown",
   "metadata": {
    "deletable": false,
    "editable": false
   },
   "source": [
    "<div class='exercise'> <b> Question 3: Set-up a Convolutional Variational Autoencoder [20 points].</b> </div>\n",
    "\n",
    "In this exercise you will code a standard Variational Autoencoder. You will first create a custom layer `Sampling` that takes the mean and log-variance of a Gaussian distribution as inputs, and returns a sample from that distribution. You will use this sample as a latent representation of your probabilistic encoder conditioned on the input image, and use it to reconstruct an image. You will build the complete VAE architecture and study its properties.\n",
    "\n",
    "You will need to minimize the negative ELBO function formed by a reconstruction loss and a regularization term over the mean and variance of the probabilistic encoder. You will train two VAE models, one with no regularization, and a second with regularization.\n",
    "\n",
    "Follow these instructions:\n",
    "\n",
    "**3.1** Complete the `call` function of Sampling keras layer. This function takes as input the mean and log-variance vectors of a multivariate Gaussian distribution and returns a sampled tensor from this distribution.\n",
    "\n",
    "**3.2** Create two  Variational AutoEncoder models named `VAE1` and `VAE2`. Use the `ConvEncoder` and `ConvDecoder` layer classes you completed in Question 2 and the `Sampling` layer from 3.1. Both VAEs should have the following architecture:\n",
    "- Input image.\n",
    "- ConvEncoder.\n",
    "- Flatten layer.\n",
    "- Dense layer with linear activation and 128 units to predict the mean of the encoder conditional distribution $q_x(z)=N(\\mu,\\sigma)$.\n",
    "- Dense layer with linear activation and 128 units to predict the log-variance of the encoder conditional distribution $q_x(z)=N(\\mu,\\sigma)$.\n",
    "- Sampling layer you completed in Question 3.1.\n",
    "- Dense layer with ReLu activation.\n",
    "- Reshape layer: reshapes the output of dense into `latent_dim`.\n",
    "- ConvDecoder.\n",
    "\n",
    "Finally, `VAE1` should not use any regularization of the probabilistic encoder (from the prior). \n",
    "\n",
    "Instead, `VAE2` should incorporate a KL loss to regularize the probabilistic encoder to normal Gaussian of zero mean and unit variance acting as prior, as explained in class. \n",
    "You may use the following expression: `kl_loss = - reg * 0.5 * tf.reduce_mean(z_log_var - tf.square(z_mean) - tf.exp(z_log_var) + 1)`, where a reasonable value for `reg = 0.1` (feel free to adjust).\n",
    "To include the intermediate loss in `VAE2`, you may use the function `add_loss` from keras models/layers as explained in the [documentation](https://www.tensorflow.org/guide/keras/train_and_evaluate). \n",
    "\n",
    "**We recommend saving your trained models.**\n",
    "\n",
    "**3.3** Why do we use linear activation values to encode the mean and log-variance of the probabilistic encoder? Explain your answer.\n",
    "\n",
    "**3.4** Visualize 1 original image and 5 reconstructed images from the validation data fed to `VAE1` and `VAE2`. Comment on the reconstructed images. Notice that you may need to tune penalty regularization term to observe differences between `VAE1` and `VAE2` (there should be differences!).\n",
    "\n",
    "**3.5** Visualize the first 2 principal components (PCs) and the t-SNE decomposition of the validation data on both `VAE1` and `VAE2` obtained from the latent space, i.e., a sample drawn from the probabilistic encoder for a given input. Color the datapoints depending on the input's attributes of your choice (`Male` and `Smiling` if these were your choice). Draw four separate scatterplots in total. Explain what you observe."
   ]
  },
  {
   "cell_type": "markdown",
   "metadata": {
    "deletable": false,
    "editable": false
   },
   "source": [
    "## Answers"
   ]
  },
  {
   "cell_type": "markdown",
   "metadata": {
    "deletable": false
   },
   "source": [
    "**3.1** Complete the `call` function of Sampling keras layer. This function takes as input the mean and log-variance vectors of a multivariate Gaussian distribution and returns a sampled tensor from this distribution."
   ]
  },
  {
   "cell_type": "code",
   "execution_count": 27,
   "metadata": {
    "deletable": false
   },
   "outputs": [],
   "source": [
    "class Sampling(layers.Layer):\n",
    "    \"\"\"\n",
    "    Sampling layer in latent space.\n",
    "    Uses (z_mean, z_log_var) to sample z.\n",
    "    \"\"\"\n",
    "\n",
    "    def call(self, inputs):\n",
    "        \"\"\"Rturns a random sample from a Gaussian with mean and \n",
    "        log-variance indicated in inputs.\n",
    "        \n",
    "        Inputs:\n",
    "        -inputs: tuple (z_mean, z_log_var)\n",
    "        \n",
    "        Returns a sample z drawn from Gaussian.\n",
    "        \"\"\"\n",
    "        z_mean, z_log_var = inputs\n",
    "        \n",
    "        # your code here\n",
    "        \n",
    "        batch = tf.shape(z_mean)[0]\n",
    "        dim = tf.shape(z_mean)[1]\n",
    "        epsilon = tf.keras.backend.random_normal(shape=(batch, dim))\n",
    "        return z_mean + tf.exp(0.5 * z_log_var) * epsilon"
   ]
  },
  {
   "cell_type": "markdown",
   "metadata": {
    "deletable": false
   },
   "source": [
    "\n",
    "**3.2** Create two  Variational AutoEncoder models named `VAE1` and `VAE2`. Use the `ConvEncoder` and `ConvDecoder` layer classes you completed in Question 2 and the `Sampling` layer from 3.1. Both VAEs should have the following architecture:\n",
    "- Input image.\n",
    "- ConvEncoder.\n",
    "- Flatten layer.\n",
    "- Dense layer with linear activation and 128 units to predict the mean of the encoder conditional distribution $q_x(z)=N(\\mu,\\sigma)$.\n",
    "- Dense layer with linear activation and 128 units to predict the log-variance of the encoder conditional distribution $q_x(z)=N(\\mu,\\sigma)$.\n",
    "- Sampling layer you completed in Question 3.1.\n",
    "- Dense layer with ReLu activation.\n",
    "- Reshape layer: reshapes the output of dense into `latent_dim`.\n",
    "- ConvDecoder.\n",
    "\n",
    "Finally, `VAE1` should not use any regularization of the probabilistic encoder (from the prior). \n",
    "\n",
    "Instead, `VAE2` should incorporate a KL loss to regularize the probabilistic encoder to normal Gaussian of zero mean and unit variance acting as prior, as explained in class. \n",
    "You may use the following expression: `kl_loss = - reg * 0.5 * tf.reduce_mean(z_log_var - tf.square(z_mean) - tf.exp(z_log_var) + 1)`, where a reasonable value for `reg = 0.1` (feel free to adjust).\n",
    "To include the intermediate loss in `VAE2`, you may use the function `add_loss` from keras models/layers as explained in the [documentation](https://www.tensorflow.org/guide/keras/train_and_evaluate). \n",
    "\n",
    "**We recommend saving your trained models.**"
   ]
  },
  {
   "cell_type": "code",
   "execution_count": null,
   "metadata": {
    "deletable": false
   },
   "outputs": [],
   "source": [
    "# 3.2 \n",
    "# your code here\n"
   ]
  },
  {
   "cell_type": "markdown",
   "metadata": {
    "deletable": false
   },
   "source": [
    "**3.3** Why do we use linear activation values to encode the mean and log-variance of the probabilistic encoder? Explain your answer."
   ]
  },
  {
   "cell_type": "markdown",
   "metadata": {
    "deletable": false
   },
   "source": [
    "*Your answer here*<br />\n",
    "<font color='blue'>\n",
    "<p style=\"text-indent: 25px;\"></p>\n",
    "<p style=\"text-indent: 25px;\"></p>\n",
    "<p style=\"text-indent: 25px;\"></p>\n",
    "</font>"
   ]
  },
  {
   "cell_type": "markdown",
   "metadata": {
    "deletable": false
   },
   "source": [
    "**3.4** Visualize 1 original image and 5 reconstructed images from the validation data fed to `VAE1` and `VAE2`. Comment on the reconstructed images. Notice that you may need to tune penalty regularization term to observe differences between `VAE1` and `VAE2` (there should be differences!)."
   ]
  },
  {
   "cell_type": "code",
   "execution_count": null,
   "metadata": {
    "deletable": false
   },
   "outputs": [],
   "source": [
    "# 3.4\n",
    "# your code here\n"
   ]
  },
  {
   "cell_type": "markdown",
   "metadata": {
    "deletable": false
   },
   "source": [
    "*your explanation here*<br />\n",
    "<font color='blue'>\n",
    "<p style=\"text-indent: 25px;\"></p>\n",
    "<p style=\"text-indent: 25px;\"></p>\n",
    "<p style=\"text-indent: 25px;\"></p>\n",
    "</font>"
   ]
  },
  {
   "cell_type": "markdown",
   "metadata": {
    "deletable": false
   },
   "source": [
    "**3.5** Visualize the first 2 principal components (PCs) and the t-SNE decomposition of the validation data on both `VAE1` and `VAE2` obtained from the latent space, i.e., a sample drawn from the probabilistic encoder for a given input. Color the datapoints depending on the input's attributes of your choice (`Male` and `Smiling` if these were your choice). Draw four separate scatterplots in total. Explain what you observe."
   ]
  },
  {
   "cell_type": "code",
   "execution_count": null,
   "metadata": {
    "deletable": false
   },
   "outputs": [],
   "source": [
    "# 3.5\n",
    "# your code here\n"
   ]
  },
  {
   "cell_type": "markdown",
   "metadata": {
    "deletable": false
   },
   "source": [
    "**Explanation of PCA visualization:** \n",
    "\n",
    "*your explanation here*<br />\n",
    "<font color='blue'>\n",
    "<p style=\"text-indent: 25px;\"></p>\n",
    "<p style=\"text-indent: 25px;\"></p>\n",
    "<p style=\"text-indent: 25px;\"></p>\n",
    "</font>"
   ]
  },
  {
   "cell_type": "code",
   "execution_count": null,
   "metadata": {},
   "outputs": [],
   "source": [
    "# 3.5\n",
    "# your code here\n"
   ]
  },
  {
   "cell_type": "markdown",
   "metadata": {
    "deletable": false
   },
   "source": [
    "**Explanation of t-SNE decomposition:** \n",
    "\n",
    "*your explanation here*<br />\n",
    "<font color='blue'>\n",
    "<p style=\"text-indent: 25px;\"></p>\n",
    "<p style=\"text-indent: 25px;\"></p>\n",
    "<p style=\"text-indent: 25px;\"></p>\n",
    "</font>"
   ]
  },
  {
   "cell_type": "markdown",
   "metadata": {
    "deletable": false
   },
   "source": [
    "<div class='exercise'> <b> Question 4: Set-up a Conditional VAE. [20 points] </b> </div>\n",
    "\n",
    "Conditional VAEs are similar to standard VAEs were you incorporate an input's label/information into the latent space. When the model is trained in this form, the model learns to distinguish between these features. For example, you can select features on latent space manually, and explore the space of representations in an explicit manner. We point you to [one](https://wiseodd.github.io/techblog/2016/12/17/conditional-vae/) and [two](https://ijdykeman.github.io/ml/2016/12/21/cvae.html) short tutorials on conditional VAEs. Additionally, you may be interested in reading the [original paper](http://papers.nips.cc/paper/5775-learning-structured-output-representation-using-deep-conditional-generative-models.pdf), or a [continuation paper](https://papers.nips.cc/paper/7880-learning-latent-subspaces-in-variational-autoencoders.pdf). \n",
    "\n",
    "In this exercise you are going to build a conditional VAE, and reconstruct images by altering their attributes. For example, pick a set of 'not smiling men' and transform them by changing the label conditions such as 'smile' or 'gender' in latent space. You can choose whatever attributes you want, as long as the reconstructed latent space shows reasonable success when changing the attribute labels.\n",
    "\n",
    "Follow this set of instructions:\n",
    "\n",
    "**4.1** Create a conditional VAE keras model named `CVAE`. The conditional VAE should have the following architecture:\n",
    "- Input for image.\n",
    "- Input for attributes.\n",
    "- ConvEncoder layer.\n",
    "- Flatten layer: flattens the output of the ConvEncoder.\n",
    "- [Concatenate layer](https://www.tensorflow.org/api_docs/python/tf/keras/layers/concatenate): concatenates the latent representation of dimension `latent_dim[0]*latent_dim[1]*latent_dim[2]` with two attribute codes of your choice (tf.float32 representations).\n",
    "- Dense layer with linear activation and `bottleneck_dim` units to predict the mean of the encoder conditional distribution $q_x(z)=N(\\mu,\\sigma)$.\n",
    "- Dense layer with linear activation and `bottleneck_dim` units to predict the log-variance of the encoder conditional distribution $q_x(z)=N(\\mu,\\sigma)$.\n",
    "- Sampling layer you completed in Question 3.1.\n",
    "- [Concatenate layer](https://www.tensorflow.org/api_docs/python/tf/keras/layers/concatenate) that combines your sample with the two attribute codes of your choice (tf.float32 representations).\n",
    "- Dense layer with ReLu activation.\n",
    "- Reshape layer.\n",
    "- ConvDecoder.\n",
    "- Output image of same size as input image.\n",
    "\n",
    "**4.2** Train the model using the data generator you completed in Question 1.2 (use mean squared error loss and an optimizer of your choice). Print a summary of your model.\n",
    "\n",
    "**We recommend saving your trained models**.\n",
    "\n",
    "**4.3** Select 5 photos with common attributes and reconstruct these images after feeding them to the conditional variational autoencoder `CVAE` from the validation data. Change attributes in the other three possible combinations and visualize all compositions. Comment on your compositions.\n",
    "\n",
    "For example, if your choice of attributes where 'Male' and 'Smiling', you should reconstruct these images with all possible attribute combinations.\n",
    "\n",
    "**4.4** Visualize the first 2 principal components and the t-SNE decomposition of the validation data of `CVAE` obtained from the latent space, i.e., a sample drawn from the probabilistic encoder for at least 1024 input images. Color the datapoints depending on the input's attributes `male` and `smiling`: draw four separate scatterplots in total. Explain what you observe."
   ]
  },
  {
   "cell_type": "markdown",
   "metadata": {
    "deletable": false,
    "editable": false
   },
   "source": [
    "## Answers"
   ]
  },
  {
   "cell_type": "markdown",
   "metadata": {
    "deletable": false
   },
   "source": [
    "**4.1** Create a conditional VAE keras model named `CVAE`. The conditional VAE should have the following architecture:\n",
    "- Input for image.\n",
    "- Input for attributes.\n",
    "- ConvEncoder layer.\n",
    "- Flatten layer: flattens the output of the ConvEncoder.\n",
    "- [Concatenate layer](https://www.tensorflow.org/api_docs/python/tf/keras/layers/concatenate): concatenates the latent representation of dimension `latent_dim[0]*latent_dim[1]*latent_dim[2]` with two attribute codes of your choice (tf.float32 representations).\n",
    "- Dense layer with linear activation and `bottleneck_dim` units to predict the mean of the encoder conditional distribution $q_x(z)=N(\\mu,\\sigma)$.\n",
    "- Dense layer with linear activation and `bottleneck_dim` units to predict the log-variance of the encoder conditional distribution $q_x(z)=N(\\mu,\\sigma)$.\n",
    "- Sampling layer you completed in Question 3.1.\n",
    "- [Concatenate layer](https://www.tensorflow.org/api_docs/python/tf/keras/layers/concatenate) that combines your sample with the two attribute codes of your choice (tf.float32 representations).\n",
    "- Dense layer with ReLu activation.\n",
    "- Reshape layer.\n",
    "- ConvDecoder.\n",
    "- Output image of same size as input image."
   ]
  },
  {
   "cell_type": "code",
   "execution_count": null,
   "metadata": {
    "deletable": false
   },
   "outputs": [],
   "source": [
    "# 4.1\n",
    "# your code here\n"
   ]
  },
  {
   "cell_type": "markdown",
   "metadata": {
    "deletable": false
   },
   "source": [
    "**4.2** Train the model using the generator you completed in Q1.3. Print a summary of your model.\n",
    "**We recommend saving your trained models**."
   ]
  },
  {
   "cell_type": "code",
   "execution_count": null,
   "metadata": {
    "deletable": false
   },
   "outputs": [],
   "source": [
    "# 4.2\n",
    "# your code here\n"
   ]
  },
  {
   "cell_type": "markdown",
   "metadata": {
    "deletable": false
   },
   "source": [
    "**4.3** Select 5 photos with common attributes and reconstruct these images after feeding them to the conditional variational autoencoder `CVAE` from the validation data. Change attributes in the other three possible combinations and visualize all compositions. Comment on your compositions."
   ]
  },
  {
   "cell_type": "code",
   "execution_count": null,
   "metadata": {
    "deletable": false
   },
   "outputs": [],
   "source": [
    "# 4.3\n",
    "# Example case: select 5 images of men, not smiling; reconstruct with smiling and no smiling, and as smiling/no-smiling women.\n",
    "# your code here\n"
   ]
  },
  {
   "cell_type": "markdown",
   "metadata": {
    "deletable": false
   },
   "source": [
    "*Your answer here*<br />\n",
    "<font color='blue'>\n",
    "<p style=\"text-indent: 25px;\"></p>\n",
    "<p style=\"text-indent: 25px;\"></p>\n",
    "<p style=\"text-indent: 25px;\"></p>\n",
    "</font>"
   ]
  },
  {
   "cell_type": "markdown",
   "metadata": {
    "deletable": false
   },
   "source": [
    "**4.4** Visualize the first 2 principal components and the t-SNE decomposition of the validation data of `CVAE` obtained from the latent space, i.e., a sample drawn from the probabilistic encoder for at least 1024 input images. Color the datapoints depending on the input's attributes `male` and `smiling`: draw four separate scatterplots in total. Explain what you observe."
   ]
  },
  {
   "cell_type": "code",
   "execution_count": null,
   "metadata": {
    "deletable": false
   },
   "outputs": [],
   "source": [
    "# 4.4\n",
    "# your code here\n"
   ]
  },
  {
   "cell_type": "markdown",
   "metadata": {
    "deletable": false
   },
   "source": [
    "*Your answer here*<br />\n",
    "<font color='blue'>\n",
    "<p style=\"text-indent: 25px;\"></p>\n",
    "<p style=\"text-indent: 25px;\"></p>\n",
    "<p style=\"text-indent: 25px;\"></p>\n",
    "</font>"
   ]
  },
  {
   "cell_type": "code",
   "execution_count": null,
   "metadata": {},
   "outputs": [],
   "source": [
    "# 4.4\n",
    "# your code here\n"
   ]
  },
  {
   "cell_type": "markdown",
   "metadata": {
    "deletable": false
   },
   "source": [
    "*Your answer here*<br />\n",
    "<font color='blue'>\n",
    "<p style=\"text-indent: 25px;\"></p>\n",
    "<p style=\"text-indent: 25px;\"></p>\n",
    "<p style=\"text-indent: 25px;\"></p>\n",
    "</font>"
   ]
  },
  {
   "cell_type": "markdown",
   "metadata": {
    "deletable": false,
    "editable": false
   },
   "source": [
    "---"
   ]
  },
  {
   "cell_type": "markdown",
   "metadata": {
    "deletable": false,
    "editable": false
   },
   "source": [
    "<div class='exercise'> <b> Question 5: Generative Adversarial Networks. [20 points] </b> </div>\n",
    "\n",
    "For the final exercise we are going to create a standard GAN composed of a generator, and a discriminator. GANs are tricky to train, so we encourage you to follow the given instructions when training your models. However, feel completely free to explore and present other layer architectures if they present better results.\n",
    "\n",
    "**5.1** Create a convolutional keras generator model. We recommend the follow architecture.\n",
    "\n",
    "- Input to the generator is a noise vector of dimension `bottleneck_dim`. You can rename to `noise_dim` for more corresponding terminology if you prefer.\n",
    "- Dense layer with `latent_dim[0]*latent_dim[1]*latent_dim[2]` units, and LeakyRelu.\n",
    "- Reshape to `latent_dim`.\n",
    "- 3x Conv2DTranspose layers with 5x5 filters, LeakyRelu's, stride 2x2, 'same' padding.\n",
    "\n",
    "For stability, consider training without bias terms on your Dense and Conv2DTranspose layers. Print a summary of your model.\n",
    "\n",
    "**5.2** Create a convolutional discriminator model. Our recommended setup is to use 3x Conv2D layers with filters of size (4,4), 'same' padding, strides 2x2, and LeakyRelu activations. Compile the model with binary cross entropy loss and an optimizer of your choice. Print a summary of the model.\n",
    "\n",
    "**5.3** Create a DCGAN model that is a composition of the generator and the discriminator. The DCGAN model takes a Gaussian vector as input into the generator, and then the discriminator decides whether the output comes from the generator or from the true distristribution. The DCGAN is composed of the trainable weights of the generator, and fixed discriminator weights. You can accompolish this behavior by fixing the discriminator training weights using `discriminator.trainable = False` before constructing the model. Once you have instantiated the DCGAN model, compile it with a binary cross entropy loss and optimizer of your choice.\n",
    "\n",
    "**5.4** Train your model (both DCGAN and discriminator) on the train images of the celeba dataset. We recommend you display images after every train epoch to visualize performance. You should observe 'sensible' images after around 5 epochs or less, specially if you train on the full dataset. Consider training on a reduced set of the dataset if it takes too long. \n",
    "\n",
    "To train your DCGAN model, you will not be able to use the model's [`fit`](https://www.tensorflow.org/api_docs/python/tf/keras/Model#fit) function. Instead, you should consider using [`train_on_batch`](https://www.tensorflow.org/api_docs/python/tf/keras/Model#train_on_batch) method, where you can manually feed an input and training labels, and alternate between the DCGAN and the discriminator. Datasets are `iterable`, so you can use them directly in a for loop to obtain mini-batches. You need to run these three steps inside the for loop: \n",
    "1) Train on batch the discriminator on real images with labels equal to 1 (optionally, minus a small smoother). The smoother may help the generator train faster than the discriminator.\n",
    "2) Train on batch the discriminator on generated images obtained from random Gaussian input and labels equal to 0.\n",
    "3) Train on batch the DCGAN by feeding noise inputs and labels of 1's.\n",
    "\n",
    "**Show at least 8 generated images from your final trained DCGAN model for submission**. How do these images compare in quality to the faces generated via VAE? Explain.\n",
    "\n",
    "**5.5** Standard GANs are composed as a generator and discriminator, as you just coded them. Could we substitute the discriminator with something else, like a KL loss with the empirical distribution? Why or why not? Explain your answer."
   ]
  },
  {
   "cell_type": "markdown",
   "metadata": {
    "deletable": false,
    "editable": false
   },
   "source": [
    "## Answers"
   ]
  },
  {
   "cell_type": "markdown",
   "metadata": {
    "deletable": false
   },
   "source": [
    "**5.1** Create a convolutional keras generator model. We recommend the follow architecture.\n",
    "\n",
    "- Input to the generator is a noise vector of dimension `bottleneck_dim`. You can rename to `noise_dim` for more corresponding terminology if you prefer.\n",
    "- Dense layer with `latent_dim[0]*latent_dim[1]*latent_dim[2]` units, and LeakyRelu.\n",
    "- Reshape to `latent_dim`.\n",
    "- 3x Conv2DTranspose layers with 5x5 filters, LeakyRelu's, stride 2x2, 'same' padding.\n",
    "\n",
    "For stability, consider training without bias terms on your Dense and Conv2DTranspose layers. Print a summary of your model."
   ]
  },
  {
   "cell_type": "code",
   "execution_count": null,
   "metadata": {
    "deletable": false
   },
   "outputs": [],
   "source": [
    "# 5.1\n",
    "# your code here\n"
   ]
  },
  {
   "cell_type": "markdown",
   "metadata": {
    "deletable": false
   },
   "source": [
    "**5.2** Create a convolutional discriminator model. Our recommended setup is to use 3x Conv2D layers with filters of size (4,4), 'same' padding, strides 2x2, and LeakyRelu activations. Compile the model with binary cross entropy loss and an optimizer of your choice. Print a summary of the model."
   ]
  },
  {
   "cell_type": "code",
   "execution_count": null,
   "metadata": {
    "deletable": false
   },
   "outputs": [],
   "source": [
    "# 5.2\n",
    "# your code here\n"
   ]
  },
  {
   "cell_type": "markdown",
   "metadata": {
    "deletable": false
   },
   "source": [
    "**5.3** Create a DCGAN model that is a composition of the generator and the discriminator. The DCGAN model takes a Gaussian vector as input into the generator, and then the discriminator decides whether the output comes from the generator or from the true distristribution. The DCGAN is composed of the trainable weights of the generator, and fixed discriminator weights. You can accompolish this behavior by fixing the discriminator training weights using `discriminator.trainable = False` before constructing the model. Once you have instantiated the DCGAN model, compile it with a binary cross entropy loss and optimizer of your choice.\n"
   ]
  },
  {
   "cell_type": "code",
   "execution_count": null,
   "metadata": {
    "deletable": false
   },
   "outputs": [],
   "source": [
    "# 5.3\n",
    "# your code here\n"
   ]
  },
  {
   "cell_type": "markdown",
   "metadata": {
    "deletable": false
   },
   "source": [
    "**5.4** Train your model (both DCGAN and discriminator) on the train images of the celeba dataset. We recommend you display images after every train epoch to visualize performance. You should observe 'sensible' images after around 5 epochs or less, specially if you train on the full dataset. Consider training on a reduced set of the dataset if it takes too long. \n",
    "\n",
    "To train your DCGAN model, you will not be able to use the model's [`fit`](https://www.tensorflow.org/api_docs/python/tf/keras/Model#fit) function. Instead, you should consider using [`train_on_batch`](https://www.tensorflow.org/api_docs/python/tf/keras/Model#train_on_batch) method, where you can manually feed an input and training labels, and alternate between the DCGAN and the discriminator. Datasets are `iterable`, so you can use them directly in a for loop to obtain mini-batches. You need to run these three steps inside the for loop: \n",
    "1) Train on batch the discriminator on real images with labels equal to 1 (optionally, minus a small smoother). The smoother may help the generator train faster than the discriminator.\n",
    "2) Train on batch the discriminator on generated images obtained from random Gaussian input and labels equal to 0.\n",
    "3) Train on batch the DCGAN by feeding noise inputs and labels of 1's.\n",
    "\n",
    "**Show at least 8 generated images from your final trained DCGAN model for submission**. How do these images compare in quality to the faces generated via VAE? Explain."
   ]
  },
  {
   "cell_type": "code",
   "execution_count": null,
   "metadata": {
    "deletable": false
   },
   "outputs": [],
   "source": [
    "# 5.4\n",
    "# your code here\n"
   ]
  },
  {
   "cell_type": "markdown",
   "metadata": {},
   "source": [
    "*your explanation here*<br />\n",
    "<font color='blue'>\n",
    "<p style=\"text-indent: 25px;\"></p>\n",
    "<p style=\"text-indent: 25px;\"></p>\n",
    "<p style=\"text-indent: 25px;\"></p>\n",
    "</font>"
   ]
  },
  {
   "cell_type": "markdown",
   "metadata": {},
   "source": [
    "**5.5** Standard GANs are composed as a generator and discriminator, as you just coded them. Could we substitute the discriminator with something else, like a KL loss with the empirical distribution? Why or why not? Explain your answer.\n",
    "\n"
   ]
  },
  {
   "cell_type": "markdown",
   "metadata": {},
   "source": [
    "*your answer here*<br />\n",
    "<font color='blue'>\n",
    "<p style=\"text-indent: 25px;\"></p>\n",
    "<p style=\"text-indent: 25px;\"></p>\n",
    "<p style=\"text-indent: 25px;\"></p>\n",
    "</font>"
   ]
  },
  {
   "cell_type": "markdown",
   "metadata": {
    "deletable": false,
    "editable": false
   },
   "source": [
    "---"
   ]
  }
 ],
 "metadata": {
  "@webio": {
   "lastCommId": null,
   "lastKernelId": null
  },
  "accelerator": "GPU",
  "colab": {
   "collapsed_sections": [],
   "name": "Group4_notebook_finalversion.ipynb",
   "provenance": [],
   "toc_visible": true,
   "version": "0.3.2"
  },
  "kernelspec": {
   "display_name": "python3",
   "language": "python",
   "name": "python3"
  },
  "language_info": {
   "codemirror_mode": {
    "name": "ipython",
    "version": 3
   },
   "file_extension": ".py",
   "mimetype": "text/x-python",
   "name": "python",
   "nbconvert_exporter": "python",
   "pygments_lexer": "ipython3",
   "version": "3.7.4"
  }
 },
 "nbformat": 4,
 "nbformat_minor": 4
}
