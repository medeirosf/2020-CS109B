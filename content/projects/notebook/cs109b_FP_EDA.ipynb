{
 "cells": [
  {
   "cell_type": "markdown",
   "metadata": {},
   "source": [
    "# <img style=\"float: left; padding-right: 10px; width: 45px\" src=\"https://raw.githubusercontent.com/Harvard-IACS/2018-CS109A/master/content/styles/iacs.png\"> CS109B Data Science 2: Advanced Topics in Data Science \n",
    "\n",
    "##  Final Project: Milestone 2 - Exploratory Data Analysis (EDA) [3 pts]\n",
    "\n",
    "\n",
    "**Harvard University**<br/>\n",
    "**Spring 2020**<br/>\n",
    "**Group Members**: Fernando Medeiros, Mohammed Gufran Pathan, and Prerna Aggarwal<br/>\n",
    "\n",
    "<hr style=\"height:2pt\">\n",
    "\n",
    "---"
   ]
  },
  {
   "cell_type": "code",
   "execution_count": 1,
   "metadata": {},
   "outputs": [
    {
     "data": {
      "text/html": [
       "<style>\n",
       "blockquote { background: #AEDE94; }\n",
       "h1 { \n",
       "    padding-top: 25px;\n",
       "    padding-bottom: 25px;\n",
       "    text-align: left; \n",
       "    padding-left: 10px;\n",
       "    background-color: #DDDDDD; \n",
       "    color: black;\n",
       "}\n",
       "h2 { \n",
       "    padding-top: 10px;\n",
       "    padding-bottom: 10px;\n",
       "    text-align: left; \n",
       "    padding-left: 5px;\n",
       "    background-color: #EEEEEE; \n",
       "    color: black;\n",
       "}\n",
       "\n",
       "div.exercise {\n",
       "\tbackground-color: #ffcccc;\n",
       "\tborder-color: #E9967A; \t\n",
       "\tborder-left: 5px solid #800080; \n",
       "\tpadding: 0.5em;\n",
       "}\n",
       "\n",
       "span.sub-q {\n",
       "\tfont-weight: bold;\n",
       "}\n",
       "div.theme {\n",
       "\tbackground-color: #DDDDDD;\n",
       "\tborder-color: #E9967A; \t\n",
       "\tborder-left: 5px solid #800080; \n",
       "\tpadding: 0.5em;\n",
       "\tfont-size: 18pt;\n",
       "}\n",
       "div.gc { \n",
       "\tbackground-color: #AEDE94;\n",
       "\tborder-color: #E9967A; \t \n",
       "\tborder-left: 5px solid #800080; \n",
       "\tpadding: 0.5em;\n",
       "\tfont-size: 12pt;\n",
       "}\n",
       "p.q1 { \n",
       "    padding-top: 5px;\n",
       "    padding-bottom: 5px;\n",
       "    text-align: left; \n",
       "    padding-left: 5px;\n",
       "    background-color: #EEEEEE; \n",
       "    color: black;\n",
       "}\n",
       "header {\n",
       "   padding-top: 35px;\n",
       "    padding-bottom: 35px;\n",
       "    text-align: left; \n",
       "    padding-left: 10px;\n",
       "    background-color: #DDDDDD; \n",
       "    color: black;\n",
       "}\n",
       "</style>\n",
       "\n"
      ],
      "text/plain": [
       "<IPython.core.display.HTML object>"
      ]
     },
     "execution_count": 1,
     "metadata": {},
     "output_type": "execute_result"
    }
   ],
   "source": [
    "#RUN THIS CELL \n",
    "import requests\n",
    "from IPython.core.display import HTML, display\n",
    "styles = requests.get(\"https://raw.githubusercontent.com/Harvard-IACS/2018-CS109A/master/content/styles/cs109.css\").text\n",
    "HTML(styles)"
   ]
  },
  {
   "cell_type": "markdown",
   "metadata": {},
   "source": [
    "### INSTRUCTIONS\n",
    "\n",
    "- To submit your assignment follow the instructions given in Canvas."
   ]
  },
  {
   "cell_type": "markdown",
   "metadata": {},
   "source": [
    "# Overview\n",
    "\n",
    "\n",
    "As part of your final project,  please perform exploratory data analysis (EDA) on the data you have received. In order to simulate the \"real world,\" the details of this are deliberately left open-ended, so your EDA should be what you consider the best for the domain you are working in and the specifics of the data. Please cite any references that you use when learning more about the topic of your project.\n",
    "\n",
    " \n",
    "\n",
    "## Key Questions: \n",
    "\n",
    "Given everything you have learned, if you faced this data set in the wild, how would you proceed? \n",
    "\n",
    "What are the important measures? \n",
    "\n",
    "What are the right questions to ask, and how can the data answer them?"
   ]
  },
  {
   "cell_type": "markdown",
   "metadata": {},
   "source": [
    "## List of EDAs\n",
    "1. Volume of cases by year (time trendline)\n",
    "1. Volume of cases by state\n",
    "1. Histogram of number cases authored by each judge\n",
    "1. Length of judgments (pages and word count)\n",
    "1. No. of cases with a minority opinion\n",
    "1. Bar graph of number of cases by court\n",
    "1. Size of vocabulary\n",
    "1. Most common words used\n",
    "1. Most common words used (excluding stop-words)"
   ]
  },
  {
   "cell_type": "code",
   "execution_count": 2,
   "metadata": {},
   "outputs": [],
   "source": [
    "import json\n",
    "import lzma\n",
    "import matplotlib.pyplot as plt\n",
    "import nltk\n",
    "import numpy as np\n",
    "import os\n",
    "import pandas as pd\n",
    "import seaborn as sns\n",
    "from collections import Counter\n",
    "from nltk.corpus import stopwords\n",
    "from nltk.probability import FreqDist\n",
    "from pandas.io.json import json_normalize"
   ]
  },
  {
   "cell_type": "code",
   "execution_count": 3,
   "metadata": {},
   "outputs": [
    {
     "name": "stdout",
     "output_type": "stream",
     "text": [
      "Loading data for new_mexico.xz\n",
      "Flattening data for new_mexico.xz\n",
      "Loading data for arkansas.xz\n",
      "Flattening data for arkansas.xz\n",
      "Loading data for north_carolina.xz\n",
      "Flattening data for north_carolina.xz\n",
      "Loading data for illinois.xz\n",
      "Flattening data for illinois.xz\n"
     ]
    },
    {
     "name": "stderr",
     "output_type": "stream",
     "text": [
      "/usr/share/anaconda3/lib/python3.7/site-packages/ipykernel_launcher.py:15: FutureWarning: Sorting because non-concatenation axis is not aligned. A future version\n",
      "of pandas will change to not sort by default.\n",
      "\n",
      "To accept the future behavior, pass 'sort=False'.\n",
      "\n",
      "To retain the current behavior and silence the warning, pass 'sort=True'.\n",
      "\n",
      "  from ipykernel import kernelapp as app\n"
     ]
    }
   ],
   "source": [
    "def load_data(states=['new_mexico.xz','arkansas.xz','north_carolina.xz','illinois.xz',]):\n",
    "    base_path = \"./data/text\"\n",
    "    data_list = []\n",
    "\n",
    "    for state in states:\n",
    "        print(f'Loading data for {state}')\n",
    "        f = lzma.open(os.path.join(base_path,state),\"rb\")\n",
    "        state_data = f.readlines()\n",
    "        f.close()\n",
    "        data_json = [json.loads(line) for line in state_data]\n",
    "        print(f'Flattening data for {state}')\n",
    "        state_df = json_normalize(data_json)\n",
    "        state_df['source_state'] = state\n",
    "        data_list.append(state_df)\n",
    "    return pd.concat(data_list).reset_index(drop=True)\n",
    "\n",
    "# To load data for some states use:\n",
    "# data = load_data(states=['new_mexico.xz','arkansas.xz'])\n",
    "\n",
    "data = load_data()"
   ]
  },
  {
   "cell_type": "code",
   "execution_count": 4,
   "metadata": {},
   "outputs": [
    {
     "data": {
      "text/plain": [
       "(358819, 36)"
      ]
     },
     "execution_count": 4,
     "metadata": {},
     "output_type": "execute_result"
    }
   ],
   "source": [
    "data.shape"
   ]
  },
  {
   "cell_type": "code",
   "execution_count": 5,
   "metadata": {},
   "outputs": [
    {
     "data": {
      "text/plain": [
       "Index(['casebody.data.attorneys', 'casebody.data.corrections',\n",
       "       'casebody.data.head_matter', 'casebody.data.judges',\n",
       "       'casebody.data.opinions', 'casebody.data.parties', 'casebody.status',\n",
       "       'citations', 'court.id', 'court.name', 'court.name_abbreviation',\n",
       "       'court.slug', 'court.url', 'decision_date', 'docket_number',\n",
       "       'first_page', 'frontend_url', 'id', 'jurisdiction.id',\n",
       "       'jurisdiction.name', 'jurisdiction.name_long', 'jurisdiction.slug',\n",
       "       'jurisdiction.url', 'jurisdiction.whitelisted', 'last_page', 'name',\n",
       "       'name_abbreviation', 'preview', 'reporter.full_name', 'reporter.id',\n",
       "       'reporter.url', 'source_state', 'url', 'volume.barcode', 'volume.url',\n",
       "       'volume.volume_number'],\n",
       "      dtype='object')"
      ]
     },
     "execution_count": 5,
     "metadata": {},
     "output_type": "execute_result"
    }
   ],
   "source": [
    "data.columns"
   ]
  },
  {
   "cell_type": "code",
   "execution_count": 6,
   "metadata": {
    "scrolled": true
   },
   "outputs": [
    {
     "data": {
      "text/html": [
       "<div>\n",
       "<style scoped>\n",
       "    .dataframe tbody tr th:only-of-type {\n",
       "        vertical-align: middle;\n",
       "    }\n",
       "\n",
       "    .dataframe tbody tr th {\n",
       "        vertical-align: top;\n",
       "    }\n",
       "\n",
       "    .dataframe thead th {\n",
       "        text-align: right;\n",
       "    }\n",
       "</style>\n",
       "<table border=\"1\" class=\"dataframe\">\n",
       "  <thead>\n",
       "    <tr style=\"text-align: right;\">\n",
       "      <th></th>\n",
       "      <th>casebody.data.attorneys</th>\n",
       "      <th>casebody.data.corrections</th>\n",
       "      <th>casebody.data.head_matter</th>\n",
       "      <th>casebody.data.judges</th>\n",
       "      <th>casebody.data.opinions</th>\n",
       "      <th>casebody.data.parties</th>\n",
       "      <th>casebody.status</th>\n",
       "      <th>citations</th>\n",
       "      <th>court.id</th>\n",
       "      <th>court.name</th>\n",
       "      <th>...</th>\n",
       "      <th>name_abbreviation</th>\n",
       "      <th>preview</th>\n",
       "      <th>reporter.full_name</th>\n",
       "      <th>reporter.id</th>\n",
       "      <th>reporter.url</th>\n",
       "      <th>source_state</th>\n",
       "      <th>url</th>\n",
       "      <th>volume.barcode</th>\n",
       "      <th>volume.url</th>\n",
       "      <th>volume.volume_number</th>\n",
       "    </tr>\n",
       "  </thead>\n",
       "  <tbody>\n",
       "    <tr>\n",
       "      <td>0</td>\n",
       "      <td>[Tangora &amp; Whitley, P.C., Robert E. Tangora, S...</td>\n",
       "      <td></td>\n",
       "      <td>1997-NMSC-061\\n951 P.2d 605\\nSTATE of New Mexi...</td>\n",
       "      <td>[FRANCHINI, C.J., and BACA, SERNA and McKINNON...</td>\n",
       "      <td>[{'type': 'majority', 'text': 'OPINION\n",
       "MINZNER...</td>\n",
       "      <td>NaN</td>\n",
       "      <td>ok</td>\n",
       "      <td>[{'type': 'official', 'cite': '124 N.M. 388'},...</td>\n",
       "      <td>8835</td>\n",
       "      <td>Supreme Court of New Mexico</td>\n",
       "      <td>...</td>\n",
       "      <td>State v. Woodruff</td>\n",
       "      <td>[]</td>\n",
       "      <td>New Mexico Reports</td>\n",
       "      <td>554</td>\n",
       "      <td>https://api.capapi.org/v1/reporters/554/</td>\n",
       "      <td>new_mexico.xz</td>\n",
       "      <td>https://api.capapi.org/v1/cases/17491/</td>\n",
       "      <td>32044056060890</td>\n",
       "      <td>https://api.capapi.org/v1/volumes/32044056060890/</td>\n",
       "      <td>124</td>\n",
       "    </tr>\n",
       "    <tr>\n",
       "      <td>1</td>\n",
       "      <td>[Angela Adams, Chief Children’s Court Attorney...</td>\n",
       "      <td></td>\n",
       "      <td>1998-NMCA-039\\n955 P.2d 204\\nSTATE of New Mexi...</td>\n",
       "      <td>[DONNELLY and BOSSON, JJ., concur.]</td>\n",
       "      <td>[{'type': 'majority', 'text': 'OPINION\n",
       "WECHSLE...</td>\n",
       "      <td>NaN</td>\n",
       "      <td>ok</td>\n",
       "      <td>[{'type': 'official', 'cite': '124 N.M. 735'},...</td>\n",
       "      <td>9025</td>\n",
       "      <td>Court of Appeals of New Mexico</td>\n",
       "      <td>...</td>\n",
       "      <td>State ex rel. Children, Youth &amp; Families Depar...</td>\n",
       "      <td>[]</td>\n",
       "      <td>New Mexico Reports</td>\n",
       "      <td>554</td>\n",
       "      <td>https://api.capapi.org/v1/reporters/554/</td>\n",
       "      <td>new_mexico.xz</td>\n",
       "      <td>https://api.capapi.org/v1/cases/17129/</td>\n",
       "      <td>32044056060890</td>\n",
       "      <td>https://api.capapi.org/v1/volumes/32044056060890/</td>\n",
       "      <td>124</td>\n",
       "    </tr>\n",
       "    <tr>\n",
       "      <td>2</td>\n",
       "      <td>[Maria Garcia Geer, Geer, Wissel &amp; Levy, P.A.,...</td>\n",
       "      <td></td>\n",
       "      <td>1998-NMCA-012\\n953 P.2d 33\\nCaye C. BUCKINGHAM...</td>\n",
       "      <td>[APODACA and ARMIJO, JJ., concur.]</td>\n",
       "      <td>[{'type': 'majority', 'text': 'OPINION\n",
       "PICKARD...</td>\n",
       "      <td>NaN</td>\n",
       "      <td>ok</td>\n",
       "      <td>[{'type': 'official', 'cite': '124 N.M. 498'},...</td>\n",
       "      <td>9025</td>\n",
       "      <td>Court of Appeals of New Mexico</td>\n",
       "      <td>...</td>\n",
       "      <td>Buckingham v. Ryan</td>\n",
       "      <td>[]</td>\n",
       "      <td>New Mexico Reports</td>\n",
       "      <td>554</td>\n",
       "      <td>https://api.capapi.org/v1/reporters/554/</td>\n",
       "      <td>new_mexico.xz</td>\n",
       "      <td>https://api.capapi.org/v1/cases/18630/</td>\n",
       "      <td>32044056060890</td>\n",
       "      <td>https://api.capapi.org/v1/volumes/32044056060890/</td>\n",
       "      <td>124</td>\n",
       "    </tr>\n",
       "    <tr>\n",
       "      <td>3</td>\n",
       "      <td>[Tom Udall, Attorney General, Arthur W. Pepin,...</td>\n",
       "      <td></td>\n",
       "      <td>950 P.2d 818\\nSTATE of New Mexico ex rel. Alan...</td>\n",
       "      <td>[PICKARD and FLORES, JJ., concur.]</td>\n",
       "      <td>[{'type': 'majority', 'text': 'OPINION\n",
       "BOSSON,...</td>\n",
       "      <td>NaN</td>\n",
       "      <td>ok</td>\n",
       "      <td>[{'type': 'official', 'cite': '124 N.M. 375'},...</td>\n",
       "      <td>9025</td>\n",
       "      <td>Court of Appeals of New Mexico</td>\n",
       "      <td>...</td>\n",
       "      <td>State ex rel. Whitehead v. Vescovi-Dial</td>\n",
       "      <td>[]</td>\n",
       "      <td>New Mexico Reports</td>\n",
       "      <td>554</td>\n",
       "      <td>https://api.capapi.org/v1/reporters/554/</td>\n",
       "      <td>new_mexico.xz</td>\n",
       "      <td>https://api.capapi.org/v1/cases/18319/</td>\n",
       "      <td>32044056060890</td>\n",
       "      <td>https://api.capapi.org/v1/volumes/32044056060890/</td>\n",
       "      <td>124</td>\n",
       "    </tr>\n",
       "    <tr>\n",
       "      <td>4</td>\n",
       "      <td>[Tom Udall, Attorney General, Elizabeth Blaisd...</td>\n",
       "      <td></td>\n",
       "      <td>1997-NMCA-102\\n947 P.2d 168\\nSTATE of New Mexi...</td>\n",
       "      <td>[ALARID and BUSTAMANTE, JJ., concur.]</td>\n",
       "      <td>[{'type': 'majority', 'text': 'OPINION\n",
       "PICKARD...</td>\n",
       "      <td>NaN</td>\n",
       "      <td>ok</td>\n",
       "      <td>[{'type': 'official', 'cite': '124 N.M. 211'},...</td>\n",
       "      <td>9025</td>\n",
       "      <td>Court of Appeals of New Mexico</td>\n",
       "      <td>...</td>\n",
       "      <td>State v. Rivera</td>\n",
       "      <td>[]</td>\n",
       "      <td>New Mexico Reports</td>\n",
       "      <td>554</td>\n",
       "      <td>https://api.capapi.org/v1/reporters/554/</td>\n",
       "      <td>new_mexico.xz</td>\n",
       "      <td>https://api.capapi.org/v1/cases/17318/</td>\n",
       "      <td>32044056060890</td>\n",
       "      <td>https://api.capapi.org/v1/volumes/32044056060890/</td>\n",
       "      <td>124</td>\n",
       "    </tr>\n",
       "  </tbody>\n",
       "</table>\n",
       "<p>5 rows × 36 columns</p>\n",
       "</div>"
      ],
      "text/plain": [
       "                             casebody.data.attorneys  \\\n",
       "0  [Tangora & Whitley, P.C., Robert E. Tangora, S...   \n",
       "1  [Angela Adams, Chief Children’s Court Attorney...   \n",
       "2  [Maria Garcia Geer, Geer, Wissel & Levy, P.A.,...   \n",
       "3  [Tom Udall, Attorney General, Arthur W. Pepin,...   \n",
       "4  [Tom Udall, Attorney General, Elizabeth Blaisd...   \n",
       "\n",
       "  casebody.data.corrections  \\\n",
       "0                             \n",
       "1                             \n",
       "2                             \n",
       "3                             \n",
       "4                             \n",
       "\n",
       "                           casebody.data.head_matter  \\\n",
       "0  1997-NMSC-061\\n951 P.2d 605\\nSTATE of New Mexi...   \n",
       "1  1998-NMCA-039\\n955 P.2d 204\\nSTATE of New Mexi...   \n",
       "2  1998-NMCA-012\\n953 P.2d 33\\nCaye C. BUCKINGHAM...   \n",
       "3  950 P.2d 818\\nSTATE of New Mexico ex rel. Alan...   \n",
       "4  1997-NMCA-102\\n947 P.2d 168\\nSTATE of New Mexi...   \n",
       "\n",
       "                                casebody.data.judges  \\\n",
       "0  [FRANCHINI, C.J., and BACA, SERNA and McKINNON...   \n",
       "1                [DONNELLY and BOSSON, JJ., concur.]   \n",
       "2                 [APODACA and ARMIJO, JJ., concur.]   \n",
       "3                 [PICKARD and FLORES, JJ., concur.]   \n",
       "4              [ALARID and BUSTAMANTE, JJ., concur.]   \n",
       "\n",
       "                              casebody.data.opinions casebody.data.parties  \\\n",
       "0  [{'type': 'majority', 'text': 'OPINION\n",
       "MINZNER...                   NaN   \n",
       "1  [{'type': 'majority', 'text': 'OPINION\n",
       "WECHSLE...                   NaN   \n",
       "2  [{'type': 'majority', 'text': 'OPINION\n",
       "PICKARD...                   NaN   \n",
       "3  [{'type': 'majority', 'text': 'OPINION\n",
       "BOSSON,...                   NaN   \n",
       "4  [{'type': 'majority', 'text': 'OPINION\n",
       "PICKARD...                   NaN   \n",
       "\n",
       "  casebody.status                                          citations  \\\n",
       "0              ok  [{'type': 'official', 'cite': '124 N.M. 388'},...   \n",
       "1              ok  [{'type': 'official', 'cite': '124 N.M. 735'},...   \n",
       "2              ok  [{'type': 'official', 'cite': '124 N.M. 498'},...   \n",
       "3              ok  [{'type': 'official', 'cite': '124 N.M. 375'},...   \n",
       "4              ok  [{'type': 'official', 'cite': '124 N.M. 211'},...   \n",
       "\n",
       "   court.id                      court.name  ...  \\\n",
       "0      8835     Supreme Court of New Mexico  ...   \n",
       "1      9025  Court of Appeals of New Mexico  ...   \n",
       "2      9025  Court of Appeals of New Mexico  ...   \n",
       "3      9025  Court of Appeals of New Mexico  ...   \n",
       "4      9025  Court of Appeals of New Mexico  ...   \n",
       "\n",
       "                                   name_abbreviation preview  \\\n",
       "0                                  State v. Woodruff      []   \n",
       "1  State ex rel. Children, Youth & Families Depar...      []   \n",
       "2                                 Buckingham v. Ryan      []   \n",
       "3            State ex rel. Whitehead v. Vescovi-Dial      []   \n",
       "4                                    State v. Rivera      []   \n",
       "\n",
       "   reporter.full_name reporter.id                              reporter.url  \\\n",
       "0  New Mexico Reports         554  https://api.capapi.org/v1/reporters/554/   \n",
       "1  New Mexico Reports         554  https://api.capapi.org/v1/reporters/554/   \n",
       "2  New Mexico Reports         554  https://api.capapi.org/v1/reporters/554/   \n",
       "3  New Mexico Reports         554  https://api.capapi.org/v1/reporters/554/   \n",
       "4  New Mexico Reports         554  https://api.capapi.org/v1/reporters/554/   \n",
       "\n",
       "    source_state                                     url  volume.barcode  \\\n",
       "0  new_mexico.xz  https://api.capapi.org/v1/cases/17491/  32044056060890   \n",
       "1  new_mexico.xz  https://api.capapi.org/v1/cases/17129/  32044056060890   \n",
       "2  new_mexico.xz  https://api.capapi.org/v1/cases/18630/  32044056060890   \n",
       "3  new_mexico.xz  https://api.capapi.org/v1/cases/18319/  32044056060890   \n",
       "4  new_mexico.xz  https://api.capapi.org/v1/cases/17318/  32044056060890   \n",
       "\n",
       "                                          volume.url volume.volume_number  \n",
       "0  https://api.capapi.org/v1/volumes/32044056060890/                  124  \n",
       "1  https://api.capapi.org/v1/volumes/32044056060890/                  124  \n",
       "2  https://api.capapi.org/v1/volumes/32044056060890/                  124  \n",
       "3  https://api.capapi.org/v1/volumes/32044056060890/                  124  \n",
       "4  https://api.capapi.org/v1/volumes/32044056060890/                  124  \n",
       "\n",
       "[5 rows x 36 columns]"
      ]
     },
     "execution_count": 6,
     "metadata": {},
     "output_type": "execute_result"
    }
   ],
   "source": [
    "data.head()"
   ]
  },
  {
   "cell_type": "markdown",
   "metadata": {},
   "source": [
    "#### No. of cases by year\n",
    "The number of cases has increased since the 1700s (which was unexpected) then dipping during the mid 1900s. The number of cases reached a peak in the late 1900s then decreasing in the last several decades. One thing that comes to mind is the changes in the English language over the centuries."
   ]
  },
  {
   "cell_type": "code",
   "execution_count": 7,
   "metadata": {},
   "outputs": [
    {
     "data": {
      "text/plain": [
       "<matplotlib.axes._subplots.AxesSubplot at 0x7f1f210cf5d0>"
      ]
     },
     "execution_count": 7,
     "metadata": {},
     "output_type": "execute_result"
    },
    {
     "data": {
      "image/png": "[encoded data removed]",
      "text/plain": [
       "<Figure size 432x288 with 1 Axes>"
      ]
     },
     "metadata": {
      "needs_background": "light"
     },
     "output_type": "display_data"
    }
   ],
   "source": [
    "data.groupby([data.decision_date.str[:4].astype(int)])['id'].count().plot()"
   ]
  },
  {
   "cell_type": "code",
   "execution_count": 8,
   "metadata": {},
   "outputs": [
    {
     "data": {
      "text/plain": [
       "'HALIFAX,\\nOCTOBER TERM, 1795.\\nState v. Job Garrigues.\\nIf the jury, in a capital case, separate without returning a verdict, the prisoner shall not be tried again for that offence.\\nHe had been indicted for murder, and put on his trial the last, day of last term, and the jury, after the court had gone from the bench, but without adjourning, separated without giving any verdict; and now ii vas moved by the Attorney-General that he might be again put upon bis trial, and In* cited ICetyng 42, 52. Foster 27, 29, 76. H. H. P. C. 294, 295. E contra were riled II P. C. Yerbo verdict, c. 47, s. 1. p. 439. where it is said to have been held for law ever since 1he Revolution, that a jury cannot be discharged in a capital case without giving a verdict.'"
      ]
     },
     "execution_count": 8,
     "metadata": {},
     "output_type": "execute_result"
    }
   ],
   "source": [
    "#np.where(data.decision_date.str[:4].astype(int) < 1800)\n",
    "#data.iloc[116988]\n",
    "data['casebody.data.opinions'][116988]\n",
    "data['casebody.data.head_matter'][116988]"
   ]
  },
  {
   "cell_type": "markdown",
   "metadata": {},
   "source": [
    "A 1795 record shows that the english used is not that different from today. We also notice that the text includes formatting characters, such as \"\\n\". This may or may not influence learning."
   ]
  },
  {
   "cell_type": "markdown",
   "metadata": {},
   "source": [
    "#### No. of rows in each state file\n",
    "Illinois has the most cases while new mexico has the fewest."
   ]
  },
  {
   "cell_type": "code",
   "execution_count": 9,
   "metadata": {},
   "outputs": [
    {
     "data": {
      "text/plain": [
       "<matplotlib.axes._subplots.AxesSubplot at 0x7f1f211624d0>"
      ]
     },
     "execution_count": 9,
     "metadata": {},
     "output_type": "execute_result"
    },
    {
     "data": {
      "image/png": "[encoded data removed]",
      "text/plain": [
       "<Figure size 432x288 with 1 Axes>"
      ]
     },
     "metadata": {
      "needs_background": "light"
     },
     "output_type": "display_data"
    }
   ],
   "source": [
    "data.source_state.value_counts().plot.bar()"
   ]
  },
  {
   "cell_type": "markdown",
   "metadata": {},
   "source": [
    "### Viewing sample data"
   ]
  },
  {
   "cell_type": "markdown",
   "metadata": {},
   "source": [
    "#### Head Matter"
   ]
  },
  {
   "cell_type": "code",
   "execution_count": 10,
   "metadata": {
    "scrolled": true
   },
   "outputs": [
    {
     "name": "stdout",
     "output_type": "stream",
     "text": [
      "1998-NMCA-039\n",
      "955 P.2d 204\n",
      "STATE of New Mexico, ex rel. CHILDREN, YOUTH AND FAMILIES DEPARTMENT, Petitioner-Appellee, In the Matter of ESPERANZA M., a child, and concerning Marian M., and Jesus M., Respondents-Appellants.\n",
      "No. 17771.\n",
      "Court of Appeals of New Mexico.\n",
      "Jan. 29, 1998.\n",
      "Angela Adams, Chief Children’s Court Attorney, Diane Garrity, Roy E. Stephenson, Jean Conner, Children’s Court Attorneys, Santa Fe, for Petitioner-Appellee.\n",
      "Michael E. Vigil, Marchiondo, Vigil & Associates, P.C., Albuquerque, for Respondents-Appellants.\n",
      "Jennifer Davis Hall, Albuquerque, Appellate Guardian ad litem.\n"
     ]
    }
   ],
   "source": [
    "n = 1\n",
    "print(data['casebody.data.head_matter'][n])"
   ]
  },
  {
   "cell_type": "markdown",
   "metadata": {},
   "source": [
    "#### Judges\n",
    "It appears that opinions with several authors have lower frequencies while opinions with a single author are more frequent.There are cases without a judge's opinion."
   ]
  },
  {
   "cell_type": "code",
   "execution_count": 11,
   "metadata": {},
   "outputs": [
    {
     "data": {
      "text/plain": [
       "0         [FRANCHINI, C.J., and BACA, SERNA and McKINNON...\n",
       "1                       [DONNELLY and BOSSON, JJ., concur.]\n",
       "2                        [APODACA and ARMIJO, JJ., concur.]\n",
       "3                        [PICKARD and FLORES, JJ., concur.]\n",
       "4                     [ALARID and BUSTAMANTE, JJ., concur.]\n",
       "                                ...                        \n",
       "358814                                                   []\n",
       "358815                                                   []\n",
       "358816                                                   []\n",
       "358817                                                   []\n",
       "358818                                                   []\n",
       "Name: casebody.data.judges, Length: 358819, dtype: object"
      ]
     },
     "execution_count": 11,
     "metadata": {},
     "output_type": "execute_result"
    }
   ],
   "source": [
    "data['casebody.data.judges']"
   ]
  },
  {
   "cell_type": "code",
   "execution_count": 12,
   "metadata": {},
   "outputs": [],
   "source": [
    "for i in range(4):\n",
    "    data[f'casebody.data.opinions.author{i}'] = data['casebody.data.opinions'].map(lambda x: x[i]['author'] if len(x)>=i+1 else None)"
   ]
  },
  {
   "cell_type": "code",
   "execution_count": 13,
   "metadata": {},
   "outputs": [
    {
     "data": {
      "text/plain": [
       "<matplotlib.axes._subplots.AxesSubplot at 0x7f1f2117b050>"
      ]
     },
     "execution_count": 13,
     "metadata": {},
     "output_type": "execute_result"
    },
    {
     "data": {
      "image/png": "[encoded data removed]",
      "text/plain": [
       "<Figure size 432x288 with 1 Axes>"
      ]
     },
     "metadata": {
      "needs_background": "light"
     },
     "output_type": "display_data"
    }
   ],
   "source": [
    "data['casebody.data.opinions.author0'].value_counts()[:30].plot.bar()"
   ]
  },
  {
   "cell_type": "code",
   "execution_count": 14,
   "metadata": {},
   "outputs": [
    {
     "data": {
      "text/plain": [
       "<matplotlib.axes._subplots.AxesSubplot at 0x7f1f21242e90>"
      ]
     },
     "execution_count": 14,
     "metadata": {},
     "output_type": "execute_result"
    },
    {
     "data": {
      "image/png": "[encoded data removed]",
      "text/plain": [
       "<Figure size 432x288 with 1 Axes>"
      ]
     },
     "metadata": {
      "needs_background": "light"
     },
     "output_type": "display_data"
    }
   ],
   "source": [
    "data['casebody.data.opinions.author0'].value_counts()[-30:].plot.bar()"
   ]
  },
  {
   "cell_type": "markdown",
   "metadata": {},
   "source": [
    "#### Courts"
   ]
  },
  {
   "cell_type": "code",
   "execution_count": 15,
   "metadata": {},
   "outputs": [
    {
     "data": {
      "text/plain": [
       "<matplotlib.axes._subplots.AxesSubplot at 0x7f1f2130b050>"
      ]
     },
     "execution_count": 15,
     "metadata": {},
     "output_type": "execute_result"
    },
    {
     "data": {
      "image/png": "[encoded data removed]",
      "text/plain": [
       "<Figure size 432x288 with 1 Axes>"
      ]
     },
     "metadata": {
      "needs_background": "light"
     },
     "output_type": "display_data"
    }
   ],
   "source": [
    "data.groupby([data['court.name']])['id'].count().plot.bar()"
   ]
  },
  {
   "cell_type": "markdown",
   "metadata": {},
   "source": [
    "#### Attorneys"
   ]
  },
  {
   "cell_type": "code",
   "execution_count": 16,
   "metadata": {},
   "outputs": [
    {
     "data": {
      "text/plain": [
       "0         [Tangora & Whitley, P.C., Robert E. Tangora, S...\n",
       "1         [Angela Adams, Chief Children’s Court Attorney...\n",
       "2         [Maria Garcia Geer, Geer, Wissel & Levy, P.A.,...\n",
       "3         [Tom Udall, Attorney General, Arthur W. Pepin,...\n",
       "4         [Tom Udall, Attorney General, Elizabeth Blaisd...\n",
       "                                ...                        \n",
       "358814    [G. Bros. Roofing, pro se, for Claimant., Neil...\n",
       "358815    [Don Johnson, for Claimant., Neil F. Hartigan,...\n",
       "358816    [Harvey L. Walner & Associates, Ltd., of Chica...\n",
       "358817    [Paul P. Biebel, Jr., Public Defender, of Chic...\n",
       "358818                                                   []\n",
       "Name: casebody.data.attorneys, Length: 358819, dtype: object"
      ]
     },
     "execution_count": 16,
     "metadata": {},
     "output_type": "execute_result"
    }
   ],
   "source": [
    "data['casebody.data.attorneys']"
   ]
  },
  {
   "cell_type": "markdown",
   "metadata": {},
   "source": [
    "#### Corrections"
   ]
  },
  {
   "cell_type": "code",
   "execution_count": 17,
   "metadata": {},
   "outputs": [
    {
     "data": {
      "text/plain": [
       "0          \n",
       "1          \n",
       "2          \n",
       "3          \n",
       "4          \n",
       "         ..\n",
       "358814     \n",
       "358815     \n",
       "358816     \n",
       "358817     \n",
       "358818     \n",
       "Name: casebody.data.corrections, Length: 358819, dtype: object"
      ]
     },
     "execution_count": 17,
     "metadata": {},
     "output_type": "execute_result"
    }
   ],
   "source": [
    "data['casebody.data.corrections']"
   ]
  },
  {
   "cell_type": "markdown",
   "metadata": {},
   "source": [
    "#### Status"
   ]
  },
  {
   "cell_type": "code",
   "execution_count": 18,
   "metadata": {},
   "outputs": [
    {
     "data": {
      "text/plain": [
       "ok    358819\n",
       "Name: casebody.status, dtype: int64"
      ]
     },
     "execution_count": 18,
     "metadata": {},
     "output_type": "execute_result"
    }
   ],
   "source": [
    "data['casebody.status'].value_counts()"
   ]
  },
  {
   "cell_type": "markdown",
   "metadata": {},
   "source": [
    "There is only one value for 'status' which is 'ok'. "
   ]
  },
  {
   "cell_type": "markdown",
   "metadata": {},
   "source": [
    "#### Opinions"
   ]
  },
  {
   "cell_type": "code",
   "execution_count": 19,
   "metadata": {},
   "outputs": [
    {
     "data": {
      "text/html": [
       "<div>\n",
       "<style scoped>\n",
       "    .dataframe tbody tr th:only-of-type {\n",
       "        vertical-align: middle;\n",
       "    }\n",
       "\n",
       "    .dataframe tbody tr th {\n",
       "        vertical-align: top;\n",
       "    }\n",
       "\n",
       "    .dataframe thead th {\n",
       "        text-align: right;\n",
       "    }\n",
       "</style>\n",
       "<table border=\"1\" class=\"dataframe\">\n",
       "  <thead>\n",
       "    <tr style=\"text-align: right;\">\n",
       "      <th></th>\n",
       "      <th>type</th>\n",
       "      <th>text</th>\n",
       "      <th>author</th>\n",
       "    </tr>\n",
       "  </thead>\n",
       "  <tbody>\n",
       "    <tr>\n",
       "      <td>0</td>\n",
       "      <td>majority</td>\n",
       "      <td>OPINION\\nFRANCHINI, Chief Justice.\\n1 Timothy ...</td>\n",
       "      <td>FRANCHINI, Chief Justice.</td>\n",
       "    </tr>\n",
       "    <tr>\n",
       "      <td>1</td>\n",
       "      <td>concurrence</td>\n",
       "      <td>MINZNER, Justice\\n(specially concurring).\\n128...</td>\n",
       "      <td>MINZNER, Justice</td>\n",
       "    </tr>\n",
       "    <tr>\n",
       "      <td>2</td>\n",
       "      <td>dissent</td>\n",
       "      <td>BACA, Justice\\n(Dissenting).\\nWhile I am mindf...</td>\n",
       "      <td>BACA, Justice</td>\n",
       "    </tr>\n",
       "  </tbody>\n",
       "</table>\n",
       "</div>"
      ],
      "text/plain": [
       "          type                                               text  \\\n",
       "0     majority  OPINION\\nFRANCHINI, Chief Justice.\\n1 Timothy ...   \n",
       "1  concurrence  MINZNER, Justice\\n(specially concurring).\\n128...   \n",
       "2      dissent  BACA, Justice\\n(Dissenting).\\nWhile I am mindf...   \n",
       "\n",
       "                      author  \n",
       "0  FRANCHINI, Chief Justice.  \n",
       "1           MINZNER, Justice  \n",
       "2              BACA, Justice  "
      ]
     },
     "execution_count": 19,
     "metadata": {},
     "output_type": "execute_result"
    }
   ],
   "source": [
    "json_normalize(data['casebody.data.opinions'][9])"
   ]
  },
  {
   "cell_type": "markdown",
   "metadata": {},
   "source": [
    "The 'Casebody.data.opinions' field is a nested json with type, text and author fields for each opinion. A case can have multiple opinions. As can be seen above, there are three opinions - a majority opinion, a concurrence opinion and a dissenting opinion."
   ]
  },
  {
   "cell_type": "markdown",
   "metadata": {},
   "source": [
    "#### How many opinions in a case?"
   ]
  },
  {
   "cell_type": "markdown",
   "metadata": {},
   "source": [
    "We see that a case can have upto 8 different opinions. Most cases have have 1 opinions and some have two. Very few have more than 2 opinions."
   ]
  },
  {
   "cell_type": "code",
   "execution_count": 20,
   "metadata": {},
   "outputs": [
    {
     "data": {
      "text/plain": [
       "<matplotlib.axes._subplots.AxesSubplot at 0x7f1f213f4f10>"
      ]
     },
     "execution_count": 20,
     "metadata": {},
     "output_type": "execute_result"
    },
    {
     "data": {
      "image/png": "[encoded data removed]",
      "text/plain": [
       "<Figure size 432x288 with 1 Axes>"
      ]
     },
     "metadata": {
      "needs_background": "light"
     },
     "output_type": "display_data"
    }
   ],
   "source": [
    "data['casebody.data.opinions'].map(lambda x:len(x)).value_counts().plot.bar()"
   ]
  },
  {
   "cell_type": "code",
   "execution_count": 21,
   "metadata": {},
   "outputs": [
    {
     "data": {
      "text/plain": [
       "1    332238\n",
       "2     23179\n",
       "3      2678\n",
       "4       401\n",
       "0       247\n",
       "5        60\n",
       "6         9\n",
       "7         5\n",
       "8         2\n",
       "Name: casebody.data.opinions, dtype: int64"
      ]
     },
     "execution_count": 21,
     "metadata": {},
     "output_type": "execute_result"
    }
   ],
   "source": [
    "data['casebody.data.opinions'].map(lambda x:len(x)).value_counts()"
   ]
  },
  {
   "cell_type": "markdown",
   "metadata": {},
   "source": [
    "##### Flattening opinions column"
   ]
  },
  {
   "cell_type": "code",
   "execution_count": 22,
   "metadata": {},
   "outputs": [],
   "source": [
    "for i in range(4):\n",
    "    data[f'casebody.data.opinions.type{i}'] = data['casebody.data.opinions'].map(lambda x: x[i]['type'] if len(x)>=i+1 else None)\n",
    "    data[f'casebody.data.opinions.text{i}'] = data['casebody.data.opinions'].map(lambda x: x[i]['text'] if len(x)>=i+1 else None)"
   ]
  },
  {
   "cell_type": "code",
   "execution_count": 23,
   "metadata": {},
   "outputs": [
    {
     "data": {
      "text/plain": [
       "0         OPINION\\nMINZNER, Justice.\\n(1)Defendant Lonni...\n",
       "1         OPINION\\nWECHSLER, Judge.\\n1. As a result of a...\n",
       "2         OPINION\\nPICKARD, Judge.\\n¶ 1 This case requir...\n",
       "3         OPINION\\nBOSSON, Judge.\\n1. Article II, Sectio...\n",
       "4         OPINION\\nPICKARD, Judge.\\n1. Defendant appeals...\n",
       "                                ...                        \n",
       "358814    Holderman, J.\\nThe record in this cause indica...\n",
       "358815    Patchett, J.\\nThis cause coming on for the Cou...\n",
       "358816    JUSTICE COUSINS\\ndelivered the opinion of the ...\n",
       "358817    JUSTICE PINCHAM\\ndelivered the opinion of the ...\n",
       "358818    Burks, J.\\nThis matter is now before us on Res...\n",
       "Name: casebody.data.opinions.text0, Length: 358819, dtype: object"
      ]
     },
     "execution_count": 23,
     "metadata": {},
     "output_type": "execute_result"
    }
   ],
   "source": [
    "data['casebody.data.opinions.text0']"
   ]
  },
  {
   "cell_type": "markdown",
   "metadata": {},
   "source": [
    "#### Opinion text"
   ]
  },
  {
   "cell_type": "markdown",
   "metadata": {},
   "source": [
    "Below is a text of one of the opionns"
   ]
  },
  {
   "cell_type": "code",
   "execution_count": 24,
   "metadata": {},
   "outputs": [
    {
     "data": {
      "text/plain": [
       "'OPINION\\nMINZNER, Justice.\\n(1)Defendant Lonnie Woodruff appeals from a judgment and sentence entered after his conviction by a jury of driving while under the influence of. intoxicating liquor (DWI) contrary to NMSA 1978, § 66-8-102 (1994, prior to 1997 amendment). On appeal, he contends he was denied due process of law under the New Mexico Constitution when the district court enhanced his sentence from a first offense to a second offense as a result of a prior conviction for which he was not represented by counsel. We affirm.\\nI.\\n(2) Following Woodruffs conviction, the State filed a supplemental criminal information. In that supplemental information, the State alleged that Woodruff had two prior convictions for DWI. Defendant admitted that he was the person named in the two counts of the supplemental information. However, he challenged one of the convictions on the basis that the State failed to show he had waived his right to counsel and that he had not been represented by counsel at the time of the challenged conviction.\\n(3) The district court found that the conviction Woodruff challenged had resulted in a fine. The court ruled that the challenged conviction was valid for purposes of enhancing Woodruffs most recent conviction because the prior conviction had not resulted in a term of imprisonment. The court also ruled that the second conviction contained in the supplemental information was entered after the most recent conviction.\\n(4) The court enhanced Woodruffs current conviction to a second offense of DWI. Under Section 66-8-102(F), the enhancement increased the maximum incarceration from ninety days to 364. Under Section 66-8-102(F)(1), the enhancement resulted in a mandatory jail term of not less than seventy-two hours.\\n(5) Woodruff objected to the use of his prior conviction on the ground the State had not shown a knowing, intelligent and voluntary waiver of counsel. State v. Russell, 113 N.M. 121, 122-23, 823 P.2d 921, 922-23 (Ct. App.1991); State v. Watchman, 111 N.M. 727, 809 P.2d 641 (Ct.App.1991), overruled in part by State v. Hosteen, 1996 NMCA 084, 122 N.M. 228, 923 P.2d 595, aff\\'d, 1997 NMSC 063,124 N.M. 402, 951 P.2d 619. The trial court ruled that, in deciding Watchman and Russell, the Court of Appeals had relied on authority that depended on the effect of Baldasar v. Illinois, 446 U.S. 222, 100 S.Ct. 1585, 64 L.Ed.2d 169 (1980), and the trial court noted that the United States Supreme Court recently overruled Baldasar in Nichols v. United States, 511 U.S. 738, 114 S.Ct. 1921, 128 L.Ed.2d 745 (1994). In Nichols, the United States Supreme Court held that a prior uneounseled conviction could be used to enhance a subsequent conviction, even if the defendant had not waived his right to counsel in connection with the prior conviction, provided the prior conviction did not result in a sentence of imprisonment. Under Nichols, the trial court held that using Woodruffs prior uneounseled conviction did not deny him due process as a matter of federal constitutional law.\\n(6) The New Mexico Court of Appeals recently reached that same result in reviewing similar facts on direct appeal. See State v. Hosteen, 1996 NMCA 084, ¶ 18. In Hos-teen, however, the Court of Appeals did not reach the question of whether, as a matter of state constitutional law, a prior uneounseled conviction that did not result in a sentence of imprisonment may be used to enhance a current conviction so that it results in a sentence of imprisonment. Id. ¶¶ 19-20. The Court of Appeals did not reach that issue because neither party had briefed it on appeal. Woodruff argues that question now.\\nII.\\n(7) Woodruff contends that, as a matter of due process under the New Mexico Constitution, the court should not have used his prior uneounseled conviction to enhance his current conviction to a second offense. He contends that such a conviction is inherently unreliable. He argues that a defendant who does not face incarceration is more likely to plead guilty, notwithstanding his or her innocence, and that an uneounseled defendant in such a situation may not anticipate the risk of subsequent enhancement resulting in incarceration at a later time. Woodruff notes that New Mexico protects by statute an indigent defendant’s right to counsel under the federal and state constitutions. We have said, he observes, that the Indigent Defense Act, NMSA 1978, §§ 81-16-1 to -10 (1968), and the Public Defender Act, NMSA 1978, §§ 31-15-1 to -12 (1973, as amended through 1993), create a unified response to the needs of those who are “financially incapable of employing counsel.” State v. Rascon, 89 N.M. 254, 257, 550 P.2d 266, 269 (1976).\\n(8) We do not believe these statutes embody a legislative declaration that all uncounseled convictions are unreliable as a matter of law, nor are we persuaded that the Legislature intended to limit the meaning of “conviction” in reference to enhancement for prior instances of DWI. The Indigent Defense Act and the Public Defender Act “are, in the main, responses to sixth amendment rights to counsel for the actual defense of criminal charges.” Rascon, 89 N.M. at 257, 550 P.2d at 269. We have no basis for assuming that the Legislature contemplated the collateral consequences of a conviction obtained without counsel when it adopted either act. Even if we assume the Legisla ture did contemplate the right to counsel as a matter of federal constitutional law articulated in Argersinger v. Hamlin, 407 U.S. 25, 92 S.Ct. 2006, 32 L.Ed.2d 530 (1972), and Scott v. Illinois, 440 U.S. 367, 99 S.Ct. 1158, 59 L.Ed.2d 383 (1979), as it amended Section 66-8-102 after those cases were decided, we have no basis for concluding that the Legislature considered any uneounseled misdemeanors too unreliable, as a matter of law, for purposes of enhancement. In neither Argersinger nor Scott did the United States Supreme Court express the view that uncounseled misdemeanor convictions are inherently unreliable as a matter of law. For a violation of Scott and Argersinger, the Tenth Circuit has held that the proper remedy is to strike the sentence and to affirm the conviction. See United States v. Reilley, 948 F.2d 648, 654 (10th Cir.1991) (“Reilley’s conviction is affirmed, his prison sentence is vacated____”); see also Nichols, 511 U.S. at 763 n. 5, 114 S.Ct. at 1936 n. 5 (Blackmun, J., dissenting) (discussing the “hybrid” nature of an uncounseled conviction, “valid for the purpose of imposing a sentence, but invalid for the purpose of depriving the accused of his liberty”). In general, for sentence enhancement in New Mexico, “‘conviction’ is the polestar, not the sentence imposed.” State v. Davis, 104 N.M. 229, 230, 719 P.2d 807, 808 (1986) (discussing the Habitual Offender Act); State v. Larranaga, 77 N.M. 528, 530, 424 P.2d 804, 805 (1967) (“The conviction is the finding of guilt. Sentence is not an element of the conviction but rather a declaration of its consequences.”) (quoting People v. Funk, 321 Mich. 617, 33 N.W.2d 95 (1948)); accord State v. Anaya, 1997 NMSC 010, ¶ 23, 123 N.M. 14, 21, 933 P.2d 223, 230 (1996) (concluding that prior DWI convictions are not elements of an enhanced DWI). Section 66-8-102 specifically restates that traditional understanding. See § 66-8-102(L)(2) (“ ‘conviction’ means an adjudication of guilt and does not include imposition of a sentence.”) Given the traditional interpretation of sentence enhancement provisions in New Mexico and the specific language of Section 66-8-102(L)(2), we believe the Legislature did not intend to limit the use of prior uncounseled misdemeanor convictions for enhancement under Section 66-8-102(F), (G), so long as such use does not violate the United States Constitution or the New Mexico Constitution. That is, we do not view the issue in this case as a matter of statutory construction but rather a matter of constitutional interpretation.\\n(9) The State argues that there is no evidence that Woodruffs 1971 conviction is unreliable. We agree. In the absence of any evidence that the State obtained the 1971 conviction under particular circumstances making it unreliable as a matter of fact, we do not believe the argument Woodruff makes under the New Mexico Constitution provides a basis for reversing the trial court’s decision in this case. Cf. State v. Garcia, 95 N.M. 246, 250, 620 P.2d 1271, 1275 (1980) (sustaining defendant’s challenge to prior guilty plea in subsequent habitual offender proceedings on ground plea was induced by unkept promises). We explain.\\nIII.\\n(10) The State notes that the trial court assumed, without evidence, that Woodruffs conviction was uncounseled. The trial court apparently concluded that after Nichols the 1971 conviction could be used to enhance the 1995 conviction, whether or not Woodruff had had counsel in 1971 or had waived his right to, counsel. The State argues that Woodruff has not provided a factual predicate for reaching the state constitutional issue.\\n(11) The State makes an important point. In State v. Gomez, 1997 NMSC 006, 122 N.M. 777, 932 P.2d 1, we outlined the approach to preserving questions of whether a state constitutional provision provides broader protection than a parallel or analogous federal constitutional provision. We said there, that a preliminary question is whether “established precedent construes the provision to provide more protection than its federal counterpart.” Id. ¶22. If so, a party preserves the claim by “(1) asserting the constitutional principle that provides the protection sought under the New Mexico Constitution, and (2) showing the factual basis needed for the trial court to rule on the issue.” Id. We also said that a different rule controls “when a party asserts a state constitutional right that has not been interpreted differently than its federal analog.” Id. ¶ 23. In that circumstance, “a party also must assert in the trial court that the state constitutional provision at issue should be interpreted more expansively than the federal counterpart and provide reasons for interpreting the state provision differently from the federal provision.” Id. (emphasis added).\\n(12) In this ease, we must address another prehminary question, before determining if Woodruff has preserved an issue under the New Mexico Constitution. Consistent with the interstitial approach we adopted in Gomez, 1997 NMSC 006, we con sider “whether the right being asserted is protected under the federal constitution.” Id. ¶ 19. On that issue, Hosteen controls.\\nA.\\n(13) In Hosteen, the defendant argued that Nichols provided a limited holding. He argued that Nichols “allow[ed] an uneounseled prior conviction to be considered during the sentencing phase of a criminal prosecution, and it is not to be used in considering whether a misdemeanor should be converted to a felony.” See Hosteen, 1996 NMCA 084, ¶ 10. The Court of Appeals analyzed the cases the Supreme Court relied upon in Nichols, and concluded that Nichols does not distinguish between the use of an uncounseled prior conviction in determining the appropriate basic sentence for a current conviction and the use of an uncounseled prior conviction of a recidivist for purposes of enhancing the basic sentence. Hosteen, 1996 NMCA 084, ¶¶ 11-16, 122 N.M. 228, 923 P.2d 595. As the Court of Appeals noted, “the situation in Baldosar was factually similar to this case, in that Baldasar’s misdemeanor theft was converted to a felony pursuant to an Illinois enhancement statute.” Hosteen, 1996 NMCA 084, ¶ 16, 122 N.M. 228, 923 P.2d 595, We believe, as did the Court of Appeals in Hosteen and the trial court in this case, that the United States Supreme Court’s overruling of Baldosar was intended to permit, as a matter of federal constitutional law, the use of a prior uncounseled conviction of a recidivist for purposes of enhancing the basic sentence.\\n(14) This interpretation of Nichols is consistent with the analysis found in a number of appellate opinions from other states. See Paletta v. City of Topeka, 20 Kan.App.2d 859, 893 P.2d 280, 283-86 (1995); People v. Richert, 216 Mich.App. 186, 548 N.W.2d 924, 927 (1996); Ghoston v. State, 645 So.2d 936, 939 (Miss.1994); State v. Hansen, 273 Mont. 321, 903 P.2d 194, 196-97 (1995); State v. Stewart, 321 Or. 1, 892 P.2d 1013, 1016-17 (1995); State v. Porter, 164 Vt. 515, 671 A.2d 1280, 1283-84 (1996); James v. Commonwealth, 18 Va.App. 746, 446 S.E.2d 900, 902-04 (1994); State v. Hopkins, 192 W.Va. 483, 453 S.E.2d 317, 323-24 (1994). The United States Supreme Court’s guidance in Nichols is that state courts now may use an uncounseled prior misdemeanor conviction to enhance a sentence under a recidivist statute, provided the uncounseled conviction did not result in a sentence of imprisonment. See generally Nichols, 511 U.S. at 747-48, 114 S.Ct. at 1927-28 (discussing recidivist statutes as well as federal sentencing guidelines); Gonzales, 1997 NMSC 050.\\nB.\\n(15) Consistent with the interstitial approach, we next examine whether the state constitutional issue raised on appeal has been preserved. Under Gomez, we initially ask whether there is established precedent providing a basis for interpreting the New Mexico constitutional provision(s) more broadly than the federal analog(s). We conclude there is not.\\n(16) The two relevant constitutional provisions are essentially the same. The United States Constitution provides that, “[i]n all criminal prosecutions, the accused shall enjoy the right ... to have the Assistance of Counsel for his defence.” U.S. Const., amend. VI. The New Mexico Constitution provides that, “[i]n all criminal prosecutions, the accused shall have the right to appear and defend himself in person, and by counsel____” N.M. Const. art. II, § 14.\\n(17) We previously have not made a distinction between the protection of this right provided in the two constitutions. See State ex rel. Quintana v. Schnedar, 115 N.M. 573, 575, 855 P.2d 562, 564 (1993) (“The New Mexico Constitution embraces and parallels” the Sixth Amendment’s ideal of providing criminal indigents legal representation at public expense.); State v. Garcia, 47 N.M. 319, 326, 142 P.2d 552, 556 (1943) (what has been read from the Sixth Amendment as a matter of construction appears as a guarantee in the New Mexico Constitution). The Court of Appeals also has not made any distinction. Instead, it has held that “the New Mexico Constitution should be construed in light of the United States Constitution on the right to counsel issue.” State v. Sandoval, 101 N.M. 399, 403, 683 P.2d 516, 520 (Ct.App.1984) (holding the right to counsel does not attach immediately following the administration of a blood-alcohol test, because that period is not a “critical stage”); see also State v. Brazeal, 109 N.M. 752, 755, 790 P.2d 1033, 1036 (Ct.App.1990) (“[W]e conclude that the test for ineffective assistance of counsel is identical under the federal and state Constitutions. In this opinion we will make no distinction between federal and state law”).\\n(18) Watchman did restrict the use of pri- or tribal court convictions in subsequent sentencing proceedings on the basis of the New Mexico Constitution. 111 N.M. at 733, 809 P.2d at 647. Watchman noted that United States v. Benally, 756 F.2d 773 (10th Cir. 1985), holding that prior tribal court convictions may be considered in subsequent sentencing proceedings, reached a result inconsistent with the due process guarantee of the New Mexico Constitution. Id. Watchman’s reference to the New Mexico Constitution, however, is best understood as a limited response to Benally’s holding. Watchman gave no extended discussion to the New Mexico Constitution or any differences between the New Mexico and United States Constitutions regarding either the right to counsel or the right to due process.\\n(19) The eases cited for the holding in Watchman with respect to the New Mexico Constitution are State v. Cooper, 343 N.W.2d 485 (Iowa 1984), State v. Hamilton, 104 N.M. 614, 725 P.2d 590 (Ct.App.1986), and State v. Ramirez, 89 N.M. 635, 556 P.2d 43 (Ct.App. 1976). See Watchman, 111 N.M. at 733, 809 P.2d at 647. All three cases express state court recognition of, and reliance upon, federal constitutional principles. Cooper, at 486 (“We find that the reasoning of Baldasar and our own view of the importance of counsel preclude an enhanced conviction as well as a sentence of imprisonment.”); Hamilton, 104 N.M. at 617, 725 P.2d at 593 (relying on Sixth Amendment to the United States Constitution as precluding presumption of waiver of counsel from a silent record); Ramirez, 89 N.M. at 638, 556 P.2d at 46 (relying on Michigan v. Mosley, 423 U.S. 96, 96 S.Ct. 321, 46 L.Ed.2d 313 (1975), for proposition that statement not given in compliance with Miranda v. Arizona, 384 U.S. 436, 86 S.Ct. 1602, 16 L.Ed.2d 694 (1966) is not admissible over objection, even if voluntary). We conclude that Watchman does not provide an independent state constitutional law basis for holding that uneounseled misdemeanor convictions are unreliable as a matter of law. We interpret Watchman as extending prior Court of Appeals authority, based on Baldasar, to a new set of facts. See Watchman, 111 N.M. at 733, 809 P.2d at 647 (“Following the rationale of Baldasar____”). We believe Watchman holds that it would be a denial of due process to treat uneounseled tribal court convictions differently from uneounseled state court convictions. Perhaps the holding also might have been expressed as a holding that the result was compelled as a matter of equal protection. See N.M. Const. art. II, § 18 (“[N]o person shall be deprived of life, liberty or property without due process of law; nor shall any person be denied equal protection of the laws.”)\\n(20) Consequently, Woodruffs claim under the New Mexico Constitution would have been preserved under Gomez by asserting in the trial court that the state constitution provides greater protection and by providing reasons for that assertion.\\n[W]hen a party asserts a state constitutional right that has not been interpreted differently than its federal analog, a party also must assert in the trial court that the state constitutional provision at issue should be interpreted more expansively than the federal counterpart and provide reasons for interpreting the state provision differently from the federal provision.\\nGomez, 1997 NMSC 006, ¶ 23. In this ease, the purpose of this requirement was served. We conclude the issue was properly preserved.\\n(21) At the sentencing hearing, the trial judge stated that he was “anticipating” that the basis of the objection to Woodruffs 1971 conviction was a lack of waiver of counsel. The prosecutor indicated to the judge that the trial court was “aware” of its position regarding the Nichols and Baldasar issues. Finally, the judge applied his decision in a prior case that “the sole reasoning in support of Ulibarri was the Baldasar opinion specifically overruled by Nichols____ Until this Court is advised that the New Mexico Su preme Court interprets the New Mexico Constitution differently as to this issue, I am compelled to give weight to the precedent addressed.” The opposing opinions of the United States Supreme Court, New Mexico’s adoption of the earlier United States Supreme Court opinion, and the language in Nichols limiting its rationale based on principles of federalism, Nichols, 511 U.S. at 748 n. 12, 114 S.Ct. at 1928 n. 12 (“Of course States may decide, based on their own constitutions or public policy, that counsel should be available for all indigent defendants charged with misdemeanors.”), presented the trial court with several options. In interpreting New Mexico precedent, the trial court might have concluded: 1) the Court of Appeals adopted the principle that prior uncounseled convictions may not serve as the basis for subsequent sentence enhancement because such prior convictions are too unreliable, weaken the right to counsel guaranteed by the state constitution, or otherwise deny due process; 2) the Court of Appeals adopted as a matter of state constitutional law the United States Supreme Court’s interpretation of the Sixth Amendment right to counsel; or 3) the Court of Appeals followed the United States Supreme Court precedent as developed under the Fourteenth Amendment due process clause, leaving unresolved the correlative state constitutional law interpretation of either due process or right to counsel. Although the trial court concluded that it was bound by Nichols, the trial court had a clear choice among principles. The trial court itself “fairly invoked” a ruling on the state constitutional answer to the question of whether a prior uncounseled conviction not resulting in a sentence of imprisonment may support the enhancement of sentence for a current conviction. As in Gomez, allowing Woodruffs appeal would defeat neither of the primary purposes of Rule 12-216(A) NMRA 1997 (requiring that a lower court decision be “fairly invoked”); the trial court was alerted to the claim of error and had a meaningful opportunity to correct any mistake, and the prosecutor had a fair opportunity to respond to the objection. See Gomez, 1997 NMSC 006, ¶29. Thus, we need not decide whether Woodruff adequately preserved this issue. The issue is properly before us.\\nIV.\\n(22) For the reasons stated above, we construe our prior case law as dependent on Baldosar, which Nichols has overruled. For the following reasons, we conclude that we have no basis for expanding the protection provided by the New Mexico Constitution beyond that provided, on these facts, by the federal constitution. In determining the scope of rights under the New Mexico Constitution, we have sought guidance from United States Supreme Court decisions interpreting parallel federal constitutional provisions and “from the decisions of courts of our sister states interpreting their correlative state constitutional guarantees____” State v. Gutierrez, 116 N.M. 431, 435-36, 863 P.2d 1052, 1056-57 (1993). Very few of our sister states have attempted to address this issue under their own constitutions, and even fewer have analyzed the issue separately. Compare Hopkins, 453 S.E.2d at 324 (allowing use of uncounseled misdemeanor conviction, valid because no prison term was imposed, to support conviction for third offense of shoplifting), and In re Advisory Opinion to the Governor, 666 A.2d 813, 815-18 (R.I. 1995) (advising that neither state nor federal constitution require appointed counsel unless imprisonment is actually imposed, notwithstanding prior case law interpreting state constitutional right to appointed counsel more broadly than federal right), with Porter, 671 A.2d at 1282 (noting that Vermont has “consistently held that the right to representation found in [state constitution] confers a right similar to the federal Sixth Amendment right”), and Richert, 548 N.W.2d at 927-28 (finding no justification for construing state constitution more broadly than federal).\\n(23) The Hawaii Constitution has provided a basis for departure from both Scott and Nichols. In State v. Dowler, 80 Hawai\\'i 246, 909 P.2d 574 (Ct.App.), cert. granted, 80 Hawai\\'i 187, 907 P.2d 773 (1995), and cert. dismissed, 80 Hawaii 357, 910 P.2d 128 (1996), the Hawaii Intermediate Court of Appeals held that a criminal defendant is entitled to be represented by counsel in every case where the state has charged a crime punishable by a term of imprisonment. The Hawaii court relied on both the state constitution’s requirement that the state provide counsel for an indigent defendant “charged with an offense punishable by imprisonment,” id. 909 P.2d at 577 (quoting Article 1, Section 14 of the Hawaii Constitution) (emphasis added), and state legislation implementing that right by providing that “[a]ny indigent person who is (1) arrested for, charged with or convicted of an offense or offenses punishable by confinement in jail or prison ... shall be entitled to be represented by a public defender.” Id. (quoting Haw.Rev.Stat.Ann. § 802-1 (Michie, 1998)). Subsequently, in State v. Sinagoga, 81 Hawaii 421, 918 P.2d 228, 241 (1996), the same court chose “not to follow the rationale in Nichols” in the context of consecutive term sentencing. The court reasoned that “[i]f an uncounseled misdemeanor conviction cannot result in imprisonment because of its unreliability in the first place, it is logically inconsistent to rely on it as a basis to enhance a prison term on a subsequent conviction.” Id. The court applied its holding to prior uncounseled petty misdemeanors, in addition to prior felony and misdemeanor convictions. The court observed that its holding was consistent with the Hawaii Supreme Court’s decision to afford greater protection to criminal defendants’ right to effective assistance of counsel. Id. (citing State v. Aplaca, 74 Haw. 54, 837 P.2d 1298, 1305 n. 2 (1992)).\\n(24) In addition, Alaska, Arizona, Indiana, North Dakota, and Oregon have interpreted the right to counsel under their respective state constitutions more expansively than the interpretation given to the federal constitution by Nichols and Scott. Alexander v. Anchorage, 490 P.2d 910, 915 (Alaska 1971) (interpreting state constitutional right to counsel in all criminal prosecutions as requiring counsel in cases in which there is imprisonment, loss of a valuable license, or a heavy fine indicating the criminality of the offense); State v. Anderson, 185 Ariz. 454, 455-56, 916 P.2d 1170, 1171-72 (Ct.App.1996) (rejecting Nichols and applying State v. Reagan, 103 Ariz. 287, 289, 440 P.2d 907, 909 (1968), requiring a record of representation by counsel or waiver of right to counsel before a conviction may be used to enhance the penalty for a current conviction); Brunson v. State, 182 Ind.App. 146, 394 N.E.2d 229, 231 (1979) (holding state constitution required counsel for all persons charged with a criminal misdemeanor); State v. Orr, 375 N.W.2d 171, 177-79 (N.D.1985) (stating that uncounseled convictions are “too unreliable to support the sanction of imprisonment” even for purposes of enhancement); City of Pendleton v. Standerfer, 297 Or. 725, 688 P.2d 68, 70-72 (1984) (applying Oregon case law interpreting Oregon constitution to effect that a conviction for drunk driving obtained without the assistance of counsel, when counsel had not been waived is invalid and holding that constitutionally invalid prior conviction may not be used to support guilt or enhance punishment in a subsequent proceeding). All of these cases, however, other than Orr, rely on case law that predated Baldasar. Orr relies in part on the textual difference between the Sixth Amendment guarantee of the right to counsel and the comparable state constitutional provision that is virtually identical to the comparable portion of Article II, Section 14 of the New Mexico Constitution. See id., 375 N.W.2d at 177. Nevertheless, Orr also relies on state legislation dating back to 1895, protecting the right to the assistance of counsel and an indigent defendant’s right to appointed counsel. Id. Orr also relies on case law recognizing the state constitutional right to counsel as “fundamental because it enables an accused to procure a fair trial.” Id. at 177-78. Our own case law on the collateral use of an uncounseled conviction appears to have been compelled by the holding in Baldasar. Thus, we return to Gomez for guidance.\\n(25) In Gomez, we said that we will “diverge from federal precedent for three reasons: a flawed federal analysis, structural differences between state and federal government, or distinctive state characteristics.” Gomez, 1997 NMSC 006, ¶ 19. Unlike Hawaii, our constitutional provisions protecting the right to counsel and the right to due process do not contain structural differences compelling departure from the United States Constitution. Woodruff agrees that Article II, Section 14, contains “no specific textual mandate for departing from the federal standard.” Although Orr appears to have relied in part on textual differences, we do not find the differences compelling, nor that they are the type of differences intended by Gomez. Additionally, the parties have not suggested that the right to counsel has a unique importance in our state. Therefore, under Gomez, in order to diverge from federal precedent, we must decide whether the United States Supreme Court’s analysis in Nichols is “flawed.” We think that means, on these facts, that we must decide whether the federal analysis, under the Fourteenth Amendment as it incorporates the Sixth Amendment and protects against state action, persuasively addresses the issue raised by Woodruff.\\n(26) In Scott, the United States Supreme Court focused on actual imprisonment in its right to counsel analysis. In doing so, the United States Supreme Court recognized that misdemeanor convictions are sufficiently reliable for some purposes only and implicitly relied on the importance of the constitutional protection of liberty in determining the need for counsel. See Argersinger, 407 U.S. at 40, 92 S.Ct. at 2014 (“[I]n those [misdemeanors] that end up in the actual deprivation of a person’s liberty, the accused will receive the benefit of ‘the guiding hand of counsel’ so necessary where one’s liberty is in jeopardy.”). We conclude the Court viewed the significance of the presence of counsel as dependent in part on whether the consequences are immediate and direct or subsequent and collateral. In the development of the federal constitutional protection of the right to counsel, that distinction serves a unique function; the distinction limits federal constitutional development and opens up\\' or protects state constitutional law development. For our purposes, however, we must consider whether the distinction adequately protects both the state constitutional right to counsel and the state constitutional guarantee of due process. On the facts of this case, we believe the right to counsel and the right to due process generally protect the same value: the right to fundamental fairness in a proceeding that results in the deprivation of liberty. In this case, we specifically address whether prior uncounseled misdemeanor convictions not resulting in a sentence of imprisonment are insufficiently reliable to permit their use in sentence enhancement. We believe the issue before us is whether Woodruff has received the due process guaranteed under the state constitution. N.M.Const. art. II, §§ 14, 18.\\n(27) For purposes of reviewing whether uncounseled convictions, valid under federal constitutional law, may be used to enhance a sentence or a subsequent conviction, we apply the balancing test articulated in Mathews v. Eldridge, 424 U.S. 319, 334-35, 96 S.Ct. 893, 902-03, 47 L.Ed.2d 18 (1976). This test provides a useful frame work for determining the amount of process appropriate to protect a liberty or property interest as a matter of constitutional right. Under the test formulated by the United States Supreme Court, the following interests are balanced against each other: (1) the nature of the private interest that will be affected by the official action; (2) the risk of erroneous deprivation and probable value of additional safeguards; and (3) the government’s interest, including the administrative and fiscal burden of providing additional procedural safeguards. See State v. Rotherham, 1996 NMSC 048, 122 N.M. 246, 262-63, 923 P.2d 1131, 1147-48 (applying the balancing test). Within this interpretive framework, we determine whether the constitutional protection of liberty requires that a prior conviction not resulting in a sentence of imprisonment must either be counseled or contain a waiver of counsel in order to be used to enhance a subsequent conviction.\\n(28)We begin by recognizing that the nature of the private interest involved for enhancement of a sentence in connection with a subsequent conviction differs from that in considering the right to counsel, generally. In the case of a prior conviction, the liberty interest involved at the outset was twofold: (1) the private interest of not being wrongly convicted of a crime; and (2) the right to be free from imprisonment for acts not committed by the defendant. By contrast, in the case of a subsequent conviction when the prosecutor seeks an enhanced penalty, there will always be a current conviction, constitutionally obtained, for which a sentence of imprisonment is likely available and potentially mandatory. The liberty interest for enhancement then is in the degree of sentencing available to or required of the judge. The importance of the liberty interest varies depending on the degree of increased penalty available for enhancement resulting from the prior uncounseled conviction.\\n(29) In the context of DWI enhancement, we recognize that the Legislature’s scheme of enhancement will rarely result in the use of more than one uncounseled misdemeanor conviction. The United States Constitution requires counsel in all misdemeanor convictions resulting in a sentence of imprisonment. Scott, 440 U.S. at 373-74, 99 S.Ct. at 1162. Because DWI convictions beyond the first require a mandatory minimum sentence of imprisonment. Section 66-8-102(F), (G), only first-time DWI offenders may be constitutionally denied the assistance of state-provided counsel.\\n(30) Woodruff complains of the use of one uneounseled DWI conviction. A first-time DWI offender may be sentenced to a maximum ninety days in jail and a maximum fine of $500. Section 66-8-102(E). A second-time DWI offender may be sentenced to a maximum of three hundred sixty-four days in jail, with a mandatory minimum of seventy-two hours that cannot be suspended or deferred, and a maximum fine of $1,000, with a mandatory minimum of $500. Section 66-8-102(F)(1). Thus, Woodruffs liberty interest for the use of one prior uncounseled misdemeanor DWI for enhancement is the difference between a ninety-day maximum sentence and a three hundred-sixty-four-day maximum sentence, seventy-two hours of which is mandatory. Section 66-8-102(E), (F).\\n(31) Second, we consider the risk of error. In this context, the risk of error is the probability that a defendant was convicted at an earlier time without the aid of counsel for an act the defendant did not commit, compared with the probability of such an occurrence if the earlier conviction had been counseled. Here, the risk of error must be evaluated in the context of sentence enhancement. There has always been a great deal of flexibility and discretion involved in sentencing. “[B]e-fore making [the sentencing] determination, a judge may appropriately conduct an inquiry broad in scope, largely unlimited either as to the kind of information he may consider, or the source from which it may come.” United States v. Tucker, 404 U.S. 443, 446, 92 S.Ct. 589, 591, 30 L.Ed.2d 592 (1972); see NMSA 1978, § 31-18-15.1 (1993) (providing for sentence alteration due to aggravating and mitigating circumstances). In addition, as a matter of federal constitutional law, a prosecutor need only demonstrate the existence of aggravating facts by a preponderance of the evidence. See McMillan v. Pennsylvania, 477 U.S. 79, 86, 106 S.Ct. 2411, 2416, 91 L.Ed.2d 67 (1986) (upholding the burden of proof imposed by the Pennsylvania Mandatory Sentencing Act). Thus, we can only determine whether a particular risk of error is unacceptable by reference to the risk of error generally acceptable in sentencing practices.\\n(32) There are several reasons for questioning the reliability of an uneounseled conviction. First, without counsel, a defendant may not have the full benefit of traditional safeguards afforded criminal defendants. “The right to be heard would be, in many cases, of little avail if it did not comprehend the right to be heard by counsel____ [A defendant] is incapable, generally, of determining for himself whether the indictment is good or bad. He is unfamiliar with the rules of evidence.” Powell v. Alabama, 287 U.S. 45, 68-69, 53 S.Ct. 55, 63-64, 77 L.Ed. 158 (1932). Additionally, a defendant might more readily enter into a plea agreement in order to avoid the expense of trial or for other reasons unrelated to culpability with the mistaken impression that the only consequence of the conviction will be a fine. See Nichols, 511 U.S. at 752, 114 S.Ct. at 1930 (Souter, J., concurring). As a result, “[w]ithout [counsel], though [the defendant] be not guilty, he faces the danger of conviction because he does not know how to establish his innocence.” Powell, 287 U.S. at 69, 53 S.Ct. at 64.\\n(33) Nonetheless, an uncounseled misdemeanor conviction does contain a certain degree of reliability. A misdemeanant may be convicted in two ways: a plea of guilty or no contest, typically through a plea agreement, or a fact-finder’s determination of guilt beyond a reasonable doubt after a trial. “[A] judgment of conviction resting on a plea of guilty is justified by the defendant’s admission that he committed the crime charged against him____” North Carolina v. Alford, 400 U.S. 25, 32, 91 S.Ct. 160, 164-65, 27 L.Ed.2d 162 (1970); accord State v. Marquez, 105 N.M. 269, 271-72, 731 P.2d 965, 967-68 (Ct.App.1986) (holding that a prior conviction by plea of no contest can be used to enhance and stating that “[a] plea of nolo contendere ... is tantamount to an admission of guilt”). The development of the hearsay doctrine in relation to inculpatory statements made by criminal defendants supports the notion that a guilty plea can be reliable. Rule 11-801(D)(2)(a) NMRA 1997 (stating that admissions are not hearsay); Rule 11-803(V) NMRA 1997 (treating judgments of convictions after trial or guilty plea as an exception to hearsay rule); Rule 11-804(B)(3) NMRA 1997 (excepting from hearsay rule upon the unavailability of a witness statements against penal interests “that a reasonable person in the declarant’s position would not have made ... unless believing it to be true”). Thus, there is a degree of reliability in an uncounseled plea of guilty or no contest.\\n(34) There is a similar degree of reliability in a neutral fact-finder’s determination of guilt, even in the absence of counsel. In every criminal case, the prosecution bears the burden of proof with respect to each element of the crime. The prosecution must introduce sufficient evidence to support a finding of guilt beyond a reasonable doubt. Even absent counsel, the panoply of criminal procedural protections afford a certain reliability to a guilty verdict.\\n(35) The presence of counsel undoubtedly ensures greater reliability for a misdemeanor conviction. Nevertheless, judicial discretion in matters of sentencing traditionally has been broad. Because it is constitutionally permissible to sentence “more severely based simply on evidence of the underlying conduct which gave rise to the previous DUI offense ..., it must be constitutionally permissible to consider a prior uncounseled misdemeanor conviction based on the same conduct where that conduct must be proven beyond a reasonable doubt.” Nichols, 511 U.S. at 748, 114 S.Ct. at 1928. We believe there is a relatively low risk of error in using an uncounseled misdemeanor conviction for purposes of enhancement in comparison with other factors courts typically use in sentencing.\\n(36) Third, we consider the governmental cost of providing additional safeguards. If we were to reject Nichols under a state constitutional analysis, the practical effect would be a requirement of counsel in every DWI case in order to give effect to the Legislature’s intent with respect to enhancement. See Orr, 375 N.W.2d at 179. While there is currently a statutory requirement of counsel in all cases in which there is a potential for imprisonment of more than six months, see Section 31-16-3(A), the imposition of a constitutional requirement for all misdemeanor DWI cases would be significantly more burdensome to the state both fiscally and administratively.\\n(37) On balance, the private liberty interest at stake in the use of one prior uncounseled misdemeanor conviction for the enhancement of a current DWI conviction is not sufficiently important to outweigh the relatively low risk of error of enhancement based on a mistaken conviction and the significant governmental cost of providing counsel in all misdemeanor DWI cases. See Porter, 671 A.2d at 1285 (Morse, J., concurring) (“[T]he requirement that counsel be afforded to all indigent DWI defendants in order to effectuate the recidivist statute is simply too big a price to pay for the relatively small marginal gain in ‘reliability.’ ”). We conclude that the use of a prior uncounseled misdemeanor DWI conviction not resulting in a sentence of imprisonment to enhance a subsequent misdemeanor DWI conviction does not violate the New Mexico Constitution.\\ny.\\n(38) For these reasons, we conclude that Woodruffs 1971 DWI conviction was valid under the New Mexico Constitution as well as the United States Constitution. We have said that the Indigent Defense Act and the Public Defender Act “are, in the main, responses to sixth amendment rights to counsel for the actual defense of criminal charges.” Rascon, 89 N.M. at 257, 550 P.2d at 269. We have specifically characterized the rights granted by the Sixth Amendment of the Constitution of the United States as similar to the rights mentioned in Article II, Section 14 of the New Mexico Constitution. Id. at 256, 550 P.2d at 268. We said in Gomez that “[a] state court adopting [the interstitial] approach may diverge from federal precedent for three reasons: a flawed federal analysis, structural differences between state and federal government, or distinctive state characteristics.” 122 N.M. 777, 932 P.2d 1, 1997 NMSC 006, ¶ 19. We conclude that the issue in this case arises out of the due process guarantee of the state constitution. Wood-ruff has not provided a basis for divergence from federal precedent in the arguments made to this Court, and our own research and analysis has identified none. Under these circumstances, we conclude that at present we have no basis for construing the right to due process guaranteed under the New Mexico Constitution more broadly than that protected by the Fourteenth Amendment and the Sixth Amendment against violation by state action. See Porter, 671 A.2d at 1282; Richert, 548 N.W.2d at 927-28. Therefore, Woodruffs conviction for driving while under the influence as a second offense is affirmed.\\n(39)IT IS SO ORDERED.\\nFRANCHINI, C.J., and BACA, SERNA and McKINNON, JJ., concur.\\n1\\n. We granted certiorari in Hosteen because we had granted certiorari in State v. Gonzales, NMCA No. 16,564 (January 24, 1996), cert. granted, 121 N.M. 499, 914 P.2d 636 (1996), and affd in part, rev’d in part, 1997 NMSC 050, 124 N.M. 171, 947 P.2d 128, which appeared to raise a common issue or common issues. The Court consolidated this case with Hosteen for purposes of submission. The dispositive issue in the group of cases we ordered consolidated with Gonzales differs from case to case, although there is a common factual background. In order to make clear our holding on the dispositive issue in each case, we have separated the cases we originally ordered consolidated.\\n2\\n. The Court has before it a number of cases, including Hosteen, in which, either through a petition for writ of certiorari to the Court of Appeals or a request for certification by the Court of Appeals, the parties have argued the same issue or a variation of that issue. We address the state constitutional issue in this case, where it is posed most simply.\\n3\\n.We reserve for another time the question of whether the New Mexico Constitution provides greater protection than Scott and whether actual imprisonment, rather than potential imprisonment, should serve as the bright-line test for requiring counsel in misdemeanor cases as a matter of the state constitutional protection of the right to counsel. We have before us the narrower question of the degree of reliability constitutionally required in a conviction in order to enhance the sentence of a new conviction constitutionally obtained. We note, however, that our Legislature apparently statutorily anticipated the view of Justice Blackmun in his dissent in Scott. Compare Scott, 440 U.S. at 389-90, 99 S.Ct. at 1170 (Blackmun, J., dissenting) (\"I would hold that an indigent defendant in a state criminal case must be afforded counsel whenever the defendant is prosecuted for [an offense] punishable by more than six months’ imprisonment, ... or whenever the defendant is convicted of an offense and is actually subjected to a term of imprisonment.’’) (citations omitted), with NMSA 1978, § 31-16-3(A) (1968) (providing for indigent defense in all \"serious crimes,” defined in Section 31-16-2(D) (1968) as crimes with a potential sentence of imprisonment of six months or more).\\n4\\n. The United States Supreme Court has already determined that prior uncounseled felony convictions and prior uncounseled misdemeanor convictions resulting in imprisonment are not sufficiently reliable to use in sentence enhancement. See Burgett v. Texas, 389 U.S. 109, 114-15, 88 S.Ct. 258, 261-62, 19 L.Ed.2d 319 (1967) (felony convictions); Nichols, 511 U.S. at 748-49, 114 S.Ct. at 1928-29 (drawing a bright line at a sentence of imprisonment for misdemeanor convictions).\\n5\\n. The United States Supreme Court has also recognized the usefulness of the Mathews analysis in the context of criminal proceedings. See United States v. Salerno, 481 U.S. 739, 746, 107 S.Ct. 2095, 2101, 95 L.Ed.2d 697 (1987); see also State v. Joyner, 225 Conn. 450, 625 A.2d 791, 802 n. 8 (1993).\\n6\\n. It is possible that three uncounseled DWI convictions each could be prosecuted as a first-time DWI not resulting in a sentence of imprisonment, and subsequently the three could be used to enhance a fourth DWI conviction to a felony. Because we are not presented with such a factual scenario, we will not balance the heightened liberty interest at stake for a mandatory minimum six-month sentence, and maximum eighteen-month sentence, with the potentially increased risk of error in using three prior uncounseled misdemeanor convictions.'"
      ]
     },
     "execution_count": 24,
     "metadata": {},
     "output_type": "execute_result"
    }
   ],
   "source": [
    "data['casebody.data.opinions.text0'][0]"
   ]
  },
  {
   "cell_type": "code",
   "execution_count": 25,
   "metadata": {},
   "outputs": [
    {
     "data": {
      "image/png": "[encoded data removed]",
      "text/plain": [
       "<Figure size 432x288 with 1 Axes>"
      ]
     },
     "metadata": {
      "needs_background": "light"
     },
     "output_type": "display_data"
    }
   ],
   "source": [
    "# the number of characters in each opinion\n",
    "data['casebody.data.opinions.text0'].str.len().hist(range=(0,50000));"
   ]
  },
  {
   "cell_type": "code",
   "execution_count": 26,
   "metadata": {},
   "outputs": [
    {
     "data": {
      "text/plain": [
       "390445.0"
      ]
     },
     "execution_count": 26,
     "metadata": {},
     "output_type": "execute_result"
    }
   ],
   "source": [
    "max(data['casebody.data.opinions.text0'].str.len())"
   ]
  },
  {
   "cell_type": "markdown",
   "metadata": {},
   "source": [
    "Most opinions have less than 20,000 characters. The longest opinion has 390,000 characters"
   ]
  },
  {
   "cell_type": "code",
   "execution_count": 27,
   "metadata": {},
   "outputs": [],
   "source": [
    "# Cell takes too long to run and fails. Consider tokenizing with nltk or on a sample\n",
    "# the number of words appearing in each opinion\n",
    "data['casebody.data.opinions.word_count0'] = data['casebody.data.opinions.text0'].apply(lambda x: len(str(x).split()))\n",
    "data['casebody.data.opinions.word_count1'] = data['casebody.data.opinions.text1'].apply(lambda x: len(str(x).split()))\n",
    "data['casebody.data.opinions.word_count2'] = data['casebody.data.opinions.text2'].apply(lambda x: len(str(x).split()))\n",
    "data['casebody.data.opinions.word_count3'] = data['casebody.data.opinions.text3'].apply(lambda x: len(str(x).split()))"
   ]
  },
  {
   "cell_type": "code",
   "execution_count": 28,
   "metadata": {},
   "outputs": [
    {
     "data": {
      "text/plain": [
       "<matplotlib.axes._subplots.AxesSubplot at 0x7f1f2143bf10>"
      ]
     },
     "execution_count": 28,
     "metadata": {},
     "output_type": "execute_result"
    },
    {
     "data": {
      "image/png": "[encoded data removed]",
      "text/plain": [
       "<Figure size 432x288 with 1 Axes>"
      ]
     },
     "metadata": {
      "needs_background": "light"
     },
     "output_type": "display_data"
    }
   ],
   "source": [
    "data['casebody.data.opinions.word_count0'].hist()"
   ]
  },
  {
   "cell_type": "code",
   "execution_count": 29,
   "metadata": {},
   "outputs": [
    {
     "data": {
      "text/plain": [
       "<matplotlib.axes._subplots.AxesSubplot at 0x7f1f214ce210>"
      ]
     },
     "execution_count": 29,
     "metadata": {},
     "output_type": "execute_result"
    },
    {
     "data": {
      "image/png": "[encoded data removed]",
      "text/plain": [
       "<Figure size 432x288 with 1 Axes>"
      ]
     },
     "metadata": {
      "needs_background": "light"
     },
     "output_type": "display_data"
    }
   ],
   "source": [
    "data['casebody.data.opinions.word_count1'].hist()"
   ]
  },
  {
   "cell_type": "code",
   "execution_count": 30,
   "metadata": {},
   "outputs": [
    {
     "data": {
      "text/plain": [
       "<matplotlib.axes._subplots.AxesSubplot at 0x7f1f214c8ed0>"
      ]
     },
     "execution_count": 30,
     "metadata": {},
     "output_type": "execute_result"
    },
    {
     "data": {
      "image/png": "[encoded data removed]",
      "text/plain": [
       "<Figure size 432x288 with 1 Axes>"
      ]
     },
     "metadata": {
      "needs_background": "light"
     },
     "output_type": "display_data"
    }
   ],
   "source": [
    "data['casebody.data.opinions.word_count2'].hist()"
   ]
  },
  {
   "cell_type": "code",
   "execution_count": 31,
   "metadata": {},
   "outputs": [
    {
     "data": {
      "text/plain": [
       "<matplotlib.axes._subplots.AxesSubplot at 0x7f1f21584bd0>"
      ]
     },
     "execution_count": 31,
     "metadata": {},
     "output_type": "execute_result"
    },
    {
     "data": {
      "image/png": "[encoded data removed]",
      "text/plain": [
       "<Figure size 432x288 with 1 Axes>"
      ]
     },
     "metadata": {
      "needs_background": "light"
     },
     "output_type": "display_data"
    }
   ],
   "source": [
    "data['casebody.data.opinions.word_count3'].hist()"
   ]
  },
  {
   "cell_type": "code",
   "execution_count": 32,
   "metadata": {},
   "outputs": [
    {
     "data": {
      "text/plain": [
       "63775"
      ]
     },
     "execution_count": 32,
     "metadata": {},
     "output_type": "execute_result"
    }
   ],
   "source": [
    "data['casebody.data.opinions.word_count0'].max()"
   ]
  },
  {
   "cell_type": "markdown",
   "metadata": {},
   "source": [
    "Most opinions have fewer than 10,000 words. The maximum number of words in an opinion is 63,775 words."
   ]
  },
  {
   "cell_type": "markdown",
   "metadata": {},
   "source": [
    "#### Types of opinions"
   ]
  },
  {
   "cell_type": "code",
   "execution_count": 33,
   "metadata": {},
   "outputs": [
    {
     "data": {
      "text/plain": [
       "majority       358484\n",
       "rehearing          62\n",
       "dissent            15\n",
       "concurrence        11\n",
       "Name: casebody.data.opinions.type0, dtype: int64"
      ]
     },
     "execution_count": 33,
     "metadata": {},
     "output_type": "execute_result"
    }
   ],
   "source": [
    "data['casebody.data.opinions.type0'].value_counts()"
   ]
  },
  {
   "cell_type": "code",
   "execution_count": 34,
   "metadata": {},
   "outputs": [
    {
     "data": {
      "text/plain": [
       "dissent                                      16072\n",
       "concurrence                                   7044\n",
       "concurring-in-part-and-dissenting-in-part     1794\n",
       "rehearing                                     1409\n",
       "majority                                         5\n",
       "on-the-merits                                    4\n",
       "remittitur                                       3\n",
       "on-motion-to-strike-cost-bill                    2\n",
       "unanimous                                        1\n",
       "Name: casebody.data.opinions.type1, dtype: int64"
      ]
     },
     "execution_count": 34,
     "metadata": {},
     "output_type": "execute_result"
    }
   ],
   "source": [
    "data['casebody.data.opinions.type1'].value_counts()"
   ]
  },
  {
   "cell_type": "code",
   "execution_count": 35,
   "metadata": {},
   "outputs": [
    {
     "data": {
      "text/plain": [
       "dissent                                      2144\n",
       "concurrence                                   620\n",
       "concurring-in-part-and-dissenting-in-part     224\n",
       "rehearing                                     165\n",
       "on-motion-to-strike-cost-bill                   2\n",
       "Name: casebody.data.opinions.type2, dtype: int64"
      ]
     },
     "execution_count": 35,
     "metadata": {},
     "output_type": "execute_result"
    }
   ],
   "source": [
    "data['casebody.data.opinions.type2'].value_counts()"
   ]
  },
  {
   "cell_type": "code",
   "execution_count": 36,
   "metadata": {},
   "outputs": [],
   "source": [
    "# focusing on text0, which has the majority of the data\n",
    "opinions = []\n",
    "for i in range(len(data['casebody.data.opinions.text0'])):\n",
    "    if data['casebody.data.opinions.text0'][i] != None:\n",
    "        opinions.append(data['casebody.data.opinions.text0'][i].split())\n",
    "\n",
    "#opinions[0]"
   ]
  },
  {
   "cell_type": "code",
   "execution_count": 37,
   "metadata": {},
   "outputs": [],
   "source": [
    "words = []\n",
    "for word in opinions:\n",
    "    words += word\n",
    "\n",
    "#words[0]"
   ]
  },
  {
   "cell_type": "code",
   "execution_count": 38,
   "metadata": {},
   "outputs": [
    {
     "data": {
      "text/plain": [
       "3160355"
      ]
     },
     "execution_count": 38,
     "metadata": {},
     "output_type": "execute_result"
    }
   ],
   "source": [
    "len(Counter(words).keys())"
   ]
  },
  {
   "cell_type": "markdown",
   "metadata": {},
   "source": [
    "The length of the vocabulary for all opinions is 3,160,355 unique words, acronyms, and punctuation."
   ]
  },
  {
   "cell_type": "code",
   "execution_count": 39,
   "metadata": {},
   "outputs": [],
   "source": [
    "common_words = FreqDist(words).most_common(20)\n",
    "x, y = zip(*common_words)"
   ]
  },
  {
   "cell_type": "code",
   "execution_count": 40,
   "metadata": {},
   "outputs": [
    {
     "data": {
      "text/plain": [
       "<function matplotlib.pyplot.show(*args, **kw)>"
      ]
     },
     "execution_count": 40,
     "metadata": {},
     "output_type": "execute_result"
    },
    {
     "data": {
      "image/png": "[encoded data removed]",
      "text/plain": [
       "<Figure size 432x288 with 1 Axes>"
      ]
     },
     "metadata": {
      "needs_background": "light"
     },
     "output_type": "display_data"
    }
   ],
   "source": [
    "plt.figure()\n",
    "plt.bar(x, y)\n",
    "plt.title('Frequency of the 20 Most Common Words')\n",
    "plt.xlabel('Words')\n",
    "plt.ylabel('Frequency of Words')\n",
    "plt.xticks(rotation=90)\n",
    "plt.show"
   ]
  },
  {
   "cell_type": "code",
   "execution_count": 41,
   "metadata": {},
   "outputs": [
    {
     "name": "stderr",
     "output_type": "stream",
     "text": [
      "[nltk_data] Downloading package stopwords to\n",
      "[nltk_data]     /home/21413283/nltk_data...\n",
      "[nltk_data]   Package stopwords is already up-to-date!\n"
     ]
    }
   ],
   "source": [
    "nltk.download('stopwords')\n",
    "stop_words = set(stopwords.words('english'))\n",
    "\n",
    "# changing the case for \"The\" and \"In\" so that those stopwords can be excluded.\n",
    "for i, w in enumerate(words):\n",
    "    if w=='The':\n",
    "        words[i] = 'the'\n",
    "    if w=='In':\n",
    "        words[i] = 'in'\n",
    "\n",
    "word_count = Counter(words)\n",
    "most_words = word_count.most_common()"
   ]
  },
  {
   "cell_type": "code",
   "execution_count": 42,
   "metadata": {},
   "outputs": [],
   "source": [
    "x, y = [], []\n",
    "for word, count in most_words:\n",
    "    if (word not in stop_words):\n",
    "        x.append(word)\n",
    "        y.append(count)"
   ]
  },
  {
   "cell_type": "code",
   "execution_count": 43,
   "metadata": {},
   "outputs": [
    {
     "data": {
      "text/plain": [
       "Text(0.5, 1.0, 'Frequency of the 20 Most Non-stop Words')"
      ]
     },
     "execution_count": 43,
     "metadata": {},
     "output_type": "execute_result"
    },
    {
     "data": {
      "image/png": "[encoded data removed]",
      "text/plain": [
       "<Figure size 432x288 with 1 Axes>"
      ]
     },
     "metadata": {
      "needs_background": "light"
     },
     "output_type": "display_data"
    }
   ],
   "source": [
    "sns.barplot(x=y[0:20], y=x[0:20]).set_title('Frequency of the 20 Most Non-stop Words')"
   ]
  },
  {
   "cell_type": "markdown",
   "metadata": {},
   "source": [
    "# Key Questions: "
   ]
  },
  {
   "cell_type": "markdown",
   "metadata": {},
   "source": [
    "### Given everything you have learned, if you faced this data set in the wild, how would you proceed? "
   ]
  },
  {
   "cell_type": "markdown",
   "metadata": {},
   "source": [
    "We'd do the following for **acquiring training data**:\n",
    "\n",
    "1) Search for labelled data. Currently we do not have summaries available. It would be good to have summaries of some of the cases which we can use for training.\n",
    "\n",
    "2) If aquiring summaries is not possible, we can try identifying key legal terms in the text using Legal NLP tools such as LexNLP (https://github.com/LexPredict/lexpredict-lexnlp) and Legal NER (https://github.com/openlegaldata/legal-ner)\n",
    "\n",
    "3) It would be nice to manually label a few summaries. We do not have a law background, so our labelling might not be the best. However, if we have the funds, we could recruit legal aides to do the summarization for a few cases."
   ]
  },
  {
   "cell_type": "markdown",
   "metadata": {},
   "source": [
    "#### Methodology:"
   ]
  },
  {
   "cell_type": "markdown",
   "metadata": {},
   "source": [
    "There are two ways to generate summaries \n",
    "\n",
    "1) Extractive: No new sentences are generated. Sentences from the main text are selected to be used in the summary. This becomes a binary classification problem where for a given sentence, we want to predict whether it's suitable to be used in the summary or not.\n",
    "\n",
    "2) Abstractive: New sentences are generated. If training data with abstract summaries are available, a seq2seq kind of a model could be used to learn generation of summaries. The input would be the main text and the y-labels would be the summaries.\n",
    "\n",
    "Sources:\n",
    "\n",
    "https://www.sciencedirect.com/science/article/pii/S1319157819301259\n",
    "\n",
    "https://www.analyticsvidhya.com/blog/2019/06/comprehensive-guide-text-summarization-using-deep-learning-python/"
   ]
  },
  {
   "cell_type": "markdown",
   "metadata": {},
   "source": [
    "### What are the important measures? "
   ]
  },
  {
   "cell_type": "markdown",
   "metadata": {},
   "source": [
    "A good summary should have the following characteristics:\n",
    "\n",
    "1) Sentences should be intelligible\n",
    "\n",
    "2) All important ideas should be encapsulated in the summary\n",
    "\n",
    "3) Should be substantially shorter than the main text\n",
    "\n",
    "As of now, we're not very sure how these metrics can be quantified."
   ]
  },
  {
   "cell_type": "markdown",
   "metadata": {},
   "source": [
    "### What are the right questions to ask, and how can the data answer them?"
   ]
  },
  {
   "cell_type": "markdown",
   "metadata": {},
   "source": [
    "A legal practitioner maybe interested in the ability to do the following:\n",
    "\n",
    "1) Get relevant judgments given a certain circumstance (e.g. racial profiling by the police)\n",
    "\n",
    "2) Find judgments similar to a given judgment\n",
    "\n",
    "3) Get answer to a particular question (e.g. Is there a precedent to curb free speech in the interest of public good?)\n",
    "\n",
    "Generating good summaries and building a query / search functionality on top of it may help answer these questions."
   ]
  }
 ],
 "metadata": {
  "kernelspec": {
   "display_name": "python3",
   "language": "python",
   "name": "python3"
  },
  "language_info": {
   "codemirror_mode": {
    "name": "ipython",
    "version": 3
   },
   "file_extension": ".py",
   "mimetype": "text/x-python",
   "name": "python",
   "nbconvert_exporter": "python",
   "pygments_lexer": "ipython3",
   "version": "3.7.4"
  }
 },
 "nbformat": 4,
 "nbformat_minor": 2
}
