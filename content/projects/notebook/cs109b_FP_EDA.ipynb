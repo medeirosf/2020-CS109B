{
 "cells": [
  {
   "cell_type": "markdown",
   "metadata": {},
   "source": [
    "# <img style=\"float: left; padding-right: 10px; width: 45px\" src=\"https://raw.githubusercontent.com/Harvard-IACS/2018-CS109A/master/content/styles/iacs.png\"> CS109B Data Science 2: Advanced Topics in Data Science \n",
    "\n",
    "##  Final Project: Milestone 2 - Exploratory Data Analysis (EDA) [3 pts]\n",
    "\n",
    "\n",
    "**Harvard University**<br/>\n",
    "**Spring 2020**<br/>\n",
    "**Group Members**: Fernando Medeiros, Mohammed Gufran Pathan, and Prerna Aggarwal<br/>\n",
    "\n",
    "<hr style=\"height:2pt\">\n",
    "\n",
    "---"
   ]
  },
  {
   "cell_type": "code",
   "execution_count": 1,
   "metadata": {},
   "outputs": [
    {
     "data": {
      "text/html": [
       "<style>\n",
       "blockquote { background: #AEDE94; }\n",
       "h1 { \n",
       "    padding-top: 25px;\n",
       "    padding-bottom: 25px;\n",
       "    text-align: left; \n",
       "    padding-left: 10px;\n",
       "    background-color: #DDDDDD; \n",
       "    color: black;\n",
       "}\n",
       "h2 { \n",
       "    padding-top: 10px;\n",
       "    padding-bottom: 10px;\n",
       "    text-align: left; \n",
       "    padding-left: 5px;\n",
       "    background-color: #EEEEEE; \n",
       "    color: black;\n",
       "}\n",
       "\n",
       "div.exercise {\n",
       "\tbackground-color: #ffcccc;\n",
       "\tborder-color: #E9967A; \t\n",
       "\tborder-left: 5px solid #800080; \n",
       "\tpadding: 0.5em;\n",
       "}\n",
       "\n",
       "span.sub-q {\n",
       "\tfont-weight: bold;\n",
       "}\n",
       "div.theme {\n",
       "\tbackground-color: #DDDDDD;\n",
       "\tborder-color: #E9967A; \t\n",
       "\tborder-left: 5px solid #800080; \n",
       "\tpadding: 0.5em;\n",
       "\tfont-size: 18pt;\n",
       "}\n",
       "div.gc { \n",
       "\tbackground-color: #AEDE94;\n",
       "\tborder-color: #E9967A; \t \n",
       "\tborder-left: 5px solid #800080; \n",
       "\tpadding: 0.5em;\n",
       "\tfont-size: 12pt;\n",
       "}\n",
       "p.q1 { \n",
       "    padding-top: 5px;\n",
       "    padding-bottom: 5px;\n",
       "    text-align: left; \n",
       "    padding-left: 5px;\n",
       "    background-color: #EEEEEE; \n",
       "    color: black;\n",
       "}\n",
       "header {\n",
       "   padding-top: 35px;\n",
       "    padding-bottom: 35px;\n",
       "    text-align: left; \n",
       "    padding-left: 10px;\n",
       "    background-color: #DDDDDD; \n",
       "    color: black;\n",
       "}\n",
       "</style>\n",
       "\n"
      ],
      "text/plain": [
       "<IPython.core.display.HTML object>"
      ]
     },
     "execution_count": 1,
     "metadata": {},
     "output_type": "execute_result"
    }
   ],
   "source": [
    "#RUN THIS CELL \n",
    "import requests\n",
    "from IPython.core.display import HTML, display\n",
    "styles = requests.get(\"https://raw.githubusercontent.com/Harvard-IACS/2018-CS109A/master/content/styles/cs109.css\").text\n",
    "HTML(styles)"
   ]
  },
  {
   "cell_type": "markdown",
   "metadata": {},
   "source": [
    "### INSTRUCTIONS\n",
    "\n",
    "- To submit your assignment follow the instructions given in Canvas."
   ]
  },
  {
   "cell_type": "markdown",
   "metadata": {},
   "source": [
    "<div class=\"theme\"> Overview </div> \n",
    "\n",
    "As part of your final project,  please perform exploratory data analysis (EDA) on the data you have received. In order to simulate the \"real world,\" the details of this are deliberately left open-ended, so your EDA should be what you consider the best for the domain you are working in and the specifics of the data. Please cite any references that you use when learning more about the topic of your project.\n",
    "\n",
    " \n",
    "\n",
    "Key Questions: \n",
    "\n",
    "Given everything you have learned, if you faced this data set in the wild, how would you proceed? \n",
    "\n",
    "What are the important measures? \n",
    "\n",
    "What are the right questions to ask, and how can the data answer them?"
   ]
  },
  {
   "cell_type": "code",
   "execution_count": 2,
   "metadata": {},
   "outputs": [],
   "source": [
    "import json\n",
    "import lzma\n",
    "import pandas as pd\n",
    "from pandas.io.json import json_normalize"
   ]
  },
  {
   "cell_type": "code",
   "execution_count": 3,
   "metadata": {},
   "outputs": [],
   "source": [
    "f = lzma.open(\"./data/text/new_mexico.xz\",\"rb\")\n",
    "data = f.readlines()\n",
    "f.close()\n",
    "data_json = [json.loads(line) for line in data]\n",
    "data = json_normalize(data_json)"
   ]
  },
  {
   "cell_type": "code",
   "execution_count": 4,
   "metadata": {},
   "outputs": [
    {
     "data": {
      "text/plain": [
       "Index(['id', 'url', 'name', 'name_abbreviation', 'decision_date',\n",
       "       'docket_number', 'first_page', 'last_page', 'citations', 'frontend_url',\n",
       "       'preview', 'volume.url', 'volume.barcode', 'volume.volume_number',\n",
       "       'reporter.url', 'reporter.full_name', 'reporter.id', 'court.url',\n",
       "       'court.name_abbreviation', 'court.slug', 'court.name', 'court.id',\n",
       "       'jurisdiction.name', 'jurisdiction.name_long',\n",
       "       'jurisdiction.whitelisted', 'jurisdiction.url', 'jurisdiction.id',\n",
       "       'jurisdiction.slug', 'casebody.data.judges', 'casebody.data.attorneys',\n",
       "       'casebody.data.opinions', 'casebody.data.head_matter',\n",
       "       'casebody.data.corrections', 'casebody.status',\n",
       "       'casebody.data.parties'],\n",
       "      dtype='object')"
      ]
     },
     "execution_count": 4,
     "metadata": {},
     "output_type": "execute_result"
    }
   ],
   "source": [
    "data.columns"
   ]
  },
  {
   "cell_type": "code",
   "execution_count": 5,
   "metadata": {},
   "outputs": [
    {
     "data": {
      "text/html": [
       "<div>\n",
       "<style scoped>\n",
       "    .dataframe tbody tr th:only-of-type {\n",
       "        vertical-align: middle;\n",
       "    }\n",
       "\n",
       "    .dataframe tbody tr th {\n",
       "        vertical-align: top;\n",
       "    }\n",
       "\n",
       "    .dataframe thead th {\n",
       "        text-align: right;\n",
       "    }\n",
       "</style>\n",
       "<table border=\"1\" class=\"dataframe\">\n",
       "  <thead>\n",
       "    <tr style=\"text-align: right;\">\n",
       "      <th></th>\n",
       "      <th>id</th>\n",
       "      <th>url</th>\n",
       "      <th>name</th>\n",
       "      <th>name_abbreviation</th>\n",
       "      <th>decision_date</th>\n",
       "      <th>docket_number</th>\n",
       "      <th>first_page</th>\n",
       "      <th>last_page</th>\n",
       "      <th>citations</th>\n",
       "      <th>frontend_url</th>\n",
       "      <th>...</th>\n",
       "      <th>jurisdiction.url</th>\n",
       "      <th>jurisdiction.id</th>\n",
       "      <th>jurisdiction.slug</th>\n",
       "      <th>casebody.data.judges</th>\n",
       "      <th>casebody.data.attorneys</th>\n",
       "      <th>casebody.data.opinions</th>\n",
       "      <th>casebody.data.head_matter</th>\n",
       "      <th>casebody.data.corrections</th>\n",
       "      <th>casebody.status</th>\n",
       "      <th>casebody.data.parties</th>\n",
       "    </tr>\n",
       "  </thead>\n",
       "  <tbody>\n",
       "    <tr>\n",
       "      <td>0</td>\n",
       "      <td>17491</td>\n",
       "      <td>https://api.capapi.org/v1/cases/17491/</td>\n",
       "      <td>STATE of New Mexico, Plaintiff-Appellee, v. Lo...</td>\n",
       "      <td>State v. Woodruff</td>\n",
       "      <td>1997-11-21</td>\n",
       "      <td>No. 23958</td>\n",
       "      <td>388</td>\n",
       "      <td>399</td>\n",
       "      <td>[{'type': 'official', 'cite': '124 N.M. 388'},...</td>\n",
       "      <td>https://cite.capapi.org/nm/124/388/</td>\n",
       "      <td>...</td>\n",
       "      <td>https://api.capapi.org/v1/jurisdictions/nm/</td>\n",
       "      <td>52</td>\n",
       "      <td>nm</td>\n",
       "      <td>[FRANCHINI, C.J., and BACA, SERNA and McKINNON...</td>\n",
       "      <td>[Tangora &amp; Whitley, P.C., Robert E. Tangora, S...</td>\n",
       "      <td>[{'type': 'majority', 'text': 'OPINION\n",
       "MINZNER...</td>\n",
       "      <td>1997-NMSC-061\\n951 P.2d 605\\nSTATE of New Mexi...</td>\n",
       "      <td></td>\n",
       "      <td>ok</td>\n",
       "      <td>NaN</td>\n",
       "    </tr>\n",
       "    <tr>\n",
       "      <td>1</td>\n",
       "      <td>17129</td>\n",
       "      <td>https://api.capapi.org/v1/cases/17129/</td>\n",
       "      <td>STATE of New Mexico, ex rel. CHILDREN, YOUTH A...</td>\n",
       "      <td>State ex rel. Children, Youth &amp; Families Depar...</td>\n",
       "      <td>1998-01-29</td>\n",
       "      <td>No. 17771</td>\n",
       "      <td>735</td>\n",
       "      <td>745</td>\n",
       "      <td>[{'type': 'official', 'cite': '124 N.M. 735'},...</td>\n",
       "      <td>https://cite.capapi.org/nm/124/735/</td>\n",
       "      <td>...</td>\n",
       "      <td>https://api.capapi.org/v1/jurisdictions/nm/</td>\n",
       "      <td>52</td>\n",
       "      <td>nm</td>\n",
       "      <td>[DONNELLY and BOSSON, JJ., concur.]</td>\n",
       "      <td>[Angela Adams, Chief Children’s Court Attorney...</td>\n",
       "      <td>[{'type': 'majority', 'text': 'OPINION\n",
       "WECHSLE...</td>\n",
       "      <td>1998-NMCA-039\\n955 P.2d 204\\nSTATE of New Mexi...</td>\n",
       "      <td></td>\n",
       "      <td>ok</td>\n",
       "      <td>NaN</td>\n",
       "    </tr>\n",
       "    <tr>\n",
       "      <td>2</td>\n",
       "      <td>18630</td>\n",
       "      <td>https://api.capapi.org/v1/cases/18630/</td>\n",
       "      <td>Caye C. BUCKINGHAM, Plaintiff-Appellant, v. Ja...</td>\n",
       "      <td>Buckingham v. Ryan</td>\n",
       "      <td>1997-12-17</td>\n",
       "      <td>Nos. 17829, 17998</td>\n",
       "      <td>498</td>\n",
       "      <td>504</td>\n",
       "      <td>[{'type': 'official', 'cite': '124 N.M. 498'},...</td>\n",
       "      <td>https://cite.capapi.org/nm/124/498/</td>\n",
       "      <td>...</td>\n",
       "      <td>https://api.capapi.org/v1/jurisdictions/nm/</td>\n",
       "      <td>52</td>\n",
       "      <td>nm</td>\n",
       "      <td>[APODACA and ARMIJO, JJ., concur.]</td>\n",
       "      <td>[Maria Garcia Geer, Geer, Wissel &amp; Levy, P.A.,...</td>\n",
       "      <td>[{'type': 'majority', 'text': 'OPINION\n",
       "PICKARD...</td>\n",
       "      <td>1998-NMCA-012\\n953 P.2d 33\\nCaye C. BUCKINGHAM...</td>\n",
       "      <td></td>\n",
       "      <td>ok</td>\n",
       "      <td>NaN</td>\n",
       "    </tr>\n",
       "    <tr>\n",
       "      <td>3</td>\n",
       "      <td>18319</td>\n",
       "      <td>https://api.capapi.org/v1/cases/18319/</td>\n",
       "      <td>STATE of New Mexico ex rel. Alan E. WHITEHEAD,...</td>\n",
       "      <td>State ex rel. Whitehead v. Vescovi-Dial</td>\n",
       "      <td>1997-10-23</td>\n",
       "      <td>No. 17715</td>\n",
       "      <td>375</td>\n",
       "      <td>380</td>\n",
       "      <td>[{'type': 'official', 'cite': '124 N.M. 375'},...</td>\n",
       "      <td>https://cite.capapi.org/nm/124/375/</td>\n",
       "      <td>...</td>\n",
       "      <td>https://api.capapi.org/v1/jurisdictions/nm/</td>\n",
       "      <td>52</td>\n",
       "      <td>nm</td>\n",
       "      <td>[PICKARD and FLORES, JJ., concur.]</td>\n",
       "      <td>[Tom Udall, Attorney General, Arthur W. Pepin,...</td>\n",
       "      <td>[{'type': 'majority', 'text': 'OPINION\n",
       "BOSSON,...</td>\n",
       "      <td>950 P.2d 818\\nSTATE of New Mexico ex rel. Alan...</td>\n",
       "      <td></td>\n",
       "      <td>ok</td>\n",
       "      <td>NaN</td>\n",
       "    </tr>\n",
       "    <tr>\n",
       "      <td>4</td>\n",
       "      <td>17318</td>\n",
       "      <td>https://api.capapi.org/v1/cases/17318/</td>\n",
       "      <td>STATE of New Mexico, Plaintiff-Appellee, v. Sa...</td>\n",
       "      <td>State v. Rivera</td>\n",
       "      <td>1997-09-09</td>\n",
       "      <td>No. 17750</td>\n",
       "      <td>211</td>\n",
       "      <td>214</td>\n",
       "      <td>[{'type': 'official', 'cite': '124 N.M. 211'},...</td>\n",
       "      <td>https://cite.capapi.org/nm/124/211/</td>\n",
       "      <td>...</td>\n",
       "      <td>https://api.capapi.org/v1/jurisdictions/nm/</td>\n",
       "      <td>52</td>\n",
       "      <td>nm</td>\n",
       "      <td>[ALARID and BUSTAMANTE, JJ., concur.]</td>\n",
       "      <td>[Tom Udall, Attorney General, Elizabeth Blaisd...</td>\n",
       "      <td>[{'type': 'majority', 'text': 'OPINION\n",
       "PICKARD...</td>\n",
       "      <td>1997-NMCA-102\\n947 P.2d 168\\nSTATE of New Mexi...</td>\n",
       "      <td></td>\n",
       "      <td>ok</td>\n",
       "      <td>NaN</td>\n",
       "    </tr>\n",
       "  </tbody>\n",
       "</table>\n",
       "<p>5 rows × 35 columns</p>\n",
       "</div>"
      ],
      "text/plain": [
       "      id                                     url  \\\n",
       "0  17491  https://api.capapi.org/v1/cases/17491/   \n",
       "1  17129  https://api.capapi.org/v1/cases/17129/   \n",
       "2  18630  https://api.capapi.org/v1/cases/18630/   \n",
       "3  18319  https://api.capapi.org/v1/cases/18319/   \n",
       "4  17318  https://api.capapi.org/v1/cases/17318/   \n",
       "\n",
       "                                                name  \\\n",
       "0  STATE of New Mexico, Plaintiff-Appellee, v. Lo...   \n",
       "1  STATE of New Mexico, ex rel. CHILDREN, YOUTH A...   \n",
       "2  Caye C. BUCKINGHAM, Plaintiff-Appellant, v. Ja...   \n",
       "3  STATE of New Mexico ex rel. Alan E. WHITEHEAD,...   \n",
       "4  STATE of New Mexico, Plaintiff-Appellee, v. Sa...   \n",
       "\n",
       "                                   name_abbreviation decision_date  \\\n",
       "0                                  State v. Woodruff    1997-11-21   \n",
       "1  State ex rel. Children, Youth & Families Depar...    1998-01-29   \n",
       "2                                 Buckingham v. Ryan    1997-12-17   \n",
       "3            State ex rel. Whitehead v. Vescovi-Dial    1997-10-23   \n",
       "4                                    State v. Rivera    1997-09-09   \n",
       "\n",
       "       docket_number first_page last_page  \\\n",
       "0          No. 23958        388       399   \n",
       "1          No. 17771        735       745   \n",
       "2  Nos. 17829, 17998        498       504   \n",
       "3          No. 17715        375       380   \n",
       "4          No. 17750        211       214   \n",
       "\n",
       "                                           citations  \\\n",
       "0  [{'type': 'official', 'cite': '124 N.M. 388'},...   \n",
       "1  [{'type': 'official', 'cite': '124 N.M. 735'},...   \n",
       "2  [{'type': 'official', 'cite': '124 N.M. 498'},...   \n",
       "3  [{'type': 'official', 'cite': '124 N.M. 375'},...   \n",
       "4  [{'type': 'official', 'cite': '124 N.M. 211'},...   \n",
       "\n",
       "                          frontend_url  ...  \\\n",
       "0  https://cite.capapi.org/nm/124/388/  ...   \n",
       "1  https://cite.capapi.org/nm/124/735/  ...   \n",
       "2  https://cite.capapi.org/nm/124/498/  ...   \n",
       "3  https://cite.capapi.org/nm/124/375/  ...   \n",
       "4  https://cite.capapi.org/nm/124/211/  ...   \n",
       "\n",
       "                              jurisdiction.url jurisdiction.id  \\\n",
       "0  https://api.capapi.org/v1/jurisdictions/nm/              52   \n",
       "1  https://api.capapi.org/v1/jurisdictions/nm/              52   \n",
       "2  https://api.capapi.org/v1/jurisdictions/nm/              52   \n",
       "3  https://api.capapi.org/v1/jurisdictions/nm/              52   \n",
       "4  https://api.capapi.org/v1/jurisdictions/nm/              52   \n",
       "\n",
       "  jurisdiction.slug                               casebody.data.judges  \\\n",
       "0                nm  [FRANCHINI, C.J., and BACA, SERNA and McKINNON...   \n",
       "1                nm                [DONNELLY and BOSSON, JJ., concur.]   \n",
       "2                nm                 [APODACA and ARMIJO, JJ., concur.]   \n",
       "3                nm                 [PICKARD and FLORES, JJ., concur.]   \n",
       "4                nm              [ALARID and BUSTAMANTE, JJ., concur.]   \n",
       "\n",
       "                             casebody.data.attorneys  \\\n",
       "0  [Tangora & Whitley, P.C., Robert E. Tangora, S...   \n",
       "1  [Angela Adams, Chief Children’s Court Attorney...   \n",
       "2  [Maria Garcia Geer, Geer, Wissel & Levy, P.A.,...   \n",
       "3  [Tom Udall, Attorney General, Arthur W. Pepin,...   \n",
       "4  [Tom Udall, Attorney General, Elizabeth Blaisd...   \n",
       "\n",
       "                              casebody.data.opinions  \\\n",
       "0  [{'type': 'majority', 'text': 'OPINION\n",
       "MINZNER...   \n",
       "1  [{'type': 'majority', 'text': 'OPINION\n",
       "WECHSLE...   \n",
       "2  [{'type': 'majority', 'text': 'OPINION\n",
       "PICKARD...   \n",
       "3  [{'type': 'majority', 'text': 'OPINION\n",
       "BOSSON,...   \n",
       "4  [{'type': 'majority', 'text': 'OPINION\n",
       "PICKARD...   \n",
       "\n",
       "                           casebody.data.head_matter  \\\n",
       "0  1997-NMSC-061\\n951 P.2d 605\\nSTATE of New Mexi...   \n",
       "1  1998-NMCA-039\\n955 P.2d 204\\nSTATE of New Mexi...   \n",
       "2  1998-NMCA-012\\n953 P.2d 33\\nCaye C. BUCKINGHAM...   \n",
       "3  950 P.2d 818\\nSTATE of New Mexico ex rel. Alan...   \n",
       "4  1997-NMCA-102\\n947 P.2d 168\\nSTATE of New Mexi...   \n",
       "\n",
       "  casebody.data.corrections casebody.status casebody.data.parties  \n",
       "0                                        ok                   NaN  \n",
       "1                                        ok                   NaN  \n",
       "2                                        ok                   NaN  \n",
       "3                                        ok                   NaN  \n",
       "4                                        ok                   NaN  \n",
       "\n",
       "[5 rows x 35 columns]"
      ]
     },
     "execution_count": 5,
     "metadata": {},
     "output_type": "execute_result"
    }
   ],
   "source": [
    "data.head()"
   ]
  },
  {
   "cell_type": "code",
   "execution_count": 6,
   "metadata": {},
   "outputs": [
    {
     "data": {
      "text/plain": [
       "{'id': 17129,\n",
       " 'url': 'https://api.capapi.org/v1/cases/17129/',\n",
       " 'name': 'STATE of New Mexico, ex rel. CHILDREN, YOUTH AND FAMILIES DEPARTMENT, Petitioner-Appellee, In the Matter of ESPERANZA M., a child, and concerning Marian M., and Jesus M., Respondents-Appellants',\n",
       " 'name_abbreviation': 'State ex rel. Children, Youth & Families Department',\n",
       " 'decision_date': '1998-01-29',\n",
       " 'docket_number': 'No. 17771',\n",
       " 'first_page': '735',\n",
       " 'last_page': '745',\n",
       " 'citations': [{'type': 'official', 'cite': '124 N.M. 735'},\n",
       "  {'type': 'parallel', 'cite': '1998-NMCA-039; 955 P.2d 204'}],\n",
       " 'volume': {'url': 'https://api.capapi.org/v1/volumes/32044056060890/',\n",
       "  'barcode': '32044056060890',\n",
       "  'volume_number': '124'},\n",
       " 'reporter': {'url': 'https://api.capapi.org/v1/reporters/554/',\n",
       "  'full_name': 'New Mexico Reports',\n",
       "  'id': 554},\n",
       " 'court': {'url': 'https://api.capapi.org/v1/courts/nm-ct-app/',\n",
       "  'name_abbreviation': 'N.M. Ct. App.',\n",
       "  'slug': 'nm-ct-app',\n",
       "  'name': 'Court of Appeals of New Mexico',\n",
       "  'id': 9025},\n",
       " 'jurisdiction': {'name': 'N.M.',\n",
       "  'name_long': 'New Mexico',\n",
       "  'whitelisted': True,\n",
       "  'url': 'https://api.capapi.org/v1/jurisdictions/nm/',\n",
       "  'id': 52,\n",
       "  'slug': 'nm'},\n",
       " 'frontend_url': 'https://cite.capapi.org/nm/124/735/',\n",
       " 'preview': [],\n",
       " 'casebody': {'data': {'judges': ['DONNELLY and BOSSON, JJ., concur.'],\n",
       "   'attorneys': ['Angela Adams, Chief Children’s Court Attorney, Diane Garrity, Roy E. Stephenson, Jean Conner, Children’s Court Attorneys, Santa Fe, for Petitioner-Appellee.',\n",
       "    'Michael E. Vigil, Marchiondo, Vigil & Associates, P.C., Albuquerque, for Respondents-Appellants.',\n",
       "    'Jennifer Davis Hall, Albuquerque, Appellate Guardian ad litem.'],\n",
       "   'opinions': [{'type': 'majority',\n",
       "     'text': 'OPINION\\nWECHSLER, Judge.\\n1. As a result of an investigation, the Children, Youth and Families Division (CYFD) filed an ex parte custody petition in children’s court, alleging that Esperanza M. (E.M.) was abused and neglected. Specifically, the petition alleged that Jesus M., E.M.’s adoptive father, sexually abused his daughter and that Marian M., E.M.’s mother, knew or should have known of the sexual abuse but failed to protect her daughter. The children’s court entered judgment that E.M. was abused and neglected as defined by NMSA 1978, Section 32A-4-2(B)(l), (B)(2), and (C)(3) (1993). Marian M. and Jesus M. (Parents) appeal raising three issues: (1) whether the children’s court erred in admitting the hearsay testimony of five witnesses and the remaining admissible evidence is insufficient to support the judgment; (2) whether the ease should be reassigned to a different judge on remand because of an improper comment by the children’s court judge; and (3) whether Parents’ motion to strike the appellate guardian ad litem’s answer brief should be granted. We reverse and remand for further proceedings consistent with this opinion. We decline to order the reassignment of the case to a different judge, and we deny Parents’ motion to strike the appellate guardian ad litem’s answer brief.\\nFacts\\n2. At the adjudicatory hearing, Janis Hildebrand, a school counselor’, testified that on or about December 1, 1995, E.M. and three other female students came to her office and alleged that their fathers had sexually abused them. Ms. Hildebrand then contacted the Human Services Department, the child’s mother, and the police. When Robin Yoder, a social worker with CYFD, arrived at the school, Ms. Hildebrand told her what E.M. had reported to her. Ms. Yoder spoke with E.M. and her mother, and told Marian M. that CYFD would give E.M. an interview at the Albuquerque Safe House (Safe House) and a physical examination. Ms. Yoder called Dr. Renee Ornelas, a pediatrician who operates the Para Los Ninos Program at the University of New Mexico Hospital (UNM Hospital) and performs medical evaluations on sexually abused children, to arrange the interview at the Safe House. Ms. Yoder told Dr. Ornelas what E.M. had reported to Ms. Hildebrand.\\n3. Detective Mark Laws of the Crimes Against Children Unit of the Albuquerque Police Department arrived at the school, and he transported E.M. to the interview at the Safe House. At the completion of the interview, Ms. Yoder took E.M. to UNM Hospital to be examined by Dr. Ornelas. E.M. was born on July 8, 1982, and was thirteen years of age at the time she reported the incident.\\n4. After Dr. Ornelas’ physical examination, E.M. told Dr. Ornelas that she was there because her father had improperly touched and abused her. Dr. Ornelas tested E.M. for pregnancy and diseases. Dr. Ornelas did not utilize a rape kit, which would have collected hair, semen, and other bodily secretions for testing. Dr. Ornelas’ findings from the physical examination were normal. There was no physical evidence of acute or old trauma. The findings of the examination were indistinguishable between a child who had been penetrated and one who had not. Based on the physical examination alone, Dr. Ornelas could not determine if E.M. had been sexually penetrated. However, relying upon E.M.’s ability to give a clear statement about the type of contact that occurred and her ability to describe graphic details such as ejaculation and sexual positions, Dr. Ornelas concluded that E.M. had been sexually abused. On cross-examination, Dr. Ornelas conceded that she could not determine whether E.M. obtained her knowledge of sexual intercourse from other sources, such as other sexual relations or sex education courses, as opposed to the alleged abuse by her father.\\n5. CYFD contacted Dr. Sandra Montoya, a clinical psychologist and neuropsychologist, to prepare E.M. psychologically to testify. Dr. Montoya indicated that she found this request unusual and that she would not have prescribed that goal herself as part of her normal duties as a psychologist. E.M. told Dr. Montoya that her father began touching her inappropriately, in a way that made her feel uncomfortable. After E.M. told her mother about the touching, it stopped, yet after the passage of time began again and eventually progressed to the point where they were having sexual intercourse. Dr. Montoya testified that E.M. felt extreme pressure to protect the family. According to Dr. Montoya, it was extremely important to E.M. that she be able to testify so that she could lie and convince the judge that the abuse never occurred. However, Dr. Montoya felt that allowing E.M. to testify would be psychologically damaging. As a result, E.M. did not testify.\\n6. Parents also did not testify. The only witness they called was Dr. Robert Gathings, an obstetrician and gynecologist. Dr. Gathings examined E.M. several weeks after the alleged abuse. He asked E.M. if she had had sex at any time, and she told him no. Dr. Gathings’ physical examination of E.M. revealed her to be a normal thirteen-year-old virginal female.\\nDiscussion\\nI. Evidentiary Issues\\n1. The children’s court’s findings of abuse and neglect must be made “on the basis of clear and convincing evidence, competent, material and relevant in nature.” NMSA 1978, § 32A-4-20(H) (1997). Rule 10-115 NMRA 1998, provides that the New Mexico Rules of Evidence “shall govern all proceedings in the children’s court.” In this case, the issue is whether the hearsay testimony was properly admitted under any Rule 11-803 NMRA 1998 exception to the hearsay rule, and if the hearsay testimony was inadmissible, whether there is still sufficient evidence to support the children’s court’s findings of abuse and neglect based upon clear and convincing evidence. We review the children’s court’s evidentiary rulings allowing the hearsay testimony of five witnesses under the abuse of discretion standard. State v. Ross, 1996-NMSC-031, 122 N.M. 15, 20, 919 P.2d 1080, 1085.\\n8. Under the New Mexico Rules of Evidence, hearsay is defined as “a statement, other than one made by the declarant while testifying at the trial or hearing, offered in evidence to prove the truth of the matter asserted.” Rule 11-801(0) NMRA 1998. The policy underlying the hearsay rule is to limit the danger that evidence at trial will be unreliable. 5 Jack B. Weinstein & Margaret A. Berger, Weinstein’s Federal Evidence § 802.02[3], at 802-9 (Joseph M. McLaughlin, gen. ed., 2d ed.1997). Exceptions to the hearsay rule depend on circumstantial guarantees of reliability and trustworthiness, which the rules of evidence accept as substitutes for the declarant’s testimony at trial. State v. Self, 88 N.M. 37, 41, 536 P.2d 1093, 1097 (Ct.App.1975). The hearsay problem in this case is that E.M., the alleged victim, did not testify, yet her out-of-court statements to Dr. Ornelas and Dr. Montoya and others were offered for their truth. The State used this testimony to prove alleged abuse and neglect.\\nA. Testimony of the Pediatrician and the Psychologist\\n9. The children’s court admitted the testimony of both the pediatrician and the psychologist under Rule 11-803(D), the medical diagnosis or treatment exception to the hearsay rule.\\nRule 11-803(D) states:\\nThe following are not excluded by the hearsay rule, even though the declarant is available as a witness:\\nD. Statements for purposes of medical diagnosis or treatment. Statements made for purposes of medical diagnosis or treatment and describing medical history, or past or present symptoms, pain, or sensations, or the inception or general character of the cause or external source thereof insofar as reasonably pertinent to diagnosis or treatment.\\nWe note that Federal Rule of Evidence 803(4) is identical to our Rule 11-803(D), therefore, commentary about the federal rule provides guidance in our analysis. The basis for the medical diagnosis or treatment exception is that the patient’s self-interest in obtaining proper treatment makes a patient’s description of past and present physical symptoms inherently more likely to be trustworthy. 4 Christopher B. Mueller & Laird C. Kirkpatrick, Federal Evidence § 442, at 456 (2d ed.1994). Because of the patient’s interest, the usual risks of hearsay testimony — misperception, faulty memory, insincerity, and ambiguity — are perceived to be minimal when associated with medical treatment. Id.\\n10. Parents argue that the children’s court incorrectly admitted the testimony of Dr. Ornelas under Rule 11-803(D) because E .M. gave her statements to Dr. Ornelas for the purposes of investigation, not treatment or diagnosis. This argument fails because the exception is not so limited. E.M. was brought to Dr. Ornelas for diagnosis of alleged sexual abuse. Statements given for medical diagnosis are generally admissible under the federal rules to prove what they assert. See 4 Mueller & Kirkpatrick, supra, § 442, at 457 (“The rationale of the exception suggests that statements to a diagnosing physician should get in only if the physician testifies and gives his opinion.”). We consider it immaterial whether the examination was part of an investigation, so long as it was for diagnosis or treatment.\\n11. Parents argue that admission of Dr. Ornelas’ hearsay testimony under Rule 11-803(D) was improper under State v. Alberico, 116 N.M. 156, 861 P.2d 192 (1993), and State v. Lucero, 116 N.M. 450, 863 P.2d 1071 (1993). Both Alberico and Lucero involved the admission of scientific testimony, specifically posttraumatic stress disorder (PTSD) evidence, in criminal sexual abuse cases. Our Supreme Court concluded in Alberico that PTSD testimony was admissible to show symptoms consistent with sexual abuse, but inadmissible to identify the alleged perpetrator of the crime. Alberico, 116 N.M. at 172, 175, 861 P.2d at 208, 211. Following Alberico, the Court in Lucero concluded that although the State may introduce PTSD testimony to show that the presence of certain symptoms is consistent with sexual abuse, the expert could not name the abuser because it bolstered the complainant’s credibility and encroached upon the jury’s fact-finding function. Lucero, 116 N.M. at 454, 863 P.2d at 1075.\\n12. Parents’ reliance upon Alberico and Lucero is misplaced, and ignores holdings of this Court in State v. Altgilbers, 109 N.M. 453, 786 P.2d 680 (Ct.App.1989) and our Supreme Court in State v. Woodward, 121 N.M. 1, 908 P.2d 231 (1995), applying Altgilbers. Both Woodward and Altgilbers involved the admission of hearsay testimony under Rule 11-803(D), rather than PTSD testimony.\\n13. In Altgilbers, this Court considered the medical diagnosis or treatment exception to the hearsay rule in a criminal sexual abuse case in which the defendant was charged with sexually abusing his daughters. Id. at 455, 786 P.2d at 682. We upheld the district court’s admission of a daughter’s statement to her psychologist and pediatrician identifying the defendant as the perpetrator because the disclosure of the perpetrator was important to diagnosis and treatment. Id. at 457-60, 786 P.2d at 684-87. This Court adopted Justice Powell’s approach to Federal Rule of Evidence 803(4) that the exception applies “ ‘so long as the statements made by an individual were relied on by the physician in formulating his opinion.’ ” Id. at 458-59, 786 P.2d at 685-86 (quoting Justice Powell’s separate opinion when sitting with a panel on the Fourth Circuit of Appeals in Morgan v. Foretich, 846 F.2d 941, 950-53 (4th Cir.1988)).\\n14. In applying Justice Powell’s “pertinence” approach, this Court and our Supreme Court have relied on the foundation established by the party seeking to admit the hearsay testimony that testimony is admissible if it is “reasonably pertinent” for medical diagnosis or treatment. See Woodward, 121 N.M. at 8, 908 P.2d at 238; Altgilbers, 109 N.M. at 459-60, 786 P.2d at 686-87. In Altgilbers, both the psychologist and the pediatrician testified that the identity of the perpetrator was important to their diagnoses and evaluations. Id. at 459, 786 P.2d at 686. Similarly in Woodward, our Supreme Court upheld the district court’s admission of the victim’s statement to her psychologist that the defendant, her husband, had abused and threatened to kill her. Id. at 8, 908 P.2d at 238. In Woodward, the psychologist testified that “disclosure of the perpetrator is essential to diagnosis and treatment of situational depression” in cases involving spousal abuse. Id.\\n15. Both Woodward and Altgilbers were criminal cases in which the admissibility of hearsay must also meet the constitutional limits of the Confrontation Clause, a stricter threshold than Rule 11-803. There is no similar, obstacle to admissibility in a civil children’s court action. Thus, if the State establishes a foundation that the identity of the perpetrator was “reasonably pertinent” for medical diagnosis or treatment, the children’s court may admit hearsay testimony identifying a perpetrator under Rule 11-803(D). We review the testimony of both the pediatrician and the psychologist to determine if the State laid a proper foundation.\\n1. Testimony of the Pediatrician\\n16. After examining E.M., Dr. Ornelas asked her questions relating to the types of touching which occurred. In answering these questions, E.M. identified her father as her abuser. Dr. Ornelas testified that the identity of the abuser was important for the purposes of ensuring the child’s safety, although in this instance she already knew from Ms. Yoder that E.M. was safe. Dr. Ornelas also testified that she needed to know the number of perpetrators for the treatment of sexually transmitted diseases and that it was important for her to know the number of incidents and the period of time over which they occurred in order to correlate this information with her physical findings. Dr. Ornelas said that she relied on the child’s statements for her treatment. This foundation indicates that Dr. Ornelas considered the statement by E.M. revealing the identity of her alleged abuser to be “reasonably pertinent” for her diagnosis, thereby meeting the standard set in Altgilbers.\\n17. Parents also argue that Dr. Ornelas incorrectly relied on statements of others, namely Ms. Yoder, told to her. Dr. Ornelas testified from her report that when Ms. Yoder called her to set up an examination for potential sexual abuse, Ms. Yoder stated that E.M. had told her that her father was the perpetrator. While this testimony is double hearsay, courts have recognized that the medical diagnosis or treatment exception is broad enough to allow such statements, if the information is “reasonably pertinent” to diagnosis or treatment. See 4 Mueller & Kirkpatrick, supra, § 442, at 467. We do not decide whether the double hearsay alone would be admissible were it not accompanied by other admissible statements of the victim made directly to the doctor. Having already determined that identity of the perpetrator was “reasonably pertinent” to Dr. Ornelas’ diagnosis, we conclude that the children’s court properly admitted this statement under Rule 11~803(D).\\n2. Testimony of the Psychologist\\n18. Parents argue that the children’s court erred in admitting Dr. Montoya’s testimony identifying E.M.’s father as the perpetrator of the alleged abuse because the State failed to lay the necessary foundation for the admission of the hearsay testimony under Woodward and Altgilbers. We agree.\\n19. During the course of Dr. Montoya’s treatment of E.M., the child identified her father as her abuser. However, Dr. Montoya specifically testified that she did not need to know the identity of the perpetrator in order to provide E.M. with counseling. Dr. Montoya also testified that the identity of the perpefrator was not necessary for her to treat a child abuse victim because the treatment proceeds in the same manner, whether the perpetrator is a stranger or a family member. She additionally stated that CYFD requested her to psychologically prepare E.M. to testify, which she found to be an unusual goal. Although finally admitting, after suggestive prodding, that the identity of a father as the perpetrator is important to family dynamics, this testimony did not establish that Dr. Montoya considered the identity of the abuser to be pertinent or necessary to E.M.’s treatment. Therefore, the children’s court abused its discretion in admitting this hearsay testimony.\\nB. Testimony of the Social Worker\\n20. The State contends that Ms. Yoder’s hearsay testimony was admissible under Rule 11-803(D) because the rule should apply to non-physicians such as social workers and counselors “because statements made to these professionals are often for the purpose of seeking treatment for victims of child abuse and neglect.” Ms. Yoder testified that E.M. said her father had abused her. There is support for the broadening of this hearsay exception in “child abuse cases to embrace statements identifying abusers and describing their acts” because such cases involve abuse victims who talk to psychologists and social workers. 4 Mueller & Kirkpatrick, supra, § 442, at 470. However, we do not reach the decision of whether Rule 11-803(D) applies to the circumstances in this ease. The State did not lay a foundation at the children’s court proceeding for the admission of Ms. Yoder’s testimony under the medical diagnosis or treatment exception to the hearsay rule. As a result, we conclude that the children’s court abused its discretion in admitting Ms. Yoder’s hearsay testimony that E.M. identified her father as the perpetrator.\\nC. Testimony of the Detective\\n21. Parents argue that the children’s court should have excluded the hearsay testimony of Detective Laws identifying the father as the perpetrator of the alleged abuse. We note that Parents did not object to Detective Laws’ testimony as to the perpetrator’s identity and that Detective Laws’ statements concerning E.M.’s father were not hearsay. See Rule 11-801(C) (statement is not hearsay unless offered to prove the truth of the matter asserted). Detective Laws testified that he placed a 48-hour hold on E.M. for safety reasons based upon her answers to the interviewer’s questions at the Safe House. He wanted to make sure E.M. was safe and protected from her father, because he had not met the father and did not know where he was. He also stated that he gathered items of evidence based upon what E.M. had said. These statements were not hearsay and the children’s court did not abuse its discretion by admitting them.\\nD. Testimony of the School Counselor\\n22. Parents further argue that the children’s court improperly admitted the hearsay testimony of Ms. Hildebrand. The State attempted to offer Ms. Hildebrand’s testimony under Rule 11-803(D), but the children’s court sustained objections made by each of Parents’ counsel.\\n23. The children’s court subsequently allowed hearsay testimony when Ms. Hildebrand stated that E.M. and the other students said they were upset about alleged sexual abuse by their fathers. We agree with Parents that there was no basis for the admission of this hearsay statement.\\nE.Rule 11-803(X), Hearsay Exception for Other Exceptions\\n24. In the alternative, the State argues that the children’s court could properly admit the out-of-court statements testified to by Dr. Montoya and Ms. Yoder under Rule 11-803(X), the hearsay exception for other exceptions. Prior to trial, the State filed a notice of intention to offer statements as exceptions to the hearsay rule, listing Dr. Ornelas, Dr. Montoya, Ms. Hildebrand, Ms. Yoder, and Detective Laws in compliance with the committee commentary to Rule 11-803. See Rule 11-803, committee commentary. Counsel for Jesus M. filed a response, arguing that the testimony was not admissible under Rule 11-803(X). We assume, without deciding, that Parents properly objected to the admission of this testimony at trial. We note that the State does not argue otherwise, and it appears from the above pretrial filings that the children’s court knew of the State’s grounds for offering the proposed testimony and Parents’ grounds for the objection.\\n25. With such notice, Rule 11-803(X) permits the admission of hearsay statements which would not be admissible under any other exception to the hearsay rule but have “equivalent circumstantial guarantees of trustworthiness, if the court determines that:”\\n(1) the statement is offered as evidence of a material fact;\\n(2) the statement is more probative on the point for which it is offered than any other evidence which the proponent can procure through reasonable efforts; and\\n(3) the general purposes of these rules and the interests of justice will best be served by admission of the statement into evidence.\\nId.\\n26. While the children’s court did find that E.M.’s statements given to Dr. Montoya were inherently trustworthy given the setting in which the statements were made, they are not admissible under Rule 11-803(X). Hearsay which “almost, but not quite, fits another specific exception,” is not admissible under Rule 11-803(X). State v. Barela, 97 N.M. 723, 726, 643 P.2d 287, 290 (Ct.App.1982); see Rule 11-803, committee commentary. Rule 11-803(X) cannot be used to circumvent the strict requirements of the other hearsay exceptions, in this instance Rule 11-803(D), which are designed to promote guarantees of reliability and trustworthiness.\\n27. The children’s court did not make the necessary finding that E.M.’s hearsay statements to Ms. Yoder had the equivalent circumstantial guarantees of trustworthiness so as to be admissible under Rule 11-803(X). The finding that E.M.’s statements to Dr. Montoya were inherently trustworthy does not extend to include statements given to others; the same guarantees attendant to medical treatment or diagnosis are not present.\\n28. The State does not offer proof otherwise, but instead asserts that the best interests of the child must be recognized and harmonized with the rules of evidence in an abuse and neglect proceeding when out-of-court statements are needed to establish that the child was sexually abused. Indeed, our courts have “a strong tradition of protecting a child’s best interests,” and the court has broad authority to fashion its rulings in the best interests of the child. Sanders v. Rosenberg, 1997-NMSC-002, ¶ 10, 122 N.M. 692, 930 P.2d 1144 (decided in 1996); In re Adoption of Francisco A., 116 N.M. 708, 713, 866 P.2d 1175, 1180 (Ct.App.1993).\\n29. However, the State’s argument impermissibly intermixes the equitable powers of the court with its obligation to adhere to the rules of evidence. The children’s court makes decisions in the best interests of the child based on evidence received following the rules of evidence. Rule 11-803(X) does not allow the best interests of the child to subsume the safeguards of the rules of evidence. See Barela, 97 N.M. at 726, 643 P.2d at 290. In considering the best interests of E.M., the rules of evidence require the court to make certain that an out-of-court statement is sufficiently reliable and trustworthy, particularly when the court has determined that it is not in the best interests of the child to testify at an abuse and neglect proceeding. See id. Hearsay testimony cannot be admitted based solely on the principles of the best interests of the child; guarantees of trustworthiness and indicia of reliability must be shown in order to bring the hearsay within the specific exception advocated. See id. The statements E.M. made to Dr. Montoya, Ms. Yoder, and Ms. Hildebrand are not admissible under Rule 11-803(X).\\n30. In summary, the children’s court abused its discretion in admitting hearsay testimony of Dr. Montoya, Ms. Yoder, and Ms. Hildebrand concerning the identity of the alleged perpetrator. The court properly admitted hearsay testimony of Dr. Ornelas under Rule 11-803(D). Detective Laws’ testimony was properly admitted because his statements as to the identity of the perpetrator were not hearsay.\\nII. Judge’s Improper Comment\\n31. In announcing his ruling at the close of the hearing, the children’s court judge stated:\\nI think it’s interesting to note that, and disappointing in my view, that parents who insist that E.M., after all she’s been through, be placed on the stand to be further subjected to disruption, but not, based on self-interest, take the same stand and subject themselves to scrutiny.\\n32. Parents argue that they had a constitutional right under both the New Mexico and United States Constitutions not to testify since the conduct they were alleged to have committed constituted a crime. Parents contend that the children’s court impermissibly considered their decision not to testify in deciding whether there was clear and convincing evidence that E.M. had been sexually abused in violation of their constitutional rights. As a consequence, Parents ask that this case be reassigned to a different judge on remand.\\n33. The Fifth Amendment “privileges a defendant not to answer questions put to him in any proceeding, civil or criminal, formal or informal, where the answers might tend to incriminate him in future criminal proceedings.” Rainbo Baking Co. v. Apodaca, 88 N.M. 501, 504, 542 P.2d 1191, 1194 (Ct.App.1975); see N.M. Const, art. II, § 15. But it does not appear that Parents preserved this issue for appeal by alerting the children’s court’s attention to what they perceived to be an objectionable comment. See State v. Martin, 101 N.M. 595, 603, 686 P.2d 937, 945 (1984) (determining that the defendant’s argument that the district judge made unnecessary statements to defense counsel was not properly preserved for review where no objections were made to the statements at trial). Therefore, we need not review the merits of Parents’ argument on appeal.\\n34. Nevertheless, we do not believe that the comment requires our intervention. See State v. Swafford, 109 N.M. 132, 137, 782 P.2d 385, 390 (Ct.App.1989) (comment by judge which “merely refers, in a general way, to the judge’s feelings about violent crimes once a conviction is obtained” did not suggest bias or prejudice in sentencing the defendant and therefore was not reversible error). We have confidence in the trial judge’s ability to afford a fair hearing to all parties on remand. We do note, however, our disapproval of the trial judge’s remarks insofar as they put the parents in the untenable position of a conflict between their daughter’s welfare and their own self-defense.\\nIII. Motion to Strike Guardian Ad Litem’s Answer Brief\\n35. At the conclusion of the proceedings in the children’s court, the children’s court allowed the guardian ad litem who represented the child during the trial to withdraw and appointed a new guardian, ad litem to represent the child incident to this appeal. Parents filed a motion to strike the appellate guardian ad litem’s answer brief on grounds that the brief directly contradicts the position taken by E.M. Thereafter, the appellate guardian ad litem filed with the children’s court a motion for clarification of the role of the guardian ad litem or, in the alternative, for appointment of separate counsel for E.M. The children’s court did not rule on these motions because this Court had jurisdiction once Parents took their appeal. These motions raise the question of a guardian ad litem’s proper role in an abuse and neglect proceeding when, the guardian ad litem’s professional opinion as to the best interests of the child differs from the position that the child would like to advance. At appellate oral argument, this Court did not rule on Parents’ motion to strike, but heard oral argument from all the parties, including the appellate guardian ad litem.\\n36. The Children’s Code provides that “[a] guardian ad litem shall zealously represent the child’s best interests with respect to matters arising pursuant to the provisions of the Children’s Code.” NMSA 1978, § 32A-1-7(A) (1995). Subsection D provides that the guardian ad litem shall present the child’s declared position to the court when a child’s circumstances render it reasonable and appropriate. Section 32A-1-7(D)(2). This statute signifies a guardian ad litem’s dual role of representing the child’s best interests, while also presenting the child’s position to the court when reasonable and appropriate, even if the child’s position conflicts with what the guardian ad litem thinks should be done. The statute does not indicate which one of the two roles should be the guardian ad litem’s primary function. The committee commentary to Children’s Court Rule 10-108 NMRA 1998, which requires the children’s court to appoint a guardian ad litem when a petition of abuse and neglect is filed, emphasizes the guardian ad litem’s role in representing the child’s best interests.\\nThe major difference between the role of the guardian ad litem in a neglect or abuse ease and the role of the accused’s attorney in a delinquency or need of supervision proceeding is that in the former, the guardian ad litem does what he considers to be in the best interests of the child, while in the latter the attorney, although he may advise differently, follows the instructions of his client, even though he may not consider those instructions to be in the client’s best interests. The guardian ad litem has much greater freedom.\\nId. The guardian ad litem is required to advocate the child’s expressed position only to the extent that the child’s desires are, in the guardian ad litem’s professional opinion, in the child’s best interests. The guardian ad litem may properly present the child’s wishes to the court, and at the same time advise the court of those facts and matters which the guardian believes bear upon and affect the child’s best interests.\\n37. We believe that this dual role conforms to the Rules of Professional Conduct, specifically Rule 16-102(A) NMRA 1998, which requires a lawyer to abide by a client’s decision concerning the objectives of representation, and Rule 16-114(A) NMRA 1998, which requires that a lawyer, as far as reasonably possible, “maintain a normal client-lawyer relationship with the client” even when the “client’s ability to make adequately considered decisions in connection with the representation is impaired” because of minority or some other reason.\\n38. We commend the appellate guardian ad litem for representing in the answer brief what she perceived to be the position that was in the best interests of E.M., while still advancing the child’s contrary position. The appellate guardian ad litem’s answer brief clearly indicates that E.M. is in accord with Parents’ brief-in-chief, and that she disagrees with the position taken by the appellate guardian ad litem on appeal. Thus, the appellate guardian ad litem fulfilled the dual role established in Section 32A-1-7.\\n39. We do not believe that a conflict between a guardian ad litem’s perception of the best interests of the child and the child’s expressed position necessarily requires that the guardian ad litem withdraw as counsel for the child. By imposing a duairole on the guardian ad litem appointed in an abuse and neglect proceeding, the Children’s Code recognizes that these dual roles may not always be compatible. Unless the guardian ad litem’s perception of the child’s best interests is so incongruous with the child’s position that the guardian ad litem absolutely refuses to present the child’s position, we see no need for the guardian ad litem to withdraw as counsel. Moreover, in this case, the appellate guardian ad litem more than adequately fulfilled her dual role of representing the child’s best interests while also advocating the child’s position. Consequently, we deny Parents’ motion to strike the guardian ad litem’s answer brief.\\n40. Although none of the parties has raised the issue of the adequacy of the guardian ad litem’s representation of E.M. at trial as a basis for reversal, our review of the record indicates the trial guardian ad litem’s representation was materially deficient. The trial guardian ad litem failed to actively participate in the proceedings below, did not present to the children’s court her findings or position concerning the child’s best interests, or the position of the child. The trial guardian ad litem did not make any pretrial motions, make an opening statement, call witnesses, adequately examine witnesses called, make proper objections, or take a position on a majority of the objections made by opposing counsel. The trial guardian ad litem’s passive representation of E.M. in this case failed to meet the standards prescribed by Section 32A-1-7.\\n41. The children’s court has an affirmative duty to assure that the best interests of a child are legally represented; it is part of the court’s traditional role of protecting the child’s best interests. See Wasson v. Wasson, 92 N.M. 162, 163, 584 P.2d 713, 714 (Ct.App.1978) (stating that in a proceeding brought by mother on behalf of minor children, “an attorney is required for an infant not otherwise represented” and it would have been plain error for the court to proceed in the absence of counsel for the children). In fact, “[a] trial court in an action involving minor children has a special obligation to see that they are properly represented.” Garcia v. Middle Rio Grande Conservancy Dist., 99 N.M. 802, 808, 664 P.2d 1000, 1006 (Ct.App.1983), overruled on other grounds by Montoya v. AKAL Sec., Inc., 114 N.M. 354, 357, 838 P.2d 971, 974 (1992).\\n42. In this case, when specifically requested to make closing remarks on behalf of E.M., the trial guardian ad litem expressed some confusion about her role at trial. She indicated that as a friend of the court, she was ready to address the child’s best interests, insofar as she had been able to look into the matter. The children’s court judge replied that she was not acting as friend of the court, but as guardian ad litem for E.M. The guardian ad litem apologized and indicated she had that understanding. The children’s court judge asked the guardian ad litem if she had any remarks, to which she responded: “No, your honor, thank you.” Under these circumstances, the court should have attempted to clarify the guardian ad litem’s role and again requested a statement concerning the child’s best interests, particularly since the guardian ad litem’s participation in the proceeding had been minimal up to that point. If, at that time, the guardian ad litem again indicated that she had no remarks, the court could have considered whether the best interests of E.M. mandated that different counsel be appointed for the child. Sanders, 1997-NMSC-002, ¶¶ 9-10, 122 N.M. 692, 980 P.2d 1144. Indeed, the children’s court had a duty to elicit the guardian ad litem’s position on substantive issues throughout the course of the abuse and neglect proceeding in fulfilling its affirmative duty of protecting the best interests of the child. Id. ¶ 10.\\n43. The failure of duty on the part of the trial guardian ad litem had additional consequences. At trial, the child apparently wanted to testify; she wanted to give her position on the allegations regarding her parents. When she was not allowed to testify, due to the court’s understandable concern for her welfare, there was no other way for the child’s position to be effectively communicated to the court. The guardian ad litem should have assumed that responsibility.\\nConclusion ■\\n44. The children’s court must base its findings of abuse and neglect on clear and convincing evidence. Section 32A-4-20(H); see In re R.W., 108 N.M. 332, 334, 772 P.2d 366, 368 (Ct.App.1989). E.M. was not called by the children’s court attorney or the guardian ad litem to testify concerning the allegations of abuse and neglect. The only evidence that the State introduced at the hearing of abuse and neglect was indirect evidence which was principally hearsay. Under the circumstances of this case, in which the overwhelming evidence identifying father as the abuser was inadmissible hearsay, particularly when the trial guardian ad litem only minimally represented the child’s interests, we cannot conclude that the erroneous admission of this testimony was harmless. On appeal, the parties did not address the testimony related to the finding that E.M.’s mother was aware of the abuse. The judgment states that E.M. is an abused and neglected child; it does not distinguish between E.M.’s mother and father. Thus, if insufficient evidence remains to support the judgment against the father, likewise the judgment against the mother cannot stand. Therefore, we reverse and remand to the children’s court to determine whether the remaining admissible testimony constituted clear and convincing evidence of abuse and neglect as defined under Section 32A-4-2(B)(1), (B)(2), and (C)(3) and further proceedings consistent with this opinion.\\n45. IT IS SO ORDERED.\\nDONNELLY and BOSSON, JJ., concur.',\n",
       "     'author': 'WECHSLER, Judge.'}],\n",
       "   'head_matter': '1998-NMCA-039\\n955 P.2d 204\\nSTATE of New Mexico, ex rel. CHILDREN, YOUTH AND FAMILIES DEPARTMENT, Petitioner-Appellee, In the Matter of ESPERANZA M., a child, and concerning Marian M., and Jesus M., Respondents-Appellants.\\nNo. 17771.\\nCourt of Appeals of New Mexico.\\nJan. 29, 1998.\\nAngela Adams, Chief Children’s Court Attorney, Diane Garrity, Roy E. Stephenson, Jean Conner, Children’s Court Attorneys, Santa Fe, for Petitioner-Appellee.\\nMichael E. Vigil, Marchiondo, Vigil & Associates, P.C., Albuquerque, for Respondents-Appellants.\\nJennifer Davis Hall, Albuquerque, Appellate Guardian ad litem.',\n",
       "   'corrections': ''},\n",
       "  'status': 'ok'}}"
      ]
     },
     "execution_count": 6,
     "metadata": {},
     "output_type": "execute_result"
    }
   ],
   "source": [
    "data_json[1]"
   ]
  },
  {
   "cell_type": "code",
   "execution_count": 7,
   "metadata": {},
   "outputs": [
    {
     "data": {
      "text/plain": [
       "[]"
      ]
     },
     "execution_count": 7,
     "metadata": {},
     "output_type": "execute_result"
    }
   ],
   "source": [
    "data['preview'][1]"
   ]
  },
  {
   "cell_type": "code",
   "execution_count": 8,
   "metadata": {
    "scrolled": true
   },
   "outputs": [
    {
     "name": "stdout",
     "output_type": "stream",
     "text": [
      "1998-NMCA-039\n",
      "955 P.2d 204\n",
      "STATE of New Mexico, ex rel. CHILDREN, YOUTH AND FAMILIES DEPARTMENT, Petitioner-Appellee, In the Matter of ESPERANZA M., a child, and concerning Marian M., and Jesus M., Respondents-Appellants.\n",
      "No. 17771.\n",
      "Court of Appeals of New Mexico.\n",
      "Jan. 29, 1998.\n",
      "Angela Adams, Chief Children’s Court Attorney, Diane Garrity, Roy E. Stephenson, Jean Conner, Children’s Court Attorneys, Santa Fe, for Petitioner-Appellee.\n",
      "Michael E. Vigil, Marchiondo, Vigil & Associates, P.C., Albuquerque, for Respondents-Appellants.\n",
      "Jennifer Davis Hall, Albuquerque, Appellate Guardian ad litem.\n"
     ]
    }
   ],
   "source": [
    "print(data['casebody.data.head_matter'][1])"
   ]
  },
  {
   "cell_type": "code",
   "execution_count": 9,
   "metadata": {},
   "outputs": [
    {
     "data": {
      "text/html": [
       "<div>\n",
       "<style scoped>\n",
       "    .dataframe tbody tr th:only-of-type {\n",
       "        vertical-align: middle;\n",
       "    }\n",
       "\n",
       "    .dataframe tbody tr th {\n",
       "        vertical-align: top;\n",
       "    }\n",
       "\n",
       "    .dataframe thead th {\n",
       "        text-align: right;\n",
       "    }\n",
       "</style>\n",
       "<table border=\"1\" class=\"dataframe\">\n",
       "  <thead>\n",
       "    <tr style=\"text-align: right;\">\n",
       "      <th></th>\n",
       "      <th>type</th>\n",
       "      <th>text</th>\n",
       "      <th>author</th>\n",
       "    </tr>\n",
       "  </thead>\n",
       "  <tbody>\n",
       "    <tr>\n",
       "      <td>0</td>\n",
       "      <td>majority</td>\n",
       "      <td>OPINION\\nWECHSLER, Judge.\\n1. As a result of a...</td>\n",
       "      <td>WECHSLER, Judge.</td>\n",
       "    </tr>\n",
       "  </tbody>\n",
       "</table>\n",
       "</div>"
      ],
      "text/plain": [
       "       type                                               text  \\\n",
       "0  majority  OPINION\\nWECHSLER, Judge.\\n1. As a result of a...   \n",
       "\n",
       "             author  \n",
       "0  WECHSLER, Judge.  "
      ]
     },
     "execution_count": 9,
     "metadata": {},
     "output_type": "execute_result"
    }
   ],
   "source": [
    "json_normalize(data['casebody.data.opinions'][1])"
   ]
  },
  {
   "cell_type": "code",
   "execution_count": 10,
   "metadata": {},
   "outputs": [
    {
     "data": {
      "text/plain": [
       "0    OPINION\\nWECHSLER, Judge.\\n1. As a result of a...\n",
       "Name: text, dtype: object"
      ]
     },
     "execution_count": 10,
     "metadata": {},
     "output_type": "execute_result"
    }
   ],
   "source": [
    "json_normalize(data['casebody.data.opinions'][1])['text']"
   ]
  },
  {
   "cell_type": "code",
   "execution_count": 11,
   "metadata": {},
   "outputs": [
    {
     "data": {
      "text/plain": [
       "''"
      ]
     },
     "execution_count": 11,
     "metadata": {},
     "output_type": "execute_result"
    }
   ],
   "source": [
    "data['casebody.data.corrections'][1]"
   ]
  },
  {
   "cell_type": "markdown",
   "metadata": {},
   "source": [
    "## List of EDAs\n",
    "1. ~~Volume of cases by day/month (time trendline)~~ I'm not sure if this is relevant for our project (Fernando)\n",
    "1. Histogram of number cases authored by each judge\n",
    "1. Length of judgments (pages and word count)\n",
    "1. No. of cases with a minority opinion\n",
    "1. Bar graph of number of cases by court\n",
    "1. Missing values **(misspellings?--Fernando)**\n",
    "1. Word cloud\n",
    "1. Visualize embeddings of the text\n",
    "1. Size of vocabulary\n",
    "1. No. of distinct words used per judgment (histogram)\n",
    "1. Most common words used (excluding stop-words)\n",
    "1. tf-idf of words (https://scikit-learn.org/stable/modules/generated/sklearn.feature_extraction.text.TfidfVectorizer.html)\n",
    "1. Categorical meta-data\n",
    "1. Entity-recognition? (https://github.com/openlegaldata/legal-ner) (https://spacy.io/usage/linguistic-features#named-entities)\n",
    "1. Sentiment of judgment?\n"
   ]
  },
  {
   "cell_type": "code",
   "execution_count": null,
   "metadata": {},
   "outputs": [],
   "source": []
  }
 ],
 "metadata": {
  "kernelspec": {
   "display_name": "python3",
   "language": "python",
   "name": "python3"
  },
  "language_info": {
   "codemirror_mode": {
    "name": "ipython",
    "version": 3
   },
   "file_extension": ".py",
   "mimetype": "text/x-python",
   "name": "python",
   "nbconvert_exporter": "python",
   "pygments_lexer": "ipython3",
   "version": "3.7.4"
  }
 },
 "nbformat": 4,
 "nbformat_minor": 2
}
